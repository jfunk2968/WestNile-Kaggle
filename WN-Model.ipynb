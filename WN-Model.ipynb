{
 "metadata": {
  "name": "",
  "signature": "sha256:030ddee62bbe257ac99e94ef860a5219034368e7a40bcfd5d09edbe6890d39a5"
 },
 "nbformat": 3,
 "nbformat_minor": 0,
 "worksheets": [
  {
   "cells": [
    {
     "cell_type": "code",
     "collapsed": false,
     "input": [
      "%matplotlib inline\n",
      "\n",
      "import pandas as pd\n",
      "import numpy as np\n",
      "import matplotlib.pyplot as plt\n",
      "import funktions as fk\n",
      "import cPickle as pickle"
     ],
     "language": "python",
     "metadata": {},
     "outputs": [],
     "prompt_number": 3
    },
    {
     "cell_type": "heading",
     "level": 2,
     "metadata": {},
     "source": [
      "Train and Test Data"
     ]
    },
    {
     "cell_type": "code",
     "collapsed": false,
     "input": [
      "train = pd.read_csv('train.csv')"
     ],
     "language": "python",
     "metadata": {},
     "outputs": [],
     "prompt_number": 4
    },
    {
     "cell_type": "code",
     "collapsed": false,
     "input": [
      "train['main_trap'] = train['Trap'].apply(lambda x: x[0:4])\n",
      "train['year'] = train['Date'].apply(lambda x: x[0:4])\n",
      "train['month'] = train['Date'].apply(lambda x: x[5:7])"
     ],
     "language": "python",
     "metadata": {},
     "outputs": [],
     "prompt_number": 5
    },
    {
     "cell_type": "code",
     "collapsed": false,
     "input": [
      "train.head().T"
     ],
     "language": "python",
     "metadata": {},
     "outputs": [
      {
       "html": [
        "<div style=\"max-width:1500px;overflow:auto;\">\n",
        "<table border=\"1\" class=\"dataframe\">\n",
        "  <thead>\n",
        "    <tr style=\"text-align: right;\">\n",
        "      <th></th>\n",
        "      <th>0</th>\n",
        "      <th>1</th>\n",
        "      <th>2</th>\n",
        "      <th>3</th>\n",
        "      <th>4</th>\n",
        "    </tr>\n",
        "  </thead>\n",
        "  <tbody>\n",
        "    <tr>\n",
        "      <th>Date</th>\n",
        "      <td>2007-05-29</td>\n",
        "      <td>2007-05-29</td>\n",
        "      <td>2007-05-29</td>\n",
        "      <td>2007-05-29</td>\n",
        "      <td>2007-05-29</td>\n",
        "    </tr>\n",
        "    <tr>\n",
        "      <th>Address</th>\n",
        "      <td>4100 North Oak Park Avenue, Chicago, IL 60634,...</td>\n",
        "      <td>4100 North Oak Park Avenue, Chicago, IL 60634,...</td>\n",
        "      <td>6200 North Mandell Avenue, Chicago, IL 60646, USA</td>\n",
        "      <td>7900 West Foster Avenue, Chicago, IL 60656, USA</td>\n",
        "      <td>7900 West Foster Avenue, Chicago, IL 60656, USA</td>\n",
        "    </tr>\n",
        "    <tr>\n",
        "      <th>Species</th>\n",
        "      <td>CULEX PIPIENS/RESTUANS</td>\n",
        "      <td>CULEX RESTUANS</td>\n",
        "      <td>CULEX RESTUANS</td>\n",
        "      <td>CULEX PIPIENS/RESTUANS</td>\n",
        "      <td>CULEX RESTUANS</td>\n",
        "    </tr>\n",
        "    <tr>\n",
        "      <th>Block</th>\n",
        "      <td>41</td>\n",
        "      <td>41</td>\n",
        "      <td>62</td>\n",
        "      <td>79</td>\n",
        "      <td>79</td>\n",
        "    </tr>\n",
        "    <tr>\n",
        "      <th>Street</th>\n",
        "      <td>N OAK PARK AVE</td>\n",
        "      <td>N OAK PARK AVE</td>\n",
        "      <td>N MANDELL AVE</td>\n",
        "      <td>W FOSTER AVE</td>\n",
        "      <td>W FOSTER AVE</td>\n",
        "    </tr>\n",
        "    <tr>\n",
        "      <th>Trap</th>\n",
        "      <td>T002</td>\n",
        "      <td>T002</td>\n",
        "      <td>T007</td>\n",
        "      <td>T015</td>\n",
        "      <td>T015</td>\n",
        "    </tr>\n",
        "    <tr>\n",
        "      <th>AddressNumberAndStreet</th>\n",
        "      <td>4100  N OAK PARK AVE, Chicago, IL</td>\n",
        "      <td>4100  N OAK PARK AVE, Chicago, IL</td>\n",
        "      <td>6200  N MANDELL AVE, Chicago, IL</td>\n",
        "      <td>7900  W FOSTER AVE, Chicago, IL</td>\n",
        "      <td>7900  W FOSTER AVE, Chicago, IL</td>\n",
        "    </tr>\n",
        "    <tr>\n",
        "      <th>Latitude</th>\n",
        "      <td>41.9547</td>\n",
        "      <td>41.9547</td>\n",
        "      <td>41.995</td>\n",
        "      <td>41.9741</td>\n",
        "      <td>41.9741</td>\n",
        "    </tr>\n",
        "    <tr>\n",
        "      <th>Longitude</th>\n",
        "      <td>-87.801</td>\n",
        "      <td>-87.801</td>\n",
        "      <td>-87.7693</td>\n",
        "      <td>-87.8248</td>\n",
        "      <td>-87.8248</td>\n",
        "    </tr>\n",
        "    <tr>\n",
        "      <th>AddressAccuracy</th>\n",
        "      <td>9</td>\n",
        "      <td>9</td>\n",
        "      <td>9</td>\n",
        "      <td>8</td>\n",
        "      <td>8</td>\n",
        "    </tr>\n",
        "    <tr>\n",
        "      <th>NumMosquitos</th>\n",
        "      <td>1</td>\n",
        "      <td>1</td>\n",
        "      <td>1</td>\n",
        "      <td>1</td>\n",
        "      <td>4</td>\n",
        "    </tr>\n",
        "    <tr>\n",
        "      <th>WnvPresent</th>\n",
        "      <td>0</td>\n",
        "      <td>0</td>\n",
        "      <td>0</td>\n",
        "      <td>0</td>\n",
        "      <td>0</td>\n",
        "    </tr>\n",
        "    <tr>\n",
        "      <th>main_trap</th>\n",
        "      <td>T002</td>\n",
        "      <td>T002</td>\n",
        "      <td>T007</td>\n",
        "      <td>T015</td>\n",
        "      <td>T015</td>\n",
        "    </tr>\n",
        "    <tr>\n",
        "      <th>year</th>\n",
        "      <td>2007</td>\n",
        "      <td>2007</td>\n",
        "      <td>2007</td>\n",
        "      <td>2007</td>\n",
        "      <td>2007</td>\n",
        "    </tr>\n",
        "    <tr>\n",
        "      <th>month</th>\n",
        "      <td>05</td>\n",
        "      <td>05</td>\n",
        "      <td>05</td>\n",
        "      <td>05</td>\n",
        "      <td>05</td>\n",
        "    </tr>\n",
        "  </tbody>\n",
        "</table>\n",
        "</div>"
       ],
       "metadata": {},
       "output_type": "pyout",
       "prompt_number": 6,
       "text": [
        "                                                                        0  \\\n",
        "Date                                                           2007-05-29   \n",
        "Address                 4100 North Oak Park Avenue, Chicago, IL 60634,...   \n",
        "Species                                            CULEX PIPIENS/RESTUANS   \n",
        "Block                                                                  41   \n",
        "Street                                                     N OAK PARK AVE   \n",
        "Trap                                                                 T002   \n",
        "AddressNumberAndStreet                  4100  N OAK PARK AVE, Chicago, IL   \n",
        "Latitude                                                          41.9547   \n",
        "Longitude                                                         -87.801   \n",
        "AddressAccuracy                                                         9   \n",
        "NumMosquitos                                                            1   \n",
        "WnvPresent                                                              0   \n",
        "main_trap                                                            T002   \n",
        "year                                                                 2007   \n",
        "month                                                                  05   \n",
        "\n",
        "                                                                        1  \\\n",
        "Date                                                           2007-05-29   \n",
        "Address                 4100 North Oak Park Avenue, Chicago, IL 60634,...   \n",
        "Species                                                    CULEX RESTUANS   \n",
        "Block                                                                  41   \n",
        "Street                                                     N OAK PARK AVE   \n",
        "Trap                                                                 T002   \n",
        "AddressNumberAndStreet                  4100  N OAK PARK AVE, Chicago, IL   \n",
        "Latitude                                                          41.9547   \n",
        "Longitude                                                         -87.801   \n",
        "AddressAccuracy                                                         9   \n",
        "NumMosquitos                                                            1   \n",
        "WnvPresent                                                              0   \n",
        "main_trap                                                            T002   \n",
        "year                                                                 2007   \n",
        "month                                                                  05   \n",
        "\n",
        "                                                                        2  \\\n",
        "Date                                                           2007-05-29   \n",
        "Address                 6200 North Mandell Avenue, Chicago, IL 60646, USA   \n",
        "Species                                                    CULEX RESTUANS   \n",
        "Block                                                                  62   \n",
        "Street                                                      N MANDELL AVE   \n",
        "Trap                                                                 T007   \n",
        "AddressNumberAndStreet                   6200  N MANDELL AVE, Chicago, IL   \n",
        "Latitude                                                           41.995   \n",
        "Longitude                                                        -87.7693   \n",
        "AddressAccuracy                                                         9   \n",
        "NumMosquitos                                                            1   \n",
        "WnvPresent                                                              0   \n",
        "main_trap                                                            T007   \n",
        "year                                                                 2007   \n",
        "month                                                                  05   \n",
        "\n",
        "                                                                      3  \\\n",
        "Date                                                         2007-05-29   \n",
        "Address                 7900 West Foster Avenue, Chicago, IL 60656, USA   \n",
        "Species                                          CULEX PIPIENS/RESTUANS   \n",
        "Block                                                                79   \n",
        "Street                                                     W FOSTER AVE   \n",
        "Trap                                                               T015   \n",
        "AddressNumberAndStreet                  7900  W FOSTER AVE, Chicago, IL   \n",
        "Latitude                                                        41.9741   \n",
        "Longitude                                                      -87.8248   \n",
        "AddressAccuracy                                                       8   \n",
        "NumMosquitos                                                          1   \n",
        "WnvPresent                                                            0   \n",
        "main_trap                                                          T015   \n",
        "year                                                               2007   \n",
        "month                                                                05   \n",
        "\n",
        "                                                                      4  \n",
        "Date                                                         2007-05-29  \n",
        "Address                 7900 West Foster Avenue, Chicago, IL 60656, USA  \n",
        "Species                                                  CULEX RESTUANS  \n",
        "Block                                                                79  \n",
        "Street                                                     W FOSTER AVE  \n",
        "Trap                                                               T015  \n",
        "AddressNumberAndStreet                  7900  W FOSTER AVE, Chicago, IL  \n",
        "Latitude                                                        41.9741  \n",
        "Longitude                                                      -87.8248  \n",
        "AddressAccuracy                                                       8  \n",
        "NumMosquitos                                                          4  \n",
        "WnvPresent                                                            0  \n",
        "main_trap                                                          T015  \n",
        "year                                                               2007  \n",
        "month                                                                05  "
       ]
      }
     ],
     "prompt_number": 6
    },
    {
     "cell_type": "code",
     "collapsed": false,
     "input": [
      "test = pd.read_csv('test.csv')"
     ],
     "language": "python",
     "metadata": {},
     "outputs": [],
     "prompt_number": 7
    },
    {
     "cell_type": "code",
     "collapsed": false,
     "input": [
      "test['main_trap'] = test['Trap'].apply(lambda x: x[0:4])\n",
      "test['year'] = test['Date'].apply(lambda x: x[0:4])\n",
      "test['month'] = test['Date'].apply(lambda x: x[5:7])"
     ],
     "language": "python",
     "metadata": {},
     "outputs": [],
     "prompt_number": 8
    },
    {
     "cell_type": "code",
     "collapsed": false,
     "input": [
      "test.head().T"
     ],
     "language": "python",
     "metadata": {},
     "outputs": [
      {
       "html": [
        "<div style=\"max-width:1500px;overflow:auto;\">\n",
        "<table border=\"1\" class=\"dataframe\">\n",
        "  <thead>\n",
        "    <tr style=\"text-align: right;\">\n",
        "      <th></th>\n",
        "      <th>0</th>\n",
        "      <th>1</th>\n",
        "      <th>2</th>\n",
        "      <th>3</th>\n",
        "      <th>4</th>\n",
        "    </tr>\n",
        "  </thead>\n",
        "  <tbody>\n",
        "    <tr>\n",
        "      <th>Id</th>\n",
        "      <td>1</td>\n",
        "      <td>2</td>\n",
        "      <td>3</td>\n",
        "      <td>4</td>\n",
        "      <td>5</td>\n",
        "    </tr>\n",
        "    <tr>\n",
        "      <th>Date</th>\n",
        "      <td>2008-06-11</td>\n",
        "      <td>2008-06-11</td>\n",
        "      <td>2008-06-11</td>\n",
        "      <td>2008-06-11</td>\n",
        "      <td>2008-06-11</td>\n",
        "    </tr>\n",
        "    <tr>\n",
        "      <th>Address</th>\n",
        "      <td>4100 North Oak Park Avenue, Chicago, IL 60634,...</td>\n",
        "      <td>4100 North Oak Park Avenue, Chicago, IL 60634,...</td>\n",
        "      <td>4100 North Oak Park Avenue, Chicago, IL 60634,...</td>\n",
        "      <td>4100 North Oak Park Avenue, Chicago, IL 60634,...</td>\n",
        "      <td>4100 North Oak Park Avenue, Chicago, IL 60634,...</td>\n",
        "    </tr>\n",
        "    <tr>\n",
        "      <th>Species</th>\n",
        "      <td>CULEX PIPIENS/RESTUANS</td>\n",
        "      <td>CULEX RESTUANS</td>\n",
        "      <td>CULEX PIPIENS</td>\n",
        "      <td>CULEX SALINARIUS</td>\n",
        "      <td>CULEX TERRITANS</td>\n",
        "    </tr>\n",
        "    <tr>\n",
        "      <th>Block</th>\n",
        "      <td>41</td>\n",
        "      <td>41</td>\n",
        "      <td>41</td>\n",
        "      <td>41</td>\n",
        "      <td>41</td>\n",
        "    </tr>\n",
        "    <tr>\n",
        "      <th>Street</th>\n",
        "      <td>N OAK PARK AVE</td>\n",
        "      <td>N OAK PARK AVE</td>\n",
        "      <td>N OAK PARK AVE</td>\n",
        "      <td>N OAK PARK AVE</td>\n",
        "      <td>N OAK PARK AVE</td>\n",
        "    </tr>\n",
        "    <tr>\n",
        "      <th>Trap</th>\n",
        "      <td>T002</td>\n",
        "      <td>T002</td>\n",
        "      <td>T002</td>\n",
        "      <td>T002</td>\n",
        "      <td>T002</td>\n",
        "    </tr>\n",
        "    <tr>\n",
        "      <th>AddressNumberAndStreet</th>\n",
        "      <td>4100  N OAK PARK AVE, Chicago, IL</td>\n",
        "      <td>4100  N OAK PARK AVE, Chicago, IL</td>\n",
        "      <td>4100  N OAK PARK AVE, Chicago, IL</td>\n",
        "      <td>4100  N OAK PARK AVE, Chicago, IL</td>\n",
        "      <td>4100  N OAK PARK AVE, Chicago, IL</td>\n",
        "    </tr>\n",
        "    <tr>\n",
        "      <th>Latitude</th>\n",
        "      <td>41.9547</td>\n",
        "      <td>41.9547</td>\n",
        "      <td>41.9547</td>\n",
        "      <td>41.9547</td>\n",
        "      <td>41.9547</td>\n",
        "    </tr>\n",
        "    <tr>\n",
        "      <th>Longitude</th>\n",
        "      <td>-87.801</td>\n",
        "      <td>-87.801</td>\n",
        "      <td>-87.801</td>\n",
        "      <td>-87.801</td>\n",
        "      <td>-87.801</td>\n",
        "    </tr>\n",
        "    <tr>\n",
        "      <th>AddressAccuracy</th>\n",
        "      <td>9</td>\n",
        "      <td>9</td>\n",
        "      <td>9</td>\n",
        "      <td>9</td>\n",
        "      <td>9</td>\n",
        "    </tr>\n",
        "    <tr>\n",
        "      <th>main_trap</th>\n",
        "      <td>T002</td>\n",
        "      <td>T002</td>\n",
        "      <td>T002</td>\n",
        "      <td>T002</td>\n",
        "      <td>T002</td>\n",
        "    </tr>\n",
        "    <tr>\n",
        "      <th>year</th>\n",
        "      <td>2008</td>\n",
        "      <td>2008</td>\n",
        "      <td>2008</td>\n",
        "      <td>2008</td>\n",
        "      <td>2008</td>\n",
        "    </tr>\n",
        "    <tr>\n",
        "      <th>month</th>\n",
        "      <td>06</td>\n",
        "      <td>06</td>\n",
        "      <td>06</td>\n",
        "      <td>06</td>\n",
        "      <td>06</td>\n",
        "    </tr>\n",
        "  </tbody>\n",
        "</table>\n",
        "</div>"
       ],
       "metadata": {},
       "output_type": "pyout",
       "prompt_number": 7,
       "text": [
        "                                                                        0  \\\n",
        "Id                                                                      1   \n",
        "Date                                                           2008-06-11   \n",
        "Address                 4100 North Oak Park Avenue, Chicago, IL 60634,...   \n",
        "Species                                            CULEX PIPIENS/RESTUANS   \n",
        "Block                                                                  41   \n",
        "Street                                                     N OAK PARK AVE   \n",
        "Trap                                                                 T002   \n",
        "AddressNumberAndStreet                  4100  N OAK PARK AVE, Chicago, IL   \n",
        "Latitude                                                          41.9547   \n",
        "Longitude                                                         -87.801   \n",
        "AddressAccuracy                                                         9   \n",
        "main_trap                                                            T002   \n",
        "year                                                                 2008   \n",
        "month                                                                  06   \n",
        "\n",
        "                                                                        1  \\\n",
        "Id                                                                      2   \n",
        "Date                                                           2008-06-11   \n",
        "Address                 4100 North Oak Park Avenue, Chicago, IL 60634,...   \n",
        "Species                                                    CULEX RESTUANS   \n",
        "Block                                                                  41   \n",
        "Street                                                     N OAK PARK AVE   \n",
        "Trap                                                                 T002   \n",
        "AddressNumberAndStreet                  4100  N OAK PARK AVE, Chicago, IL   \n",
        "Latitude                                                          41.9547   \n",
        "Longitude                                                         -87.801   \n",
        "AddressAccuracy                                                         9   \n",
        "main_trap                                                            T002   \n",
        "year                                                                 2008   \n",
        "month                                                                  06   \n",
        "\n",
        "                                                                        2  \\\n",
        "Id                                                                      3   \n",
        "Date                                                           2008-06-11   \n",
        "Address                 4100 North Oak Park Avenue, Chicago, IL 60634,...   \n",
        "Species                                                     CULEX PIPIENS   \n",
        "Block                                                                  41   \n",
        "Street                                                     N OAK PARK AVE   \n",
        "Trap                                                                 T002   \n",
        "AddressNumberAndStreet                  4100  N OAK PARK AVE, Chicago, IL   \n",
        "Latitude                                                          41.9547   \n",
        "Longitude                                                         -87.801   \n",
        "AddressAccuracy                                                         9   \n",
        "main_trap                                                            T002   \n",
        "year                                                                 2008   \n",
        "month                                                                  06   \n",
        "\n",
        "                                                                        3  \\\n",
        "Id                                                                      4   \n",
        "Date                                                           2008-06-11   \n",
        "Address                 4100 North Oak Park Avenue, Chicago, IL 60634,...   \n",
        "Species                                                  CULEX SALINARIUS   \n",
        "Block                                                                  41   \n",
        "Street                                                     N OAK PARK AVE   \n",
        "Trap                                                                 T002   \n",
        "AddressNumberAndStreet                  4100  N OAK PARK AVE, Chicago, IL   \n",
        "Latitude                                                          41.9547   \n",
        "Longitude                                                         -87.801   \n",
        "AddressAccuracy                                                         9   \n",
        "main_trap                                                            T002   \n",
        "year                                                                 2008   \n",
        "month                                                                  06   \n",
        "\n",
        "                                                                        4  \n",
        "Id                                                                      5  \n",
        "Date                                                           2008-06-11  \n",
        "Address                 4100 North Oak Park Avenue, Chicago, IL 60634,...  \n",
        "Species                                                   CULEX TERRITANS  \n",
        "Block                                                                  41  \n",
        "Street                                                     N OAK PARK AVE  \n",
        "Trap                                                                 T002  \n",
        "AddressNumberAndStreet                  4100  N OAK PARK AVE, Chicago, IL  \n",
        "Latitude                                                          41.9547  \n",
        "Longitude                                                         -87.801  \n",
        "AddressAccuracy                                                         9  \n",
        "main_trap                                                            T002  \n",
        "year                                                                 2008  \n",
        "month                                                                  06  "
       ]
      }
     ],
     "prompt_number": 7
    },
    {
     "cell_type": "heading",
     "level": 2,
     "metadata": {},
     "source": [
      "Weather Features"
     ]
    },
    {
     "cell_type": "code",
     "collapsed": false,
     "input": [
      "# Load time series aggregate weather features created in \"WN-Weather_Features.ipynb\"\n",
      "\n",
      "pfile1 = open('st1_features_final.pkl','rb')\n",
      "st1 = pickle.load(pfile1)\n",
      "\n",
      "pfile2 = open('st2_features_final.pkl','rb')\n",
      "st2 = pickle.load(pfile2)"
     ],
     "language": "python",
     "metadata": {},
     "outputs": [],
     "prompt_number": 9
    },
    {
     "cell_type": "code",
     "collapsed": false,
     "input": [
      "st1.head().T"
     ],
     "language": "python",
     "metadata": {},
     "outputs": [
      {
       "html": [
        "<div style=\"max-width:1500px;overflow:auto;\">\n",
        "<table border=\"1\" class=\"dataframe\">\n",
        "  <thead>\n",
        "    <tr style=\"text-align: right;\">\n",
        "      <th></th>\n",
        "      <th>0</th>\n",
        "      <th>2</th>\n",
        "      <th>4</th>\n",
        "      <th>6</th>\n",
        "      <th>8</th>\n",
        "    </tr>\n",
        "  </thead>\n",
        "  <tbody>\n",
        "    <tr>\n",
        "      <th>Station</th>\n",
        "      <td>1</td>\n",
        "      <td>1</td>\n",
        "      <td>1</td>\n",
        "      <td>1</td>\n",
        "      <td>1</td>\n",
        "    </tr>\n",
        "    <tr>\n",
        "      <th>Date</th>\n",
        "      <td>2007-05-01</td>\n",
        "      <td>2007-05-02</td>\n",
        "      <td>2007-05-03</td>\n",
        "      <td>2007-05-04</td>\n",
        "      <td>2007-05-05</td>\n",
        "    </tr>\n",
        "    <tr>\n",
        "      <th>Tmax</th>\n",
        "      <td>83</td>\n",
        "      <td>59</td>\n",
        "      <td>66</td>\n",
        "      <td>66</td>\n",
        "      <td>66</td>\n",
        "    </tr>\n",
        "    <tr>\n",
        "      <th>Tmin</th>\n",
        "      <td>50</td>\n",
        "      <td>42</td>\n",
        "      <td>46</td>\n",
        "      <td>49</td>\n",
        "      <td>53</td>\n",
        "    </tr>\n",
        "    <tr>\n",
        "      <th>Tavg</th>\n",
        "      <td>67</td>\n",
        "      <td>51</td>\n",
        "      <td>56</td>\n",
        "      <td>58</td>\n",
        "      <td>60</td>\n",
        "    </tr>\n",
        "    <tr>\n",
        "      <th>Depart</th>\n",
        "      <td>14</td>\n",
        "      <td>-3</td>\n",
        "      <td>2</td>\n",
        "      <td>4</td>\n",
        "      <td>5</td>\n",
        "    </tr>\n",
        "    <tr>\n",
        "      <th>DewPoint</th>\n",
        "      <td>51</td>\n",
        "      <td>42</td>\n",
        "      <td>40</td>\n",
        "      <td>41</td>\n",
        "      <td>38</td>\n",
        "    </tr>\n",
        "    <tr>\n",
        "      <th>WetBulb</th>\n",
        "      <td>56</td>\n",
        "      <td>47</td>\n",
        "      <td>48</td>\n",
        "      <td>50</td>\n",
        "      <td>49</td>\n",
        "    </tr>\n",
        "    <tr>\n",
        "      <th>Heat</th>\n",
        "      <td>0</td>\n",
        "      <td>14</td>\n",
        "      <td>9</td>\n",
        "      <td>7</td>\n",
        "      <td>5</td>\n",
        "    </tr>\n",
        "    <tr>\n",
        "      <th>Cool</th>\n",
        "      <td>2</td>\n",
        "      <td>0</td>\n",
        "      <td>0</td>\n",
        "      <td>0</td>\n",
        "      <td>0</td>\n",
        "    </tr>\n",
        "    <tr>\n",
        "      <th>Sunrise</th>\n",
        "      <td>0448</td>\n",
        "      <td>0447</td>\n",
        "      <td>0446</td>\n",
        "      <td>0444</td>\n",
        "      <td>0443</td>\n",
        "    </tr>\n",
        "    <tr>\n",
        "      <th>Sunset</th>\n",
        "      <td>1849</td>\n",
        "      <td>1850</td>\n",
        "      <td>1851</td>\n",
        "      <td>1852</td>\n",
        "      <td>1853</td>\n",
        "    </tr>\n",
        "    <tr>\n",
        "      <th>CodeSum</th>\n",
        "      <td></td>\n",
        "      <td>BR</td>\n",
        "      <td></td>\n",
        "      <td>RA</td>\n",
        "      <td></td>\n",
        "    </tr>\n",
        "    <tr>\n",
        "      <th>Depth</th>\n",
        "      <td>0</td>\n",
        "      <td>0</td>\n",
        "      <td>0</td>\n",
        "      <td>0</td>\n",
        "      <td>0</td>\n",
        "    </tr>\n",
        "    <tr>\n",
        "      <th>Water1</th>\n",
        "      <td>M</td>\n",
        "      <td>M</td>\n",
        "      <td>M</td>\n",
        "      <td>M</td>\n",
        "      <td>M</td>\n",
        "    </tr>\n",
        "    <tr>\n",
        "      <th>SnowFall</th>\n",
        "      <td>0.0</td>\n",
        "      <td>0.0</td>\n",
        "      <td>0.0</td>\n",
        "      <td>0.0</td>\n",
        "      <td>0.0</td>\n",
        "    </tr>\n",
        "    <tr>\n",
        "      <th>PrecipTotal</th>\n",
        "      <td>0.00</td>\n",
        "      <td>0.00</td>\n",
        "      <td>0.00</td>\n",
        "      <td>T</td>\n",
        "      <td>T</td>\n",
        "    </tr>\n",
        "    <tr>\n",
        "      <th>StnPressure</th>\n",
        "      <td>29.10</td>\n",
        "      <td>29.38</td>\n",
        "      <td>29.39</td>\n",
        "      <td>29.31</td>\n",
        "      <td>29.40</td>\n",
        "    </tr>\n",
        "    <tr>\n",
        "      <th>SeaLevel</th>\n",
        "      <td>29.82</td>\n",
        "      <td>30.09</td>\n",
        "      <td>30.12</td>\n",
        "      <td>30.05</td>\n",
        "      <td>30.10</td>\n",
        "    </tr>\n",
        "    <tr>\n",
        "      <th>ResultSpeed</th>\n",
        "      <td>1.7</td>\n",
        "      <td>13</td>\n",
        "      <td>11.7</td>\n",
        "      <td>10.4</td>\n",
        "      <td>11.7</td>\n",
        "    </tr>\n",
        "    <tr>\n",
        "      <th>ResultDir</th>\n",
        "      <td>27</td>\n",
        "      <td>4</td>\n",
        "      <td>7</td>\n",
        "      <td>8</td>\n",
        "      <td>7</td>\n",
        "    </tr>\n",
        "    <tr>\n",
        "      <th>AvgSpeed</th>\n",
        "      <td>9.2</td>\n",
        "      <td>13.4</td>\n",
        "      <td>11.9</td>\n",
        "      <td>10.8</td>\n",
        "      <td>12.0</td>\n",
        "    </tr>\n",
        "    <tr>\n",
        "      <th>dt</th>\n",
        "      <td>2007-05-01 00:00:00</td>\n",
        "      <td>2007-05-02 00:00:00</td>\n",
        "      <td>2007-05-03 00:00:00</td>\n",
        "      <td>2007-05-04 00:00:00</td>\n",
        "      <td>2007-05-05 00:00:00</td>\n",
        "    </tr>\n",
        "    <tr>\n",
        "      <th>Tmax_3_mean</th>\n",
        "      <td>83</td>\n",
        "      <td>71</td>\n",
        "      <td>69.3333</td>\n",
        "      <td>63.6667</td>\n",
        "      <td>66</td>\n",
        "    </tr>\n",
        "    <tr>\n",
        "      <th>Tmax_3_max</th>\n",
        "      <td>83</td>\n",
        "      <td>83</td>\n",
        "      <td>83</td>\n",
        "      <td>66</td>\n",
        "      <td>66</td>\n",
        "    </tr>\n",
        "    <tr>\n",
        "      <th>Tmax_3_min</th>\n",
        "      <td>83</td>\n",
        "      <td>59</td>\n",
        "      <td>59</td>\n",
        "      <td>59</td>\n",
        "      <td>66</td>\n",
        "    </tr>\n",
        "    <tr>\n",
        "      <th>Tmax_3_slope</th>\n",
        "      <td>0</td>\n",
        "      <td>-6</td>\n",
        "      <td>-5.66667</td>\n",
        "      <td>2.33333</td>\n",
        "      <td>0</td>\n",
        "    </tr>\n",
        "    <tr>\n",
        "      <th>Tmin_3_mean</th>\n",
        "      <td>50</td>\n",
        "      <td>46</td>\n",
        "      <td>46</td>\n",
        "      <td>45.6667</td>\n",
        "      <td>49.3333</td>\n",
        "    </tr>\n",
        "    <tr>\n",
        "      <th>Tmin_3_max</th>\n",
        "      <td>50</td>\n",
        "      <td>50</td>\n",
        "      <td>50</td>\n",
        "      <td>49</td>\n",
        "      <td>53</td>\n",
        "    </tr>\n",
        "    <tr>\n",
        "      <th>Tmin_3_min</th>\n",
        "      <td>50</td>\n",
        "      <td>42</td>\n",
        "      <td>42</td>\n",
        "      <td>42</td>\n",
        "      <td>46</td>\n",
        "    </tr>\n",
        "    <tr>\n",
        "      <th>...</th>\n",
        "      <td>...</td>\n",
        "      <td>...</td>\n",
        "      <td>...</td>\n",
        "      <td>...</td>\n",
        "      <td>...</td>\n",
        "    </tr>\n",
        "    <tr>\n",
        "      <th>Heat_30_min</th>\n",
        "      <td>0</td>\n",
        "      <td>0</td>\n",
        "      <td>0</td>\n",
        "      <td>0</td>\n",
        "      <td>0</td>\n",
        "    </tr>\n",
        "    <tr>\n",
        "      <th>Heat_30_slope</th>\n",
        "      <td>0</td>\n",
        "      <td>3.5</td>\n",
        "      <td>3</td>\n",
        "      <td>2</td>\n",
        "      <td>0.6</td>\n",
        "    </tr>\n",
        "    <tr>\n",
        "      <th>Cool_30_mean</th>\n",
        "      <td>2</td>\n",
        "      <td>1</td>\n",
        "      <td>0.666667</td>\n",
        "      <td>0.5</td>\n",
        "      <td>0.4</td>\n",
        "    </tr>\n",
        "    <tr>\n",
        "      <th>Cool_30_max</th>\n",
        "      <td>2</td>\n",
        "      <td>2</td>\n",
        "      <td>2</td>\n",
        "      <td>2</td>\n",
        "      <td>2</td>\n",
        "    </tr>\n",
        "    <tr>\n",
        "      <th>Cool_30_min</th>\n",
        "      <td>2</td>\n",
        "      <td>0</td>\n",
        "      <td>0</td>\n",
        "      <td>0</td>\n",
        "      <td>0</td>\n",
        "    </tr>\n",
        "    <tr>\n",
        "      <th>Cool_30_slope</th>\n",
        "      <td>0</td>\n",
        "      <td>-0.5</td>\n",
        "      <td>-0.666667</td>\n",
        "      <td>-0.75</td>\n",
        "      <td>-0.8</td>\n",
        "    </tr>\n",
        "    <tr>\n",
        "      <th>PrecipTotal_30_mean</th>\n",
        "      <td>0</td>\n",
        "      <td>0</td>\n",
        "      <td>0</td>\n",
        "      <td>0</td>\n",
        "      <td>0</td>\n",
        "    </tr>\n",
        "    <tr>\n",
        "      <th>PrecipTotal_30_max</th>\n",
        "      <td>0</td>\n",
        "      <td>0</td>\n",
        "      <td>0</td>\n",
        "      <td>0</td>\n",
        "      <td>0</td>\n",
        "    </tr>\n",
        "    <tr>\n",
        "      <th>PrecipTotal_30_min</th>\n",
        "      <td>0</td>\n",
        "      <td>0</td>\n",
        "      <td>0</td>\n",
        "      <td>0</td>\n",
        "      <td>0</td>\n",
        "    </tr>\n",
        "    <tr>\n",
        "      <th>PrecipTotal_30_slope</th>\n",
        "      <td>0</td>\n",
        "      <td>0</td>\n",
        "      <td>0</td>\n",
        "      <td>0</td>\n",
        "      <td>0</td>\n",
        "    </tr>\n",
        "    <tr>\n",
        "      <th>StnPressure_30_mean</th>\n",
        "      <td>29.1</td>\n",
        "      <td>29.24</td>\n",
        "      <td>29.29</td>\n",
        "      <td>29.295</td>\n",
        "      <td>29.316</td>\n",
        "    </tr>\n",
        "    <tr>\n",
        "      <th>StnPressure_30_max</th>\n",
        "      <td>29.1</td>\n",
        "      <td>29.38</td>\n",
        "      <td>29.39</td>\n",
        "      <td>29.39</td>\n",
        "      <td>29.4</td>\n",
        "    </tr>\n",
        "    <tr>\n",
        "      <th>StnPressure_30_min</th>\n",
        "      <td>29.1</td>\n",
        "      <td>29.1</td>\n",
        "      <td>29.1</td>\n",
        "      <td>29.1</td>\n",
        "      <td>29.1</td>\n",
        "    </tr>\n",
        "    <tr>\n",
        "      <th>StnPressure_30_slope</th>\n",
        "      <td>0</td>\n",
        "      <td>0.07</td>\n",
        "      <td>0.0966667</td>\n",
        "      <td>0.08</td>\n",
        "      <td>0.106</td>\n",
        "    </tr>\n",
        "    <tr>\n",
        "      <th>SeaLevel_30_mean</th>\n",
        "      <td>29.82</td>\n",
        "      <td>29.955</td>\n",
        "      <td>30.01</td>\n",
        "      <td>30.02</td>\n",
        "      <td>30.036</td>\n",
        "    </tr>\n",
        "    <tr>\n",
        "      <th>SeaLevel_30_max</th>\n",
        "      <td>29.82</td>\n",
        "      <td>30.09</td>\n",
        "      <td>30.12</td>\n",
        "      <td>30.12</td>\n",
        "      <td>30.12</td>\n",
        "    </tr>\n",
        "    <tr>\n",
        "      <th>SeaLevel_30_min</th>\n",
        "      <td>29.82</td>\n",
        "      <td>29.82</td>\n",
        "      <td>29.82</td>\n",
        "      <td>29.82</td>\n",
        "      <td>29.82</td>\n",
        "    </tr>\n",
        "    <tr>\n",
        "      <th>SeaLevel_30_slope</th>\n",
        "      <td>0</td>\n",
        "      <td>0.0675</td>\n",
        "      <td>0.1</td>\n",
        "      <td>0.09</td>\n",
        "      <td>0.104</td>\n",
        "    </tr>\n",
        "    <tr>\n",
        "      <th>ResultSpeed_30_mean</th>\n",
        "      <td>1.7</td>\n",
        "      <td>7.35</td>\n",
        "      <td>8.8</td>\n",
        "      <td>9.2</td>\n",
        "      <td>9.7</td>\n",
        "    </tr>\n",
        "    <tr>\n",
        "      <th>ResultSpeed_30_max</th>\n",
        "      <td>1.7</td>\n",
        "      <td>13</td>\n",
        "      <td>13</td>\n",
        "      <td>13</td>\n",
        "      <td>13</td>\n",
        "    </tr>\n",
        "    <tr>\n",
        "      <th>ResultSpeed_30_min</th>\n",
        "      <td>1.7</td>\n",
        "      <td>1.7</td>\n",
        "      <td>1.7</td>\n",
        "      <td>1.7</td>\n",
        "      <td>1.7</td>\n",
        "    </tr>\n",
        "    <tr>\n",
        "      <th>ResultSpeed_30_slope</th>\n",
        "      <td>0</td>\n",
        "      <td>2.825</td>\n",
        "      <td>3.33333</td>\n",
        "      <td>3.1</td>\n",
        "      <td>3.48</td>\n",
        "    </tr>\n",
        "    <tr>\n",
        "      <th>ResultDir_30_mean</th>\n",
        "      <td>27</td>\n",
        "      <td>15.5</td>\n",
        "      <td>12.6667</td>\n",
        "      <td>11.5</td>\n",
        "      <td>10.6</td>\n",
        "    </tr>\n",
        "    <tr>\n",
        "      <th>ResultDir_30_max</th>\n",
        "      <td>27</td>\n",
        "      <td>27</td>\n",
        "      <td>27</td>\n",
        "      <td>27</td>\n",
        "      <td>27</td>\n",
        "    </tr>\n",
        "    <tr>\n",
        "      <th>ResultDir_30_min</th>\n",
        "      <td>27</td>\n",
        "      <td>4</td>\n",
        "      <td>4</td>\n",
        "      <td>4</td>\n",
        "      <td>4</td>\n",
        "    </tr>\n",
        "    <tr>\n",
        "      <th>ResultDir_30_slope</th>\n",
        "      <td>0</td>\n",
        "      <td>-5.75</td>\n",
        "      <td>-6.66667</td>\n",
        "      <td>-6.75</td>\n",
        "      <td>-7.2</td>\n",
        "    </tr>\n",
        "    <tr>\n",
        "      <th>AvgSpeed_30_mean</th>\n",
        "      <td>9.2</td>\n",
        "      <td>11.3</td>\n",
        "      <td>11.5</td>\n",
        "      <td>11.325</td>\n",
        "      <td>11.46</td>\n",
        "    </tr>\n",
        "    <tr>\n",
        "      <th>AvgSpeed_30_max</th>\n",
        "      <td>9.2</td>\n",
        "      <td>13.4</td>\n",
        "      <td>13.4</td>\n",
        "      <td>13.4</td>\n",
        "      <td>13.4</td>\n",
        "    </tr>\n",
        "    <tr>\n",
        "      <th>AvgSpeed_30_min</th>\n",
        "      <td>9.2</td>\n",
        "      <td>9.2</td>\n",
        "      <td>9.2</td>\n",
        "      <td>9.2</td>\n",
        "      <td>9.2</td>\n",
        "    </tr>\n",
        "    <tr>\n",
        "      <th>AvgSpeed_30_slope</th>\n",
        "      <td>0</td>\n",
        "      <td>1.05</td>\n",
        "      <td>0.9</td>\n",
        "      <td>0.4125</td>\n",
        "      <td>0.6</td>\n",
        "    </tr>\n",
        "  </tbody>\n",
        "</table>\n",
        "<p>231 rows \u00d7 5 columns</p>\n",
        "</div>"
       ],
       "metadata": {},
       "output_type": "pyout",
       "prompt_number": 10,
       "text": [
        "                                        0                    2  \\\n",
        "Station                                 1                    1   \n",
        "Date                           2007-05-01           2007-05-02   \n",
        "Tmax                                   83                   59   \n",
        "Tmin                                   50                   42   \n",
        "Tavg                                   67                   51   \n",
        "Depart                                 14                   -3   \n",
        "DewPoint                               51                   42   \n",
        "WetBulb                                56                   47   \n",
        "Heat                                    0                   14   \n",
        "Cool                                    2                    0   \n",
        "Sunrise                              0448                 0447   \n",
        "Sunset                               1849                 1850   \n",
        "CodeSum                                                     BR   \n",
        "Depth                                   0                    0   \n",
        "Water1                                  M                    M   \n",
        "SnowFall                              0.0                  0.0   \n",
        "PrecipTotal                          0.00                 0.00   \n",
        "StnPressure                         29.10                29.38   \n",
        "SeaLevel                            29.82                30.09   \n",
        "ResultSpeed                           1.7                   13   \n",
        "ResultDir                              27                    4   \n",
        "AvgSpeed                              9.2                 13.4   \n",
        "dt                    2007-05-01 00:00:00  2007-05-02 00:00:00   \n",
        "Tmax_3_mean                            83                   71   \n",
        "Tmax_3_max                             83                   83   \n",
        "Tmax_3_min                             83                   59   \n",
        "Tmax_3_slope                            0                   -6   \n",
        "Tmin_3_mean                            50                   46   \n",
        "Tmin_3_max                             50                   50   \n",
        "Tmin_3_min                             50                   42   \n",
        "...                                   ...                  ...   \n",
        "Heat_30_min                             0                    0   \n",
        "Heat_30_slope                           0                  3.5   \n",
        "Cool_30_mean                            2                    1   \n",
        "Cool_30_max                             2                    2   \n",
        "Cool_30_min                             2                    0   \n",
        "Cool_30_slope                           0                 -0.5   \n",
        "PrecipTotal_30_mean                     0                    0   \n",
        "PrecipTotal_30_max                      0                    0   \n",
        "PrecipTotal_30_min                      0                    0   \n",
        "PrecipTotal_30_slope                    0                    0   \n",
        "StnPressure_30_mean                  29.1                29.24   \n",
        "StnPressure_30_max                   29.1                29.38   \n",
        "StnPressure_30_min                   29.1                 29.1   \n",
        "StnPressure_30_slope                    0                 0.07   \n",
        "SeaLevel_30_mean                    29.82               29.955   \n",
        "SeaLevel_30_max                     29.82                30.09   \n",
        "SeaLevel_30_min                     29.82                29.82   \n",
        "SeaLevel_30_slope                       0               0.0675   \n",
        "ResultSpeed_30_mean                   1.7                 7.35   \n",
        "ResultSpeed_30_max                    1.7                   13   \n",
        "ResultSpeed_30_min                    1.7                  1.7   \n",
        "ResultSpeed_30_slope                    0                2.825   \n",
        "ResultDir_30_mean                      27                 15.5   \n",
        "ResultDir_30_max                       27                   27   \n",
        "ResultDir_30_min                       27                    4   \n",
        "ResultDir_30_slope                      0                -5.75   \n",
        "AvgSpeed_30_mean                      9.2                 11.3   \n",
        "AvgSpeed_30_max                       9.2                 13.4   \n",
        "AvgSpeed_30_min                       9.2                  9.2   \n",
        "AvgSpeed_30_slope                       0                 1.05   \n",
        "\n",
        "                                        4                    6  \\\n",
        "Station                                 1                    1   \n",
        "Date                           2007-05-03           2007-05-04   \n",
        "Tmax                                   66                   66   \n",
        "Tmin                                   46                   49   \n",
        "Tavg                                   56                   58   \n",
        "Depart                                  2                    4   \n",
        "DewPoint                               40                   41   \n",
        "WetBulb                                48                   50   \n",
        "Heat                                    9                    7   \n",
        "Cool                                    0                    0   \n",
        "Sunrise                              0446                 0444   \n",
        "Sunset                               1851                 1852   \n",
        "CodeSum                                                     RA   \n",
        "Depth                                   0                    0   \n",
        "Water1                                  M                    M   \n",
        "SnowFall                              0.0                  0.0   \n",
        "PrecipTotal                          0.00                    T   \n",
        "StnPressure                         29.39                29.31   \n",
        "SeaLevel                            30.12                30.05   \n",
        "ResultSpeed                          11.7                 10.4   \n",
        "ResultDir                               7                    8   \n",
        "AvgSpeed                             11.9                 10.8   \n",
        "dt                    2007-05-03 00:00:00  2007-05-04 00:00:00   \n",
        "Tmax_3_mean                       69.3333              63.6667   \n",
        "Tmax_3_max                             83                   66   \n",
        "Tmax_3_min                             59                   59   \n",
        "Tmax_3_slope                     -5.66667              2.33333   \n",
        "Tmin_3_mean                            46              45.6667   \n",
        "Tmin_3_max                             50                   49   \n",
        "Tmin_3_min                             42                   42   \n",
        "...                                   ...                  ...   \n",
        "Heat_30_min                             0                    0   \n",
        "Heat_30_slope                           3                    2   \n",
        "Cool_30_mean                     0.666667                  0.5   \n",
        "Cool_30_max                             2                    2   \n",
        "Cool_30_min                             0                    0   \n",
        "Cool_30_slope                   -0.666667                -0.75   \n",
        "PrecipTotal_30_mean                     0                    0   \n",
        "PrecipTotal_30_max                      0                    0   \n",
        "PrecipTotal_30_min                      0                    0   \n",
        "PrecipTotal_30_slope                    0                    0   \n",
        "StnPressure_30_mean                 29.29               29.295   \n",
        "StnPressure_30_max                  29.39                29.39   \n",
        "StnPressure_30_min                   29.1                 29.1   \n",
        "StnPressure_30_slope            0.0966667                 0.08   \n",
        "SeaLevel_30_mean                    30.01                30.02   \n",
        "SeaLevel_30_max                     30.12                30.12   \n",
        "SeaLevel_30_min                     29.82                29.82   \n",
        "SeaLevel_30_slope                     0.1                 0.09   \n",
        "ResultSpeed_30_mean                   8.8                  9.2   \n",
        "ResultSpeed_30_max                     13                   13   \n",
        "ResultSpeed_30_min                    1.7                  1.7   \n",
        "ResultSpeed_30_slope              3.33333                  3.1   \n",
        "ResultDir_30_mean                 12.6667                 11.5   \n",
        "ResultDir_30_max                       27                   27   \n",
        "ResultDir_30_min                        4                    4   \n",
        "ResultDir_30_slope               -6.66667                -6.75   \n",
        "AvgSpeed_30_mean                     11.5               11.325   \n",
        "AvgSpeed_30_max                      13.4                 13.4   \n",
        "AvgSpeed_30_min                       9.2                  9.2   \n",
        "AvgSpeed_30_slope                     0.9               0.4125   \n",
        "\n",
        "                                        8  \n",
        "Station                                 1  \n",
        "Date                           2007-05-05  \n",
        "Tmax                                   66  \n",
        "Tmin                                   53  \n",
        "Tavg                                   60  \n",
        "Depart                                  5  \n",
        "DewPoint                               38  \n",
        "WetBulb                                49  \n",
        "Heat                                    5  \n",
        "Cool                                    0  \n",
        "Sunrise                              0443  \n",
        "Sunset                               1853  \n",
        "CodeSum                                    \n",
        "Depth                                   0  \n",
        "Water1                                  M  \n",
        "SnowFall                              0.0  \n",
        "PrecipTotal                             T  \n",
        "StnPressure                         29.40  \n",
        "SeaLevel                            30.10  \n",
        "ResultSpeed                          11.7  \n",
        "ResultDir                               7  \n",
        "AvgSpeed                             12.0  \n",
        "dt                    2007-05-05 00:00:00  \n",
        "Tmax_3_mean                            66  \n",
        "Tmax_3_max                             66  \n",
        "Tmax_3_min                             66  \n",
        "Tmax_3_slope                            0  \n",
        "Tmin_3_mean                       49.3333  \n",
        "Tmin_3_max                             53  \n",
        "Tmin_3_min                             46  \n",
        "...                                   ...  \n",
        "Heat_30_min                             0  \n",
        "Heat_30_slope                         0.6  \n",
        "Cool_30_mean                          0.4  \n",
        "Cool_30_max                             2  \n",
        "Cool_30_min                             0  \n",
        "Cool_30_slope                        -0.8  \n",
        "PrecipTotal_30_mean                     0  \n",
        "PrecipTotal_30_max                      0  \n",
        "PrecipTotal_30_min                      0  \n",
        "PrecipTotal_30_slope                    0  \n",
        "StnPressure_30_mean                29.316  \n",
        "StnPressure_30_max                   29.4  \n",
        "StnPressure_30_min                   29.1  \n",
        "StnPressure_30_slope                0.106  \n",
        "SeaLevel_30_mean                   30.036  \n",
        "SeaLevel_30_max                     30.12  \n",
        "SeaLevel_30_min                     29.82  \n",
        "SeaLevel_30_slope                   0.104  \n",
        "ResultSpeed_30_mean                   9.7  \n",
        "ResultSpeed_30_max                     13  \n",
        "ResultSpeed_30_min                    1.7  \n",
        "ResultSpeed_30_slope                 3.48  \n",
        "ResultDir_30_mean                    10.6  \n",
        "ResultDir_30_max                       27  \n",
        "ResultDir_30_min                        4  \n",
        "ResultDir_30_slope                   -7.2  \n",
        "AvgSpeed_30_mean                    11.46  \n",
        "AvgSpeed_30_max                      13.4  \n",
        "AvgSpeed_30_min                       9.2  \n",
        "AvgSpeed_30_slope                     0.6  \n",
        "\n",
        "[231 rows x 5 columns]"
       ]
      }
     ],
     "prompt_number": 10
    },
    {
     "cell_type": "code",
     "collapsed": false,
     "input": [
      "st2.head().T"
     ],
     "language": "python",
     "metadata": {},
     "outputs": [
      {
       "html": [
        "<div style=\"max-width:1500px;overflow:auto;\">\n",
        "<table border=\"1\" class=\"dataframe\">\n",
        "  <thead>\n",
        "    <tr style=\"text-align: right;\">\n",
        "      <th></th>\n",
        "      <th>1</th>\n",
        "      <th>3</th>\n",
        "      <th>5</th>\n",
        "      <th>7</th>\n",
        "      <th>9</th>\n",
        "    </tr>\n",
        "  </thead>\n",
        "  <tbody>\n",
        "    <tr>\n",
        "      <th>Station</th>\n",
        "      <td>2</td>\n",
        "      <td>2</td>\n",
        "      <td>2</td>\n",
        "      <td>2</td>\n",
        "      <td>2</td>\n",
        "    </tr>\n",
        "    <tr>\n",
        "      <th>Date</th>\n",
        "      <td>2007-05-01</td>\n",
        "      <td>2007-05-02</td>\n",
        "      <td>2007-05-03</td>\n",
        "      <td>2007-05-04</td>\n",
        "      <td>2007-05-05</td>\n",
        "    </tr>\n",
        "    <tr>\n",
        "      <th>Tmax</th>\n",
        "      <td>84</td>\n",
        "      <td>60</td>\n",
        "      <td>67</td>\n",
        "      <td>78</td>\n",
        "      <td>66</td>\n",
        "    </tr>\n",
        "    <tr>\n",
        "      <th>Tmin</th>\n",
        "      <td>52</td>\n",
        "      <td>43</td>\n",
        "      <td>48</td>\n",
        "      <td>51</td>\n",
        "      <td>54</td>\n",
        "    </tr>\n",
        "    <tr>\n",
        "      <th>Tavg</th>\n",
        "      <td>68</td>\n",
        "      <td>52</td>\n",
        "      <td>58</td>\n",
        "      <td>M</td>\n",
        "      <td>60</td>\n",
        "    </tr>\n",
        "    <tr>\n",
        "      <th>Depart</th>\n",
        "      <td>M</td>\n",
        "      <td>M</td>\n",
        "      <td>M</td>\n",
        "      <td>M</td>\n",
        "      <td>M</td>\n",
        "    </tr>\n",
        "    <tr>\n",
        "      <th>DewPoint</th>\n",
        "      <td>51</td>\n",
        "      <td>42</td>\n",
        "      <td>40</td>\n",
        "      <td>42</td>\n",
        "      <td>39</td>\n",
        "    </tr>\n",
        "    <tr>\n",
        "      <th>WetBulb</th>\n",
        "      <td>57</td>\n",
        "      <td>47</td>\n",
        "      <td>50</td>\n",
        "      <td>50</td>\n",
        "      <td>50</td>\n",
        "    </tr>\n",
        "    <tr>\n",
        "      <th>Heat</th>\n",
        "      <td>0</td>\n",
        "      <td>13</td>\n",
        "      <td>7</td>\n",
        "      <td>M</td>\n",
        "      <td>5</td>\n",
        "    </tr>\n",
        "    <tr>\n",
        "      <th>Cool</th>\n",
        "      <td>3</td>\n",
        "      <td>0</td>\n",
        "      <td>0</td>\n",
        "      <td>M</td>\n",
        "      <td>0</td>\n",
        "    </tr>\n",
        "    <tr>\n",
        "      <th>Sunrise</th>\n",
        "      <td>-</td>\n",
        "      <td>-</td>\n",
        "      <td>-</td>\n",
        "      <td>-</td>\n",
        "      <td>-</td>\n",
        "    </tr>\n",
        "    <tr>\n",
        "      <th>Sunset</th>\n",
        "      <td>-</td>\n",
        "      <td>-</td>\n",
        "      <td>-</td>\n",
        "      <td>-</td>\n",
        "      <td>-</td>\n",
        "    </tr>\n",
        "    <tr>\n",
        "      <th>CodeSum</th>\n",
        "      <td></td>\n",
        "      <td>BR HZ</td>\n",
        "      <td>HZ</td>\n",
        "      <td></td>\n",
        "      <td></td>\n",
        "    </tr>\n",
        "    <tr>\n",
        "      <th>Depth</th>\n",
        "      <td>M</td>\n",
        "      <td>M</td>\n",
        "      <td>M</td>\n",
        "      <td>M</td>\n",
        "      <td>M</td>\n",
        "    </tr>\n",
        "    <tr>\n",
        "      <th>Water1</th>\n",
        "      <td>M</td>\n",
        "      <td>M</td>\n",
        "      <td>M</td>\n",
        "      <td>M</td>\n",
        "      <td>M</td>\n",
        "    </tr>\n",
        "    <tr>\n",
        "      <th>SnowFall</th>\n",
        "      <td>M</td>\n",
        "      <td>M</td>\n",
        "      <td>M</td>\n",
        "      <td>M</td>\n",
        "      <td>M</td>\n",
        "    </tr>\n",
        "    <tr>\n",
        "      <th>PrecipTotal</th>\n",
        "      <td>0.00</td>\n",
        "      <td>0.00</td>\n",
        "      <td>0.00</td>\n",
        "      <td>0.00</td>\n",
        "      <td>T</td>\n",
        "    </tr>\n",
        "    <tr>\n",
        "      <th>StnPressure</th>\n",
        "      <td>29.18</td>\n",
        "      <td>29.44</td>\n",
        "      <td>29.46</td>\n",
        "      <td>29.36</td>\n",
        "      <td>29.46</td>\n",
        "    </tr>\n",
        "    <tr>\n",
        "      <th>SeaLevel</th>\n",
        "      <td>29.82</td>\n",
        "      <td>30.08</td>\n",
        "      <td>30.12</td>\n",
        "      <td>30.04</td>\n",
        "      <td>30.09</td>\n",
        "    </tr>\n",
        "    <tr>\n",
        "      <th>ResultSpeed</th>\n",
        "      <td>2.7</td>\n",
        "      <td>13.3</td>\n",
        "      <td>12.9</td>\n",
        "      <td>10.1</td>\n",
        "      <td>11.2</td>\n",
        "    </tr>\n",
        "    <tr>\n",
        "      <th>ResultDir</th>\n",
        "      <td>25</td>\n",
        "      <td>2</td>\n",
        "      <td>6</td>\n",
        "      <td>7</td>\n",
        "      <td>7</td>\n",
        "    </tr>\n",
        "    <tr>\n",
        "      <th>AvgSpeed</th>\n",
        "      <td>9.6</td>\n",
        "      <td>13.4</td>\n",
        "      <td>13.2</td>\n",
        "      <td>10.4</td>\n",
        "      <td>11.5</td>\n",
        "    </tr>\n",
        "    <tr>\n",
        "      <th>dt</th>\n",
        "      <td>2007-05-01 00:00:00</td>\n",
        "      <td>2007-05-02 00:00:00</td>\n",
        "      <td>2007-05-03 00:00:00</td>\n",
        "      <td>2007-05-04 00:00:00</td>\n",
        "      <td>2007-05-05 00:00:00</td>\n",
        "    </tr>\n",
        "    <tr>\n",
        "      <th>Tmax_3_mean</th>\n",
        "      <td>84</td>\n",
        "      <td>72</td>\n",
        "      <td>70.3333</td>\n",
        "      <td>68.3333</td>\n",
        "      <td>70.3333</td>\n",
        "    </tr>\n",
        "    <tr>\n",
        "      <th>Tmax_3_max</th>\n",
        "      <td>84</td>\n",
        "      <td>84</td>\n",
        "      <td>84</td>\n",
        "      <td>78</td>\n",
        "      <td>78</td>\n",
        "    </tr>\n",
        "    <tr>\n",
        "      <th>Tmax_3_min</th>\n",
        "      <td>84</td>\n",
        "      <td>60</td>\n",
        "      <td>60</td>\n",
        "      <td>60</td>\n",
        "      <td>66</td>\n",
        "    </tr>\n",
        "    <tr>\n",
        "      <th>Tmax_3_slope</th>\n",
        "      <td>0</td>\n",
        "      <td>-6</td>\n",
        "      <td>-5.66667</td>\n",
        "      <td>6</td>\n",
        "      <td>-0.333333</td>\n",
        "    </tr>\n",
        "    <tr>\n",
        "      <th>Tmin_3_mean</th>\n",
        "      <td>52</td>\n",
        "      <td>47.5</td>\n",
        "      <td>47.6667</td>\n",
        "      <td>47.3333</td>\n",
        "      <td>51</td>\n",
        "    </tr>\n",
        "    <tr>\n",
        "      <th>Tmin_3_max</th>\n",
        "      <td>52</td>\n",
        "      <td>52</td>\n",
        "      <td>52</td>\n",
        "      <td>51</td>\n",
        "      <td>54</td>\n",
        "    </tr>\n",
        "    <tr>\n",
        "      <th>Tmin_3_min</th>\n",
        "      <td>52</td>\n",
        "      <td>43</td>\n",
        "      <td>43</td>\n",
        "      <td>43</td>\n",
        "      <td>48</td>\n",
        "    </tr>\n",
        "    <tr>\n",
        "      <th>...</th>\n",
        "      <td>...</td>\n",
        "      <td>...</td>\n",
        "      <td>...</td>\n",
        "      <td>...</td>\n",
        "      <td>...</td>\n",
        "    </tr>\n",
        "    <tr>\n",
        "      <th>Heat_30_min</th>\n",
        "      <td>0</td>\n",
        "      <td>0</td>\n",
        "      <td>0</td>\n",
        "      <td>0</td>\n",
        "      <td>0</td>\n",
        "    </tr>\n",
        "    <tr>\n",
        "      <th>Heat_30_slope</th>\n",
        "      <td>0</td>\n",
        "      <td>3.25</td>\n",
        "      <td>2.33333</td>\n",
        "      <td>-1</td>\n",
        "      <td>-0.75</td>\n",
        "    </tr>\n",
        "    <tr>\n",
        "      <th>Cool_30_mean</th>\n",
        "      <td>3</td>\n",
        "      <td>1.5</td>\n",
        "      <td>1</td>\n",
        "      <td>1</td>\n",
        "      <td>0.75</td>\n",
        "    </tr>\n",
        "    <tr>\n",
        "      <th>Cool_30_max</th>\n",
        "      <td>3</td>\n",
        "      <td>3</td>\n",
        "      <td>3</td>\n",
        "      <td>3</td>\n",
        "      <td>3</td>\n",
        "    </tr>\n",
        "    <tr>\n",
        "      <th>Cool_30_min</th>\n",
        "      <td>3</td>\n",
        "      <td>0</td>\n",
        "      <td>0</td>\n",
        "      <td>0</td>\n",
        "      <td>0</td>\n",
        "    </tr>\n",
        "    <tr>\n",
        "      <th>Cool_30_slope</th>\n",
        "      <td>0</td>\n",
        "      <td>-0.75</td>\n",
        "      <td>-1</td>\n",
        "      <td>-1.5</td>\n",
        "      <td>-1.5</td>\n",
        "    </tr>\n",
        "    <tr>\n",
        "      <th>PrecipTotal_30_mean</th>\n",
        "      <td>0</td>\n",
        "      <td>0</td>\n",
        "      <td>0</td>\n",
        "      <td>0</td>\n",
        "      <td>0</td>\n",
        "    </tr>\n",
        "    <tr>\n",
        "      <th>PrecipTotal_30_max</th>\n",
        "      <td>0</td>\n",
        "      <td>0</td>\n",
        "      <td>0</td>\n",
        "      <td>0</td>\n",
        "      <td>0</td>\n",
        "    </tr>\n",
        "    <tr>\n",
        "      <th>PrecipTotal_30_min</th>\n",
        "      <td>0</td>\n",
        "      <td>0</td>\n",
        "      <td>0</td>\n",
        "      <td>0</td>\n",
        "      <td>0</td>\n",
        "    </tr>\n",
        "    <tr>\n",
        "      <th>PrecipTotal_30_slope</th>\n",
        "      <td>0</td>\n",
        "      <td>0</td>\n",
        "      <td>0</td>\n",
        "      <td>0</td>\n",
        "      <td>0</td>\n",
        "    </tr>\n",
        "    <tr>\n",
        "      <th>StnPressure_30_mean</th>\n",
        "      <td>29.18</td>\n",
        "      <td>29.31</td>\n",
        "      <td>29.36</td>\n",
        "      <td>29.36</td>\n",
        "      <td>29.38</td>\n",
        "    </tr>\n",
        "    <tr>\n",
        "      <th>StnPressure_30_max</th>\n",
        "      <td>29.18</td>\n",
        "      <td>29.44</td>\n",
        "      <td>29.46</td>\n",
        "      <td>29.46</td>\n",
        "      <td>29.46</td>\n",
        "    </tr>\n",
        "    <tr>\n",
        "      <th>StnPressure_30_min</th>\n",
        "      <td>29.18</td>\n",
        "      <td>29.18</td>\n",
        "      <td>29.18</td>\n",
        "      <td>29.18</td>\n",
        "      <td>29.18</td>\n",
        "    </tr>\n",
        "    <tr>\n",
        "      <th>StnPressure_30_slope</th>\n",
        "      <td>0</td>\n",
        "      <td>0.065</td>\n",
        "      <td>0.0933333</td>\n",
        "      <td>0.07</td>\n",
        "      <td>0.096</td>\n",
        "    </tr>\n",
        "    <tr>\n",
        "      <th>SeaLevel_30_mean</th>\n",
        "      <td>29.82</td>\n",
        "      <td>29.95</td>\n",
        "      <td>30.0067</td>\n",
        "      <td>30.015</td>\n",
        "      <td>30.03</td>\n",
        "    </tr>\n",
        "    <tr>\n",
        "      <th>SeaLevel_30_max</th>\n",
        "      <td>29.82</td>\n",
        "      <td>30.08</td>\n",
        "      <td>30.12</td>\n",
        "      <td>30.12</td>\n",
        "      <td>30.12</td>\n",
        "    </tr>\n",
        "    <tr>\n",
        "      <th>SeaLevel_30_min</th>\n",
        "      <td>29.82</td>\n",
        "      <td>29.82</td>\n",
        "      <td>29.82</td>\n",
        "      <td>29.82</td>\n",
        "      <td>29.82</td>\n",
        "    </tr>\n",
        "    <tr>\n",
        "      <th>SeaLevel_30_slope</th>\n",
        "      <td>0</td>\n",
        "      <td>0.065</td>\n",
        "      <td>0.1</td>\n",
        "      <td>0.0875</td>\n",
        "      <td>0.1</td>\n",
        "    </tr>\n",
        "    <tr>\n",
        "      <th>ResultSpeed_30_mean</th>\n",
        "      <td>2.7</td>\n",
        "      <td>8</td>\n",
        "      <td>9.63333</td>\n",
        "      <td>9.75</td>\n",
        "      <td>10.04</td>\n",
        "    </tr>\n",
        "    <tr>\n",
        "      <th>ResultSpeed_30_max</th>\n",
        "      <td>2.7</td>\n",
        "      <td>13.3</td>\n",
        "      <td>13.3</td>\n",
        "      <td>13.3</td>\n",
        "      <td>13.3</td>\n",
        "    </tr>\n",
        "    <tr>\n",
        "      <th>ResultSpeed_30_min</th>\n",
        "      <td>2.7</td>\n",
        "      <td>2.7</td>\n",
        "      <td>2.7</td>\n",
        "      <td>2.7</td>\n",
        "      <td>2.7</td>\n",
        "    </tr>\n",
        "    <tr>\n",
        "      <th>ResultSpeed_30_slope</th>\n",
        "      <td>0</td>\n",
        "      <td>2.65</td>\n",
        "      <td>3.4</td>\n",
        "      <td>2.725</td>\n",
        "      <td>2.76</td>\n",
        "    </tr>\n",
        "    <tr>\n",
        "      <th>ResultDir_30_mean</th>\n",
        "      <td>25</td>\n",
        "      <td>13.5</td>\n",
        "      <td>11</td>\n",
        "      <td>10</td>\n",
        "      <td>9.4</td>\n",
        "    </tr>\n",
        "    <tr>\n",
        "      <th>ResultDir_30_max</th>\n",
        "      <td>25</td>\n",
        "      <td>25</td>\n",
        "      <td>25</td>\n",
        "      <td>25</td>\n",
        "      <td>25</td>\n",
        "    </tr>\n",
        "    <tr>\n",
        "      <th>ResultDir_30_min</th>\n",
        "      <td>25</td>\n",
        "      <td>2</td>\n",
        "      <td>2</td>\n",
        "      <td>2</td>\n",
        "      <td>2</td>\n",
        "    </tr>\n",
        "    <tr>\n",
        "      <th>ResultDir_30_slope</th>\n",
        "      <td>0</td>\n",
        "      <td>-5.75</td>\n",
        "      <td>-6.33333</td>\n",
        "      <td>-6.25</td>\n",
        "      <td>-6.2</td>\n",
        "    </tr>\n",
        "    <tr>\n",
        "      <th>AvgSpeed_30_mean</th>\n",
        "      <td>9.6</td>\n",
        "      <td>11.5</td>\n",
        "      <td>12.0667</td>\n",
        "      <td>11.65</td>\n",
        "      <td>11.62</td>\n",
        "    </tr>\n",
        "    <tr>\n",
        "      <th>AvgSpeed_30_max</th>\n",
        "      <td>9.6</td>\n",
        "      <td>13.4</td>\n",
        "      <td>13.4</td>\n",
        "      <td>13.4</td>\n",
        "      <td>13.4</td>\n",
        "    </tr>\n",
        "    <tr>\n",
        "      <th>AvgSpeed_30_min</th>\n",
        "      <td>9.6</td>\n",
        "      <td>9.6</td>\n",
        "      <td>9.6</td>\n",
        "      <td>9.6</td>\n",
        "      <td>9.6</td>\n",
        "    </tr>\n",
        "    <tr>\n",
        "      <th>AvgSpeed_30_slope</th>\n",
        "      <td>0</td>\n",
        "      <td>0.95</td>\n",
        "      <td>1.2</td>\n",
        "      <td>0.275</td>\n",
        "      <td>0.16</td>\n",
        "    </tr>\n",
        "  </tbody>\n",
        "</table>\n",
        "<p>231 rows \u00d7 5 columns</p>\n",
        "</div>"
       ],
       "metadata": {},
       "output_type": "pyout",
       "prompt_number": 11,
       "text": [
        "                                        1                    3  \\\n",
        "Station                                 2                    2   \n",
        "Date                           2007-05-01           2007-05-02   \n",
        "Tmax                                   84                   60   \n",
        "Tmin                                   52                   43   \n",
        "Tavg                                   68                   52   \n",
        "Depart                                  M                    M   \n",
        "DewPoint                               51                   42   \n",
        "WetBulb                                57                   47   \n",
        "Heat                                    0                   13   \n",
        "Cool                                    3                    0   \n",
        "Sunrise                                 -                    -   \n",
        "Sunset                                  -                    -   \n",
        "CodeSum                                                  BR HZ   \n",
        "Depth                                   M                    M   \n",
        "Water1                                  M                    M   \n",
        "SnowFall                                M                    M   \n",
        "PrecipTotal                          0.00                 0.00   \n",
        "StnPressure                         29.18                29.44   \n",
        "SeaLevel                            29.82                30.08   \n",
        "ResultSpeed                           2.7                 13.3   \n",
        "ResultDir                              25                    2   \n",
        "AvgSpeed                              9.6                 13.4   \n",
        "dt                    2007-05-01 00:00:00  2007-05-02 00:00:00   \n",
        "Tmax_3_mean                            84                   72   \n",
        "Tmax_3_max                             84                   84   \n",
        "Tmax_3_min                             84                   60   \n",
        "Tmax_3_slope                            0                   -6   \n",
        "Tmin_3_mean                            52                 47.5   \n",
        "Tmin_3_max                             52                   52   \n",
        "Tmin_3_min                             52                   43   \n",
        "...                                   ...                  ...   \n",
        "Heat_30_min                             0                    0   \n",
        "Heat_30_slope                           0                 3.25   \n",
        "Cool_30_mean                            3                  1.5   \n",
        "Cool_30_max                             3                    3   \n",
        "Cool_30_min                             3                    0   \n",
        "Cool_30_slope                           0                -0.75   \n",
        "PrecipTotal_30_mean                     0                    0   \n",
        "PrecipTotal_30_max                      0                    0   \n",
        "PrecipTotal_30_min                      0                    0   \n",
        "PrecipTotal_30_slope                    0                    0   \n",
        "StnPressure_30_mean                 29.18                29.31   \n",
        "StnPressure_30_max                  29.18                29.44   \n",
        "StnPressure_30_min                  29.18                29.18   \n",
        "StnPressure_30_slope                    0                0.065   \n",
        "SeaLevel_30_mean                    29.82                29.95   \n",
        "SeaLevel_30_max                     29.82                30.08   \n",
        "SeaLevel_30_min                     29.82                29.82   \n",
        "SeaLevel_30_slope                       0                0.065   \n",
        "ResultSpeed_30_mean                   2.7                    8   \n",
        "ResultSpeed_30_max                    2.7                 13.3   \n",
        "ResultSpeed_30_min                    2.7                  2.7   \n",
        "ResultSpeed_30_slope                    0                 2.65   \n",
        "ResultDir_30_mean                      25                 13.5   \n",
        "ResultDir_30_max                       25                   25   \n",
        "ResultDir_30_min                       25                    2   \n",
        "ResultDir_30_slope                      0                -5.75   \n",
        "AvgSpeed_30_mean                      9.6                 11.5   \n",
        "AvgSpeed_30_max                       9.6                 13.4   \n",
        "AvgSpeed_30_min                       9.6                  9.6   \n",
        "AvgSpeed_30_slope                       0                 0.95   \n",
        "\n",
        "                                        5                    7  \\\n",
        "Station                                 2                    2   \n",
        "Date                           2007-05-03           2007-05-04   \n",
        "Tmax                                   67                   78   \n",
        "Tmin                                   48                   51   \n",
        "Tavg                                   58                    M   \n",
        "Depart                                  M                    M   \n",
        "DewPoint                               40                   42   \n",
        "WetBulb                                50                   50   \n",
        "Heat                                    7                    M   \n",
        "Cool                                    0                    M   \n",
        "Sunrise                                 -                    -   \n",
        "Sunset                                  -                    -   \n",
        "CodeSum                                HZ                        \n",
        "Depth                                   M                    M   \n",
        "Water1                                  M                    M   \n",
        "SnowFall                                M                    M   \n",
        "PrecipTotal                          0.00                 0.00   \n",
        "StnPressure                         29.46                29.36   \n",
        "SeaLevel                            30.12                30.04   \n",
        "ResultSpeed                          12.9                 10.1   \n",
        "ResultDir                               6                    7   \n",
        "AvgSpeed                             13.2                 10.4   \n",
        "dt                    2007-05-03 00:00:00  2007-05-04 00:00:00   \n",
        "Tmax_3_mean                       70.3333              68.3333   \n",
        "Tmax_3_max                             84                   78   \n",
        "Tmax_3_min                             60                   60   \n",
        "Tmax_3_slope                     -5.66667                    6   \n",
        "Tmin_3_mean                       47.6667              47.3333   \n",
        "Tmin_3_max                             52                   51   \n",
        "Tmin_3_min                             43                   43   \n",
        "...                                   ...                  ...   \n",
        "Heat_30_min                             0                    0   \n",
        "Heat_30_slope                     2.33333                   -1   \n",
        "Cool_30_mean                            1                    1   \n",
        "Cool_30_max                             3                    3   \n",
        "Cool_30_min                             0                    0   \n",
        "Cool_30_slope                          -1                 -1.5   \n",
        "PrecipTotal_30_mean                     0                    0   \n",
        "PrecipTotal_30_max                      0                    0   \n",
        "PrecipTotal_30_min                      0                    0   \n",
        "PrecipTotal_30_slope                    0                    0   \n",
        "StnPressure_30_mean                 29.36                29.36   \n",
        "StnPressure_30_max                  29.46                29.46   \n",
        "StnPressure_30_min                  29.18                29.18   \n",
        "StnPressure_30_slope            0.0933333                 0.07   \n",
        "SeaLevel_30_mean                  30.0067               30.015   \n",
        "SeaLevel_30_max                     30.12                30.12   \n",
        "SeaLevel_30_min                     29.82                29.82   \n",
        "SeaLevel_30_slope                     0.1               0.0875   \n",
        "ResultSpeed_30_mean               9.63333                 9.75   \n",
        "ResultSpeed_30_max                   13.3                 13.3   \n",
        "ResultSpeed_30_min                    2.7                  2.7   \n",
        "ResultSpeed_30_slope                  3.4                2.725   \n",
        "ResultDir_30_mean                      11                   10   \n",
        "ResultDir_30_max                       25                   25   \n",
        "ResultDir_30_min                        2                    2   \n",
        "ResultDir_30_slope               -6.33333                -6.25   \n",
        "AvgSpeed_30_mean                  12.0667                11.65   \n",
        "AvgSpeed_30_max                      13.4                 13.4   \n",
        "AvgSpeed_30_min                       9.6                  9.6   \n",
        "AvgSpeed_30_slope                     1.2                0.275   \n",
        "\n",
        "                                        9  \n",
        "Station                                 2  \n",
        "Date                           2007-05-05  \n",
        "Tmax                                   66  \n",
        "Tmin                                   54  \n",
        "Tavg                                   60  \n",
        "Depart                                  M  \n",
        "DewPoint                               39  \n",
        "WetBulb                                50  \n",
        "Heat                                    5  \n",
        "Cool                                    0  \n",
        "Sunrise                                 -  \n",
        "Sunset                                  -  \n",
        "CodeSum                                    \n",
        "Depth                                   M  \n",
        "Water1                                  M  \n",
        "SnowFall                                M  \n",
        "PrecipTotal                             T  \n",
        "StnPressure                         29.46  \n",
        "SeaLevel                            30.09  \n",
        "ResultSpeed                          11.2  \n",
        "ResultDir                               7  \n",
        "AvgSpeed                             11.5  \n",
        "dt                    2007-05-05 00:00:00  \n",
        "Tmax_3_mean                       70.3333  \n",
        "Tmax_3_max                             78  \n",
        "Tmax_3_min                             66  \n",
        "Tmax_3_slope                    -0.333333  \n",
        "Tmin_3_mean                            51  \n",
        "Tmin_3_max                             54  \n",
        "Tmin_3_min                             48  \n",
        "...                                   ...  \n",
        "Heat_30_min                             0  \n",
        "Heat_30_slope                       -0.75  \n",
        "Cool_30_mean                         0.75  \n",
        "Cool_30_max                             3  \n",
        "Cool_30_min                             0  \n",
        "Cool_30_slope                        -1.5  \n",
        "PrecipTotal_30_mean                     0  \n",
        "PrecipTotal_30_max                      0  \n",
        "PrecipTotal_30_min                      0  \n",
        "PrecipTotal_30_slope                    0  \n",
        "StnPressure_30_mean                 29.38  \n",
        "StnPressure_30_max                  29.46  \n",
        "StnPressure_30_min                  29.18  \n",
        "StnPressure_30_slope                0.096  \n",
        "SeaLevel_30_mean                    30.03  \n",
        "SeaLevel_30_max                     30.12  \n",
        "SeaLevel_30_min                     29.82  \n",
        "SeaLevel_30_slope                     0.1  \n",
        "ResultSpeed_30_mean                 10.04  \n",
        "ResultSpeed_30_max                   13.3  \n",
        "ResultSpeed_30_min                    2.7  \n",
        "ResultSpeed_30_slope                 2.76  \n",
        "ResultDir_30_mean                     9.4  \n",
        "ResultDir_30_max                       25  \n",
        "ResultDir_30_min                        2  \n",
        "ResultDir_30_slope                   -6.2  \n",
        "AvgSpeed_30_mean                    11.62  \n",
        "AvgSpeed_30_max                      13.4  \n",
        "AvgSpeed_30_min                       9.6  \n",
        "AvgSpeed_30_slope                    0.16  \n",
        "\n",
        "[231 rows x 5 columns]"
       ]
      }
     ],
     "prompt_number": 11
    },
    {
     "cell_type": "heading",
     "level": 2,
     "metadata": {},
     "source": [
      "Target Variable"
     ]
    },
    {
     "cell_type": "code",
     "collapsed": false,
     "input": [
      "# Did main trap Y/N have any records with WnvPresent=1\n",
      "\n",
      "t1 = train.groupby(['Date','Trap','Species'])['WnvPresent'].max().reset_index()\n",
      "t1.rename(columns = {'WnvPresent':'WNV_T1'}, inplace = True)\n",
      "print t1['WNV_T1'].value_counts()"
     ],
     "language": "python",
     "metadata": {},
     "outputs": [
      {
       "output_type": "stream",
       "stream": "stdout",
       "text": [
        "0    8018\n",
        "1     457\n",
        "Name: WNV_T1, dtype: int64\n"
       ]
      }
     ],
     "prompt_number": 12
    },
    {
     "cell_type": "heading",
     "level": 2,
     "metadata": {},
     "source": [
      "Record Count Features"
     ]
    },
    {
     "cell_type": "code",
     "collapsed": false,
     "input": [
      "# Load record count (leakage) features created in \"WN-Record_Features.ipynb\"\n",
      "\n",
      "train_rec = fk.load_object('train_traps_cnt_final.pkl')\n",
      "test_rec = fk.load_object('test_traps_cnt_final.pkl')"
     ],
     "language": "python",
     "metadata": {},
     "outputs": [],
     "prompt_number": 13
    },
    {
     "cell_type": "code",
     "collapsed": false,
     "input": [
      "train_rec.head().T"
     ],
     "language": "python",
     "metadata": {},
     "outputs": [
      {
       "html": [
        "<div style=\"max-width:1500px;overflow:auto;\">\n",
        "<table border=\"1\" class=\"dataframe\">\n",
        "  <thead>\n",
        "    <tr style=\"text-align: right;\">\n",
        "      <th></th>\n",
        "      <th>0</th>\n",
        "      <th>1088</th>\n",
        "      <th>2176</th>\n",
        "      <th>3264</th>\n",
        "      <th>4352</th>\n",
        "    </tr>\n",
        "  </thead>\n",
        "  <tbody>\n",
        "    <tr>\n",
        "      <th>Date</th>\n",
        "      <td>2007-05-29</td>\n",
        "      <td>2007-06-05</td>\n",
        "      <td>2007-06-26</td>\n",
        "      <td>2007-06-29</td>\n",
        "      <td>2007-07-02</td>\n",
        "    </tr>\n",
        "    <tr>\n",
        "      <th>Trap</th>\n",
        "      <td>T002</td>\n",
        "      <td>T002</td>\n",
        "      <td>T002</td>\n",
        "      <td>T002</td>\n",
        "      <td>T002</td>\n",
        "    </tr>\n",
        "    <tr>\n",
        "      <th>Species</th>\n",
        "      <td>CULEX PIPIENS/RESTUANS</td>\n",
        "      <td>CULEX PIPIENS/RESTUANS</td>\n",
        "      <td>CULEX PIPIENS/RESTUANS</td>\n",
        "      <td>CULEX PIPIENS/RESTUANS</td>\n",
        "      <td>CULEX PIPIENS/RESTUANS</td>\n",
        "    </tr>\n",
        "    <tr>\n",
        "      <th>rec_cnt</th>\n",
        "      <td>1</td>\n",
        "      <td>1</td>\n",
        "      <td>1</td>\n",
        "      <td>1</td>\n",
        "      <td>1</td>\n",
        "    </tr>\n",
        "    <tr>\n",
        "      <th>dt</th>\n",
        "      <td>2007-05-29 00:00:00</td>\n",
        "      <td>2007-06-05 00:00:00</td>\n",
        "      <td>2007-06-26 00:00:00</td>\n",
        "      <td>2007-06-29 00:00:00</td>\n",
        "      <td>2007-07-02 00:00:00</td>\n",
        "    </tr>\n",
        "    <tr>\n",
        "      <th>rec_cnt_3_sum</th>\n",
        "      <td>1</td>\n",
        "      <td>1</td>\n",
        "      <td>1</td>\n",
        "      <td>1</td>\n",
        "      <td>1</td>\n",
        "    </tr>\n",
        "    <tr>\n",
        "      <th>rec_cnt_3_2</th>\n",
        "      <td>0</td>\n",
        "      <td>0</td>\n",
        "      <td>0</td>\n",
        "      <td>0</td>\n",
        "      <td>0</td>\n",
        "    </tr>\n",
        "    <tr>\n",
        "      <th>rec_cnt_3_max</th>\n",
        "      <td>1</td>\n",
        "      <td>1</td>\n",
        "      <td>1</td>\n",
        "      <td>1</td>\n",
        "      <td>1</td>\n",
        "    </tr>\n",
        "    <tr>\n",
        "      <th>rec_cnt_3_min</th>\n",
        "      <td>1</td>\n",
        "      <td>1</td>\n",
        "      <td>1</td>\n",
        "      <td>1</td>\n",
        "      <td>1</td>\n",
        "    </tr>\n",
        "    <tr>\n",
        "      <th>rec_cnt_7_sum</th>\n",
        "      <td>1</td>\n",
        "      <td>1</td>\n",
        "      <td>1</td>\n",
        "      <td>2</td>\n",
        "      <td>3</td>\n",
        "    </tr>\n",
        "    <tr>\n",
        "      <th>rec_cnt_7_2</th>\n",
        "      <td>0</td>\n",
        "      <td>0</td>\n",
        "      <td>0</td>\n",
        "      <td>1</td>\n",
        "      <td>1</td>\n",
        "    </tr>\n",
        "    <tr>\n",
        "      <th>rec_cnt_7_max</th>\n",
        "      <td>1</td>\n",
        "      <td>1</td>\n",
        "      <td>1</td>\n",
        "      <td>1</td>\n",
        "      <td>1</td>\n",
        "    </tr>\n",
        "    <tr>\n",
        "      <th>rec_cnt_7_min</th>\n",
        "      <td>1</td>\n",
        "      <td>1</td>\n",
        "      <td>1</td>\n",
        "      <td>1</td>\n",
        "      <td>1</td>\n",
        "    </tr>\n",
        "    <tr>\n",
        "      <th>rec_cnt_14_sum</th>\n",
        "      <td>1</td>\n",
        "      <td>2</td>\n",
        "      <td>1</td>\n",
        "      <td>2</td>\n",
        "      <td>3</td>\n",
        "    </tr>\n",
        "    <tr>\n",
        "      <th>rec_cnt_14_2</th>\n",
        "      <td>0</td>\n",
        "      <td>1</td>\n",
        "      <td>0</td>\n",
        "      <td>1</td>\n",
        "      <td>1</td>\n",
        "    </tr>\n",
        "    <tr>\n",
        "      <th>rec_cnt_14_max</th>\n",
        "      <td>1</td>\n",
        "      <td>1</td>\n",
        "      <td>1</td>\n",
        "      <td>1</td>\n",
        "      <td>1</td>\n",
        "    </tr>\n",
        "    <tr>\n",
        "      <th>rec_cnt_14_min</th>\n",
        "      <td>1</td>\n",
        "      <td>1</td>\n",
        "      <td>1</td>\n",
        "      <td>1</td>\n",
        "      <td>1</td>\n",
        "    </tr>\n",
        "    <tr>\n",
        "      <th>rec_cnt_30_sum</th>\n",
        "      <td>1</td>\n",
        "      <td>2</td>\n",
        "      <td>3</td>\n",
        "      <td>3</td>\n",
        "      <td>4</td>\n",
        "    </tr>\n",
        "    <tr>\n",
        "      <th>rec_cnt_30_2</th>\n",
        "      <td>0</td>\n",
        "      <td>1</td>\n",
        "      <td>1</td>\n",
        "      <td>1</td>\n",
        "      <td>1</td>\n",
        "    </tr>\n",
        "    <tr>\n",
        "      <th>rec_cnt_30_max</th>\n",
        "      <td>1</td>\n",
        "      <td>1</td>\n",
        "      <td>1</td>\n",
        "      <td>1</td>\n",
        "      <td>1</td>\n",
        "    </tr>\n",
        "    <tr>\n",
        "      <th>rec_cnt_30_min</th>\n",
        "      <td>1</td>\n",
        "      <td>1</td>\n",
        "      <td>1</td>\n",
        "      <td>1</td>\n",
        "      <td>1</td>\n",
        "    </tr>\n",
        "    <tr>\n",
        "      <th>rec_cnt_60_sum</th>\n",
        "      <td>1</td>\n",
        "      <td>2</td>\n",
        "      <td>3</td>\n",
        "      <td>4</td>\n",
        "      <td>5</td>\n",
        "    </tr>\n",
        "    <tr>\n",
        "      <th>rec_cnt_60_2</th>\n",
        "      <td>0</td>\n",
        "      <td>1</td>\n",
        "      <td>1</td>\n",
        "      <td>1</td>\n",
        "      <td>1</td>\n",
        "    </tr>\n",
        "    <tr>\n",
        "      <th>rec_cnt_60_max</th>\n",
        "      <td>1</td>\n",
        "      <td>1</td>\n",
        "      <td>1</td>\n",
        "      <td>1</td>\n",
        "      <td>1</td>\n",
        "    </tr>\n",
        "    <tr>\n",
        "      <th>rec_cnt_60_min</th>\n",
        "      <td>1</td>\n",
        "      <td>1</td>\n",
        "      <td>1</td>\n",
        "      <td>1</td>\n",
        "      <td>1</td>\n",
        "    </tr>\n",
        "  </tbody>\n",
        "</table>\n",
        "</div>"
       ],
       "metadata": {},
       "output_type": "pyout",
       "prompt_number": 14,
       "text": [
        "                                  0                       1088  \\\n",
        "Date                        2007-05-29              2007-06-05   \n",
        "Trap                              T002                    T002   \n",
        "Species         CULEX PIPIENS/RESTUANS  CULEX PIPIENS/RESTUANS   \n",
        "rec_cnt                              1                       1   \n",
        "dt                 2007-05-29 00:00:00     2007-06-05 00:00:00   \n",
        "rec_cnt_3_sum                        1                       1   \n",
        "rec_cnt_3_2                          0                       0   \n",
        "rec_cnt_3_max                        1                       1   \n",
        "rec_cnt_3_min                        1                       1   \n",
        "rec_cnt_7_sum                        1                       1   \n",
        "rec_cnt_7_2                          0                       0   \n",
        "rec_cnt_7_max                        1                       1   \n",
        "rec_cnt_7_min                        1                       1   \n",
        "rec_cnt_14_sum                       1                       2   \n",
        "rec_cnt_14_2                         0                       1   \n",
        "rec_cnt_14_max                       1                       1   \n",
        "rec_cnt_14_min                       1                       1   \n",
        "rec_cnt_30_sum                       1                       2   \n",
        "rec_cnt_30_2                         0                       1   \n",
        "rec_cnt_30_max                       1                       1   \n",
        "rec_cnt_30_min                       1                       1   \n",
        "rec_cnt_60_sum                       1                       2   \n",
        "rec_cnt_60_2                         0                       1   \n",
        "rec_cnt_60_max                       1                       1   \n",
        "rec_cnt_60_min                       1                       1   \n",
        "\n",
        "                                  2176                    3264  \\\n",
        "Date                        2007-06-26              2007-06-29   \n",
        "Trap                              T002                    T002   \n",
        "Species         CULEX PIPIENS/RESTUANS  CULEX PIPIENS/RESTUANS   \n",
        "rec_cnt                              1                       1   \n",
        "dt                 2007-06-26 00:00:00     2007-06-29 00:00:00   \n",
        "rec_cnt_3_sum                        1                       1   \n",
        "rec_cnt_3_2                          0                       0   \n",
        "rec_cnt_3_max                        1                       1   \n",
        "rec_cnt_3_min                        1                       1   \n",
        "rec_cnt_7_sum                        1                       2   \n",
        "rec_cnt_7_2                          0                       1   \n",
        "rec_cnt_7_max                        1                       1   \n",
        "rec_cnt_7_min                        1                       1   \n",
        "rec_cnt_14_sum                       1                       2   \n",
        "rec_cnt_14_2                         0                       1   \n",
        "rec_cnt_14_max                       1                       1   \n",
        "rec_cnt_14_min                       1                       1   \n",
        "rec_cnt_30_sum                       3                       3   \n",
        "rec_cnt_30_2                         1                       1   \n",
        "rec_cnt_30_max                       1                       1   \n",
        "rec_cnt_30_min                       1                       1   \n",
        "rec_cnt_60_sum                       3                       4   \n",
        "rec_cnt_60_2                         1                       1   \n",
        "rec_cnt_60_max                       1                       1   \n",
        "rec_cnt_60_min                       1                       1   \n",
        "\n",
        "                                  4352  \n",
        "Date                        2007-07-02  \n",
        "Trap                              T002  \n",
        "Species         CULEX PIPIENS/RESTUANS  \n",
        "rec_cnt                              1  \n",
        "dt                 2007-07-02 00:00:00  \n",
        "rec_cnt_3_sum                        1  \n",
        "rec_cnt_3_2                          0  \n",
        "rec_cnt_3_max                        1  \n",
        "rec_cnt_3_min                        1  \n",
        "rec_cnt_7_sum                        3  \n",
        "rec_cnt_7_2                          1  \n",
        "rec_cnt_7_max                        1  \n",
        "rec_cnt_7_min                        1  \n",
        "rec_cnt_14_sum                       3  \n",
        "rec_cnt_14_2                         1  \n",
        "rec_cnt_14_max                       1  \n",
        "rec_cnt_14_min                       1  \n",
        "rec_cnt_30_sum                       4  \n",
        "rec_cnt_30_2                         1  \n",
        "rec_cnt_30_max                       1  \n",
        "rec_cnt_30_min                       1  \n",
        "rec_cnt_60_sum                       5  \n",
        "rec_cnt_60_2                         1  \n",
        "rec_cnt_60_max                       1  \n",
        "rec_cnt_60_min                       1  "
       ]
      }
     ],
     "prompt_number": 14
    },
    {
     "cell_type": "code",
     "collapsed": false,
     "input": [
      "test_rec.head().T"
     ],
     "language": "python",
     "metadata": {},
     "outputs": [
      {
       "html": [
        "<div style=\"max-width:1500px;overflow:auto;\">\n",
        "<table border=\"1\" class=\"dataframe\">\n",
        "  <thead>\n",
        "    <tr style=\"text-align: right;\">\n",
        "      <th></th>\n",
        "      <th>0</th>\n",
        "      <th>1192</th>\n",
        "      <th>2384</th>\n",
        "      <th>3576</th>\n",
        "      <th>4768</th>\n",
        "    </tr>\n",
        "  </thead>\n",
        "  <tbody>\n",
        "    <tr>\n",
        "      <th>Date</th>\n",
        "      <td>2008-06-11</td>\n",
        "      <td>2008-06-17</td>\n",
        "      <td>2008-06-24</td>\n",
        "      <td>2008-07-01</td>\n",
        "      <td>2008-07-04</td>\n",
        "    </tr>\n",
        "    <tr>\n",
        "      <th>Trap</th>\n",
        "      <td>T001</td>\n",
        "      <td>T001</td>\n",
        "      <td>T001</td>\n",
        "      <td>T001</td>\n",
        "      <td>T001</td>\n",
        "    </tr>\n",
        "    <tr>\n",
        "      <th>Species</th>\n",
        "      <td>CULEX ERRATICUS</td>\n",
        "      <td>CULEX ERRATICUS</td>\n",
        "      <td>CULEX ERRATICUS</td>\n",
        "      <td>CULEX ERRATICUS</td>\n",
        "      <td>CULEX ERRATICUS</td>\n",
        "    </tr>\n",
        "    <tr>\n",
        "      <th>rec_cnt</th>\n",
        "      <td>1</td>\n",
        "      <td>1</td>\n",
        "      <td>1</td>\n",
        "      <td>1</td>\n",
        "      <td>1</td>\n",
        "    </tr>\n",
        "    <tr>\n",
        "      <th>dt</th>\n",
        "      <td>2008-06-11 00:00:00</td>\n",
        "      <td>2008-06-17 00:00:00</td>\n",
        "      <td>2008-06-24 00:00:00</td>\n",
        "      <td>2008-07-01 00:00:00</td>\n",
        "      <td>2008-07-04 00:00:00</td>\n",
        "    </tr>\n",
        "    <tr>\n",
        "      <th>rec_cnt_3_sum</th>\n",
        "      <td>1</td>\n",
        "      <td>1</td>\n",
        "      <td>1</td>\n",
        "      <td>1</td>\n",
        "      <td>1</td>\n",
        "    </tr>\n",
        "    <tr>\n",
        "      <th>rec_cnt_3_2</th>\n",
        "      <td>0</td>\n",
        "      <td>0</td>\n",
        "      <td>0</td>\n",
        "      <td>0</td>\n",
        "      <td>0</td>\n",
        "    </tr>\n",
        "    <tr>\n",
        "      <th>rec_cnt_3_max</th>\n",
        "      <td>1</td>\n",
        "      <td>1</td>\n",
        "      <td>1</td>\n",
        "      <td>1</td>\n",
        "      <td>1</td>\n",
        "    </tr>\n",
        "    <tr>\n",
        "      <th>rec_cnt_3_min</th>\n",
        "      <td>1</td>\n",
        "      <td>1</td>\n",
        "      <td>1</td>\n",
        "      <td>1</td>\n",
        "      <td>1</td>\n",
        "    </tr>\n",
        "    <tr>\n",
        "      <th>rec_cnt_7_sum</th>\n",
        "      <td>1</td>\n",
        "      <td>2</td>\n",
        "      <td>1</td>\n",
        "      <td>1</td>\n",
        "      <td>2</td>\n",
        "    </tr>\n",
        "    <tr>\n",
        "      <th>rec_cnt_7_2</th>\n",
        "      <td>0</td>\n",
        "      <td>1</td>\n",
        "      <td>0</td>\n",
        "      <td>0</td>\n",
        "      <td>1</td>\n",
        "    </tr>\n",
        "    <tr>\n",
        "      <th>rec_cnt_7_max</th>\n",
        "      <td>1</td>\n",
        "      <td>1</td>\n",
        "      <td>1</td>\n",
        "      <td>1</td>\n",
        "      <td>1</td>\n",
        "    </tr>\n",
        "    <tr>\n",
        "      <th>rec_cnt_7_min</th>\n",
        "      <td>1</td>\n",
        "      <td>1</td>\n",
        "      <td>1</td>\n",
        "      <td>1</td>\n",
        "      <td>1</td>\n",
        "    </tr>\n",
        "    <tr>\n",
        "      <th>rec_cnt_14_sum</th>\n",
        "      <td>1</td>\n",
        "      <td>2</td>\n",
        "      <td>3</td>\n",
        "      <td>2</td>\n",
        "      <td>3</td>\n",
        "    </tr>\n",
        "    <tr>\n",
        "      <th>rec_cnt_14_2</th>\n",
        "      <td>0</td>\n",
        "      <td>1</td>\n",
        "      <td>1</td>\n",
        "      <td>1</td>\n",
        "      <td>1</td>\n",
        "    </tr>\n",
        "    <tr>\n",
        "      <th>rec_cnt_14_max</th>\n",
        "      <td>1</td>\n",
        "      <td>1</td>\n",
        "      <td>1</td>\n",
        "      <td>1</td>\n",
        "      <td>1</td>\n",
        "    </tr>\n",
        "    <tr>\n",
        "      <th>rec_cnt_14_min</th>\n",
        "      <td>1</td>\n",
        "      <td>1</td>\n",
        "      <td>1</td>\n",
        "      <td>1</td>\n",
        "      <td>1</td>\n",
        "    </tr>\n",
        "    <tr>\n",
        "      <th>rec_cnt_30_sum</th>\n",
        "      <td>1</td>\n",
        "      <td>2</td>\n",
        "      <td>3</td>\n",
        "      <td>4</td>\n",
        "      <td>5</td>\n",
        "    </tr>\n",
        "    <tr>\n",
        "      <th>rec_cnt_30_2</th>\n",
        "      <td>0</td>\n",
        "      <td>1</td>\n",
        "      <td>1</td>\n",
        "      <td>1</td>\n",
        "      <td>1</td>\n",
        "    </tr>\n",
        "    <tr>\n",
        "      <th>rec_cnt_30_max</th>\n",
        "      <td>1</td>\n",
        "      <td>1</td>\n",
        "      <td>1</td>\n",
        "      <td>1</td>\n",
        "      <td>1</td>\n",
        "    </tr>\n",
        "    <tr>\n",
        "      <th>rec_cnt_30_min</th>\n",
        "      <td>1</td>\n",
        "      <td>1</td>\n",
        "      <td>1</td>\n",
        "      <td>1</td>\n",
        "      <td>1</td>\n",
        "    </tr>\n",
        "    <tr>\n",
        "      <th>rec_cnt_60_sum</th>\n",
        "      <td>1</td>\n",
        "      <td>2</td>\n",
        "      <td>3</td>\n",
        "      <td>4</td>\n",
        "      <td>5</td>\n",
        "    </tr>\n",
        "    <tr>\n",
        "      <th>rec_cnt_60_2</th>\n",
        "      <td>0</td>\n",
        "      <td>1</td>\n",
        "      <td>1</td>\n",
        "      <td>1</td>\n",
        "      <td>1</td>\n",
        "    </tr>\n",
        "    <tr>\n",
        "      <th>rec_cnt_60_max</th>\n",
        "      <td>1</td>\n",
        "      <td>1</td>\n",
        "      <td>1</td>\n",
        "      <td>1</td>\n",
        "      <td>1</td>\n",
        "    </tr>\n",
        "    <tr>\n",
        "      <th>rec_cnt_60_min</th>\n",
        "      <td>1</td>\n",
        "      <td>1</td>\n",
        "      <td>1</td>\n",
        "      <td>1</td>\n",
        "      <td>1</td>\n",
        "    </tr>\n",
        "  </tbody>\n",
        "</table>\n",
        "</div>"
       ],
       "metadata": {},
       "output_type": "pyout",
       "prompt_number": 15,
       "text": [
        "                               0                    1192                 2384  \\\n",
        "Date                     2008-06-11           2008-06-17           2008-06-24   \n",
        "Trap                           T001                 T001                 T001   \n",
        "Species             CULEX ERRATICUS      CULEX ERRATICUS      CULEX ERRATICUS   \n",
        "rec_cnt                           1                    1                    1   \n",
        "dt              2008-06-11 00:00:00  2008-06-17 00:00:00  2008-06-24 00:00:00   \n",
        "rec_cnt_3_sum                     1                    1                    1   \n",
        "rec_cnt_3_2                       0                    0                    0   \n",
        "rec_cnt_3_max                     1                    1                    1   \n",
        "rec_cnt_3_min                     1                    1                    1   \n",
        "rec_cnt_7_sum                     1                    2                    1   \n",
        "rec_cnt_7_2                       0                    1                    0   \n",
        "rec_cnt_7_max                     1                    1                    1   \n",
        "rec_cnt_7_min                     1                    1                    1   \n",
        "rec_cnt_14_sum                    1                    2                    3   \n",
        "rec_cnt_14_2                      0                    1                    1   \n",
        "rec_cnt_14_max                    1                    1                    1   \n",
        "rec_cnt_14_min                    1                    1                    1   \n",
        "rec_cnt_30_sum                    1                    2                    3   \n",
        "rec_cnt_30_2                      0                    1                    1   \n",
        "rec_cnt_30_max                    1                    1                    1   \n",
        "rec_cnt_30_min                    1                    1                    1   \n",
        "rec_cnt_60_sum                    1                    2                    3   \n",
        "rec_cnt_60_2                      0                    1                    1   \n",
        "rec_cnt_60_max                    1                    1                    1   \n",
        "rec_cnt_60_min                    1                    1                    1   \n",
        "\n",
        "                               3576                 4768  \n",
        "Date                     2008-07-01           2008-07-04  \n",
        "Trap                           T001                 T001  \n",
        "Species             CULEX ERRATICUS      CULEX ERRATICUS  \n",
        "rec_cnt                           1                    1  \n",
        "dt              2008-07-01 00:00:00  2008-07-04 00:00:00  \n",
        "rec_cnt_3_sum                     1                    1  \n",
        "rec_cnt_3_2                       0                    0  \n",
        "rec_cnt_3_max                     1                    1  \n",
        "rec_cnt_3_min                     1                    1  \n",
        "rec_cnt_7_sum                     1                    2  \n",
        "rec_cnt_7_2                       0                    1  \n",
        "rec_cnt_7_max                     1                    1  \n",
        "rec_cnt_7_min                     1                    1  \n",
        "rec_cnt_14_sum                    2                    3  \n",
        "rec_cnt_14_2                      1                    1  \n",
        "rec_cnt_14_max                    1                    1  \n",
        "rec_cnt_14_min                    1                    1  \n",
        "rec_cnt_30_sum                    4                    5  \n",
        "rec_cnt_30_2                      1                    1  \n",
        "rec_cnt_30_max                    1                    1  \n",
        "rec_cnt_30_min                    1                    1  \n",
        "rec_cnt_60_sum                    4                    5  \n",
        "rec_cnt_60_2                      1                    1  \n",
        "rec_cnt_60_max                    1                    1  \n",
        "rec_cnt_60_min                    1                    1  "
       ]
      }
     ],
     "prompt_number": 15
    },
    {
     "cell_type": "heading",
     "level": 2,
     "metadata": {},
     "source": [
      "    Determine Closest Weather Station by Geographical Distance"
     ]
    },
    {
     "cell_type": "code",
     "collapsed": false,
     "input": [
      "from scipy.spatial import distance\n",
      "coords_train = list(zip(train['Latitude'], train['Longitude']))\n",
      "coords_test = list(zip(test['Latitude'], test['Longitude']))\n",
      "\n",
      "st_coords = [(41.995,-87.933), (41.786,-87.752)]  # weather station coordinates\n",
      "\n",
      "dist_train = pd.DataFrame(distance.cdist(coords_train, st_coords, 'euclidean'), columns=['d1','d2'])\n",
      "dist_train['st_closer'] = (dist_train['d1'] > dist_train ['d2']).apply(lambda x: 1 if x==False else 2)\n",
      "print dist_train.head()\n",
      "\n",
      "dist_test = pd.DataFrame(distance.cdist(coords_test, st_coords, 'euclidean'), columns=['d1','d2'])\n",
      "dist_test['st_closer'] = (dist_test['d1'] > dist_test ['d2']).apply(lambda x: 1 if x==False else 2)\n",
      "print dist_test.head()"
     ],
     "language": "python",
     "metadata": {},
     "outputs": [
      {
       "output_type": "stream",
       "stream": "stdout",
       "text": [
        "         d1        d2  st_closer\n",
        "0  0.138026  0.175660          1\n",
        "1  0.138026  0.175660          1\n",
        "2  0.163721  0.209704          1\n",
        "3  0.110190  0.201691          1\n",
        "4  0.110190  0.201691          1\n",
        "         d1       d2  st_closer\n",
        "0  0.138026  0.17566          1\n",
        "1  0.138026  0.17566          1\n",
        "2  0.138026  0.17566          1\n",
        "3  0.138026  0.17566          1\n",
        "4  0.138026  0.17566          1"
       ]
      },
      {
       "output_type": "stream",
       "stream": "stdout",
       "text": [
        "\n"
       ]
      }
     ],
     "prompt_number": 16
    },
    {
     "cell_type": "code",
     "collapsed": false,
     "input": [
      "print dist_train['st_closer'].value_counts()\n",
      "print dist_test['st_closer'].value_counts()"
     ],
     "language": "python",
     "metadata": {},
     "outputs": [
      {
       "output_type": "stream",
       "stream": "stdout",
       "text": [
        "2    8245\n",
        "1    2261\n",
        "Name: st_closer, dtype: int64\n",
        "2    97015\n",
        "1    19278\n",
        "Name: st_closer, dtype: int64\n"
       ]
      }
     ],
     "prompt_number": 17
    },
    {
     "cell_type": "heading",
     "level": 2,
     "metadata": {},
     "source": [
      "Merge Modeling Data"
     ]
    },
    {
     "cell_type": "code",
     "collapsed": false,
     "input": [
      "# Add target variables to training data\n",
      "\n",
      "train2 = train.copy()\n",
      "train2 = train2.merge(t1[['Date','Trap','Species','WNV_T1']], \n",
      "                      left_on=['Date','Trap','Species'], \n",
      "                      right_on=['Date','Trap','Species'], how='left')\n",
      "train2.head().T"
     ],
     "language": "python",
     "metadata": {},
     "outputs": [
      {
       "html": [
        "<div style=\"max-width:1500px;overflow:auto;\">\n",
        "<table border=\"1\" class=\"dataframe\">\n",
        "  <thead>\n",
        "    <tr style=\"text-align: right;\">\n",
        "      <th></th>\n",
        "      <th>0</th>\n",
        "      <th>1</th>\n",
        "      <th>2</th>\n",
        "      <th>3</th>\n",
        "      <th>4</th>\n",
        "    </tr>\n",
        "  </thead>\n",
        "  <tbody>\n",
        "    <tr>\n",
        "      <th>Date</th>\n",
        "      <td>2007-05-29</td>\n",
        "      <td>2007-05-29</td>\n",
        "      <td>2007-05-29</td>\n",
        "      <td>2007-05-29</td>\n",
        "      <td>2007-05-29</td>\n",
        "    </tr>\n",
        "    <tr>\n",
        "      <th>Address</th>\n",
        "      <td>4100 North Oak Park Avenue, Chicago, IL 60634,...</td>\n",
        "      <td>4100 North Oak Park Avenue, Chicago, IL 60634,...</td>\n",
        "      <td>6200 North Mandell Avenue, Chicago, IL 60646, USA</td>\n",
        "      <td>7900 West Foster Avenue, Chicago, IL 60656, USA</td>\n",
        "      <td>7900 West Foster Avenue, Chicago, IL 60656, USA</td>\n",
        "    </tr>\n",
        "    <tr>\n",
        "      <th>Species</th>\n",
        "      <td>CULEX PIPIENS/RESTUANS</td>\n",
        "      <td>CULEX RESTUANS</td>\n",
        "      <td>CULEX RESTUANS</td>\n",
        "      <td>CULEX PIPIENS/RESTUANS</td>\n",
        "      <td>CULEX RESTUANS</td>\n",
        "    </tr>\n",
        "    <tr>\n",
        "      <th>Block</th>\n",
        "      <td>41</td>\n",
        "      <td>41</td>\n",
        "      <td>62</td>\n",
        "      <td>79</td>\n",
        "      <td>79</td>\n",
        "    </tr>\n",
        "    <tr>\n",
        "      <th>Street</th>\n",
        "      <td>N OAK PARK AVE</td>\n",
        "      <td>N OAK PARK AVE</td>\n",
        "      <td>N MANDELL AVE</td>\n",
        "      <td>W FOSTER AVE</td>\n",
        "      <td>W FOSTER AVE</td>\n",
        "    </tr>\n",
        "    <tr>\n",
        "      <th>Trap</th>\n",
        "      <td>T002</td>\n",
        "      <td>T002</td>\n",
        "      <td>T007</td>\n",
        "      <td>T015</td>\n",
        "      <td>T015</td>\n",
        "    </tr>\n",
        "    <tr>\n",
        "      <th>AddressNumberAndStreet</th>\n",
        "      <td>4100  N OAK PARK AVE, Chicago, IL</td>\n",
        "      <td>4100  N OAK PARK AVE, Chicago, IL</td>\n",
        "      <td>6200  N MANDELL AVE, Chicago, IL</td>\n",
        "      <td>7900  W FOSTER AVE, Chicago, IL</td>\n",
        "      <td>7900  W FOSTER AVE, Chicago, IL</td>\n",
        "    </tr>\n",
        "    <tr>\n",
        "      <th>Latitude</th>\n",
        "      <td>41.9547</td>\n",
        "      <td>41.9547</td>\n",
        "      <td>41.995</td>\n",
        "      <td>41.9741</td>\n",
        "      <td>41.9741</td>\n",
        "    </tr>\n",
        "    <tr>\n",
        "      <th>Longitude</th>\n",
        "      <td>-87.801</td>\n",
        "      <td>-87.801</td>\n",
        "      <td>-87.7693</td>\n",
        "      <td>-87.8248</td>\n",
        "      <td>-87.8248</td>\n",
        "    </tr>\n",
        "    <tr>\n",
        "      <th>AddressAccuracy</th>\n",
        "      <td>9</td>\n",
        "      <td>9</td>\n",
        "      <td>9</td>\n",
        "      <td>8</td>\n",
        "      <td>8</td>\n",
        "    </tr>\n",
        "    <tr>\n",
        "      <th>NumMosquitos</th>\n",
        "      <td>1</td>\n",
        "      <td>1</td>\n",
        "      <td>1</td>\n",
        "      <td>1</td>\n",
        "      <td>4</td>\n",
        "    </tr>\n",
        "    <tr>\n",
        "      <th>WnvPresent</th>\n",
        "      <td>0</td>\n",
        "      <td>0</td>\n",
        "      <td>0</td>\n",
        "      <td>0</td>\n",
        "      <td>0</td>\n",
        "    </tr>\n",
        "    <tr>\n",
        "      <th>main_trap</th>\n",
        "      <td>T002</td>\n",
        "      <td>T002</td>\n",
        "      <td>T007</td>\n",
        "      <td>T015</td>\n",
        "      <td>T015</td>\n",
        "    </tr>\n",
        "    <tr>\n",
        "      <th>year</th>\n",
        "      <td>2007</td>\n",
        "      <td>2007</td>\n",
        "      <td>2007</td>\n",
        "      <td>2007</td>\n",
        "      <td>2007</td>\n",
        "    </tr>\n",
        "    <tr>\n",
        "      <th>month</th>\n",
        "      <td>05</td>\n",
        "      <td>05</td>\n",
        "      <td>05</td>\n",
        "      <td>05</td>\n",
        "      <td>05</td>\n",
        "    </tr>\n",
        "    <tr>\n",
        "      <th>WNV_T1</th>\n",
        "      <td>0</td>\n",
        "      <td>0</td>\n",
        "      <td>0</td>\n",
        "      <td>0</td>\n",
        "      <td>0</td>\n",
        "    </tr>\n",
        "  </tbody>\n",
        "</table>\n",
        "</div>"
       ],
       "metadata": {},
       "output_type": "pyout",
       "prompt_number": 18,
       "text": [
        "                                                                        0  \\\n",
        "Date                                                           2007-05-29   \n",
        "Address                 4100 North Oak Park Avenue, Chicago, IL 60634,...   \n",
        "Species                                            CULEX PIPIENS/RESTUANS   \n",
        "Block                                                                  41   \n",
        "Street                                                     N OAK PARK AVE   \n",
        "Trap                                                                 T002   \n",
        "AddressNumberAndStreet                  4100  N OAK PARK AVE, Chicago, IL   \n",
        "Latitude                                                          41.9547   \n",
        "Longitude                                                         -87.801   \n",
        "AddressAccuracy                                                         9   \n",
        "NumMosquitos                                                            1   \n",
        "WnvPresent                                                              0   \n",
        "main_trap                                                            T002   \n",
        "year                                                                 2007   \n",
        "month                                                                  05   \n",
        "WNV_T1                                                                  0   \n",
        "\n",
        "                                                                        1  \\\n",
        "Date                                                           2007-05-29   \n",
        "Address                 4100 North Oak Park Avenue, Chicago, IL 60634,...   \n",
        "Species                                                    CULEX RESTUANS   \n",
        "Block                                                                  41   \n",
        "Street                                                     N OAK PARK AVE   \n",
        "Trap                                                                 T002   \n",
        "AddressNumberAndStreet                  4100  N OAK PARK AVE, Chicago, IL   \n",
        "Latitude                                                          41.9547   \n",
        "Longitude                                                         -87.801   \n",
        "AddressAccuracy                                                         9   \n",
        "NumMosquitos                                                            1   \n",
        "WnvPresent                                                              0   \n",
        "main_trap                                                            T002   \n",
        "year                                                                 2007   \n",
        "month                                                                  05   \n",
        "WNV_T1                                                                  0   \n",
        "\n",
        "                                                                        2  \\\n",
        "Date                                                           2007-05-29   \n",
        "Address                 6200 North Mandell Avenue, Chicago, IL 60646, USA   \n",
        "Species                                                    CULEX RESTUANS   \n",
        "Block                                                                  62   \n",
        "Street                                                      N MANDELL AVE   \n",
        "Trap                                                                 T007   \n",
        "AddressNumberAndStreet                   6200  N MANDELL AVE, Chicago, IL   \n",
        "Latitude                                                           41.995   \n",
        "Longitude                                                        -87.7693   \n",
        "AddressAccuracy                                                         9   \n",
        "NumMosquitos                                                            1   \n",
        "WnvPresent                                                              0   \n",
        "main_trap                                                            T007   \n",
        "year                                                                 2007   \n",
        "month                                                                  05   \n",
        "WNV_T1                                                                  0   \n",
        "\n",
        "                                                                      3  \\\n",
        "Date                                                         2007-05-29   \n",
        "Address                 7900 West Foster Avenue, Chicago, IL 60656, USA   \n",
        "Species                                          CULEX PIPIENS/RESTUANS   \n",
        "Block                                                                79   \n",
        "Street                                                     W FOSTER AVE   \n",
        "Trap                                                               T015   \n",
        "AddressNumberAndStreet                  7900  W FOSTER AVE, Chicago, IL   \n",
        "Latitude                                                        41.9741   \n",
        "Longitude                                                      -87.8248   \n",
        "AddressAccuracy                                                       8   \n",
        "NumMosquitos                                                          1   \n",
        "WnvPresent                                                            0   \n",
        "main_trap                                                          T015   \n",
        "year                                                               2007   \n",
        "month                                                                05   \n",
        "WNV_T1                                                                0   \n",
        "\n",
        "                                                                      4  \n",
        "Date                                                         2007-05-29  \n",
        "Address                 7900 West Foster Avenue, Chicago, IL 60656, USA  \n",
        "Species                                                  CULEX RESTUANS  \n",
        "Block                                                                79  \n",
        "Street                                                     W FOSTER AVE  \n",
        "Trap                                                               T015  \n",
        "AddressNumberAndStreet                  7900  W FOSTER AVE, Chicago, IL  \n",
        "Latitude                                                        41.9741  \n",
        "Longitude                                                      -87.8248  \n",
        "AddressAccuracy                                                       8  \n",
        "NumMosquitos                                                          4  \n",
        "WnvPresent                                                            0  \n",
        "main_trap                                                          T015  \n",
        "year                                                               2007  \n",
        "month                                                                05  \n",
        "WNV_T1                                                                0  "
       ]
      }
     ],
     "prompt_number": 18
    },
    {
     "cell_type": "code",
     "collapsed": false,
     "input": [
      "train2.isnull().sum()"
     ],
     "language": "python",
     "metadata": {},
     "outputs": [
      {
       "metadata": {},
       "output_type": "pyout",
       "prompt_number": 21,
       "text": [
        "Date                      0\n",
        "Address                   0\n",
        "Species                   0\n",
        "Block                     0\n",
        "Street                    0\n",
        "Trap                      0\n",
        "AddressNumberAndStreet    0\n",
        "Latitude                  0\n",
        "Longitude                 0\n",
        "AddressAccuracy           0\n",
        "NumMosquitos              0\n",
        "WnvPresent                0\n",
        "main_trap                 0\n",
        "year                      0\n",
        "month                     0\n",
        "WNV_T1                    0\n",
        "dtype: int64"
       ]
      }
     ],
     "prompt_number": 21
    },
    {
     "cell_type": "code",
     "collapsed": false,
     "input": [
      "# Add record count features for both train and test\n",
      "\n",
      "train3 = train2.copy()\n",
      "train3 = train3.merge(train_rec.drop(['dt'],axis=1), \n",
      "                      left_on=['Date','Trap','Species'], \n",
      "                      right_on=['Date','Trap','Species'], how='left')\n",
      "\n",
      "test3  = test.copy()\n",
      "test3  = test3.merge(test_rec.drop(['dt'],axis=1), \n",
      "                     left_on=['Date','Trap','Species'], \n",
      "                     right_on=['Date','Trap','Species'], how='left')"
     ],
     "language": "python",
     "metadata": {},
     "outputs": [],
     "prompt_number": 22
    },
    {
     "cell_type": "code",
     "collapsed": false,
     "input": [
      "len(train2),len(train3),len(test),len(test3)"
     ],
     "language": "python",
     "metadata": {},
     "outputs": [
      {
       "metadata": {},
       "output_type": "pyout",
       "prompt_number": 23,
       "text": [
        "(10506, 10506, 116293, 116293)"
       ]
      }
     ],
     "prompt_number": 23
    },
    {
     "cell_type": "code",
     "collapsed": false,
     "input": [
      "# Add 'st_closer' variable to train and test\n",
      "\n",
      "train3['st_closer'] = dist_train['st_closer']\n",
      "test3['st_closer'] = dist_test['st_closer']"
     ],
     "language": "python",
     "metadata": {},
     "outputs": [],
     "prompt_number": 24
    },
    {
     "cell_type": "code",
     "collapsed": false,
     "input": [
      "# Merge on weather feature set\n",
      "\n",
      "weather = pd.concat([st1,st2])\n",
      "\n",
      "train4 = train3.copy()\n",
      "train4 = train4.merge(weather.drop(['dt'],axis=1), \n",
      "                      left_on=['Date','st_closer'], \n",
      "                      right_on=['Date','Station'], how='left')\n",
      "\n",
      "test4  = test3.copy()\n",
      "test4  = test4.merge(weather.drop(['dt'],axis=1), \n",
      "                     left_on=['Date','st_closer'], \n",
      "                     right_on=['Date','Station'], how='left')"
     ],
     "language": "python",
     "metadata": {},
     "outputs": [],
     "prompt_number": 25
    },
    {
     "cell_type": "code",
     "collapsed": false,
     "input": [
      "print len(test), len(test3), len(dist_test), len(test4)\n",
      "print len(train), len(train2), len(train3), len(dist_train), len(train4)"
     ],
     "language": "python",
     "metadata": {},
     "outputs": [
      {
       "output_type": "stream",
       "stream": "stdout",
       "text": [
        "116293 116293 116293 116293\n",
        "10506 10506 10506 10506 10506\n"
       ]
      }
     ],
     "prompt_number": 26
    },
    {
     "cell_type": "code",
     "collapsed": false,
     "input": [
      "train4.isnull().mean().hist(bins=30)"
     ],
     "language": "python",
     "metadata": {},
     "outputs": [
      {
       "metadata": {},
       "output_type": "pyout",
       "prompt_number": 27,
       "text": [
        "<matplotlib.axes._subplots.AxesSubplot at 0x110db5410>"
       ]
      },
      {
       "metadata": {},
       "output_type": "display_data",
       "png": "[encoded data removed]",
       "text": [
        "<matplotlib.figure.Figure at 0x10eff8210>"
       ]
      }
     ],
     "prompt_number": 27
    },
    {
     "cell_type": "code",
     "collapsed": false,
     "input": [
      "# A simple function (still adraft version) to look for differences in the data frames\n",
      "fk.df_comp(train4,test4)"
     ],
     "language": "python",
     "metadata": {},
     "outputs": [
      {
       "output_type": "stream",
       "stream": "stdout",
       "text": [
        "-------------------------------------------------------------------\n",
        "\n",
        "VARIABLE OVERLAP COMPARISON\n",
        "\n",
        "# Columns in df1 only   : 3\n",
        "\n",
        "       Variable\n",
        "0  NumMosquitos\n",
        "1        WNV_T1\n",
        "2    WnvPresent\n",
        "\n",
        "# Columns in df2 only   : 1\n",
        "\n",
        "  Variable\n",
        "0       Id\n",
        "\n",
        "# Columns in both       : 264\n",
        "\n",
        "                   Variable\n",
        "0                   Address\n",
        "1           AddressAccuracy\n",
        "2    AddressNumberAndStreet\n",
        "3                  AvgSpeed\n",
        "4           AvgSpeed_14_max\n",
        "5          AvgSpeed_14_mean\n",
        "6           AvgSpeed_14_min\n",
        "7         AvgSpeed_14_slope\n",
        "8           AvgSpeed_30_max\n",
        "9          AvgSpeed_30_mean\n",
        "10          AvgSpeed_30_min\n",
        "11        AvgSpeed_30_slope\n",
        "12           AvgSpeed_3_max\n",
        "13          AvgSpeed_3_mean\n",
        "14           AvgSpeed_3_min\n",
        "15         AvgSpeed_3_slope\n",
        "16           AvgSpeed_7_max\n",
        "17          AvgSpeed_7_mean\n",
        "18           AvgSpeed_7_min\n",
        "19         AvgSpeed_7_slope\n",
        "20                    Block\n",
        "21                  CodeSum\n",
        "22                     Cool\n",
        "23              Cool_14_max\n",
        "24             Cool_14_mean\n",
        "25              Cool_14_min\n",
        "26            Cool_14_slope\n",
        "27              Cool_30_max\n",
        "28             Cool_30_mean\n",
        "29              Cool_30_min\n",
        "..                      ...\n",
        "234         WetBulb_3_slope\n",
        "235           WetBulb_7_max\n",
        "236          WetBulb_7_mean\n",
        "237           WetBulb_7_min\n",
        "238         WetBulb_7_slope\n",
        "239               main_trap\n",
        "240                   month\n",
        "241                 rec_cnt\n",
        "242            rec_cnt_14_2\n",
        "243          rec_cnt_14_max\n",
        "244          rec_cnt_14_min\n",
        "245          rec_cnt_14_sum\n",
        "246            rec_cnt_30_2\n",
        "247          rec_cnt_30_max\n",
        "248          rec_cnt_30_min\n",
        "249          rec_cnt_30_sum\n",
        "250             rec_cnt_3_2\n",
        "251           rec_cnt_3_max\n",
        "252           rec_cnt_3_min\n",
        "253           rec_cnt_3_sum\n",
        "254            rec_cnt_60_2\n",
        "255          rec_cnt_60_max\n",
        "256          rec_cnt_60_min\n",
        "257          rec_cnt_60_sum\n",
        "258             rec_cnt_7_2\n",
        "259           rec_cnt_7_max\n",
        "260           rec_cnt_7_min\n",
        "261           rec_cnt_7_sum\n",
        "262               st_closer\n",
        "263                    year\n",
        "\n",
        "[264 rows x 1 columns]\n",
        "\n",
        "-------------------------------------------------------------------\n",
        "\n",
        "VARIABLE DATA TYPE COMPARISON (for common variables)\n",
        "\n",
        "16  Common variables have different data types\n",
        "\n",
        "Variables with different types:\n",
        "\n",
        "               df1_type df2_type\n",
        "rec_cnt_7_sum   float64    int64\n",
        "rec_cnt_30_sum  float64    int64\n",
        "rec_cnt         float64    int64\n",
        "rec_cnt_30_max  float64    int64\n",
        "rec_cnt_3_min   float64    int64\n",
        "rec_cnt_60_min  float64    int64\n",
        "rec_cnt_7_max   float64    int64\n",
        "rec_cnt_60_max  float64    int64\n",
        "rec_cnt_60_sum  float64    int64\n",
        "rec_cnt_14_sum  float64    int64\n",
        "rec_cnt_3_sum   float64    int64\n",
        "rec_cnt_14_min  float64    int64\n",
        "rec_cnt_30_min  float64    int64\n",
        "rec_cnt_14_max  float64    int64\n",
        "rec_cnt_3_max   float64    int64\n",
        "rec_cnt_7_min   float64    int64\n",
        "\n",
        "-------------------------------------------------------------------"
       ]
      },
      {
       "output_type": "stream",
       "stream": "stdout",
       "text": [
        "\n",
        "\n",
        "CATEGORICAL VARIABLE COMPARISON STATS (top 25 vars)\n",
        "\n",
        "                  variable         chisq_pval\n",
        "0                    Depth                  0\n",
        "1                 SnowFall                  0\n",
        "2                    month   NA - diff values\n",
        "3                  CodeSum   NA - diff values\n",
        "4                   Street   NA - diff values\n",
        "5                   Depart   NA - diff values\n",
        "6                   Sunset   NA - diff values\n",
        "7                     Date   NA - diff values\n",
        "8                     Tavg   NA - diff values\n",
        "9                     Cool   NA - diff values\n",
        "10                    Heat   NA - diff values\n",
        "11                AvgSpeed   NA - diff values\n",
        "12                 Sunrise   NA - diff values\n",
        "13                 Species   NA - diff values\n",
        "14                SeaLevel   NA - diff values\n",
        "15  AddressNumberAndStreet   NA - diff values\n",
        "16               main_trap   NA - diff values\n",
        "17             StnPressure   NA - diff values\n",
        "18             PrecipTotal   NA - diff values\n",
        "19                 WetBulb   NA - diff values\n",
        "20                 Address   NA - diff values\n",
        "21                    year   NA - diff values\n",
        "22                    Trap   NA - diff values\n",
        "23                  Water1  NA - only 1 value\n",
        "-------------------------------------------------------------------"
       ]
      },
      {
       "output_type": "stream",
       "stream": "stdout",
       "text": [
        "\n",
        "\n",
        "NUMERICAL VARIABLE COMPARISON STATS (top 25 vars)\n",
        "\n",
        "               variable  ks_pval\n",
        "0   PrecipTotal_30_mean      0.0\n",
        "1           Tmax_30_min      0.0\n",
        "2           Cool_14_min      0.0\n",
        "3    ResultSpeed_14_max      0.0\n",
        "4       ResultDir_3_max      0.0\n",
        "5      ResultDir_7_mean      0.0\n",
        "6       SeaLevel_30_max      0.0\n",
        "7   ResultSpeed_14_mean      0.0\n",
        "8           Tmax_14_min      0.0\n",
        "9   StnPressure_14_mean      0.0\n",
        "10      AvgSpeed_30_min      0.0\n",
        "11      DewPoint_30_max      0.0\n",
        "12       WetBulb_30_max      0.0\n",
        "13     SeaLevel_14_mean      0.0\n",
        "14     ResultDir_30_min      0.0\n",
        "15   StnPressure_14_max      0.0\n",
        "16          Cool_30_min      0.0\n",
        "17          Tavg_30_min      0.0\n",
        "18      SeaLevel_14_max      0.0\n",
        "19          Tavg_14_min      0.0\n",
        "20          Tmin_14_max      0.0\n",
        "21      AvgSpeed_30_max      0.0\n",
        "22    ResultDir_30_mean      0.0\n",
        "23   PrecipTotal_30_max      0.0\n",
        "24     AvgSpeed_30_mean      0.0\n"
       ]
      },
      {
       "metadata": {},
       "output_type": "pyout",
       "prompt_number": 28,
       "text": [
        "(                  variable  missing_df1  missing_df2  pct_mode_df1  \\\n",
        " 0                    month          0.0          0.0      0.357034   \n",
        " 1                  Address          0.0          0.0      0.071388   \n",
        " 2                  WetBulb          0.0          0.0      0.088616   \n",
        " 3              PrecipTotal          0.0          0.0      0.560632   \n",
        " 4              StnPressure          0.0          0.0      0.123453   \n",
        " 5                main_trap          0.0          0.0      0.071388   \n",
        " 6   AddressNumberAndStreet          0.0          0.0      0.071388   \n",
        " 7                 SeaLevel          0.0          0.0      0.086522   \n",
        " 8                  Species          0.0          0.0      0.452313   \n",
        " 9                  Sunrise          0.0          0.0      0.784790   \n",
        " 10                    year          0.0          0.0      0.362745   \n",
        " 11                AvgSpeed          0.0          0.0      0.054160   \n",
        " 12                    Heat          0.0          0.0      0.855987   \n",
        " 13                    Cool          0.0          0.0      0.170855   \n",
        " 14                   Depth          0.0          0.0      0.784790   \n",
        " 15                    Tavg          0.0          0.0      0.106415   \n",
        " 16                    Date          0.0          0.0      0.052446   \n",
        " 17                  Sunset          0.0          0.0      0.784790   \n",
        " 18                  Depart          0.0          0.0      0.784790   \n",
        " 19                  Water1          0.0          0.0      1.000000   \n",
        " 20                  Street          0.0          0.0      0.071388   \n",
        " 21                 CodeSum          0.0          0.0      0.571673   \n",
        " 22                SnowFall          0.0          0.0      0.784790   \n",
        " 23                    Trap          0.0          0.0      0.071388   \n",
        " \n",
        "     pct_mode_df2         chisq_pval  \n",
        " 0       0.306682   NA - diff values  \n",
        " 1       0.012623   NA - diff values  \n",
        " 2       0.081028   NA - diff values  \n",
        " 3       0.569441   NA - diff values  \n",
        " 4       0.093032   NA - diff values  \n",
        " 5       0.026235   NA - diff values  \n",
        " 6       0.012623   NA - diff values  \n",
        " 7       0.050519   NA - diff values  \n",
        " 8       0.132072   NA - diff values  \n",
        " 9       0.834229   NA - diff values  \n",
        " 10      0.314353   NA - diff values  \n",
        " 11      0.055936   NA - diff values  \n",
        " 12      0.877852   NA - diff values  \n",
        " 13      0.125880   NA - diff values  \n",
        " 14      0.834229                  0  \n",
        " 15      0.075671   NA - diff values  \n",
        " 16      0.011118   NA - diff values  \n",
        " 17      0.834229   NA - diff values  \n",
        " 18      0.834229   NA - diff values  \n",
        " 19      1.000000  NA - only 1 value  \n",
        " 20      0.013905   NA - diff values  \n",
        " 21      0.583758   NA - diff values  \n",
        " 22      0.834229                  0  \n",
        " 23      0.013139   NA - diff values  ,\n",
        "                 variable  missing_df1  missing_df2  zero_df1  zero_df2  \\\n",
        " 0    ResultSpeed_7_slope     0.000000     0.000000  0.004188  0.000000   \n",
        " 1        AvgSpeed_14_min     0.004854     0.000000  0.000000  0.000000   \n",
        " 2         WetBulb_7_mean     0.000000     0.000000  0.000000  0.000000   \n",
        " 3      ResultSpeed_7_max     0.000000     0.000000  0.000000  0.000000   \n",
        " 4       SeaLevel_3_slope     0.000000     0.000000  0.034742  0.010671   \n",
        " 5       SeaLevel_30_mean     0.000000     0.000000  0.000000  0.000000   \n",
        " 6         AvgSpeed_7_min     0.000000     0.000000  0.000000  0.000000   \n",
        " 7       AvgSpeed_14_mean     0.000000     0.000000  0.000000  0.000000   \n",
        " 8           rec_cnt_14_2     0.000000     0.000000  0.024272  0.040381   \n",
        " 9                Station     0.000000     0.000000  0.000000  0.000000   \n",
        " 10            Tmax_3_max     0.000000     0.000000  0.000000  0.000000   \n",
        " 11    ResultSpeed_30_max     0.000000     0.000000  0.000000  0.000000   \n",
        " 12    ResultSpeed_30_min     0.000000     0.000000  0.000000  0.000000   \n",
        " 13      WetBulb_14_slope     0.000000     0.000000  0.000000  0.000000   \n",
        " 14       AvgSpeed_3_mean     0.000000     0.000000  0.000000  0.000000   \n",
        " 15           Tmin_7_mean     0.000000     0.000000  0.000000  0.000000   \n",
        " 16           Heat_30_min     0.000000     0.008754  1.000000  0.991246   \n",
        " 17           Heat_3_mean     0.000000     0.000000  0.804588  0.813420   \n",
        " 18                  Tmin     0.000000     0.000000  0.000000  0.000000   \n",
        " 19      AvgSpeed_7_slope     0.000000     0.000000  0.005330  0.000000   \n",
        " 20        SeaLevel_7_max     0.000000     0.000000  0.000000  0.000000   \n",
        " 21           Heat_30_max     0.000000     0.008754  0.350562  0.529636   \n",
        " 22     ResultSpeed_7_min     0.000000     0.000000  0.000000  0.000000   \n",
        " 23          Cool_14_mean     0.000000     0.000000  0.007044  0.000000   \n",
        " 24       SeaLevel_30_min     0.003903     0.017636  0.000000  0.000000   \n",
        " 25        AvgSpeed_3_min     0.008567     0.008754  0.000000  0.000000   \n",
        " 26          Heat_14_mean     0.000000     0.000000  0.521987  0.667005   \n",
        " 27        WetBulb_14_min     0.000000     0.000000  0.000000  0.000000   \n",
        " 28     ResultSpeed_3_max     0.000000     0.000000  0.000000  0.000000   \n",
        " 29       SeaLevel_30_max     0.003903     0.017636  0.000000  0.000000   \n",
        " ..                   ...          ...          ...       ...       ...   \n",
        " 194                 Tmax     0.000000     0.000000  0.000000  0.000000   \n",
        " 195            ResultDir     0.000000     0.000000  0.000000  0.000000   \n",
        " 196       DewPoint_7_min     0.000000     0.000000  0.000000  0.000000   \n",
        " 197    AvgSpeed_30_slope     0.000000     0.000000  0.000000  0.000000   \n",
        " 198    PrecipTotal_3_max     0.076147     0.056005  0.378546  0.302288   \n",
        " 199           Tmax_7_min     0.000000     0.000000  0.000000  0.000000   \n",
        " 200     DewPoint_7_slope     0.000000     0.000000  0.019513  0.001694   \n",
        " 201          rec_cnt_7_2     0.000000     0.000000  0.375880  0.421702   \n",
        " 202  PrecipTotal_14_mean     0.000000     0.000000  0.015896  0.028050   \n",
        " 203     ResultDir_14_min     0.000000     0.000000  0.000000  0.000000   \n",
        " 204        Tmin_14_slope     0.000000     0.000000  0.000000  0.000000   \n",
        " 205         Cool_7_slope     0.000000     0.000000  0.031125  0.043494   \n",
        " 206       SeaLevel_3_max     0.008567     0.008754  0.000000  0.000000   \n",
        " 207           Tmin_3_max     0.000000     0.000000  0.000000  0.000000   \n",
        " 208           Cool_3_max     0.006948     0.017602  0.074338  0.047079   \n",
        " 209      AvgSpeed_30_max     0.000000     0.008754  0.000000  0.000000   \n",
        " 210    ResultDir_14_mean     0.000000     0.000000  0.000000  0.000000   \n",
        " 211    ResultDir_7_slope     0.000000     0.000000  0.000000  0.010388   \n",
        " 212       WetBulb_14_max     0.000000     0.000000  0.000000  0.000000   \n",
        " 213     DewPoint_14_mean     0.000000     0.000000  0.000000  0.000000   \n",
        " 214   ResultSpeed_7_mean     0.000000     0.000000  0.000000  0.000000   \n",
        " 215      AvgSpeed_7_mean     0.000000     0.000000  0.000000  0.000000   \n",
        " 216       SeaLevel_3_min     0.008567     0.008754  0.000000  0.000000   \n",
        " 217           Cool_7_max     0.000000     0.008737  0.027032  0.022650   \n",
        " 218    ResultDir_3_slope     0.000000     0.000000  0.021607  0.001763   \n",
        " 219    ResultSpeed_3_min     0.000000     0.000000  0.000000  0.000000   \n",
        " 220       DewPoint_7_max     0.000000     0.000000  0.000000  0.000000   \n",
        " 221     AvgSpeed_30_mean     0.000000     0.000000  0.000000  0.000000   \n",
        " 222      ResultDir_3_max     0.000000     0.000000  0.000000  0.000000   \n",
        " 223  PrecipTotal_30_mean     0.000000     0.000000  0.000000  0.000000   \n",
        " \n",
        "       mean_df1   mean_df2    min_df1    min_df2    max_df1     max_df2  \\\n",
        " 0    -0.113420  -0.021119  -6.285714  -7.128571   8.571429    7.485714   \n",
        " 1     4.178307   4.441601   2.000000   1.900000   6.800000    7.200000   \n",
        " 2    64.343554  64.561133  51.285714  49.857143  74.428571   72.571429   \n",
        " 3    10.126290  10.572482   5.900000   5.500000  20.300000   21.100000   \n",
        " 4     0.127230   0.142015  -0.133333  -0.083333  15.165000   14.990000   \n",
        " 5    29.959107  29.944726  29.840667  29.864000  30.128621   30.094333   \n",
        " 6     4.796497   5.199694   2.000000   1.900000   7.200000    9.300000   \n",
        " 7     7.763284   8.185629   4.978571   5.715385  10.285714   11.471429   \n",
        " 8     0.975728   0.959619   0.000000   0.000000   1.000000    1.000000   \n",
        " 9     1.784790   1.834229   1.000000   1.000000   2.000000    2.000000   \n",
        " 10   85.726537  85.886150  59.000000  68.000000  97.000000  101.000000   \n",
        " 11   12.984809  13.716010   7.800000   8.500000  22.700000   21.100000   \n",
        " 12    1.243185   1.309867   0.100000   0.300000   3.100000    3.300000   \n",
        " 13    1.004145  -0.871006 -30.333333 -21.857143  60.750000   19.178571   \n",
        " 14    7.575760   8.246087   3.300000   3.933333  11.900000   13.566667   \n",
        " 15   63.809755  64.294252  46.142857  45.571429  74.857143   76.428571   \n",
        " 16    0.000000   0.000000   0.000000   0.000000   0.000000    0.000000   \n",
        " 17    0.674424   0.391955   0.000000   0.000000  13.000000    7.000000   \n",
        " 18   64.165334  63.211715  41.000000  48.000000  79.000000   75.000000   \n",
        " 19   -0.200233   0.036942  -6.485714  -6.600000   7.385714    7.171429   \n",
        " 20   30.091502  30.079497  29.800000  29.910000  30.330000   30.330000   \n",
        " 21    4.800971   3.598144   0.000000   0.000000  21.000000   23.000000   \n",
        " 22    2.325662   2.646393   0.100000   0.300000   5.300000    8.400000   \n",
        " 23    8.187541   9.163284   0.000000   0.142857  18.384615   18.500000   \n",
        " 24   29.710182  29.708625  29.510000  29.600000  29.890000   29.840000   \n",
        " 25    5.812798   6.303150   2.000000   1.900000  10.800000   10.000000   \n",
        " 26    0.650782   0.394414   0.000000   0.000000   6.571429    6.642857   \n",
        " 27   56.586332  57.700988  42.000000  43.000000  68.000000   67.000000   \n",
        " 28    8.156444   8.886951   2.100000   3.500000  15.400000   16.600000   \n",
        " 29   30.189616  30.165177  30.020000  30.040000  30.360000   30.340000   \n",
        " ..         ...        ...        ...        ...        ...         ...   \n",
        " 194  81.947649  81.336375  57.000000  56.000000  97.000000   95.000000   \n",
        " 195  17.720160  18.360004   1.000000   1.000000  36.000000   36.000000   \n",
        " 196  51.638587  52.156192  33.000000  33.000000  67.000000   64.000000   \n",
        " 197  -1.465380  -1.216341 -14.315000 -17.363333  12.775000   15.361667   \n",
        " 198   0.351268   0.429686   0.000000   0.000000   6.860000    6.640000   \n",
        " 199  72.995526  74.988701  57.000000  55.000000  87.000000   87.000000   \n",
        " 200   0.382965  -0.833960 -18.000000 -14.428571  14.571429   17.285714   \n",
        " 201   0.624120   0.578298   0.000000   0.000000   1.000000    1.000000   \n",
        " 202   0.136297   0.180286   0.000000   0.000000   0.826923    1.050833   \n",
        " 203   2.485532   3.314335   1.000000   1.000000  11.000000   17.000000   \n",
        " 204   0.475582  -0.937504 -28.035714 -27.321429  28.785714   19.535714   \n",
        " 205   0.808298  -1.002797 -11.428571 -10.571429  10.428571    9.833333   \n",
        " 206  30.019654  30.021498  29.750000  29.810000  30.330000   30.330000   \n",
        " 207  66.970208  67.216238  44.000000  51.000000  79.000000   80.000000   \n",
        " 208  11.534075  11.354524   0.000000   0.000000  23.000000   25.000000   \n",
        " 209  13.902836  14.426235  10.200000   9.400000  23.100000   21.500000   \n",
        " 210  15.889335  18.469993   6.428571  10.571429  25.500000   26.571429   \n",
        " 211   0.554037  -0.973172 -18.428571 -18.285714  19.285714   22.714286   \n",
        " 212  71.433467  71.295710  60.000000  59.000000  78.000000   77.000000   \n",
        " 213  58.754188  59.080471  45.214286  43.285714  68.928571   67.714286   \n",
        " 214   5.911622   6.303369   3.171429   3.300000   9.057143   11.185714   \n",
        " 215   7.667292   8.113669   5.214286   5.250000  10.814286   12.600000   \n",
        " 216  29.894869  29.887214  29.510000  29.600000  30.160000   30.250000   \n",
        " 217  13.327146  14.224303   0.000000   0.000000  27.000000   29.000000   \n",
        " 218   0.761057  -0.102422 -10.000000 -10.333333  10.000000   11.333333   \n",
        " 219   3.671740   3.802865   0.100000   0.400000   9.900000    8.700000   \n",
        " 220  65.922616  65.365310  53.000000  49.000000  74.000000   73.000000   \n",
        " 221   7.933731   8.331142   6.136667   6.640000  10.740000   10.666667   \n",
        " 222  23.348848  25.740517   5.000000   3.000000  36.000000   36.000000   \n",
        " 223   0.140057   0.179169   0.021429   0.005217   0.480714    0.486786   \n",
        " \n",
        "            ks_pval  \n",
        " 0     2.178000e-36  \n",
        " 1    2.934791e-292  \n",
        " 2     7.875547e-50  \n",
        " 3    1.992050e-146  \n",
        " 4    5.846657e-163  \n",
        " 5     0.000000e+00  \n",
        " 6    6.699261e-165  \n",
        " 7    1.383384e-322  \n",
        " 8     1.330011e-02  \n",
        " 9     6.220008e-21  \n",
        " 10    5.217685e-74  \n",
        " 11    0.000000e+00  \n",
        " 12   1.029003e-127  \n",
        " 13   2.827694e-188  \n",
        " 14   8.613342e-275  \n",
        " 15    6.603850e-43  \n",
        " 16    4.497561e-01  \n",
        " 17    8.846927e-26  \n",
        " 18   1.620888e-203  \n",
        " 19   6.399679e-181  \n",
        " 20   1.582609e-152  \n",
        " 21   1.791862e-269  \n",
        " 22   2.440236e-111  \n",
        " 23   9.377626e-216  \n",
        " 24   9.457350e-258  \n",
        " 25   1.544735e-190  \n",
        " 26   7.234013e-177  \n",
        " 27   3.484089e-108  \n",
        " 28   1.753922e-299  \n",
        " 29    0.000000e+00  \n",
        " ..             ...  \n",
        " 194  1.926671e-173  \n",
        " 195   4.880012e-70  \n",
        " 196  1.879347e-219  \n",
        " 197  4.131075e-109  \n",
        " 198   8.752098e-76  \n",
        " 199  7.210067e-228  \n",
        " 200  1.299019e-219  \n",
        " 201   4.844626e-18  \n",
        " 202  8.151578e-259  \n",
        " 203  5.419735e-240  \n",
        " 204   8.778285e-83  \n",
        " 205   0.000000e+00  \n",
        " 206   3.842240e-19  \n",
        " 207   1.750588e-36  \n",
        " 208   6.015321e-48  \n",
        " 209   0.000000e+00  \n",
        " 210   0.000000e+00  \n",
        " 211  1.312382e-121  \n",
        " 212  1.221357e-178  \n",
        " 213  8.055672e-131  \n",
        " 214  6.256058e-298  \n",
        " 215   0.000000e+00  \n",
        " 216   5.320196e-78  \n",
        " 217  2.535582e-134  \n",
        " 218  6.287285e-282  \n",
        " 219   9.938223e-56  \n",
        " 220   6.605248e-98  \n",
        " 221   0.000000e+00  \n",
        " 222   0.000000e+00  \n",
        " 223   0.000000e+00  \n",
        " \n",
        " [224 rows x 12 columns])"
       ]
      }
     ],
     "prompt_number": 28
    },
    {
     "cell_type": "code",
     "collapsed": false,
     "input": [
      "# There are no records from May in the test set\n",
      "print train4['month'].unique()\n",
      "print test4['month'].unique()\n",
      "\n",
      "# Treat May and June the same in the training data\n",
      "train4.loc[train4['month']=='05','month'] = '06'\n",
      "\n",
      "print train4['month'].unique()\n",
      "print test4['month'].unique()"
     ],
     "language": "python",
     "metadata": {},
     "outputs": [
      {
       "output_type": "stream",
       "stream": "stdout",
       "text": [
        "['05' '06' '07' '08' '09' '10']\n",
        "['06' '07' '08' '09' '10']\n",
        "['06' '07' '08' '09' '10']\n",
        "['06' '07' '08' '09' '10']\n"
       ]
      }
     ],
     "prompt_number": 29
    },
    {
     "cell_type": "heading",
     "level": 2,
     "metadata": {},
     "source": [
      "Add CDC Annual WNV Case Count Attribute"
     ]
    },
    {
     "cell_type": "code",
     "collapsed": false,
     "input": [
      "# The counts of WN are reported annually for the Chicago region online at the CDC\n",
      "cdc_map = {'2007':29,\n",
      "'2008':13,\n",
      "'2009':1,\n",
      "'2010':54,\n",
      "'2011':26,\n",
      "'2012':254,\n",
      "'2013':66,\n",
      "'2014':34}\n",
      "\n",
      "train4['cdc_cnt'] = train4['year'].apply(lambda x: cdc_map[x])\n",
      "test4['cdc_cnt'] = test4['year'].apply(lambda x: cdc_map[x])"
     ],
     "language": "python",
     "metadata": {},
     "outputs": [],
     "prompt_number": 30
    },
    {
     "cell_type": "markdown",
     "metadata": {},
     "source": [
      "###NOTE - per below, this variable is probably best treated as linear effect, and not simply a count input to the tree based modeling I plan to use.  Will add this to the list of potential topics to explore later if I have time."
     ]
    },
    {
     "cell_type": "code",
     "collapsed": false,
     "input": [
      "d = pd.concat([train4.groupby(['year'])['WNV_T1'].mean(),train4.groupby(['year'])['cdc_cnt'].mean()],axis=1)\n",
      "d.plot.scatter('cdc_cnt','WNV_T1')"
     ],
     "language": "python",
     "metadata": {},
     "outputs": [
      {
       "metadata": {},
       "output_type": "pyout",
       "prompt_number": 31,
       "text": [
        "<matplotlib.axes._subplots.AxesSubplot at 0x10fd0cd90>"
       ]
      },
      {
       "metadata": {},
       "output_type": "display_data",
       "png": "[encoded data removed]",
       "text": [
        "<matplotlib.figure.Figure at 0x10fd0c4d0>"
       ]
      }
     ],
     "prompt_number": 31
    },
    {
     "cell_type": "code",
     "collapsed": false,
     "input": [
      "p1 = np.polyfit(d['cdc_cnt'], d['WNV_T1'], 1, rcond=None, full=False, w=None, cov=False)\n",
      "p2 = np.polyfit(d['cdc_cnt'], d['WNV_T1'], 2, rcond=None, full=False, w=None, cov=False)\n",
      "p3 = np.polyfit(d['cdc_cnt'], d['WNV_T1'], 3, rcond=None, full=False, w=None, cov=False)\n",
      "p1, p2, p3"
     ],
     "language": "python",
     "metadata": {},
     "outputs": [
      {
       "metadata": {},
       "output_type": "pyout",
       "prompt_number": 32,
       "text": [
        "(array([ 0.00193222,  0.04268791]),\n",
        " array([ -5.46095284e-05,   5.74461607e-03,   6.60397180e-03]),\n",
        " array([ -4.07161174e-05,   3.79685131e-03,  -7.23100924e-02,\n",
        "          8.50057135e-02]))"
       ]
      }
     ],
     "prompt_number": 32
    },
    {
     "cell_type": "code",
     "collapsed": false,
     "input": [
      "x = pd.Series(range(0,300,1))\n",
      "x_p1 = p1[1] + x*p1[0]\n",
      "x_p2 = p2[2] + x*p2[1] + (x**2)*p2[0]\n",
      "x_p3 = p3[3] + x*p3[2] + (x**2)*p3[1] + (x**3)*p3[0]"
     ],
     "language": "python",
     "metadata": {},
     "outputs": [],
     "prompt_number": 33
    },
    {
     "cell_type": "code",
     "collapsed": false,
     "input": [
      "plt.scatter(d['cdc_cnt'],d['WNV_T1'])\n",
      "plt.plot(x_p1)\n",
      "#plt.plot(x_p2)\n",
      "#plt.plot(x_p3)"
     ],
     "language": "python",
     "metadata": {},
     "outputs": [
      {
       "metadata": {},
       "output_type": "pyout",
       "prompt_number": 34,
       "text": [
        "[<matplotlib.lines.Line2D at 0x1108a0fd0>]"
       ]
      },
      {
       "metadata": {},
       "output_type": "display_data",
       "png": "[encoded data removed]",
       "text": [
        "<matplotlib.figure.Figure at 0x1108a0350>"
       ]
      }
     ],
     "prompt_number": 34
    },
    {
     "cell_type": "heading",
     "level": 2,
     "metadata": {},
     "source": [
      "Add Geography Block Attributes"
     ]
    },
    {
     "cell_type": "code",
     "collapsed": false,
     "input": [
      "# Create features to allow use of local geographies in modeling\n",
      "# Less granular than individual Lat/Long coordinates\n",
      "\n",
      "bins1 = np.linspace(min(test4['Latitude']),max(test4['Latitude']), 10)\n",
      "test4['lat'] = np.digitize(test4['Latitude'], bins1)\n",
      "train4['lat'] = np.digitize(train4['Latitude'], bins1)\n",
      "\n",
      "bins2 = np.linspace(min(test4['Longitude']),max(test4['Longitude']), 10)\n",
      "test4['lng'] = np.digitize(test4['Longitude'], bins2)\n",
      "train4['lng'] = np.digitize(train4['Longitude'], bins2)"
     ],
     "language": "python",
     "metadata": {},
     "outputs": [],
     "prompt_number": 35
    },
    {
     "cell_type": "heading",
     "level": 2,
     "metadata": {},
     "source": [
      "Add Geo Block Record Count Features"
     ]
    },
    {
     "cell_type": "code",
     "collapsed": false,
     "input": [
      "# Format 'geo' variable to merge with geo level record count features\n",
      "#   created with \"WN-Record_Geo_Features.ipynb\"\n",
      "lat_test = test4['lat'].astype(str)\n",
      "lng_test = test4['lng'].astype(str)\n",
      "test4['geo'] = pd.DataFrame([lat_test,lng_test]).apply(lambda x: '-'.join(x))\n",
      "\n",
      "lat_train = train4['lat'].astype(str)\n",
      "lng_train = train4['lng'].astype(str)\n",
      "train4['geo'] = pd.DataFrame([lat_train,lng_train]).apply(lambda x: '-'.join(x))"
     ],
     "language": "python",
     "metadata": {},
     "outputs": [],
     "prompt_number": 36
    },
    {
     "cell_type": "code",
     "collapsed": false,
     "input": [
      "train_grec = fk.load_object('train_geos_cnt_final.pkl')\n",
      "test_grec = fk.load_object('test_geos_cnt_final.pkl')"
     ],
     "language": "python",
     "metadata": {},
     "outputs": [],
     "prompt_number": 37
    },
    {
     "cell_type": "code",
     "collapsed": false,
     "input": [
      "train5 = train4.copy()\n",
      "train5 = train4.merge(train_grec.drop(['dt'],axis=1), left_on=['Date','geo','Species'], right_on=['Date','geo','Species'], how='left')\n",
      "\n",
      "test5  = test4.copy()\n",
      "test5  = test4.merge(test_grec.drop(['dt'],axis=1), left_on=['Date','geo','Species'], right_on=['Date','geo','Species'], how='left')"
     ],
     "language": "python",
     "metadata": {},
     "outputs": [],
     "prompt_number": 38
    },
    {
     "cell_type": "heading",
     "level": 2,
     "metadata": {},
     "source": [
      "    Save Development Data"
     ]
    },
    {
     "cell_type": "code",
     "collapsed": false,
     "input": [
      "train5.to_csv('train5.csv')\n",
      "test5.to_csv('train5.csv')"
     ],
     "language": "python",
     "metadata": {},
     "outputs": [],
     "prompt_number": 32
    },
    {
     "cell_type": "heading",
     "level": 2,
     "metadata": {},
     "source": [
      "Pre-Process Modeling Data for scikit learn"
     ]
    },
    {
     "cell_type": "code",
     "collapsed": false,
     "input": [
      "from sklearn.model_selection import train_test_split"
     ],
     "language": "python",
     "metadata": {},
     "outputs": [],
     "prompt_number": 41
    },
    {
     "cell_type": "code",
     "collapsed": false,
     "input": [
      "list(train5.columns)"
     ],
     "language": "python",
     "metadata": {},
     "outputs": [
      {
       "metadata": {},
       "output_type": "pyout",
       "prompt_number": 42,
       "text": [
        "['Date',\n",
        " 'Address',\n",
        " 'Species',\n",
        " 'Block',\n",
        " 'Street',\n",
        " 'Trap',\n",
        " 'AddressNumberAndStreet',\n",
        " 'Latitude',\n",
        " 'Longitude',\n",
        " 'AddressAccuracy',\n",
        " 'NumMosquitos',\n",
        " 'WnvPresent',\n",
        " 'main_trap',\n",
        " 'year',\n",
        " 'month',\n",
        " 'WNV_T1',\n",
        " 'rec_cnt',\n",
        " 'rec_cnt_3_sum',\n",
        " 'rec_cnt_3_2',\n",
        " 'rec_cnt_3_max',\n",
        " 'rec_cnt_3_min',\n",
        " 'rec_cnt_7_sum',\n",
        " 'rec_cnt_7_2',\n",
        " 'rec_cnt_7_max',\n",
        " 'rec_cnt_7_min',\n",
        " 'rec_cnt_14_sum',\n",
        " 'rec_cnt_14_2',\n",
        " 'rec_cnt_14_max',\n",
        " 'rec_cnt_14_min',\n",
        " 'rec_cnt_30_sum',\n",
        " 'rec_cnt_30_2',\n",
        " 'rec_cnt_30_max',\n",
        " 'rec_cnt_30_min',\n",
        " 'rec_cnt_60_sum',\n",
        " 'rec_cnt_60_2',\n",
        " 'rec_cnt_60_max',\n",
        " 'rec_cnt_60_min',\n",
        " 'st_closer',\n",
        " 'Station',\n",
        " 'Tmax',\n",
        " 'Tmin',\n",
        " 'Tavg',\n",
        " 'Depart',\n",
        " 'DewPoint',\n",
        " 'WetBulb',\n",
        " 'Heat',\n",
        " 'Cool',\n",
        " 'Sunrise',\n",
        " 'Sunset',\n",
        " 'CodeSum',\n",
        " 'Depth',\n",
        " 'Water1',\n",
        " 'SnowFall',\n",
        " 'PrecipTotal',\n",
        " 'StnPressure',\n",
        " 'SeaLevel',\n",
        " 'ResultSpeed',\n",
        " 'ResultDir',\n",
        " 'AvgSpeed',\n",
        " u'Tmax_3_mean',\n",
        " u'Tmax_3_max',\n",
        " u'Tmax_3_min',\n",
        " u'Tmax_3_slope',\n",
        " u'Tmin_3_mean',\n",
        " u'Tmin_3_max',\n",
        " u'Tmin_3_min',\n",
        " u'Tmin_3_slope',\n",
        " u'Tavg_3_mean',\n",
        " u'Tavg_3_max',\n",
        " u'Tavg_3_min',\n",
        " u'Tavg_3_slope',\n",
        " u'DewPoint_3_mean',\n",
        " u'DewPoint_3_max',\n",
        " u'DewPoint_3_min',\n",
        " u'DewPoint_3_slope',\n",
        " u'WetBulb_3_mean',\n",
        " u'WetBulb_3_max',\n",
        " u'WetBulb_3_min',\n",
        " u'WetBulb_3_slope',\n",
        " u'Heat_3_mean',\n",
        " u'Heat_3_max',\n",
        " u'Heat_3_min',\n",
        " u'Heat_3_slope',\n",
        " u'Cool_3_mean',\n",
        " u'Cool_3_max',\n",
        " u'Cool_3_min',\n",
        " u'Cool_3_slope',\n",
        " u'PrecipTotal_3_mean',\n",
        " u'PrecipTotal_3_max',\n",
        " u'PrecipTotal_3_min',\n",
        " u'PrecipTotal_3_slope',\n",
        " u'StnPressure_3_mean',\n",
        " u'StnPressure_3_max',\n",
        " u'StnPressure_3_min',\n",
        " u'StnPressure_3_slope',\n",
        " u'SeaLevel_3_mean',\n",
        " u'SeaLevel_3_max',\n",
        " u'SeaLevel_3_min',\n",
        " u'SeaLevel_3_slope',\n",
        " u'ResultSpeed_3_mean',\n",
        " u'ResultSpeed_3_max',\n",
        " u'ResultSpeed_3_min',\n",
        " u'ResultSpeed_3_slope',\n",
        " u'ResultDir_3_mean',\n",
        " u'ResultDir_3_max',\n",
        " u'ResultDir_3_min',\n",
        " u'ResultDir_3_slope',\n",
        " u'AvgSpeed_3_mean',\n",
        " u'AvgSpeed_3_max',\n",
        " u'AvgSpeed_3_min',\n",
        " u'AvgSpeed_3_slope',\n",
        " u'Tmax_7_mean',\n",
        " u'Tmax_7_max',\n",
        " u'Tmax_7_min',\n",
        " u'Tmax_7_slope',\n",
        " u'Tmin_7_mean',\n",
        " u'Tmin_7_max',\n",
        " u'Tmin_7_min',\n",
        " u'Tmin_7_slope',\n",
        " u'Tavg_7_mean',\n",
        " u'Tavg_7_max',\n",
        " u'Tavg_7_min',\n",
        " u'Tavg_7_slope',\n",
        " u'DewPoint_7_mean',\n",
        " u'DewPoint_7_max',\n",
        " u'DewPoint_7_min',\n",
        " u'DewPoint_7_slope',\n",
        " u'WetBulb_7_mean',\n",
        " u'WetBulb_7_max',\n",
        " u'WetBulb_7_min',\n",
        " u'WetBulb_7_slope',\n",
        " u'Heat_7_mean',\n",
        " u'Heat_7_max',\n",
        " u'Heat_7_min',\n",
        " u'Heat_7_slope',\n",
        " u'Cool_7_mean',\n",
        " u'Cool_7_max',\n",
        " u'Cool_7_min',\n",
        " u'Cool_7_slope',\n",
        " u'PrecipTotal_7_mean',\n",
        " u'PrecipTotal_7_max',\n",
        " u'PrecipTotal_7_min',\n",
        " u'PrecipTotal_7_slope',\n",
        " u'StnPressure_7_mean',\n",
        " u'StnPressure_7_max',\n",
        " u'StnPressure_7_min',\n",
        " u'StnPressure_7_slope',\n",
        " u'SeaLevel_7_mean',\n",
        " u'SeaLevel_7_max',\n",
        " u'SeaLevel_7_min',\n",
        " u'SeaLevel_7_slope',\n",
        " u'ResultSpeed_7_mean',\n",
        " u'ResultSpeed_7_max',\n",
        " u'ResultSpeed_7_min',\n",
        " u'ResultSpeed_7_slope',\n",
        " u'ResultDir_7_mean',\n",
        " u'ResultDir_7_max',\n",
        " u'ResultDir_7_min',\n",
        " u'ResultDir_7_slope',\n",
        " u'AvgSpeed_7_mean',\n",
        " u'AvgSpeed_7_max',\n",
        " u'AvgSpeed_7_min',\n",
        " u'AvgSpeed_7_slope',\n",
        " u'Tmax_14_mean',\n",
        " u'Tmax_14_max',\n",
        " u'Tmax_14_min',\n",
        " u'Tmax_14_slope',\n",
        " u'Tmin_14_mean',\n",
        " u'Tmin_14_max',\n",
        " u'Tmin_14_min',\n",
        " u'Tmin_14_slope',\n",
        " u'Tavg_14_mean',\n",
        " u'Tavg_14_max',\n",
        " u'Tavg_14_min',\n",
        " u'Tavg_14_slope',\n",
        " u'DewPoint_14_mean',\n",
        " u'DewPoint_14_max',\n",
        " u'DewPoint_14_min',\n",
        " u'DewPoint_14_slope',\n",
        " u'WetBulb_14_mean',\n",
        " u'WetBulb_14_max',\n",
        " u'WetBulb_14_min',\n",
        " u'WetBulb_14_slope',\n",
        " u'Heat_14_mean',\n",
        " u'Heat_14_max',\n",
        " u'Heat_14_min',\n",
        " u'Heat_14_slope',\n",
        " u'Cool_14_mean',\n",
        " u'Cool_14_max',\n",
        " u'Cool_14_min',\n",
        " u'Cool_14_slope',\n",
        " u'PrecipTotal_14_mean',\n",
        " u'PrecipTotal_14_max',\n",
        " u'PrecipTotal_14_min',\n",
        " u'PrecipTotal_14_slope',\n",
        " u'StnPressure_14_mean',\n",
        " u'StnPressure_14_max',\n",
        " u'StnPressure_14_min',\n",
        " u'StnPressure_14_slope',\n",
        " u'SeaLevel_14_mean',\n",
        " u'SeaLevel_14_max',\n",
        " u'SeaLevel_14_min',\n",
        " u'SeaLevel_14_slope',\n",
        " u'ResultSpeed_14_mean',\n",
        " u'ResultSpeed_14_max',\n",
        " u'ResultSpeed_14_min',\n",
        " u'ResultSpeed_14_slope',\n",
        " u'ResultDir_14_mean',\n",
        " u'ResultDir_14_max',\n",
        " u'ResultDir_14_min',\n",
        " u'ResultDir_14_slope',\n",
        " u'AvgSpeed_14_mean',\n",
        " u'AvgSpeed_14_max',\n",
        " u'AvgSpeed_14_min',\n",
        " u'AvgSpeed_14_slope',\n",
        " u'Tmax_30_mean',\n",
        " u'Tmax_30_max',\n",
        " u'Tmax_30_min',\n",
        " u'Tmax_30_slope',\n",
        " u'Tmin_30_mean',\n",
        " u'Tmin_30_max',\n",
        " u'Tmin_30_min',\n",
        " u'Tmin_30_slope',\n",
        " u'Tavg_30_mean',\n",
        " u'Tavg_30_max',\n",
        " u'Tavg_30_min',\n",
        " u'Tavg_30_slope',\n",
        " u'DewPoint_30_mean',\n",
        " u'DewPoint_30_max',\n",
        " u'DewPoint_30_min',\n",
        " u'DewPoint_30_slope',\n",
        " u'WetBulb_30_mean',\n",
        " u'WetBulb_30_max',\n",
        " u'WetBulb_30_min',\n",
        " u'WetBulb_30_slope',\n",
        " u'Heat_30_mean',\n",
        " u'Heat_30_max',\n",
        " u'Heat_30_min',\n",
        " u'Heat_30_slope',\n",
        " u'Cool_30_mean',\n",
        " u'Cool_30_max',\n",
        " u'Cool_30_min',\n",
        " u'Cool_30_slope',\n",
        " u'PrecipTotal_30_mean',\n",
        " u'PrecipTotal_30_max',\n",
        " u'PrecipTotal_30_min',\n",
        " u'PrecipTotal_30_slope',\n",
        " u'StnPressure_30_mean',\n",
        " u'StnPressure_30_max',\n",
        " u'StnPressure_30_min',\n",
        " u'StnPressure_30_slope',\n",
        " u'SeaLevel_30_mean',\n",
        " u'SeaLevel_30_max',\n",
        " u'SeaLevel_30_min',\n",
        " u'SeaLevel_30_slope',\n",
        " u'ResultSpeed_30_mean',\n",
        " u'ResultSpeed_30_max',\n",
        " u'ResultSpeed_30_min',\n",
        " u'ResultSpeed_30_slope',\n",
        " u'ResultDir_30_mean',\n",
        " u'ResultDir_30_max',\n",
        " u'ResultDir_30_min',\n",
        " u'ResultDir_30_slope',\n",
        " u'AvgSpeed_30_mean',\n",
        " u'AvgSpeed_30_max',\n",
        " u'AvgSpeed_30_min',\n",
        " u'AvgSpeed_30_slope',\n",
        " 'cdc_cnt',\n",
        " 'lat',\n",
        " 'lng',\n",
        " 'geo',\n",
        " 'grec_cnt',\n",
        " 'grec_cnt_3_sum',\n",
        " 'grec_cnt_3_2',\n",
        " 'grec_cnt_3_max',\n",
        " 'grec_cnt_3_min',\n",
        " 'grec_cnt_7_sum',\n",
        " 'grec_cnt_7_2',\n",
        " 'grec_cnt_7_max',\n",
        " 'grec_cnt_7_min',\n",
        " 'grec_cnt_14_sum',\n",
        " 'grec_cnt_14_2',\n",
        " 'grec_cnt_14_max',\n",
        " 'grec_cnt_14_min',\n",
        " 'grec_cnt_30_sum',\n",
        " 'grec_cnt_30_2',\n",
        " 'grec_cnt_30_max',\n",
        " 'grec_cnt_30_min',\n",
        " 'grec_cnt_60_sum',\n",
        " 'grec_cnt_60_2',\n",
        " 'grec_cnt_60_max',\n",
        " 'grec_cnt_60_min']"
       ]
      }
     ],
     "prompt_number": 42
    },
    {
     "cell_type": "code",
     "collapsed": false,
     "input": [
      "# Assign list of candidate variable names\n",
      "\n",
      "model_vars = [#'Date',\n",
      " #'Address',\n",
      " 'Species',\n",
      " #'Block',\n",
      " #'Street',\n",
      " #'Trap',\n",
      " #'AddressNumberAndStreet',\n",
      " #'Latitude',\n",
      " #'Longitude',\n",
      " #'AddressAccuracy',\n",
      " #'NumMosquitos',\n",
      " #'WnvPresent',\n",
      " #'main_trap',\n",
      " #'year',\n",
      " 'month',\n",
      " #'WNV_T1',\n",
      " 'rec_cnt',\n",
      " 'rec_cnt_3_sum',\n",
      " 'rec_cnt_3_2',\n",
      " 'rec_cnt_3_max',\n",
      " 'rec_cnt_3_min',\n",
      " 'rec_cnt_7_sum',\n",
      " 'rec_cnt_7_2',\n",
      " 'rec_cnt_7_max',\n",
      " 'rec_cnt_7_min',\n",
      " 'rec_cnt_14_sum',\n",
      " 'rec_cnt_14_2',\n",
      " 'rec_cnt_14_max',\n",
      " 'rec_cnt_14_min',\n",
      " 'rec_cnt_30_sum',\n",
      " 'rec_cnt_30_2',\n",
      " 'rec_cnt_30_max',\n",
      " 'rec_cnt_30_min',\n",
      " 'rec_cnt_60_sum',\n",
      " 'rec_cnt_60_2',\n",
      " 'rec_cnt_60_max',\n",
      " 'rec_cnt_60_min',\n",
      " #'st_closer',\n",
      " #'Station',\n",
      " 'Tmax',\n",
      " 'Tmin',\n",
      " 'Tavg',\n",
      " 'Depart',\n",
      " 'DewPoint',\n",
      " 'WetBulb',\n",
      " 'Heat',\n",
      " 'Cool',\n",
      " 'Sunrise',\n",
      " 'Sunset',\n",
      " 'CodeSum',\n",
      " 'Depth',\n",
      " 'Water1',\n",
      " 'SnowFall',\n",
      " 'PrecipTotal',\n",
      " 'StnPressure',\n",
      " 'SeaLevel',\n",
      " 'ResultSpeed',\n",
      " 'ResultDir',\n",
      " 'AvgSpeed',\n",
      " u'Tmax_3_mean',\n",
      " u'Tmax_3_max',\n",
      " u'Tmax_3_min',\n",
      " u'Tmax_3_slope',\n",
      " u'Tmin_3_mean',\n",
      " u'Tmin_3_max',\n",
      " u'Tmin_3_min',\n",
      " u'Tmin_3_slope',\n",
      " u'Tavg_3_mean',\n",
      " u'Tavg_3_max',\n",
      " u'Tavg_3_min',\n",
      " u'Tavg_3_slope',\n",
      " u'DewPoint_3_mean',\n",
      " u'DewPoint_3_max',\n",
      " u'DewPoint_3_min',\n",
      " u'DewPoint_3_slope',\n",
      " u'WetBulb_3_mean',\n",
      " u'WetBulb_3_max',\n",
      " u'WetBulb_3_min',\n",
      " u'WetBulb_3_slope',\n",
      " u'Heat_3_mean',\n",
      " u'Heat_3_max',\n",
      " u'Heat_3_min',\n",
      " u'Heat_3_slope',\n",
      " u'Cool_3_mean',\n",
      " u'Cool_3_max',\n",
      " u'Cool_3_min',\n",
      " u'Cool_3_slope',\n",
      " u'PrecipTotal_3_mean',\n",
      " u'PrecipTotal_3_max',\n",
      " u'PrecipTotal_3_min',\n",
      " u'PrecipTotal_3_slope',\n",
      " u'StnPressure_3_mean',\n",
      " u'StnPressure_3_max',\n",
      " u'StnPressure_3_min',\n",
      " u'StnPressure_3_slope',\n",
      " u'SeaLevel_3_mean',\n",
      " u'SeaLevel_3_max',\n",
      " u'SeaLevel_3_min',\n",
      " u'SeaLevel_3_slope',\n",
      " u'ResultSpeed_3_mean',\n",
      " u'ResultSpeed_3_max',\n",
      " u'ResultSpeed_3_min',\n",
      " u'ResultSpeed_3_slope',\n",
      " u'ResultDir_3_mean',\n",
      " u'ResultDir_3_max',\n",
      " u'ResultDir_3_min',\n",
      " u'ResultDir_3_slope',\n",
      " u'AvgSpeed_3_mean',\n",
      " u'AvgSpeed_3_max',\n",
      " u'AvgSpeed_3_min',\n",
      " u'AvgSpeed_3_slope',\n",
      " u'Tmax_7_mean',\n",
      " u'Tmax_7_max',\n",
      " u'Tmax_7_min',\n",
      " u'Tmax_7_slope',\n",
      " u'Tmin_7_mean',\n",
      " u'Tmin_7_max',\n",
      " u'Tmin_7_min',\n",
      " u'Tmin_7_slope',\n",
      " u'Tavg_7_mean',\n",
      " u'Tavg_7_max',\n",
      " u'Tavg_7_min',\n",
      " u'Tavg_7_slope',\n",
      " u'DewPoint_7_mean',\n",
      " u'DewPoint_7_max',\n",
      " u'DewPoint_7_min',\n",
      " u'DewPoint_7_slope',\n",
      " u'WetBulb_7_mean',\n",
      " u'WetBulb_7_max',\n",
      " u'WetBulb_7_min',\n",
      " u'WetBulb_7_slope',\n",
      " u'Heat_7_mean',\n",
      " u'Heat_7_max',\n",
      " u'Heat_7_min',\n",
      " u'Heat_7_slope',\n",
      " u'Cool_7_mean',\n",
      " u'Cool_7_max',\n",
      " u'Cool_7_min',\n",
      " u'Cool_7_slope',\n",
      " u'PrecipTotal_7_mean',\n",
      " u'PrecipTotal_7_max',\n",
      " u'PrecipTotal_7_min',\n",
      " u'PrecipTotal_7_slope',\n",
      " u'StnPressure_7_mean',\n",
      " u'StnPressure_7_max',\n",
      " u'StnPressure_7_min',\n",
      " u'StnPressure_7_slope',\n",
      " u'SeaLevel_7_mean',\n",
      " u'SeaLevel_7_max',\n",
      " u'SeaLevel_7_min',\n",
      " u'SeaLevel_7_slope',\n",
      " u'ResultSpeed_7_mean',\n",
      " u'ResultSpeed_7_max',\n",
      " u'ResultSpeed_7_min',\n",
      " u'ResultSpeed_7_slope',\n",
      " u'ResultDir_7_mean',\n",
      " u'ResultDir_7_max',\n",
      " u'ResultDir_7_min',\n",
      " u'ResultDir_7_slope',\n",
      " u'AvgSpeed_7_mean',\n",
      " u'AvgSpeed_7_max',\n",
      " u'AvgSpeed_7_min',\n",
      " u'AvgSpeed_7_slope',\n",
      " u'Tmax_14_mean',\n",
      " u'Tmax_14_max',\n",
      " u'Tmax_14_min',\n",
      " u'Tmax_14_slope',\n",
      " u'Tmin_14_mean',\n",
      " u'Tmin_14_max',\n",
      " u'Tmin_14_min',\n",
      " u'Tmin_14_slope',\n",
      " u'Tavg_14_mean',\n",
      " u'Tavg_14_max',\n",
      " u'Tavg_14_min',\n",
      " u'Tavg_14_slope',\n",
      " u'DewPoint_14_mean',\n",
      " u'DewPoint_14_max',\n",
      " u'DewPoint_14_min',\n",
      " u'DewPoint_14_slope',\n",
      " u'WetBulb_14_mean',\n",
      " u'WetBulb_14_max',\n",
      " u'WetBulb_14_min',\n",
      " u'WetBulb_14_slope',\n",
      " u'Heat_14_mean',\n",
      " u'Heat_14_max',\n",
      " u'Heat_14_min',\n",
      " u'Heat_14_slope',\n",
      " u'Cool_14_mean',\n",
      " u'Cool_14_max',\n",
      " u'Cool_14_min',\n",
      " u'Cool_14_slope',\n",
      " u'PrecipTotal_14_mean',\n",
      " u'PrecipTotal_14_max',\n",
      " u'PrecipTotal_14_min',\n",
      " u'PrecipTotal_14_slope',\n",
      " u'StnPressure_14_mean',\n",
      " u'StnPressure_14_max',\n",
      " u'StnPressure_14_min',\n",
      " u'StnPressure_14_slope',\n",
      " u'SeaLevel_14_mean',\n",
      " u'SeaLevel_14_max',\n",
      " u'SeaLevel_14_min',\n",
      " u'SeaLevel_14_slope',\n",
      " u'ResultSpeed_14_mean',\n",
      " u'ResultSpeed_14_max',\n",
      " u'ResultSpeed_14_min',\n",
      " u'ResultSpeed_14_slope',\n",
      " u'ResultDir_14_mean',\n",
      " u'ResultDir_14_max',\n",
      " u'ResultDir_14_min',\n",
      " u'ResultDir_14_slope',\n",
      " u'AvgSpeed_14_mean',\n",
      " u'AvgSpeed_14_max',\n",
      " u'AvgSpeed_14_min',\n",
      " u'AvgSpeed_14_slope',\n",
      " u'Tmax_30_mean',\n",
      " u'Tmax_30_max',\n",
      " u'Tmax_30_min',\n",
      " u'Tmax_30_slope',\n",
      " u'Tmin_30_mean',\n",
      " u'Tmin_30_max',\n",
      " u'Tmin_30_min',\n",
      " u'Tmin_30_slope',\n",
      " u'Tavg_30_mean',\n",
      " u'Tavg_30_max',\n",
      " u'Tavg_30_min',\n",
      " u'Tavg_30_slope',\n",
      " u'DewPoint_30_mean',\n",
      " u'DewPoint_30_max',\n",
      " u'DewPoint_30_min',\n",
      " u'DewPoint_30_slope',\n",
      " u'WetBulb_30_mean',\n",
      " u'WetBulb_30_max',\n",
      " u'WetBulb_30_min',\n",
      " u'WetBulb_30_slope',\n",
      " u'Heat_30_mean',\n",
      " u'Heat_30_max',\n",
      " u'Heat_30_min',\n",
      " u'Heat_30_slope',\n",
      " u'Cool_30_mean',\n",
      " u'Cool_30_max',\n",
      " u'Cool_30_min',\n",
      " u'Cool_30_slope',\n",
      " u'PrecipTotal_30_mean',\n",
      " u'PrecipTotal_30_max',\n",
      " u'PrecipTotal_30_min',\n",
      " u'PrecipTotal_30_slope',\n",
      " u'StnPressure_30_mean',\n",
      " u'StnPressure_30_max',\n",
      " u'StnPressure_30_min',\n",
      " u'StnPressure_30_slope',\n",
      " u'SeaLevel_30_mean',\n",
      " u'SeaLevel_30_max',\n",
      " u'SeaLevel_30_min',\n",
      " u'SeaLevel_30_slope',\n",
      " u'ResultSpeed_30_mean',\n",
      " u'ResultSpeed_30_max',\n",
      " u'ResultSpeed_30_min',\n",
      " u'ResultSpeed_30_slope',\n",
      " u'ResultDir_30_mean',\n",
      " u'ResultDir_30_max',\n",
      " u'ResultDir_30_min',\n",
      " u'ResultDir_30_slope',\n",
      " u'AvgSpeed_30_mean',\n",
      " u'AvgSpeed_30_max',\n",
      " u'AvgSpeed_30_min',\n",
      " u'AvgSpeed_30_slope',\n",
      " #'set',\n",
      " 'cdc_cnt',\n",
      " 'lat',\n",
      " 'lng',\n",
      " #'geo',\n",
      " 'grec_cnt',\n",
      " 'grec_cnt_3_sum',\n",
      " 'grec_cnt_3_2',\n",
      " 'grec_cnt_3_max',\n",
      " 'grec_cnt_3_min',\n",
      " 'grec_cnt_7_sum',\n",
      " 'grec_cnt_7_2',\n",
      " 'grec_cnt_7_max',\n",
      " 'grec_cnt_7_min',\n",
      " 'grec_cnt_14_sum',\n",
      " 'grec_cnt_14_2',\n",
      " 'grec_cnt_14_max',\n",
      " 'grec_cnt_14_min',\n",
      " 'grec_cnt_30_sum',\n",
      " 'grec_cnt_30_2',\n",
      " 'grec_cnt_30_max',\n",
      " 'grec_cnt_30_min',\n",
      " 'grec_cnt_60_sum',\n",
      " 'grec_cnt_60_2',\n",
      " 'grec_cnt_60_max',\n",
      " 'grec_cnt_60_min']"
     ],
     "language": "python",
     "metadata": {},
     "outputs": [],
     "prompt_number": 43
    },
    {
     "cell_type": "code",
     "collapsed": false,
     "input": [
      "# Print variables with missing/trace to properly handle in data processing\n",
      "for v in model_vars:\n",
      "    nmiss = sum(train5[v].apply(lambda x: str.strip(str(x)).lower()).isin(['t','m']))\n",
      "    if nmiss>0:\n",
      "        print v, nmiss"
     ],
     "language": "python",
     "metadata": {},
     "outputs": [
      {
       "output_type": "stream",
       "stream": "stdout",
       "text": [
        "Depart 8245\n",
        "WetBulb"
       ]
      },
      {
       "output_type": "stream",
       "stream": "stdout",
       "text": [
        " 26\n",
        "Depth"
       ]
      },
      {
       "output_type": "stream",
       "stream": "stdout",
       "text": [
        " 8245\n",
        "Water1 10506\n",
        "SnowFall"
       ]
      },
      {
       "output_type": "stream",
       "stream": "stdout",
       "text": [
        " 8290\n",
        "PrecipTotal 876\n",
        "StnPressure"
       ]
      },
      {
       "output_type": "stream",
       "stream": "stdout",
       "text": [
        " 26\n"
       ]
      }
     ],
     "prompt_number": 44
    },
    {
     "cell_type": "code",
     "collapsed": false,
     "input": [
      "# Print variables of non-numeric dtypes to properly handle in data processing\n",
      "train5[model_vars].dtypes.loc[train5[model_vars].dtypes == 'object']"
     ],
     "language": "python",
     "metadata": {},
     "outputs": [
      {
       "metadata": {},
       "output_type": "pyout",
       "prompt_number": 45,
       "text": [
        "Species        object\n",
        "month          object\n",
        "Tavg           object\n",
        "Depart         object\n",
        "WetBulb        object\n",
        "Heat           object\n",
        "Cool           object\n",
        "Sunrise        object\n",
        "Sunset         object\n",
        "CodeSum        object\n",
        "Depth          object\n",
        "Water1         object\n",
        "SnowFall       object\n",
        "PrecipTotal    object\n",
        "StnPressure    object\n",
        "SeaLevel       object\n",
        "AvgSpeed       object\n",
        "dtype: object"
       ]
      }
     ],
     "prompt_number": 45
    },
    {
     "cell_type": "code",
     "collapsed": false,
     "input": [
      "# PreProcess Data for ML\n",
      "\n",
      "# combine train/test to ensure same dummies generated and missing iputes are used \n",
      "#     ... technically should just use train and apply to test\n",
      "X = pd.concat([train5[model_vars],test5[model_vars]],axis=0).reset_index(drop=True)\n",
      "    \n",
      "for v in model_vars:\n",
      "    X[v].loc[X[v].apply(lambda x: str.strip(str(x)).lower()).isin(['t','m'])] = np.nan\n",
      "    \n",
      "objs = ['month','Tavg', 'Depart', 'WetBulb', 'Heat', 'Cool', 'Depth', \n",
      "        'SnowFall', 'PrecipTotal', 'StnPressure', 'SeaLevel', 'AvgSpeed']\n",
      "for obj in objs:\n",
      "    X[obj] = pd.to_numeric(X[obj])\n",
      "    \n",
      "X_clean = fk.ml_data_clean(X,model_vars) \n",
      "\n",
      "train5['set'] = 'train'\n",
      "test5['set'] = 'test'\n",
      "\n",
      "set_ind = pd.concat([train5['set'],test5['set']],axis=0).reset_index(drop=True)\n",
      "\n",
      "train_X_clean = X_clean.loc[set_ind == 'train']\n",
      "test_X_clean = X_clean.loc[set_ind == 'test']\n",
      "\n",
      "X_train, X_test, y_train, y_test = train_test_split(train_X_clean, train5[['WnvPresent','WNV_T1']], \n",
      "                                                    test_size=.3, random_state=72947)"
     ],
     "language": "python",
     "metadata": {},
     "outputs": [
      {
       "output_type": "stream",
       "stream": "stdout",
       "text": [
        "-------------------------------------------------------------------\n",
        "PROCESSING VARIABLES: \n",
        "\n",
        "Species object 126799\n",
        "month"
       ]
      },
      {
       "output_type": "stream",
       "stream": "stdout",
       "text": [
        " int64 126799\n",
        "rec_cnt"
       ]
      },
      {
       "output_type": "stream",
       "stream": "stdout",
       "text": [
        " float64 126799\n",
        "rec_cnt_3_sum"
       ]
      },
      {
       "output_type": "stream",
       "stream": "stdout",
       "text": [
        " float64 126799\n",
        "rec_cnt_3_2"
       ]
      },
      {
       "output_type": "stream",
       "stream": "stdout",
       "text": [
        " float64 126799\n",
        "rec_cnt_3_max"
       ]
      },
      {
       "output_type": "stream",
       "stream": "stdout",
       "text": [
        " float64 126799\n",
        "rec_cnt_3_min"
       ]
      },
      {
       "output_type": "stream",
       "stream": "stdout",
       "text": [
        " float64 126799\n",
        "rec_cnt_7_sum"
       ]
      },
      {
       "output_type": "stream",
       "stream": "stdout",
       "text": [
        " float64 126799\n",
        "rec_cnt_7_2"
       ]
      },
      {
       "output_type": "stream",
       "stream": "stdout",
       "text": [
        " float64 126799\n",
        "rec_cnt_7_max"
       ]
      },
      {
       "output_type": "stream",
       "stream": "stdout",
       "text": [
        " float64 126799\n",
        "rec_cnt_7_min"
       ]
      },
      {
       "output_type": "stream",
       "stream": "stdout",
       "text": [
        " float64 126799\n",
        "rec_cnt_14_sum"
       ]
      },
      {
       "output_type": "stream",
       "stream": "stdout",
       "text": [
        " float64 126799\n",
        "rec_cnt_14_2"
       ]
      },
      {
       "output_type": "stream",
       "stream": "stdout",
       "text": [
        " float64 126799\n",
        "rec_cnt_14_max"
       ]
      },
      {
       "output_type": "stream",
       "stream": "stdout",
       "text": [
        " float64 126799\n",
        "rec_cnt_14_min"
       ]
      },
      {
       "output_type": "stream",
       "stream": "stdout",
       "text": [
        " float64 126799\n",
        "rec_cnt_30_sum"
       ]
      },
      {
       "output_type": "stream",
       "stream": "stdout",
       "text": [
        " float64 126799\n",
        "rec_cnt_30_2"
       ]
      },
      {
       "output_type": "stream",
       "stream": "stdout",
       "text": [
        " float64 126799\n",
        "rec_cnt_30_max"
       ]
      },
      {
       "output_type": "stream",
       "stream": "stdout",
       "text": [
        " float64 126799\n",
        "rec_cnt_30_min"
       ]
      },
      {
       "output_type": "stream",
       "stream": "stdout",
       "text": [
        " float64 126799\n",
        "rec_cnt_60_sum"
       ]
      },
      {
       "output_type": "stream",
       "stream": "stdout",
       "text": [
        " float64 126799\n",
        "rec_cnt_60_2"
       ]
      },
      {
       "output_type": "stream",
       "stream": "stdout",
       "text": [
        " float64 126799\n",
        "rec_cnt_60_max"
       ]
      },
      {
       "output_type": "stream",
       "stream": "stdout",
       "text": [
        " float64 126799\n",
        "rec_cnt_60_min"
       ]
      },
      {
       "output_type": "stream",
       "stream": "stdout",
       "text": [
        " float64 126799\n",
        "Tmax"
       ]
      },
      {
       "output_type": "stream",
       "stream": "stdout",
       "text": [
        " float64 126799\n",
        "Tmin"
       ]
      },
      {
       "output_type": "stream",
       "stream": "stdout",
       "text": [
        " float64 126799\n",
        "Tavg"
       ]
      },
      {
       "output_type": "stream",
       "stream": "stdout",
       "text": [
        " int64 126799\n",
        "Depart"
       ]
      },
      {
       "output_type": "stream",
       "stream": "stdout",
       "text": [
        " float64 21539\n",
        "DewPoint"
       ]
      },
      {
       "output_type": "stream",
       "stream": "stdout",
       "text": [
        " float64 126799\n",
        "WetBulb"
       ]
      },
      {
       "output_type": "stream",
       "stream": "stdout",
       "text": [
        " float64 126773\n",
        "Heat"
       ]
      },
      {
       "output_type": "stream",
       "stream": "stdout",
       "text": [
        " int64 126799\n",
        "Cool"
       ]
      },
      {
       "output_type": "stream",
       "stream": "stdout",
       "text": [
        " int64 126799\n",
        "Sunrise"
       ]
      },
      {
       "output_type": "stream",
       "stream": "stdout",
       "text": [
        " object 126799\n",
        "Sunset"
       ]
      },
      {
       "output_type": "stream",
       "stream": "stdout",
       "text": [
        " object 126799\n",
        "CodeSum"
       ]
      },
      {
       "output_type": "stream",
       "stream": "stdout",
       "text": [
        " object 126799\n",
        "Depth"
       ]
      },
      {
       "output_type": "stream",
       "stream": "stdout",
       "text": [
        " float64 21539\n",
        "Water1"
       ]
      },
      {
       "output_type": "stream",
       "stream": "stdout",
       "text": [
        " object 0\n",
        "SnowFall float64 21298\n",
        "PrecipTotal"
       ]
      },
      {
       "output_type": "stream",
       "stream": "stdout",
       "text": [
        " float64 116501\n",
        "StnPressure"
       ]
      },
      {
       "output_type": "stream",
       "stream": "stdout",
       "text": [
        " float64 126773\n",
        "SeaLevel"
       ]
      },
      {
       "output_type": "stream",
       "stream": "stdout",
       "text": [
        " float64 126799\n",
        "ResultSpeed"
       ]
      },
      {
       "output_type": "stream",
       "stream": "stdout",
       "text": [
        " float64 126799\n",
        "ResultDir"
       ]
      },
      {
       "output_type": "stream",
       "stream": "stdout",
       "text": [
        " float64 126799\n",
        "AvgSpeed"
       ]
      },
      {
       "output_type": "stream",
       "stream": "stdout",
       "text": [
        " float64 126799\n",
        "Tmax_3_mean"
       ]
      },
      {
       "output_type": "stream",
       "stream": "stdout",
       "text": [
        " float64 126799\n",
        "Tmax_3_max"
       ]
      },
      {
       "output_type": "stream",
       "stream": "stdout",
       "text": [
        " float64 126799\n",
        "Tmax_3_min"
       ]
      },
      {
       "output_type": "stream",
       "stream": "stdout",
       "text": [
        " float64 126799\n",
        "Tmax_3_slope"
       ]
      },
      {
       "output_type": "stream",
       "stream": "stdout",
       "text": [
        " float64 126799\n",
        "Tmin_3_mean"
       ]
      },
      {
       "output_type": "stream",
       "stream": "stdout",
       "text": [
        " float64 126799\n",
        "Tmin_3_max"
       ]
      },
      {
       "output_type": "stream",
       "stream": "stdout",
       "text": [
        " float64 126799\n",
        "Tmin_3_min"
       ]
      },
      {
       "output_type": "stream",
       "stream": "stdout",
       "text": [
        " float64 126799\n",
        "Tmin_3_slope"
       ]
      },
      {
       "output_type": "stream",
       "stream": "stdout",
       "text": [
        " float64 126799\n",
        "Tavg_3_mean"
       ]
      },
      {
       "output_type": "stream",
       "stream": "stdout",
       "text": [
        " float64 126799\n",
        "Tavg_3_max"
       ]
      },
      {
       "output_type": "stream",
       "stream": "stdout",
       "text": [
        " float64 124679\n",
        "Tavg_3_min"
       ]
      },
      {
       "output_type": "stream",
       "stream": "stdout",
       "text": [
        " float64 124679\n",
        "Tavg_3_slope"
       ]
      },
      {
       "output_type": "stream",
       "stream": "stdout",
       "text": [
        " float64 126799\n",
        "DewPoint_3_mean"
       ]
      },
      {
       "output_type": "stream",
       "stream": "stdout",
       "text": [
        " float64 126799\n",
        "DewPoint_3_max"
       ]
      },
      {
       "output_type": "stream",
       "stream": "stdout",
       "text": [
        " float64 126799\n",
        "DewPoint_3_min"
       ]
      },
      {
       "output_type": "stream",
       "stream": "stdout",
       "text": [
        " float64 126799\n",
        "DewPoint_3_slope"
       ]
      },
      {
       "output_type": "stream",
       "stream": "stdout",
       "text": [
        " float64 126799\n",
        "WetBulb_3_mean"
       ]
      },
      {
       "output_type": "stream",
       "stream": "stdout",
       "text": [
        " float64 126799\n",
        "WetBulb_3_max"
       ]
      },
      {
       "output_type": "stream",
       "stream": "stdout",
       "text": [
        " float64 126799\n",
        "WetBulb_3_min"
       ]
      },
      {
       "output_type": "stream",
       "stream": "stdout",
       "text": [
        " float64 126799\n",
        "WetBulb_3_slope"
       ]
      },
      {
       "output_type": "stream",
       "stream": "stdout",
       "text": [
        " float64 126799\n",
        "Heat_3_mean"
       ]
      },
      {
       "output_type": "stream",
       "stream": "stdout",
       "text": [
        " float64 126799\n",
        "Heat_3_max"
       ]
      },
      {
       "output_type": "stream",
       "stream": "stdout",
       "text": [
        " float64 124679\n",
        "Heat_3_min"
       ]
      },
      {
       "output_type": "stream",
       "stream": "stdout",
       "text": [
        " float64 124679\n",
        "Heat_3_slope"
       ]
      },
      {
       "output_type": "stream",
       "stream": "stdout",
       "text": [
        " float64 126799\n",
        "Cool_3_mean"
       ]
      },
      {
       "output_type": "stream",
       "stream": "stdout",
       "text": [
        " float64 126799\n",
        "Cool_3_max"
       ]
      },
      {
       "output_type": "stream",
       "stream": "stdout",
       "text": [
        " float64 124679\n",
        "Cool_3_min"
       ]
      },
      {
       "output_type": "stream",
       "stream": "stdout",
       "text": [
        " float64 124679\n",
        "Cool_3_slope"
       ]
      },
      {
       "output_type": "stream",
       "stream": "stdout",
       "text": [
        " float64 126799\n",
        "PrecipTotal_3_mean"
       ]
      },
      {
       "output_type": "stream",
       "stream": "stdout",
       "text": [
        " float64 126799\n",
        "PrecipTotal_3_max"
       ]
      },
      {
       "output_type": "stream",
       "stream": "stdout",
       "text": [
        " float64 119486\n",
        "PrecipTotal_3_min"
       ]
      },
      {
       "output_type": "stream",
       "stream": "stdout",
       "text": [
        " float64 119486\n",
        "PrecipTotal_3_slope"
       ]
      },
      {
       "output_type": "stream",
       "stream": "stdout",
       "text": [
        " float64 126799\n",
        "StnPressure_3_mean"
       ]
      },
      {
       "output_type": "stream",
       "stream": "stdout",
       "text": [
        " float64 126799\n",
        "StnPressure_3_max"
       ]
      },
      {
       "output_type": "stream",
       "stream": "stdout",
       "text": [
        " float64 126799\n",
        "StnPressure_3_min"
       ]
      },
      {
       "output_type": "stream",
       "stream": "stdout",
       "text": [
        " float64 126799\n",
        "StnPressure_3_slope"
       ]
      },
      {
       "output_type": "stream",
       "stream": "stdout",
       "text": [
        " float64 126799\n",
        "SeaLevel_3_mean"
       ]
      },
      {
       "output_type": "stream",
       "stream": "stdout",
       "text": [
        " float64 126799\n",
        "SeaLevel_3_max"
       ]
      },
      {
       "output_type": "stream",
       "stream": "stdout",
       "text": [
        " float64 125691\n",
        "SeaLevel_3_min"
       ]
      },
      {
       "output_type": "stream",
       "stream": "stdout",
       "text": [
        " float64 125691\n",
        "SeaLevel_3_slope"
       ]
      },
      {
       "output_type": "stream",
       "stream": "stdout",
       "text": [
        " float64 126799\n",
        "ResultSpeed_3_mean"
       ]
      },
      {
       "output_type": "stream",
       "stream": "stdout",
       "text": [
        " float64 126799\n",
        "ResultSpeed_3_max"
       ]
      },
      {
       "output_type": "stream",
       "stream": "stdout",
       "text": [
        " float64 126799\n",
        "ResultSpeed_3_min"
       ]
      },
      {
       "output_type": "stream",
       "stream": "stdout",
       "text": [
        " float64 126799\n",
        "ResultSpeed_3_slope"
       ]
      },
      {
       "output_type": "stream",
       "stream": "stdout",
       "text": [
        " float64 126799\n",
        "ResultDir_3_mean"
       ]
      },
      {
       "output_type": "stream",
       "stream": "stdout",
       "text": [
        " float64 126799\n",
        "ResultDir_3_max"
       ]
      },
      {
       "output_type": "stream",
       "stream": "stdout",
       "text": [
        " float64 126799\n",
        "ResultDir_3_min"
       ]
      },
      {
       "output_type": "stream",
       "stream": "stdout",
       "text": [
        " float64 126799\n",
        "ResultDir_3_slope"
       ]
      },
      {
       "output_type": "stream",
       "stream": "stdout",
       "text": [
        " float64 126799\n",
        "AvgSpeed_3_mean"
       ]
      },
      {
       "output_type": "stream",
       "stream": "stdout",
       "text": [
        " float64 126799\n",
        "AvgSpeed_3_max"
       ]
      },
      {
       "output_type": "stream",
       "stream": "stdout",
       "text": [
        " float64 125691\n",
        "AvgSpeed_3_min"
       ]
      },
      {
       "output_type": "stream",
       "stream": "stdout",
       "text": [
        " float64 125691\n",
        "AvgSpeed_3_slope"
       ]
      },
      {
       "output_type": "stream",
       "stream": "stdout",
       "text": [
        " float64 126799\n",
        "Tmax_7_mean"
       ]
      },
      {
       "output_type": "stream",
       "stream": "stdout",
       "text": [
        " float64 126799\n",
        "Tmax_7_max"
       ]
      },
      {
       "output_type": "stream",
       "stream": "stdout",
       "text": [
        " float64 126799\n",
        "Tmax_7_min"
       ]
      },
      {
       "output_type": "stream",
       "stream": "stdout",
       "text": [
        " float64 126799\n",
        "Tmax_7_slope"
       ]
      },
      {
       "output_type": "stream",
       "stream": "stdout",
       "text": [
        " float64 126799\n",
        "Tmin_7_mean"
       ]
      },
      {
       "output_type": "stream",
       "stream": "stdout",
       "text": [
        " float64 126799\n",
        "Tmin_7_max"
       ]
      },
      {
       "output_type": "stream",
       "stream": "stdout",
       "text": [
        " float64 126799\n",
        "Tmin_7_min"
       ]
      },
      {
       "output_type": "stream",
       "stream": "stdout",
       "text": [
        " float64 126799\n",
        "Tmin_7_slope"
       ]
      },
      {
       "output_type": "stream",
       "stream": "stdout",
       "text": [
        " float64 126799\n",
        "Tavg_7_mean"
       ]
      },
      {
       "output_type": "stream",
       "stream": "stdout",
       "text": [
        " float64 126799\n",
        "Tavg_7_max"
       ]
      },
      {
       "output_type": "stream",
       "stream": "stdout",
       "text": [
        " float64 125783\n",
        "Tavg_7_min"
       ]
      },
      {
       "output_type": "stream",
       "stream": "stdout",
       "text": [
        " float64 125783\n",
        "Tavg_7_slope"
       ]
      },
      {
       "output_type": "stream",
       "stream": "stdout",
       "text": [
        " float64 126799\n",
        "DewPoint_7_mean"
       ]
      },
      {
       "output_type": "stream",
       "stream": "stdout",
       "text": [
        " float64 126799\n",
        "DewPoint_7_max"
       ]
      },
      {
       "output_type": "stream",
       "stream": "stdout",
       "text": [
        " float64 126799\n",
        "DewPoint_7_min"
       ]
      },
      {
       "output_type": "stream",
       "stream": "stdout",
       "text": [
        " float64 126799\n",
        "DewPoint_7_slope"
       ]
      },
      {
       "output_type": "stream",
       "stream": "stdout",
       "text": [
        " float64 126799\n",
        "WetBulb_7_mean"
       ]
      },
      {
       "output_type": "stream",
       "stream": "stdout",
       "text": [
        " float64 126799\n",
        "WetBulb_7_max"
       ]
      },
      {
       "output_type": "stream",
       "stream": "stdout",
       "text": [
        " float64 126799\n",
        "WetBulb_7_min"
       ]
      },
      {
       "output_type": "stream",
       "stream": "stdout",
       "text": [
        " float64 126799\n",
        "WetBulb_7_slope"
       ]
      },
      {
       "output_type": "stream",
       "stream": "stdout",
       "text": [
        " float64 126799\n",
        "Heat_7_mean"
       ]
      },
      {
       "output_type": "stream",
       "stream": "stdout",
       "text": [
        " float64 126799\n",
        "Heat_7_max"
       ]
      },
      {
       "output_type": "stream",
       "stream": "stdout",
       "text": [
        " float64 125783\n",
        "Heat_7_min"
       ]
      },
      {
       "output_type": "stream",
       "stream": "stdout",
       "text": [
        " float64 125783\n",
        "Heat_7_slope"
       ]
      },
      {
       "output_type": "stream",
       "stream": "stdout",
       "text": [
        " float64 126799\n",
        "Cool_7_mean"
       ]
      },
      {
       "output_type": "stream",
       "stream": "stdout",
       "text": [
        " float64 126799\n",
        "Cool_7_max"
       ]
      },
      {
       "output_type": "stream",
       "stream": "stdout",
       "text": [
        " float64 125783\n",
        "Cool_7_min"
       ]
      },
      {
       "output_type": "stream",
       "stream": "stdout",
       "text": [
        " float64 125783\n",
        "Cool_7_slope"
       ]
      },
      {
       "output_type": "stream",
       "stream": "stdout",
       "text": [
        " float64 126799\n",
        "PrecipTotal_7_mean"
       ]
      },
      {
       "output_type": "stream",
       "stream": "stdout",
       "text": [
        " float64 126799\n",
        "PrecipTotal_7_max"
       ]
      },
      {
       "output_type": "stream",
       "stream": "stdout",
       "text": [
        " float64 108869\n",
        "PrecipTotal_7_min"
       ]
      },
      {
       "output_type": "stream",
       "stream": "stdout",
       "text": [
        " float64 108869\n",
        "PrecipTotal_7_slope"
       ]
      },
      {
       "output_type": "stream",
       "stream": "stdout",
       "text": [
        " float64 126799\n",
        "StnPressure_7_mean"
       ]
      },
      {
       "output_type": "stream",
       "stream": "stdout",
       "text": [
        " float64 126799\n",
        "StnPressure_7_max"
       ]
      },
      {
       "output_type": "stream",
       "stream": "stdout",
       "text": [
        " float64 126799\n",
        "StnPressure_7_min"
       ]
      },
      {
       "output_type": "stream",
       "stream": "stdout",
       "text": [
        " float64 126799\n",
        "StnPressure_7_slope"
       ]
      },
      {
       "output_type": "stream",
       "stream": "stdout",
       "text": [
        " float64 126799\n",
        "SeaLevel_7_mean"
       ]
      },
      {
       "output_type": "stream",
       "stream": "stdout",
       "text": [
        " float64 126799\n",
        "SeaLevel_7_max"
       ]
      },
      {
       "output_type": "stream",
       "stream": "stdout",
       "text": [
        " float64 126799\n",
        "SeaLevel_7_min"
       ]
      },
      {
       "output_type": "stream",
       "stream": "stdout",
       "text": [
        " float64 126799\n",
        "SeaLevel_7_slope"
       ]
      },
      {
       "output_type": "stream",
       "stream": "stdout",
       "text": [
        " float64 126799\n",
        "ResultSpeed_7_mean"
       ]
      },
      {
       "output_type": "stream",
       "stream": "stdout",
       "text": [
        " float64 126799\n",
        "ResultSpeed_7_max"
       ]
      },
      {
       "output_type": "stream",
       "stream": "stdout",
       "text": [
        " float64 126799\n",
        "ResultSpeed_7_min"
       ]
      },
      {
       "output_type": "stream",
       "stream": "stdout",
       "text": [
        " float64 126799\n",
        "ResultSpeed_7_slope"
       ]
      },
      {
       "output_type": "stream",
       "stream": "stdout",
       "text": [
        " float64 126799\n",
        "ResultDir_7_mean"
       ]
      },
      {
       "output_type": "stream",
       "stream": "stdout",
       "text": [
        " float64 126799\n",
        "ResultDir_7_max"
       ]
      },
      {
       "output_type": "stream",
       "stream": "stdout",
       "text": [
        " float64 126799\n",
        "ResultDir_7_min"
       ]
      },
      {
       "output_type": "stream",
       "stream": "stdout",
       "text": [
        " float64 126799\n",
        "ResultDir_7_slope"
       ]
      },
      {
       "output_type": "stream",
       "stream": "stdout",
       "text": [
        " float64 126799\n",
        "AvgSpeed_7_mean"
       ]
      },
      {
       "output_type": "stream",
       "stream": "stdout",
       "text": [
        " float64 126799\n",
        "AvgSpeed_7_max"
       ]
      },
      {
       "output_type": "stream",
       "stream": "stdout",
       "text": [
        " float64 126799\n",
        "AvgSpeed_7_min"
       ]
      },
      {
       "output_type": "stream",
       "stream": "stdout",
       "text": [
        " float64 126799\n",
        "AvgSpeed_7_slope"
       ]
      },
      {
       "output_type": "stream",
       "stream": "stdout",
       "text": [
        " float64 126799\n",
        "Tmax_14_mean"
       ]
      },
      {
       "output_type": "stream",
       "stream": "stdout",
       "text": [
        " float64 126799\n",
        "Tmax_14_max"
       ]
      },
      {
       "output_type": "stream",
       "stream": "stdout",
       "text": [
        " float64 126799\n",
        "Tmax_14_min"
       ]
      },
      {
       "output_type": "stream",
       "stream": "stdout",
       "text": [
        " float64 126799\n",
        "Tmax_14_slope"
       ]
      },
      {
       "output_type": "stream",
       "stream": "stdout",
       "text": [
        " float64 126799\n",
        "Tmin_14_mean"
       ]
      },
      {
       "output_type": "stream",
       "stream": "stdout",
       "text": [
        " float64 126799\n",
        "Tmin_14_max"
       ]
      },
      {
       "output_type": "stream",
       "stream": "stdout",
       "text": [
        " float64 126799\n",
        "Tmin_14_min"
       ]
      },
      {
       "output_type": "stream",
       "stream": "stdout",
       "text": [
        " float64 126799\n",
        "Tmin_14_slope"
       ]
      },
      {
       "output_type": "stream",
       "stream": "stdout",
       "text": [
        " float64 126799\n",
        "Tavg_14_mean"
       ]
      },
      {
       "output_type": "stream",
       "stream": "stdout",
       "text": [
        " float64 126799\n",
        "Tavg_14_max"
       ]
      },
      {
       "output_type": "stream",
       "stream": "stdout",
       "text": [
        " float64 125783\n",
        "Tavg_14_min"
       ]
      },
      {
       "output_type": "stream",
       "stream": "stdout",
       "text": [
        " float64 125783\n",
        "Tavg_14_slope"
       ]
      },
      {
       "output_type": "stream",
       "stream": "stdout",
       "text": [
        " float64 126799\n",
        "DewPoint_14_mean"
       ]
      },
      {
       "output_type": "stream",
       "stream": "stdout",
       "text": [
        " float64 126799\n",
        "DewPoint_14_max"
       ]
      },
      {
       "output_type": "stream",
       "stream": "stdout",
       "text": [
        " float64 126799\n",
        "DewPoint_14_min"
       ]
      },
      {
       "output_type": "stream",
       "stream": "stdout",
       "text": [
        " float64 126799\n",
        "DewPoint_14_slope"
       ]
      },
      {
       "output_type": "stream",
       "stream": "stdout",
       "text": [
        " float64 126799\n",
        "WetBulb_14_mean"
       ]
      },
      {
       "output_type": "stream",
       "stream": "stdout",
       "text": [
        " float64 126799\n",
        "WetBulb_14_max"
       ]
      },
      {
       "output_type": "stream",
       "stream": "stdout",
       "text": [
        " float64 126799\n",
        "WetBulb_14_min"
       ]
      },
      {
       "output_type": "stream",
       "stream": "stdout",
       "text": [
        " float64 126799\n",
        "WetBulb_14_slope"
       ]
      },
      {
       "output_type": "stream",
       "stream": "stdout",
       "text": [
        " float64 126799\n",
        "Heat_14_mean"
       ]
      },
      {
       "output_type": "stream",
       "stream": "stdout",
       "text": [
        " float64 126799\n",
        "Heat_14_max"
       ]
      },
      {
       "output_type": "stream",
       "stream": "stdout",
       "text": [
        " float64 125783\n",
        "Heat_14_min"
       ]
      },
      {
       "output_type": "stream",
       "stream": "stdout",
       "text": [
        " float64 125783\n",
        "Heat_14_slope"
       ]
      },
      {
       "output_type": "stream",
       "stream": "stdout",
       "text": [
        " float64 126799\n",
        "Cool_14_mean"
       ]
      },
      {
       "output_type": "stream",
       "stream": "stdout",
       "text": [
        " float64 126799\n",
        "Cool_14_max"
       ]
      },
      {
       "output_type": "stream",
       "stream": "stdout",
       "text": [
        " float64 125783\n",
        "Cool_14_min"
       ]
      },
      {
       "output_type": "stream",
       "stream": "stdout",
       "text": [
        " float64 125783\n",
        "Cool_14_slope"
       ]
      },
      {
       "output_type": "stream",
       "stream": "stdout",
       "text": [
        " float64 126799\n",
        "PrecipTotal_14_mean"
       ]
      },
      {
       "output_type": "stream",
       "stream": "stdout",
       "text": [
        " float64 126799\n",
        "PrecipTotal_14_max"
       ]
      },
      {
       "output_type": "stream",
       "stream": "stdout",
       "text": [
        " float64 111123\n",
        "PrecipTotal_14_min"
       ]
      },
      {
       "output_type": "stream",
       "stream": "stdout",
       "text": [
        " float64 111123\n",
        "PrecipTotal_14_slope"
       ]
      },
      {
       "output_type": "stream",
       "stream": "stdout",
       "text": [
        " float64 126799\n",
        "StnPressure_14_mean"
       ]
      },
      {
       "output_type": "stream",
       "stream": "stdout",
       "text": [
        " float64 126799\n",
        "StnPressure_14_max"
       ]
      },
      {
       "output_type": "stream",
       "stream": "stdout",
       "text": [
        " float64 126748\n",
        "StnPressure_14_min"
       ]
      },
      {
       "output_type": "stream",
       "stream": "stdout",
       "text": [
        " float64 126748\n",
        "StnPressure_14_slope"
       ]
      },
      {
       "output_type": "stream",
       "stream": "stdout",
       "text": [
        " float64 126799\n",
        "SeaLevel_14_mean"
       ]
      },
      {
       "output_type": "stream",
       "stream": "stdout",
       "text": [
        " float64 126799\n",
        "SeaLevel_14_max"
       ]
      },
      {
       "output_type": "stream",
       "stream": "stdout",
       "text": [
        " float64 126748\n",
        "SeaLevel_14_min"
       ]
      },
      {
       "output_type": "stream",
       "stream": "stdout",
       "text": [
        " float64 126748\n",
        "SeaLevel_14_slope"
       ]
      },
      {
       "output_type": "stream",
       "stream": "stdout",
       "text": [
        " float64 126799\n",
        "ResultSpeed_14_mean"
       ]
      },
      {
       "output_type": "stream",
       "stream": "stdout",
       "text": [
        " float64 126799\n",
        "ResultSpeed_14_max"
       ]
      },
      {
       "output_type": "stream",
       "stream": "stdout",
       "text": [
        " float64 126799\n",
        "ResultSpeed_14_min"
       ]
      },
      {
       "output_type": "stream",
       "stream": "stdout",
       "text": [
        " float64 126799\n",
        "ResultSpeed_14_slope"
       ]
      },
      {
       "output_type": "stream",
       "stream": "stdout",
       "text": [
        " float64 126799\n",
        "ResultDir_14_mean"
       ]
      },
      {
       "output_type": "stream",
       "stream": "stdout",
       "text": [
        " float64 126799\n",
        "ResultDir_14_max"
       ]
      },
      {
       "output_type": "stream",
       "stream": "stdout",
       "text": [
        " float64 126799\n",
        "ResultDir_14_min"
       ]
      },
      {
       "output_type": "stream",
       "stream": "stdout",
       "text": [
        " float64 126799\n",
        "ResultDir_14_slope"
       ]
      },
      {
       "output_type": "stream",
       "stream": "stdout",
       "text": [
        " float64 126799\n",
        "AvgSpeed_14_mean"
       ]
      },
      {
       "output_type": "stream",
       "stream": "stdout",
       "text": [
        " float64 126799\n",
        "AvgSpeed_14_max"
       ]
      },
      {
       "output_type": "stream",
       "stream": "stdout",
       "text": [
        " float64 126748\n",
        "AvgSpeed_14_min"
       ]
      },
      {
       "output_type": "stream",
       "stream": "stdout",
       "text": [
        " float64 126748\n",
        "AvgSpeed_14_slope"
       ]
      },
      {
       "output_type": "stream",
       "stream": "stdout",
       "text": [
        " float64 126799\n",
        "Tmax_30_mean"
       ]
      },
      {
       "output_type": "stream",
       "stream": "stdout",
       "text": [
        " float64 126799\n",
        "Tmax_30_max"
       ]
      },
      {
       "output_type": "stream",
       "stream": "stdout",
       "text": [
        " float64 126799\n",
        "Tmax_30_min"
       ]
      },
      {
       "output_type": "stream",
       "stream": "stdout",
       "text": [
        " float64 126799\n",
        "Tmax_30_slope"
       ]
      },
      {
       "output_type": "stream",
       "stream": "stdout",
       "text": [
        " float64 126799\n",
        "Tmin_30_mean"
       ]
      },
      {
       "output_type": "stream",
       "stream": "stdout",
       "text": [
        " float64 126799\n",
        "Tmin_30_max"
       ]
      },
      {
       "output_type": "stream",
       "stream": "stdout",
       "text": [
        " float64 126799\n",
        "Tmin_30_min"
       ]
      },
      {
       "output_type": "stream",
       "stream": "stdout",
       "text": [
        " float64 126799\n",
        "Tmin_30_slope"
       ]
      },
      {
       "output_type": "stream",
       "stream": "stdout",
       "text": [
        " float64 126799\n",
        "Tavg_30_mean"
       ]
      },
      {
       "output_type": "stream",
       "stream": "stdout",
       "text": [
        " float64 126799\n",
        "Tavg_30_max"
       ]
      },
      {
       "output_type": "stream",
       "stream": "stdout",
       "text": [
        " float64 125781\n",
        "Tavg_30_min"
       ]
      },
      {
       "output_type": "stream",
       "stream": "stdout",
       "text": [
        " float64 125781\n",
        "Tavg_30_slope"
       ]
      },
      {
       "output_type": "stream",
       "stream": "stdout",
       "text": [
        " float64 126799\n",
        "DewPoint_30_mean"
       ]
      },
      {
       "output_type": "stream",
       "stream": "stdout",
       "text": [
        " float64 126799\n",
        "DewPoint_30_max"
       ]
      },
      {
       "output_type": "stream",
       "stream": "stdout",
       "text": [
        " float64 126799\n",
        "DewPoint_30_min"
       ]
      },
      {
       "output_type": "stream",
       "stream": "stdout",
       "text": [
        " float64 126799\n",
        "DewPoint_30_slope"
       ]
      },
      {
       "output_type": "stream",
       "stream": "stdout",
       "text": [
        " float64 126799\n",
        "WetBulb_30_mean"
       ]
      },
      {
       "output_type": "stream",
       "stream": "stdout",
       "text": [
        " float64 126799\n",
        "WetBulb_30_max"
       ]
      },
      {
       "output_type": "stream",
       "stream": "stdout",
       "text": [
        " float64 126799\n",
        "WetBulb_30_min"
       ]
      },
      {
       "output_type": "stream",
       "stream": "stdout",
       "text": [
        " float64 126799\n",
        "WetBulb_30_slope"
       ]
      },
      {
       "output_type": "stream",
       "stream": "stdout",
       "text": [
        " float64 126799\n",
        "Heat_30_mean"
       ]
      },
      {
       "output_type": "stream",
       "stream": "stdout",
       "text": [
        " float64 126799\n",
        "Heat_30_max"
       ]
      },
      {
       "output_type": "stream",
       "stream": "stdout",
       "text": [
        " float64 125781\n",
        "Heat_30_min"
       ]
      },
      {
       "output_type": "stream",
       "stream": "stdout",
       "text": [
        " float64 125781\n",
        "Heat_30_slope"
       ]
      },
      {
       "output_type": "stream",
       "stream": "stdout",
       "text": [
        " float64 126799\n",
        "Cool_30_mean"
       ]
      },
      {
       "output_type": "stream",
       "stream": "stdout",
       "text": [
        " float64 126799\n",
        "Cool_30_max"
       ]
      },
      {
       "output_type": "stream",
       "stream": "stdout",
       "text": [
        " float64 125781\n",
        "Cool_30_min"
       ]
      },
      {
       "output_type": "stream",
       "stream": "stdout",
       "text": [
        " float64 125781\n",
        "Cool_30_slope"
       ]
      },
      {
       "output_type": "stream",
       "stream": "stdout",
       "text": [
        " float64 126799\n",
        "PrecipTotal_30_mean"
       ]
      },
      {
       "output_type": "stream",
       "stream": "stdout",
       "text": [
        " float64 126799\n",
        "PrecipTotal_30_max"
       ]
      },
      {
       "output_type": "stream",
       "stream": "stdout",
       "text": [
        " float64 117112\n",
        "PrecipTotal_30_min"
       ]
      },
      {
       "output_type": "stream",
       "stream": "stdout",
       "text": [
        " float64 117112\n",
        "PrecipTotal_30_slope"
       ]
      },
      {
       "output_type": "stream",
       "stream": "stdout",
       "text": [
        " float64 126799\n",
        "StnPressure_30_mean"
       ]
      },
      {
       "output_type": "stream",
       "stream": "stdout",
       "text": [
        " float64 126799\n",
        "StnPressure_30_max"
       ]
      },
      {
       "output_type": "stream",
       "stream": "stdout",
       "text": [
        " float64 126799\n",
        "StnPressure_30_min"
       ]
      },
      {
       "output_type": "stream",
       "stream": "stdout",
       "text": [
        " float64 126799\n",
        "StnPressure_30_slope"
       ]
      },
      {
       "output_type": "stream",
       "stream": "stdout",
       "text": [
        " float64 126799\n",
        "SeaLevel_30_mean"
       ]
      },
      {
       "output_type": "stream",
       "stream": "stdout",
       "text": [
        " float64 126799\n",
        "SeaLevel_30_max"
       ]
      },
      {
       "output_type": "stream",
       "stream": "stdout",
       "text": [
        " float64 124707\n",
        "SeaLevel_30_min"
       ]
      },
      {
       "output_type": "stream",
       "stream": "stdout",
       "text": [
        " float64 124707\n",
        "SeaLevel_30_slope"
       ]
      },
      {
       "output_type": "stream",
       "stream": "stdout",
       "text": [
        " float64 126799\n",
        "ResultSpeed_30_mean"
       ]
      },
      {
       "output_type": "stream",
       "stream": "stdout",
       "text": [
        " float64 126799\n",
        "ResultSpeed_30_max"
       ]
      },
      {
       "output_type": "stream",
       "stream": "stdout",
       "text": [
        " float64 126799\n",
        "ResultSpeed_30_min"
       ]
      },
      {
       "output_type": "stream",
       "stream": "stdout",
       "text": [
        " float64 126799\n",
        "ResultSpeed_30_slope"
       ]
      },
      {
       "output_type": "stream",
       "stream": "stdout",
       "text": [
        " float64 126799\n",
        "ResultDir_30_mean"
       ]
      },
      {
       "output_type": "stream",
       "stream": "stdout",
       "text": [
        " float64 126799\n",
        "ResultDir_30_max"
       ]
      },
      {
       "output_type": "stream",
       "stream": "stdout",
       "text": [
        " float64 126799\n",
        "ResultDir_30_min"
       ]
      },
      {
       "output_type": "stream",
       "stream": "stdout",
       "text": [
        " float64 126799\n",
        "ResultDir_30_slope"
       ]
      },
      {
       "output_type": "stream",
       "stream": "stdout",
       "text": [
        " float64 126799\n",
        "AvgSpeed_30_mean"
       ]
      },
      {
       "output_type": "stream",
       "stream": "stdout",
       "text": [
        " float64 126799\n",
        "AvgSpeed_30_max"
       ]
      },
      {
       "output_type": "stream",
       "stream": "stdout",
       "text": [
        " float64 125781\n",
        "AvgSpeed_30_min"
       ]
      },
      {
       "output_type": "stream",
       "stream": "stdout",
       "text": [
        " float64 125781\n",
        "AvgSpeed_30_slope"
       ]
      },
      {
       "output_type": "stream",
       "stream": "stdout",
       "text": [
        " float64 126799\n",
        "cdc_cnt"
       ]
      },
      {
       "output_type": "stream",
       "stream": "stdout",
       "text": [
        " float64 126799\n",
        "lat"
       ]
      },
      {
       "output_type": "stream",
       "stream": "stdout",
       "text": [
        " float64 126799\n",
        "lng"
       ]
      },
      {
       "output_type": "stream",
       "stream": "stdout",
       "text": [
        " float64 126799\n",
        "grec_cnt"
       ]
      },
      {
       "output_type": "stream",
       "stream": "stdout",
       "text": [
        " float64 126799\n",
        "grec_cnt_3_sum"
       ]
      },
      {
       "output_type": "stream",
       "stream": "stdout",
       "text": [
        " float64 126799\n",
        "grec_cnt_3_2"
       ]
      },
      {
       "output_type": "stream",
       "stream": "stdout",
       "text": [
        " float64 126799\n",
        "grec_cnt_3_max"
       ]
      },
      {
       "output_type": "stream",
       "stream": "stdout",
       "text": [
        " float64 126799\n",
        "grec_cnt_3_min"
       ]
      },
      {
       "output_type": "stream",
       "stream": "stdout",
       "text": [
        " float64 126799\n",
        "grec_cnt_7_sum"
       ]
      },
      {
       "output_type": "stream",
       "stream": "stdout",
       "text": [
        " float64 126799\n",
        "grec_cnt_7_2"
       ]
      },
      {
       "output_type": "stream",
       "stream": "stdout",
       "text": [
        " float64 126799\n",
        "grec_cnt_7_max"
       ]
      },
      {
       "output_type": "stream",
       "stream": "stdout",
       "text": [
        " float64 126799\n",
        "grec_cnt_7_min"
       ]
      },
      {
       "output_type": "stream",
       "stream": "stdout",
       "text": [
        " float64 126799\n",
        "grec_cnt_14_sum"
       ]
      },
      {
       "output_type": "stream",
       "stream": "stdout",
       "text": [
        " float64 126799\n",
        "grec_cnt_14_2"
       ]
      },
      {
       "output_type": "stream",
       "stream": "stdout",
       "text": [
        " float64 126799\n",
        "grec_cnt_14_max"
       ]
      },
      {
       "output_type": "stream",
       "stream": "stdout",
       "text": [
        " float64 126799\n",
        "grec_cnt_14_min"
       ]
      },
      {
       "output_type": "stream",
       "stream": "stdout",
       "text": [
        " float64 126799\n",
        "grec_cnt_30_sum"
       ]
      },
      {
       "output_type": "stream",
       "stream": "stdout",
       "text": [
        " float64 126799\n",
        "grec_cnt_30_2"
       ]
      },
      {
       "output_type": "stream",
       "stream": "stdout",
       "text": [
        " float64 126799\n",
        "grec_cnt_30_max"
       ]
      },
      {
       "output_type": "stream",
       "stream": "stdout",
       "text": [
        " float64 126799\n",
        "grec_cnt_30_min"
       ]
      },
      {
       "output_type": "stream",
       "stream": "stdout",
       "text": [
        " float64 126799\n",
        "grec_cnt_60_sum"
       ]
      },
      {
       "output_type": "stream",
       "stream": "stdout",
       "text": [
        " float64 126799\n",
        "grec_cnt_60_2"
       ]
      },
      {
       "output_type": "stream",
       "stream": "stdout",
       "text": [
        " float64 126799\n",
        "grec_cnt_60_max"
       ]
      },
      {
       "output_type": "stream",
       "stream": "stdout",
       "text": [
        " float64 126799\n",
        "grec_cnt_60_min"
       ]
      },
      {
       "output_type": "stream",
       "stream": "stdout",
       "text": [
        " float64 126799\n",
        "-------------------------------------------------------------------"
       ]
      },
      {
       "output_type": "stream",
       "stream": "stdout",
       "text": [
        "\n",
        "VARIABLES WITH DUMMIES CREATED (dropped from data):  ['Species', 'Sunrise', 'Sunset', 'CodeSum']\n",
        "\n",
        "-------------------------------------------------------------------\n",
        "VARIABLES WITH TOO MANY LEVELS (dropped from data):  []\n",
        "\n",
        "-------------------------------------------------------------------\n",
        "MISS INDICATORS CREATED:  [('Depart', 1.771), ('WetBulb', 63.6589), ('Depth', 0.0), ('SnowFall', 0.0), ('PrecipTotal', 0.1573), ('StnPressure', 29.318), (u'Tavg_3_max', 76.2752), (u'Tavg_3_min', 69.9468), (u'Heat_3_max', 0.8491), (u'Heat_3_min', 0.0943), (u'Cool_3_max', 11.3695), (u'Cool_3_min', 5.7959), (u'PrecipTotal_3_max', 0.4233), (u'PrecipTotal_3_min', 0.0125), (u'SeaLevel_3_max', 30.0213), (u'SeaLevel_3_min', 29.8878), (u'AvgSpeed_3_max', 10.169), (u'AvgSpeed_3_min', 6.2625), (u'Tavg_7_max', 79.1124), (u'Tavg_7_min', 68.1704), (u'Heat_7_max', 1.3626), (u'Heat_7_min', 0.037), (u'Cool_7_max', 14.1494), (u'Cool_7_min', 4.533), (u'PrecipTotal_7_max', 0.9103), (u'PrecipTotal_7_min', 0.0003), (u'Tavg_14_max', 81.6262), (u'Tavg_14_min', 66.0971), (u'Heat_14_max', 1.945), (u'Heat_14_min', 0.0002), (u'Cool_14_max', 16.6264), (u'Cool_14_min', 3.042), (u'PrecipTotal_14_max', 1.1732), (u'PrecipTotal_14_min', 0.0), (u'StnPressure_14_max', 29.4615), (u'StnPressure_14_min', 29.1171), (u'SeaLevel_14_max', 30.116), (u'SeaLevel_14_min', 29.7688), (u'AvgSpeed_14_max', 12.9703), (u'AvgSpeed_14_min', 4.4199), (u'Tavg_30_max', 83.7317), (u'Tavg_30_min', 62.9122), (u'Heat_30_max', 3.6986), (u'Heat_30_min', 0.0), (u'Cool_30_max', 18.7317), (u'Cool_30_min', 1.6108), (u'PrecipTotal_30_max', 1.7647), (u'PrecipTotal_30_min', 0.0), (u'SeaLevel_30_max', 30.1672), (u'SeaLevel_30_min', 29.7088), (u'AvgSpeed_30_max', 14.3825), (u'AvgSpeed_30_min', 4.0278)]\n",
        "\n",
        "-------------------------------------------------------------------\n",
        "SINGULAR VARIABLES (dropped from data):  ['Water1']\n",
        "\n"
       ]
      },
      {
       "output_type": "stream",
       "stream": "stderr",
       "text": [
        "/Users/jeremyfunk/anaconda/lib/python2.7/site-packages/pandas/core/indexing.py:140: SettingWithCopyWarning: \n",
        "A value is trying to be set on a copy of a slice from a DataFrame\n",
        "\n",
        "See the caveats in the documentation: http://pandas.pydata.org/pandas-docs/stable/indexing.html#indexing-view-versus-copy\n",
        "  self._setitem_with_indexer(indexer, value)\n"
       ]
      }
     ],
     "prompt_number": 46
    },
    {
     "cell_type": "code",
     "collapsed": false,
     "input": [
      "X_train.head()"
     ],
     "language": "python",
     "metadata": {},
     "outputs": [
      {
       "html": [
        "<div style=\"max-width:1500px;overflow:auto;\">\n",
        "<table border=\"1\" class=\"dataframe\">\n",
        "  <thead>\n",
        "    <tr style=\"text-align: right;\">\n",
        "      <th></th>\n",
        "      <th>month</th>\n",
        "      <th>rec_cnt</th>\n",
        "      <th>rec_cnt_3_sum</th>\n",
        "      <th>rec_cnt_3_2</th>\n",
        "      <th>rec_cnt_3_max</th>\n",
        "      <th>rec_cnt_3_min</th>\n",
        "      <th>rec_cnt_7_sum</th>\n",
        "      <th>rec_cnt_7_2</th>\n",
        "      <th>rec_cnt_7_max</th>\n",
        "      <th>rec_cnt_7_min</th>\n",
        "      <th>...</th>\n",
        "      <th>Heat_30_max__missing</th>\n",
        "      <th>Heat_30_min__missing</th>\n",
        "      <th>Cool_30_max__missing</th>\n",
        "      <th>Cool_30_min__missing</th>\n",
        "      <th>PrecipTotal_30_max__missing</th>\n",
        "      <th>PrecipTotal_30_min__missing</th>\n",
        "      <th>SeaLevel_30_max__missing</th>\n",
        "      <th>SeaLevel_30_min__missing</th>\n",
        "      <th>AvgSpeed_30_max__missing</th>\n",
        "      <th>AvgSpeed_30_min__missing</th>\n",
        "    </tr>\n",
        "  </thead>\n",
        "  <tbody>\n",
        "    <tr>\n",
        "      <th>8551</th>\n",
        "      <td>7</td>\n",
        "      <td>2.0</td>\n",
        "      <td>2.0</td>\n",
        "      <td>1.0</td>\n",
        "      <td>2.0</td>\n",
        "      <td>2.0</td>\n",
        "      <td>2.0</td>\n",
        "      <td>1.0</td>\n",
        "      <td>2.0</td>\n",
        "      <td>2.0</td>\n",
        "      <td>...</td>\n",
        "      <td>0</td>\n",
        "      <td>0</td>\n",
        "      <td>0</td>\n",
        "      <td>0</td>\n",
        "      <td>0</td>\n",
        "      <td>0</td>\n",
        "      <td>0</td>\n",
        "      <td>0</td>\n",
        "      <td>0</td>\n",
        "      <td>0</td>\n",
        "    </tr>\n",
        "    <tr>\n",
        "      <th>9845</th>\n",
        "      <td>8</td>\n",
        "      <td>7.0</td>\n",
        "      <td>7.0</td>\n",
        "      <td>1.0</td>\n",
        "      <td>7.0</td>\n",
        "      <td>7.0</td>\n",
        "      <td>7.0</td>\n",
        "      <td>1.0</td>\n",
        "      <td>7.0</td>\n",
        "      <td>7.0</td>\n",
        "      <td>...</td>\n",
        "      <td>0</td>\n",
        "      <td>0</td>\n",
        "      <td>0</td>\n",
        "      <td>0</td>\n",
        "      <td>0</td>\n",
        "      <td>0</td>\n",
        "      <td>0</td>\n",
        "      <td>0</td>\n",
        "      <td>0</td>\n",
        "      <td>0</td>\n",
        "    </tr>\n",
        "    <tr>\n",
        "      <th>8720</th>\n",
        "      <td>7</td>\n",
        "      <td>1.0</td>\n",
        "      <td>1.0</td>\n",
        "      <td>0.0</td>\n",
        "      <td>1.0</td>\n",
        "      <td>1.0</td>\n",
        "      <td>2.0</td>\n",
        "      <td>1.0</td>\n",
        "      <td>1.0</td>\n",
        "      <td>1.0</td>\n",
        "      <td>...</td>\n",
        "      <td>0</td>\n",
        "      <td>0</td>\n",
        "      <td>0</td>\n",
        "      <td>0</td>\n",
        "      <td>0</td>\n",
        "      <td>0</td>\n",
        "      <td>0</td>\n",
        "      <td>0</td>\n",
        "      <td>0</td>\n",
        "      <td>0</td>\n",
        "    </tr>\n",
        "    <tr>\n",
        "      <th>5262</th>\n",
        "      <td>8</td>\n",
        "      <td>1.0</td>\n",
        "      <td>1.0</td>\n",
        "      <td>0.0</td>\n",
        "      <td>1.0</td>\n",
        "      <td>1.0</td>\n",
        "      <td>1.0</td>\n",
        "      <td>0.0</td>\n",
        "      <td>1.0</td>\n",
        "      <td>1.0</td>\n",
        "      <td>...</td>\n",
        "      <td>0</td>\n",
        "      <td>0</td>\n",
        "      <td>0</td>\n",
        "      <td>0</td>\n",
        "      <td>0</td>\n",
        "      <td>0</td>\n",
        "      <td>0</td>\n",
        "      <td>0</td>\n",
        "      <td>0</td>\n",
        "      <td>0</td>\n",
        "    </tr>\n",
        "    <tr>\n",
        "      <th>1600</th>\n",
        "      <td>8</td>\n",
        "      <td>1.0</td>\n",
        "      <td>1.0</td>\n",
        "      <td>0.0</td>\n",
        "      <td>1.0</td>\n",
        "      <td>1.0</td>\n",
        "      <td>4.0</td>\n",
        "      <td>1.0</td>\n",
        "      <td>1.0</td>\n",
        "      <td>1.0</td>\n",
        "      <td>...</td>\n",
        "      <td>0</td>\n",
        "      <td>0</td>\n",
        "      <td>0</td>\n",
        "      <td>0</td>\n",
        "      <td>0</td>\n",
        "      <td>0</td>\n",
        "      <td>0</td>\n",
        "      <td>0</td>\n",
        "      <td>0</td>\n",
        "      <td>0</td>\n",
        "    </tr>\n",
        "  </tbody>\n",
        "</table>\n",
        "<p>5 rows \u00d7 528 columns</p>\n",
        "</div>"
       ],
       "metadata": {},
       "output_type": "pyout",
       "prompt_number": 47,
       "text": [
        "      month  rec_cnt  rec_cnt_3_sum  rec_cnt_3_2  rec_cnt_3_max  \\\n",
        "8551      7      2.0            2.0          1.0            2.0   \n",
        "9845      8      7.0            7.0          1.0            7.0   \n",
        "8720      7      1.0            1.0          0.0            1.0   \n",
        "5262      8      1.0            1.0          0.0            1.0   \n",
        "1600      8      1.0            1.0          0.0            1.0   \n",
        "\n",
        "      rec_cnt_3_min  rec_cnt_7_sum  rec_cnt_7_2  rec_cnt_7_max  rec_cnt_7_min  \\\n",
        "8551            2.0            2.0          1.0            2.0            2.0   \n",
        "9845            7.0            7.0          1.0            7.0            7.0   \n",
        "8720            1.0            2.0          1.0            1.0            1.0   \n",
        "5262            1.0            1.0          0.0            1.0            1.0   \n",
        "1600            1.0            4.0          1.0            1.0            1.0   \n",
        "\n",
        "                ...             Heat_30_max__missing  Heat_30_min__missing  \\\n",
        "8551            ...                                0                     0   \n",
        "9845            ...                                0                     0   \n",
        "8720            ...                                0                     0   \n",
        "5262            ...                                0                     0   \n",
        "1600            ...                                0                     0   \n",
        "\n",
        "      Cool_30_max__missing  Cool_30_min__missing  PrecipTotal_30_max__missing  \\\n",
        "8551                     0                     0                            0   \n",
        "9845                     0                     0                            0   \n",
        "8720                     0                     0                            0   \n",
        "5262                     0                     0                            0   \n",
        "1600                     0                     0                            0   \n",
        "\n",
        "      PrecipTotal_30_min__missing  SeaLevel_30_max__missing  \\\n",
        "8551                            0                         0   \n",
        "9845                            0                         0   \n",
        "8720                            0                         0   \n",
        "5262                            0                         0   \n",
        "1600                            0                         0   \n",
        "\n",
        "      SeaLevel_30_min__missing  AvgSpeed_30_max__missing  \\\n",
        "8551                         0                         0   \n",
        "9845                         0                         0   \n",
        "8720                         0                         0   \n",
        "5262                         0                         0   \n",
        "1600                         0                         0   \n",
        "\n",
        "      AvgSpeed_30_min__missing  \n",
        "8551                         0  \n",
        "9845                         0  \n",
        "8720                         0  \n",
        "5262                         0  \n",
        "1600                         0  \n",
        "\n",
        "[5 rows x 528 columns]"
       ]
      }
     ],
     "prompt_number": 47
    },
    {
     "cell_type": "heading",
     "level": 2,
     "metadata": {},
     "source": [
      "Fit Models"
     ]
    },
    {
     "cell_type": "code",
     "collapsed": false,
     "input": [
      "from sklearn.ensemble import GradientBoostingClassifier\n",
      "from sklearn.metrics import roc_auc_score\n",
      "from sklearn.ensemble.partial_dependence import plot_partial_dependence\n",
      "from sklearn.model_selection import cross_val_score\n",
      "from sklearn.model_selection import LeaveOneGroupOut\n",
      "from sklearn.model_selection import GridSearchCV   \n",
      "\n",
      "# run cross validation using years as folds\n",
      "def cv(model):\n",
      "    cv = cross_val_score(model, train_X_clean, train5['WNV_T1'], groups=train4['year'], \n",
      "                     scoring='roc_auc', cv=LeaveOneGroupOut(), n_jobs=3, verbose=0)\n",
      "\n",
      "    print \"Mean CV Score : \",np.mean(cv)\n",
      "    print \"Raw CV Scores : \",cv\n",
      "    return model\n",
      "\n",
      "#\n",
      "def gsearch_res(gs):\n",
      "    p = gs.cv_results_['params']\n",
      "    m = np.round(gs.cv_results_['mean_test_score'],3)\n",
      "    cv1 = np.round(gs.cv_results_['split0_test_score'],3)\n",
      "    cv2 = np.round(gs.cv_results_['split1_test_score'],3)\n",
      "    cv3 = np.round(gs.cv_results_['split2_test_score'],3)\n",
      "    cv4 = np.round(gs.cv_results_['split3_test_score'],3)\n",
      "    return pd.DataFrame(zip(p,m,cv1,cv2,cv3,cv4),columns=['params','mean','cv1','cv2','cv3','cv4'])\n",
      "\n",
      "# plot feature importances\n",
      "def pltimps(m,n):\n",
      "    imps = pd.DataFrame(zip(train_X_clean.columns, m.feature_importances_)).sort_values(by=1,ascending=False)\n",
      "    plt.figure(figsize=(20,3))\n",
      "    imps[1].iloc[0:n].plot(kind='bar', title='Feature Importances')\n",
      "    plt.xticks(range(n),imps[0].iloc[0:n])\n",
      "    plt.ylabel('Feature Importance Score')\n",
      "    return None"
     ],
     "language": "python",
     "metadata": {},
     "outputs": [],
     "prompt_number": 117
    },
    {
     "cell_type": "code",
     "collapsed": false,
     "input": [
      "# fit a base classification model\n",
      "\n",
      "gbm0 = GradientBoostingClassifier(n_estimators=100,\n",
      "               learning_rate=.05,\n",
      "               max_depth=3,\n",
      "               min_samples_leaf=5,\n",
      "               min_samples_split=20,\n",
      "               subsample=.5,\n",
      "               verbose=0,\n",
      "               random_state=537254)\n",
      "gbm0.fit(X_train, y_train['WNV_T1'])"
     ],
     "language": "python",
     "metadata": {},
     "outputs": [
      {
       "metadata": {},
       "output_type": "pyout",
       "prompt_number": 134,
       "text": [
        "GradientBoostingClassifier(criterion='friedman_mse', init=None,\n",
        "              learning_rate=0.05, loss='deviance', max_depth=3,\n",
        "              max_features=None, max_leaf_nodes=None,\n",
        "              min_impurity_split=1e-07, min_samples_leaf=5,\n",
        "              min_samples_split=20, min_weight_fraction_leaf=0.0,\n",
        "              n_estimators=100, presort='auto', random_state=537254,\n",
        "              subsample=0.5, verbose=0, warm_start=False)"
       ]
      }
     ],
     "prompt_number": 134
    },
    {
     "cell_type": "code",
     "collapsed": false,
     "input": [
      "cv(gbm0)\n",
      "plt.plot(gbm0.oob_improvement_)\n",
      "pltimps(gbm0,50)"
     ],
     "language": "python",
     "metadata": {},
     "outputs": [
      {
       "output_type": "stream",
       "stream": "stdout",
       "text": [
        "Mean CV Score :  0.775944456244\n",
        "Raw CV Scores :  [ 0.76848158  0.7659633   0.83985694  0.72947601]\n"
       ]
      },
      {
       "metadata": {},
       "output_type": "display_data",
       "png": "[encoded data removed]",
       "text": [
        "<matplotlib.figure.Figure at 0x120abc5d0>"
       ]
      },
      {
       "metadata": {},
       "output_type": "display_data",
       "png": "[encoded data removed]",
       "text": [
        "<matplotlib.figure.Figure at 0x11fe2e390>"
       ]
      }
     ],
     "prompt_number": 135
    },
    {
     "cell_type": "code",
     "collapsed": false,
     "input": [
      "s_tr = pd.DataFrame(zip(train5['year'],train5['WNV_T1'],gbm0.predict_proba(train_X_clean)[:,1]),columns=['year','WNV_T1','WnvPresent'])\n",
      "p_tr = pd.concat([s_tr.groupby(['year'])['WnvPresent'].mean(), s_tr.groupby(['year'])['WNV_T1'].mean()],axis=1)\n",
      "\n",
      "s_te = pd.DataFrame(zip(test5['year'],gbm0.predict_proba(test_X_clean)[:,1]),columns=['year','WnvPresent'])\n",
      "p_te = pd.DataFrame(s_te.groupby(['year'])['WnvPresent'].mean(), columns=['WnvPresent'])\n",
      "\n",
      "preds = pd.concat([p_tr,p_te])\n",
      "preds.reset_index(inplace=True)\n",
      "preds['cdc'] = preds['year'].apply(lambda x: cdc_map[x])\n",
      "preds.sort_values('year')"
     ],
     "language": "python",
     "metadata": {},
     "outputs": [
      {
       "html": [
        "<div style=\"max-width:1500px;overflow:auto;\">\n",
        "<table border=\"1\" class=\"dataframe\">\n",
        "  <thead>\n",
        "    <tr style=\"text-align: right;\">\n",
        "      <th></th>\n",
        "      <th>year</th>\n",
        "      <th>WNV_T1</th>\n",
        "      <th>WnvPresent</th>\n",
        "      <th>cdc</th>\n",
        "    </tr>\n",
        "  </thead>\n",
        "  <tbody>\n",
        "    <tr>\n",
        "      <th>0</th>\n",
        "      <td>2007</td>\n",
        "      <td>0.188140</td>\n",
        "      <td>0.186863</td>\n",
        "      <td>29</td>\n",
        "    </tr>\n",
        "    <tr>\n",
        "      <th>4</th>\n",
        "      <td>2008</td>\n",
        "      <td>NaN</td>\n",
        "      <td>0.042733</td>\n",
        "      <td>13</td>\n",
        "    </tr>\n",
        "    <tr>\n",
        "      <th>1</th>\n",
        "      <td>2009</td>\n",
        "      <td>0.016452</td>\n",
        "      <td>0.025698</td>\n",
        "      <td>1</td>\n",
        "    </tr>\n",
        "    <tr>\n",
        "      <th>5</th>\n",
        "      <td>2010</td>\n",
        "      <td>NaN</td>\n",
        "      <td>0.084898</td>\n",
        "      <td>54</td>\n",
        "    </tr>\n",
        "    <tr>\n",
        "      <th>2</th>\n",
        "      <td>2011</td>\n",
        "      <td>0.055988</td>\n",
        "      <td>0.064036</td>\n",
        "      <td>26</td>\n",
        "    </tr>\n",
        "    <tr>\n",
        "      <th>6</th>\n",
        "      <td>2012</td>\n",
        "      <td>NaN</td>\n",
        "      <td>0.062885</td>\n",
        "      <td>254</td>\n",
        "    </tr>\n",
        "    <tr>\n",
        "      <th>3</th>\n",
        "      <td>2013</td>\n",
        "      <td>0.145903</td>\n",
        "      <td>0.131478</td>\n",
        "      <td>66</td>\n",
        "    </tr>\n",
        "    <tr>\n",
        "      <th>7</th>\n",
        "      <td>2014</td>\n",
        "      <td>NaN</td>\n",
        "      <td>0.034928</td>\n",
        "      <td>34</td>\n",
        "    </tr>\n",
        "  </tbody>\n",
        "</table>\n",
        "</div>"
       ],
       "metadata": {},
       "output_type": "pyout",
       "prompt_number": 168,
       "text": [
        "   year    WNV_T1  WnvPresent  cdc\n",
        "0  2007  0.188140    0.186863   29\n",
        "4  2008       NaN    0.042733   13\n",
        "1  2009  0.016452    0.025698    1\n",
        "5  2010       NaN    0.084898   54\n",
        "2  2011  0.055988    0.064036   26\n",
        "6  2012       NaN    0.062885  254\n",
        "3  2013  0.145903    0.131478   66\n",
        "7  2014       NaN    0.034928   34"
       ]
      }
     ],
     "prompt_number": 168
    },
    {
     "cell_type": "code",
     "collapsed": false,
     "input": [
      "plt.scatter(preds['cdc'],preds['WnvPresent'])\n",
      "plt.scatter(preds['cdc'],preds['WNV_T1'],color='red')"
     ],
     "language": "python",
     "metadata": {},
     "outputs": [
      {
       "metadata": {},
       "output_type": "pyout",
       "prompt_number": 172,
       "text": [
        "<matplotlib.collections.PathCollection at 0x1216ea850>"
       ]
      },
      {
       "metadata": {},
       "output_type": "display_data",
       "png": "[encoded data removed]",
       "text": [
        "<matplotlib.figure.Figure at 0x121561690>"
       ]
      }
     ],
     "prompt_number": 172
    },
    {
     "cell_type": "code",
     "collapsed": false,
     "input": [
      "# Looks like a model using cdc_cnt as an input does a mildly OK job of leveling by year, with the\n",
      "# exception that it's not going to extrapolate well to the test year 2012"
     ],
     "language": "python",
     "metadata": {},
     "outputs": []
    },
    {
     "cell_type": "code",
     "collapsed": false,
     "input": [],
     "language": "python",
     "metadata": {},
     "outputs": []
    },
    {
     "cell_type": "heading",
     "level": 2,
     "metadata": {},
     "source": [
      "Fit and Tune a Final Model"
     ]
    },
    {
     "cell_type": "code",
     "collapsed": false,
     "input": [
      "# Use cross fold validation by year (leave one out) and use mean ROC_AUC as key metric"
     ],
     "language": "python",
     "metadata": {},
     "outputs": [],
     "prompt_number": 173
    },
    {
     "cell_type": "code",
     "collapsed": false,
     "input": [
      "# number of iterations\n",
      "\n",
      "param_test1 = {'n_estimators':range(20,101,10)}\n",
      "gsearch1 = GridSearchCV(gbm0, param_grid = param_test1, scoring='roc_auc', cv=LeaveOneGroupOut(), n_jobs=3)\n",
      "gsearch1.fit(train_X_clean, train5['WNV_T1'],groups=train4['year'])"
     ],
     "language": "python",
     "metadata": {},
     "outputs": [
      {
       "metadata": {},
       "output_type": "pyout",
       "prompt_number": 174,
       "text": [
        "GridSearchCV(cv=LeaveOneGroupOut(), error_score='raise',\n",
        "       estimator=GradientBoostingClassifier(criterion='friedman_mse', init=None,\n",
        "              learning_rate=0.05, loss='deviance', max_depth=3,\n",
        "              max_features=None, max_leaf_nodes=None,\n",
        "              min_impurity_split=1e-07, min_samples_leaf=5,\n",
        "              min_samples_split=20, min_weight_fraction_leaf=0.0,\n",
        "              n_estimators=100, presort='auto', random_state=537254,\n",
        "              subsample=0.5, verbose=0, warm_start=False),\n",
        "       fit_params={}, iid=True, n_jobs=3,\n",
        "       param_grid={'n_estimators': [20, 30, 40, 50, 60, 70, 80, 90, 100]},\n",
        "       pre_dispatch='2*n_jobs', refit=True, return_train_score=True,\n",
        "       scoring='roc_auc', verbose=0)"
       ]
      }
     ],
     "prompt_number": 174
    },
    {
     "cell_type": "code",
     "collapsed": false,
     "input": [
      "gsearch_res(gsearch1)  # 85 iterations is ok for param tuning at learning rate = .05"
     ],
     "language": "python",
     "metadata": {},
     "outputs": [
      {
       "html": [
        "<div style=\"max-width:1500px;overflow:auto;\">\n",
        "<table border=\"1\" class=\"dataframe\">\n",
        "  <thead>\n",
        "    <tr style=\"text-align: right;\">\n",
        "      <th></th>\n",
        "      <th>params</th>\n",
        "      <th>mean</th>\n",
        "      <th>cv1</th>\n",
        "      <th>cv2</th>\n",
        "      <th>cv3</th>\n",
        "      <th>cv4</th>\n",
        "    </tr>\n",
        "  </thead>\n",
        "  <tbody>\n",
        "    <tr>\n",
        "      <th>0</th>\n",
        "      <td>{u'n_estimators': 20}</td>\n",
        "      <td>0.764</td>\n",
        "      <td>0.792</td>\n",
        "      <td>0.706</td>\n",
        "      <td>0.840</td>\n",
        "      <td>0.711</td>\n",
        "    </tr>\n",
        "    <tr>\n",
        "      <th>1</th>\n",
        "      <td>{u'n_estimators': 30}</td>\n",
        "      <td>0.759</td>\n",
        "      <td>0.787</td>\n",
        "      <td>0.723</td>\n",
        "      <td>0.824</td>\n",
        "      <td>0.694</td>\n",
        "    </tr>\n",
        "    <tr>\n",
        "      <th>2</th>\n",
        "      <td>{u'n_estimators': 40}</td>\n",
        "      <td>0.770</td>\n",
        "      <td>0.798</td>\n",
        "      <td>0.725</td>\n",
        "      <td>0.829</td>\n",
        "      <td>0.717</td>\n",
        "    </tr>\n",
        "    <tr>\n",
        "      <th>3</th>\n",
        "      <td>{u'n_estimators': 50}</td>\n",
        "      <td>0.771</td>\n",
        "      <td>0.785</td>\n",
        "      <td>0.751</td>\n",
        "      <td>0.818</td>\n",
        "      <td>0.727</td>\n",
        "    </tr>\n",
        "    <tr>\n",
        "      <th>4</th>\n",
        "      <td>{u'n_estimators': 60}</td>\n",
        "      <td>0.769</td>\n",
        "      <td>0.768</td>\n",
        "      <td>0.757</td>\n",
        "      <td>0.836</td>\n",
        "      <td>0.725</td>\n",
        "    </tr>\n",
        "    <tr>\n",
        "      <th>5</th>\n",
        "      <td>{u'n_estimators': 70}</td>\n",
        "      <td>0.775</td>\n",
        "      <td>0.783</td>\n",
        "      <td>0.757</td>\n",
        "      <td>0.841</td>\n",
        "      <td>0.723</td>\n",
        "    </tr>\n",
        "    <tr>\n",
        "      <th>6</th>\n",
        "      <td>{u'n_estimators': 80}</td>\n",
        "      <td>0.777</td>\n",
        "      <td>0.784</td>\n",
        "      <td>0.761</td>\n",
        "      <td>0.843</td>\n",
        "      <td>0.727</td>\n",
        "    </tr>\n",
        "    <tr>\n",
        "      <th>7</th>\n",
        "      <td>{u'n_estimators': 90}</td>\n",
        "      <td>0.777</td>\n",
        "      <td>0.780</td>\n",
        "      <td>0.767</td>\n",
        "      <td>0.839</td>\n",
        "      <td>0.728</td>\n",
        "    </tr>\n",
        "    <tr>\n",
        "      <th>8</th>\n",
        "      <td>{u'n_estimators': 100}</td>\n",
        "      <td>0.773</td>\n",
        "      <td>0.768</td>\n",
        "      <td>0.766</td>\n",
        "      <td>0.840</td>\n",
        "      <td>0.729</td>\n",
        "    </tr>\n",
        "  </tbody>\n",
        "</table>\n",
        "</div>"
       ],
       "metadata": {},
       "output_type": "pyout",
       "prompt_number": 175,
       "text": [
        "                   params   mean    cv1    cv2    cv3    cv4\n",
        "0   {u'n_estimators': 20}  0.764  0.792  0.706  0.840  0.711\n",
        "1   {u'n_estimators': 30}  0.759  0.787  0.723  0.824  0.694\n",
        "2   {u'n_estimators': 40}  0.770  0.798  0.725  0.829  0.717\n",
        "3   {u'n_estimators': 50}  0.771  0.785  0.751  0.818  0.727\n",
        "4   {u'n_estimators': 60}  0.769  0.768  0.757  0.836  0.725\n",
        "5   {u'n_estimators': 70}  0.775  0.783  0.757  0.841  0.723\n",
        "6   {u'n_estimators': 80}  0.777  0.784  0.761  0.843  0.727\n",
        "7   {u'n_estimators': 90}  0.777  0.780  0.767  0.839  0.728\n",
        "8  {u'n_estimators': 100}  0.773  0.768  0.766  0.840  0.729"
       ]
      }
     ],
     "prompt_number": 175
    },
    {
     "cell_type": "code",
     "collapsed": false,
     "input": [
      "# max_depth and min_samples_split\n",
      "\n",
      "gbm1 = GradientBoostingClassifier(n_estimators=85,\n",
      "               learning_rate=.05,\n",
      "               max_depth=3,\n",
      "               min_samples_leaf=5,\n",
      "               min_samples_split=20,\n",
      "               subsample=.5,\n",
      "               verbose=0,\n",
      "               random_state=537254)\n",
      "\n",
      "param_test2 = {'max_depth':range(3,8,1), 'min_samples_split':range(10,51,5)}\n",
      "gsearch2 = GridSearchCV(gbm1, param_grid = param_test2, scoring='roc_auc', cv=LeaveOneGroupOut(), n_jobs=3)\n",
      "gsearch2.fit(train_X_clean, train5['WNV_T1'],groups=train4['year'])"
     ],
     "language": "python",
     "metadata": {},
     "outputs": [
      {
       "metadata": {},
       "output_type": "pyout",
       "prompt_number": 177,
       "text": [
        "GridSearchCV(cv=LeaveOneGroupOut(), error_score='raise',\n",
        "       estimator=GradientBoostingClassifier(criterion='friedman_mse', init=None,\n",
        "              learning_rate=0.05, loss='deviance', max_depth=3,\n",
        "              max_features=None, max_leaf_nodes=None,\n",
        "              min_impurity_split=1e-07, min_samples_leaf=5,\n",
        "              min_samples_split=20, min_weight_fraction_leaf=0.0,\n",
        "              n_estimators=85, presort='auto', random_state=537254,\n",
        "              subsample=0.5, verbose=0, warm_start=False),\n",
        "       fit_params={}, iid=True, n_jobs=3,\n",
        "       param_grid={'min_samples_split': [10, 15, 20, 25, 30, 35, 40, 45, 50], 'max_depth': [3, 4, 5, 6, 7]},\n",
        "       pre_dispatch='2*n_jobs', refit=True, return_train_score=True,\n",
        "       scoring='roc_auc', verbose=0)"
       ]
      }
     ],
     "prompt_number": 177
    },
    {
     "cell_type": "code",
     "collapsed": false,
     "input": [
      "gsearch_res(gsearch2).sort_values(by='mean',ascending=False)  # max_depth=3, and min_samples_split 10"
     ],
     "language": "python",
     "metadata": {},
     "outputs": [
      {
       "html": [
        "<div style=\"max-width:1500px;overflow:auto;\">\n",
        "<table border=\"1\" class=\"dataframe\">\n",
        "  <thead>\n",
        "    <tr style=\"text-align: right;\">\n",
        "      <th></th>\n",
        "      <th>params</th>\n",
        "      <th>mean</th>\n",
        "      <th>cv1</th>\n",
        "      <th>cv2</th>\n",
        "      <th>cv3</th>\n",
        "      <th>cv4</th>\n",
        "    </tr>\n",
        "  </thead>\n",
        "  <tbody>\n",
        "    <tr>\n",
        "      <th>0</th>\n",
        "      <td>{u'min_samples_split': 10, u'max_depth': 3}</td>\n",
        "      <td>0.782</td>\n",
        "      <td>0.803</td>\n",
        "      <td>0.778</td>\n",
        "      <td>0.814</td>\n",
        "      <td>0.725</td>\n",
        "    </tr>\n",
        "    <tr>\n",
        "      <th>6</th>\n",
        "      <td>{u'min_samples_split': 40, u'max_depth': 3}</td>\n",
        "      <td>0.781</td>\n",
        "      <td>0.800</td>\n",
        "      <td>0.761</td>\n",
        "      <td>0.832</td>\n",
        "      <td>0.726</td>\n",
        "    </tr>\n",
        "    <tr>\n",
        "      <th>8</th>\n",
        "      <td>{u'min_samples_split': 50, u'max_depth': 3}</td>\n",
        "      <td>0.780</td>\n",
        "      <td>0.793</td>\n",
        "      <td>0.774</td>\n",
        "      <td>0.826</td>\n",
        "      <td>0.728</td>\n",
        "    </tr>\n",
        "    <tr>\n",
        "      <th>1</th>\n",
        "      <td>{u'min_samples_split': 15, u'max_depth': 3}</td>\n",
        "      <td>0.780</td>\n",
        "      <td>0.794</td>\n",
        "      <td>0.767</td>\n",
        "      <td>0.828</td>\n",
        "      <td>0.729</td>\n",
        "    </tr>\n",
        "    <tr>\n",
        "      <th>2</th>\n",
        "      <td>{u'min_samples_split': 20, u'max_depth': 3}</td>\n",
        "      <td>0.775</td>\n",
        "      <td>0.775</td>\n",
        "      <td>0.764</td>\n",
        "      <td>0.839</td>\n",
        "      <td>0.729</td>\n",
        "    </tr>\n",
        "    <tr>\n",
        "      <th>7</th>\n",
        "      <td>{u'min_samples_split': 45, u'max_depth': 3}</td>\n",
        "      <td>0.775</td>\n",
        "      <td>0.782</td>\n",
        "      <td>0.761</td>\n",
        "      <td>0.828</td>\n",
        "      <td>0.730</td>\n",
        "    </tr>\n",
        "    <tr>\n",
        "      <th>4</th>\n",
        "      <td>{u'min_samples_split': 30, u'max_depth': 3}</td>\n",
        "      <td>0.769</td>\n",
        "      <td>0.761</td>\n",
        "      <td>0.762</td>\n",
        "      <td>0.840</td>\n",
        "      <td>0.728</td>\n",
        "    </tr>\n",
        "    <tr>\n",
        "      <th>5</th>\n",
        "      <td>{u'min_samples_split': 35, u'max_depth': 3}</td>\n",
        "      <td>0.769</td>\n",
        "      <td>0.765</td>\n",
        "      <td>0.762</td>\n",
        "      <td>0.832</td>\n",
        "      <td>0.728</td>\n",
        "    </tr>\n",
        "    <tr>\n",
        "      <th>3</th>\n",
        "      <td>{u'min_samples_split': 25, u'max_depth': 3}</td>\n",
        "      <td>0.768</td>\n",
        "      <td>0.756</td>\n",
        "      <td>0.768</td>\n",
        "      <td>0.840</td>\n",
        "      <td>0.726</td>\n",
        "    </tr>\n",
        "    <tr>\n",
        "      <th>23</th>\n",
        "      <td>{u'min_samples_split': 35, u'max_depth': 5}</td>\n",
        "      <td>0.767</td>\n",
        "      <td>0.756</td>\n",
        "      <td>0.738</td>\n",
        "      <td>0.853</td>\n",
        "      <td>0.739</td>\n",
        "    </tr>\n",
        "    <tr>\n",
        "      <th>25</th>\n",
        "      <td>{u'min_samples_split': 45, u'max_depth': 5}</td>\n",
        "      <td>0.763</td>\n",
        "      <td>0.760</td>\n",
        "      <td>0.751</td>\n",
        "      <td>0.816</td>\n",
        "      <td>0.732</td>\n",
        "    </tr>\n",
        "    <tr>\n",
        "      <th>42</th>\n",
        "      <td>{u'min_samples_split': 40, u'max_depth': 7}</td>\n",
        "      <td>0.760</td>\n",
        "      <td>0.764</td>\n",
        "      <td>0.698</td>\n",
        "      <td>0.836</td>\n",
        "      <td>0.747</td>\n",
        "    </tr>\n",
        "    <tr>\n",
        "      <th>20</th>\n",
        "      <td>{u'min_samples_split': 20, u'max_depth': 5}</td>\n",
        "      <td>0.753</td>\n",
        "      <td>0.721</td>\n",
        "      <td>0.750</td>\n",
        "      <td>0.830</td>\n",
        "      <td>0.742</td>\n",
        "    </tr>\n",
        "    <tr>\n",
        "      <th>22</th>\n",
        "      <td>{u'min_samples_split': 30, u'max_depth': 5}</td>\n",
        "      <td>0.753</td>\n",
        "      <td>0.716</td>\n",
        "      <td>0.761</td>\n",
        "      <td>0.829</td>\n",
        "      <td>0.739</td>\n",
        "    </tr>\n",
        "    <tr>\n",
        "      <th>44</th>\n",
        "      <td>{u'min_samples_split': 50, u'max_depth': 7}</td>\n",
        "      <td>0.749</td>\n",
        "      <td>0.731</td>\n",
        "      <td>0.721</td>\n",
        "      <td>0.830</td>\n",
        "      <td>0.735</td>\n",
        "    </tr>\n",
        "    <tr>\n",
        "      <th>26</th>\n",
        "      <td>{u'min_samples_split': 50, u'max_depth': 5}</td>\n",
        "      <td>0.748</td>\n",
        "      <td>0.698</td>\n",
        "      <td>0.749</td>\n",
        "      <td>0.851</td>\n",
        "      <td>0.739</td>\n",
        "    </tr>\n",
        "    <tr>\n",
        "      <th>31</th>\n",
        "      <td>{u'min_samples_split': 30, u'max_depth': 6}</td>\n",
        "      <td>0.746</td>\n",
        "      <td>0.704</td>\n",
        "      <td>0.740</td>\n",
        "      <td>0.825</td>\n",
        "      <td>0.750</td>\n",
        "    </tr>\n",
        "    <tr>\n",
        "      <th>21</th>\n",
        "      <td>{u'min_samples_split': 25, u'max_depth': 5}</td>\n",
        "      <td>0.745</td>\n",
        "      <td>0.686</td>\n",
        "      <td>0.750</td>\n",
        "      <td>0.834</td>\n",
        "      <td>0.756</td>\n",
        "    </tr>\n",
        "    <tr>\n",
        "      <th>43</th>\n",
        "      <td>{u'min_samples_split': 45, u'max_depth': 7}</td>\n",
        "      <td>0.744</td>\n",
        "      <td>0.698</td>\n",
        "      <td>0.736</td>\n",
        "      <td>0.833</td>\n",
        "      <td>0.748</td>\n",
        "    </tr>\n",
        "    <tr>\n",
        "      <th>35</th>\n",
        "      <td>{u'min_samples_split': 50, u'max_depth': 6}</td>\n",
        "      <td>0.738</td>\n",
        "      <td>0.715</td>\n",
        "      <td>0.705</td>\n",
        "      <td>0.818</td>\n",
        "      <td>0.737</td>\n",
        "    </tr>\n",
        "    <tr>\n",
        "      <th>15</th>\n",
        "      <td>{u'min_samples_split': 40, u'max_depth': 4}</td>\n",
        "      <td>0.737</td>\n",
        "      <td>0.681</td>\n",
        "      <td>0.730</td>\n",
        "      <td>0.846</td>\n",
        "      <td>0.738</td>\n",
        "    </tr>\n",
        "    <tr>\n",
        "      <th>27</th>\n",
        "      <td>{u'min_samples_split': 10, u'max_depth': 6}</td>\n",
        "      <td>0.734</td>\n",
        "      <td>0.687</td>\n",
        "      <td>0.717</td>\n",
        "      <td>0.822</td>\n",
        "      <td>0.749</td>\n",
        "    </tr>\n",
        "    <tr>\n",
        "      <th>29</th>\n",
        "      <td>{u'min_samples_split': 20, u'max_depth': 6}</td>\n",
        "      <td>0.734</td>\n",
        "      <td>0.679</td>\n",
        "      <td>0.715</td>\n",
        "      <td>0.847</td>\n",
        "      <td>0.743</td>\n",
        "    </tr>\n",
        "    <tr>\n",
        "      <th>39</th>\n",
        "      <td>{u'min_samples_split': 25, u'max_depth': 7}</td>\n",
        "      <td>0.733</td>\n",
        "      <td>0.685</td>\n",
        "      <td>0.708</td>\n",
        "      <td>0.830</td>\n",
        "      <td>0.750</td>\n",
        "    </tr>\n",
        "    <tr>\n",
        "      <th>18</th>\n",
        "      <td>{u'min_samples_split': 10, u'max_depth': 5}</td>\n",
        "      <td>0.733</td>\n",
        "      <td>0.667</td>\n",
        "      <td>0.762</td>\n",
        "      <td>0.818</td>\n",
        "      <td>0.735</td>\n",
        "    </tr>\n",
        "    <tr>\n",
        "      <th>34</th>\n",
        "      <td>{u'min_samples_split': 45, u'max_depth': 6}</td>\n",
        "      <td>0.731</td>\n",
        "      <td>0.672</td>\n",
        "      <td>0.732</td>\n",
        "      <td>0.831</td>\n",
        "      <td>0.738</td>\n",
        "    </tr>\n",
        "    <tr>\n",
        "      <th>41</th>\n",
        "      <td>{u'min_samples_split': 35, u'max_depth': 7}</td>\n",
        "      <td>0.731</td>\n",
        "      <td>0.658</td>\n",
        "      <td>0.721</td>\n",
        "      <td>0.848</td>\n",
        "      <td>0.756</td>\n",
        "    </tr>\n",
        "    <tr>\n",
        "      <th>30</th>\n",
        "      <td>{u'min_samples_split': 25, u'max_depth': 6}</td>\n",
        "      <td>0.730</td>\n",
        "      <td>0.675</td>\n",
        "      <td>0.700</td>\n",
        "      <td>0.845</td>\n",
        "      <td>0.746</td>\n",
        "    </tr>\n",
        "    <tr>\n",
        "      <th>16</th>\n",
        "      <td>{u'min_samples_split': 45, u'max_depth': 4}</td>\n",
        "      <td>0.729</td>\n",
        "      <td>0.668</td>\n",
        "      <td>0.727</td>\n",
        "      <td>0.827</td>\n",
        "      <td>0.744</td>\n",
        "    </tr>\n",
        "    <tr>\n",
        "      <th>38</th>\n",
        "      <td>{u'min_samples_split': 20, u'max_depth': 7}</td>\n",
        "      <td>0.729</td>\n",
        "      <td>0.684</td>\n",
        "      <td>0.699</td>\n",
        "      <td>0.808</td>\n",
        "      <td>0.761</td>\n",
        "    </tr>\n",
        "    <tr>\n",
        "      <th>14</th>\n",
        "      <td>{u'min_samples_split': 35, u'max_depth': 4}</td>\n",
        "      <td>0.729</td>\n",
        "      <td>0.656</td>\n",
        "      <td>0.733</td>\n",
        "      <td>0.846</td>\n",
        "      <td>0.743</td>\n",
        "    </tr>\n",
        "    <tr>\n",
        "      <th>17</th>\n",
        "      <td>{u'min_samples_split': 50, u'max_depth': 4}</td>\n",
        "      <td>0.726</td>\n",
        "      <td>0.649</td>\n",
        "      <td>0.730</td>\n",
        "      <td>0.844</td>\n",
        "      <td>0.742</td>\n",
        "    </tr>\n",
        "    <tr>\n",
        "      <th>37</th>\n",
        "      <td>{u'min_samples_split': 15, u'max_depth': 7}</td>\n",
        "      <td>0.724</td>\n",
        "      <td>0.678</td>\n",
        "      <td>0.690</td>\n",
        "      <td>0.833</td>\n",
        "      <td>0.737</td>\n",
        "    </tr>\n",
        "    <tr>\n",
        "      <th>40</th>\n",
        "      <td>{u'min_samples_split': 30, u'max_depth': 7}</td>\n",
        "      <td>0.722</td>\n",
        "      <td>0.676</td>\n",
        "      <td>0.696</td>\n",
        "      <td>0.820</td>\n",
        "      <td>0.735</td>\n",
        "    </tr>\n",
        "    <tr>\n",
        "      <th>28</th>\n",
        "      <td>{u'min_samples_split': 15, u'max_depth': 6}</td>\n",
        "      <td>0.720</td>\n",
        "      <td>0.653</td>\n",
        "      <td>0.727</td>\n",
        "      <td>0.812</td>\n",
        "      <td>0.742</td>\n",
        "    </tr>\n",
        "    <tr>\n",
        "      <th>36</th>\n",
        "      <td>{u'min_samples_split': 10, u'max_depth': 7}</td>\n",
        "      <td>0.719</td>\n",
        "      <td>0.649</td>\n",
        "      <td>0.694</td>\n",
        "      <td>0.832</td>\n",
        "      <td>0.758</td>\n",
        "    </tr>\n",
        "    <tr>\n",
        "      <th>9</th>\n",
        "      <td>{u'min_samples_split': 10, u'max_depth': 4}</td>\n",
        "      <td>0.719</td>\n",
        "      <td>0.619</td>\n",
        "      <td>0.743</td>\n",
        "      <td>0.851</td>\n",
        "      <td>0.742</td>\n",
        "    </tr>\n",
        "    <tr>\n",
        "      <th>32</th>\n",
        "      <td>{u'min_samples_split': 35, u'max_depth': 6}</td>\n",
        "      <td>0.718</td>\n",
        "      <td>0.640</td>\n",
        "      <td>0.709</td>\n",
        "      <td>0.837</td>\n",
        "      <td>0.749</td>\n",
        "    </tr>\n",
        "    <tr>\n",
        "      <th>33</th>\n",
        "      <td>{u'min_samples_split': 40, u'max_depth': 6}</td>\n",
        "      <td>0.718</td>\n",
        "      <td>0.648</td>\n",
        "      <td>0.724</td>\n",
        "      <td>0.806</td>\n",
        "      <td>0.748</td>\n",
        "    </tr>\n",
        "    <tr>\n",
        "      <th>24</th>\n",
        "      <td>{u'min_samples_split': 40, u'max_depth': 5}</td>\n",
        "      <td>0.717</td>\n",
        "      <td>0.609</td>\n",
        "      <td>0.750</td>\n",
        "      <td>0.838</td>\n",
        "      <td>0.754</td>\n",
        "    </tr>\n",
        "    <tr>\n",
        "      <th>12</th>\n",
        "      <td>{u'min_samples_split': 25, u'max_depth': 4}</td>\n",
        "      <td>0.716</td>\n",
        "      <td>0.637</td>\n",
        "      <td>0.717</td>\n",
        "      <td>0.828</td>\n",
        "      <td>0.744</td>\n",
        "    </tr>\n",
        "    <tr>\n",
        "      <th>19</th>\n",
        "      <td>{u'min_samples_split': 15, u'max_depth': 5}</td>\n",
        "      <td>0.709</td>\n",
        "      <td>0.592</td>\n",
        "      <td>0.762</td>\n",
        "      <td>0.834</td>\n",
        "      <td>0.737</td>\n",
        "    </tr>\n",
        "    <tr>\n",
        "      <th>10</th>\n",
        "      <td>{u'min_samples_split': 15, u'max_depth': 4}</td>\n",
        "      <td>0.706</td>\n",
        "      <td>0.596</td>\n",
        "      <td>0.727</td>\n",
        "      <td>0.842</td>\n",
        "      <td>0.745</td>\n",
        "    </tr>\n",
        "    <tr>\n",
        "      <th>11</th>\n",
        "      <td>{u'min_samples_split': 20, u'max_depth': 4}</td>\n",
        "      <td>0.702</td>\n",
        "      <td>0.604</td>\n",
        "      <td>0.716</td>\n",
        "      <td>0.833</td>\n",
        "      <td>0.733</td>\n",
        "    </tr>\n",
        "    <tr>\n",
        "      <th>13</th>\n",
        "      <td>{u'min_samples_split': 30, u'max_depth': 4}</td>\n",
        "      <td>0.696</td>\n",
        "      <td>0.585</td>\n",
        "      <td>0.715</td>\n",
        "      <td>0.826</td>\n",
        "      <td>0.743</td>\n",
        "    </tr>\n",
        "  </tbody>\n",
        "</table>\n",
        "</div>"
       ],
       "metadata": {},
       "output_type": "pyout",
       "prompt_number": 178,
       "text": [
        "                                         params   mean    cv1    cv2    cv3  \\\n",
        "0   {u'min_samples_split': 10, u'max_depth': 3}  0.782  0.803  0.778  0.814   \n",
        "6   {u'min_samples_split': 40, u'max_depth': 3}  0.781  0.800  0.761  0.832   \n",
        "8   {u'min_samples_split': 50, u'max_depth': 3}  0.780  0.793  0.774  0.826   \n",
        "1   {u'min_samples_split': 15, u'max_depth': 3}  0.780  0.794  0.767  0.828   \n",
        "2   {u'min_samples_split': 20, u'max_depth': 3}  0.775  0.775  0.764  0.839   \n",
        "7   {u'min_samples_split': 45, u'max_depth': 3}  0.775  0.782  0.761  0.828   \n",
        "4   {u'min_samples_split': 30, u'max_depth': 3}  0.769  0.761  0.762  0.840   \n",
        "5   {u'min_samples_split': 35, u'max_depth': 3}  0.769  0.765  0.762  0.832   \n",
        "3   {u'min_samples_split': 25, u'max_depth': 3}  0.768  0.756  0.768  0.840   \n",
        "23  {u'min_samples_split': 35, u'max_depth': 5}  0.767  0.756  0.738  0.853   \n",
        "25  {u'min_samples_split': 45, u'max_depth': 5}  0.763  0.760  0.751  0.816   \n",
        "42  {u'min_samples_split': 40, u'max_depth': 7}  0.760  0.764  0.698  0.836   \n",
        "20  {u'min_samples_split': 20, u'max_depth': 5}  0.753  0.721  0.750  0.830   \n",
        "22  {u'min_samples_split': 30, u'max_depth': 5}  0.753  0.716  0.761  0.829   \n",
        "44  {u'min_samples_split': 50, u'max_depth': 7}  0.749  0.731  0.721  0.830   \n",
        "26  {u'min_samples_split': 50, u'max_depth': 5}  0.748  0.698  0.749  0.851   \n",
        "31  {u'min_samples_split': 30, u'max_depth': 6}  0.746  0.704  0.740  0.825   \n",
        "21  {u'min_samples_split': 25, u'max_depth': 5}  0.745  0.686  0.750  0.834   \n",
        "43  {u'min_samples_split': 45, u'max_depth': 7}  0.744  0.698  0.736  0.833   \n",
        "35  {u'min_samples_split': 50, u'max_depth': 6}  0.738  0.715  0.705  0.818   \n",
        "15  {u'min_samples_split': 40, u'max_depth': 4}  0.737  0.681  0.730  0.846   \n",
        "27  {u'min_samples_split': 10, u'max_depth': 6}  0.734  0.687  0.717  0.822   \n",
        "29  {u'min_samples_split': 20, u'max_depth': 6}  0.734  0.679  0.715  0.847   \n",
        "39  {u'min_samples_split': 25, u'max_depth': 7}  0.733  0.685  0.708  0.830   \n",
        "18  {u'min_samples_split': 10, u'max_depth': 5}  0.733  0.667  0.762  0.818   \n",
        "34  {u'min_samples_split': 45, u'max_depth': 6}  0.731  0.672  0.732  0.831   \n",
        "41  {u'min_samples_split': 35, u'max_depth': 7}  0.731  0.658  0.721  0.848   \n",
        "30  {u'min_samples_split': 25, u'max_depth': 6}  0.730  0.675  0.700  0.845   \n",
        "16  {u'min_samples_split': 45, u'max_depth': 4}  0.729  0.668  0.727  0.827   \n",
        "38  {u'min_samples_split': 20, u'max_depth': 7}  0.729  0.684  0.699  0.808   \n",
        "14  {u'min_samples_split': 35, u'max_depth': 4}  0.729  0.656  0.733  0.846   \n",
        "17  {u'min_samples_split': 50, u'max_depth': 4}  0.726  0.649  0.730  0.844   \n",
        "37  {u'min_samples_split': 15, u'max_depth': 7}  0.724  0.678  0.690  0.833   \n",
        "40  {u'min_samples_split': 30, u'max_depth': 7}  0.722  0.676  0.696  0.820   \n",
        "28  {u'min_samples_split': 15, u'max_depth': 6}  0.720  0.653  0.727  0.812   \n",
        "36  {u'min_samples_split': 10, u'max_depth': 7}  0.719  0.649  0.694  0.832   \n",
        "9   {u'min_samples_split': 10, u'max_depth': 4}  0.719  0.619  0.743  0.851   \n",
        "32  {u'min_samples_split': 35, u'max_depth': 6}  0.718  0.640  0.709  0.837   \n",
        "33  {u'min_samples_split': 40, u'max_depth': 6}  0.718  0.648  0.724  0.806   \n",
        "24  {u'min_samples_split': 40, u'max_depth': 5}  0.717  0.609  0.750  0.838   \n",
        "12  {u'min_samples_split': 25, u'max_depth': 4}  0.716  0.637  0.717  0.828   \n",
        "19  {u'min_samples_split': 15, u'max_depth': 5}  0.709  0.592  0.762  0.834   \n",
        "10  {u'min_samples_split': 15, u'max_depth': 4}  0.706  0.596  0.727  0.842   \n",
        "11  {u'min_samples_split': 20, u'max_depth': 4}  0.702  0.604  0.716  0.833   \n",
        "13  {u'min_samples_split': 30, u'max_depth': 4}  0.696  0.585  0.715  0.826   \n",
        "\n",
        "      cv4  \n",
        "0   0.725  \n",
        "6   0.726  \n",
        "8   0.728  \n",
        "1   0.729  \n",
        "2   0.729  \n",
        "7   0.730  \n",
        "4   0.728  \n",
        "5   0.728  \n",
        "3   0.726  \n",
        "23  0.739  \n",
        "25  0.732  \n",
        "42  0.747  \n",
        "20  0.742  \n",
        "22  0.739  \n",
        "44  0.735  \n",
        "26  0.739  \n",
        "31  0.750  \n",
        "21  0.756  \n",
        "43  0.748  \n",
        "35  0.737  \n",
        "15  0.738  \n",
        "27  0.749  \n",
        "29  0.743  \n",
        "39  0.750  \n",
        "18  0.735  \n",
        "34  0.738  \n",
        "41  0.756  \n",
        "30  0.746  \n",
        "16  0.744  \n",
        "38  0.761  \n",
        "14  0.743  \n",
        "17  0.742  \n",
        "37  0.737  \n",
        "40  0.735  \n",
        "28  0.742  \n",
        "36  0.758  \n",
        "9   0.742  \n",
        "32  0.749  \n",
        "33  0.748  \n",
        "24  0.754  \n",
        "12  0.744  \n",
        "19  0.737  \n",
        "10  0.745  \n",
        "11  0.733  \n",
        "13  0.743  "
       ]
      }
     ],
     "prompt_number": 178
    },
    {
     "cell_type": "code",
     "collapsed": false,
     "input": [
      "gbm2 = GradientBoostingClassifier(n_estimators=85,\n",
      "               learning_rate=.05,\n",
      "               max_depth=3,\n",
      "               min_samples_leaf=5,\n",
      "               min_samples_split=10,\n",
      "               subsample=.5,\n",
      "               verbose=0,\n",
      "               random_state=537254)\n",
      "\n",
      "param_test3 = {'min_samples_leaf':range(1,6,1)}\n",
      "gsearch3 = GridSearchCV(gbm2, param_grid = param_test3, scoring='roc_auc', cv=LeaveOneGroupOut(), n_jobs=3)\n",
      "gsearch3.fit(train_X_clean, train5['WNV_T1'],groups=train4['year'])"
     ],
     "language": "python",
     "metadata": {},
     "outputs": [
      {
       "metadata": {},
       "output_type": "pyout",
       "prompt_number": 179,
       "text": [
        "GridSearchCV(cv=LeaveOneGroupOut(), error_score='raise',\n",
        "       estimator=GradientBoostingClassifier(criterion='friedman_mse', init=None,\n",
        "              learning_rate=0.05, loss='deviance', max_depth=3,\n",
        "              max_features=None, max_leaf_nodes=None,\n",
        "              min_impurity_split=1e-07, min_samples_leaf=5,\n",
        "              min_samples_split=10, min_weight_fraction_leaf=0.0,\n",
        "              n_estimators=85, presort='auto', random_state=537254,\n",
        "              subsample=0.5, verbose=0, warm_start=False),\n",
        "       fit_params={}, iid=True, n_jobs=3,\n",
        "       param_grid={'min_samples_leaf': [1, 2, 3, 4, 5]},\n",
        "       pre_dispatch='2*n_jobs', refit=True, return_train_score=True,\n",
        "       scoring='roc_auc', verbose=0)"
       ]
      }
     ],
     "prompt_number": 179
    },
    {
     "cell_type": "code",
     "collapsed": false,
     "input": [
      "gsearch_res(gsearch3).sort_values(by='mean',ascending=False)  # min_samples_leaf 4"
     ],
     "language": "python",
     "metadata": {},
     "outputs": [
      {
       "html": [
        "<div style=\"max-width:1500px;overflow:auto;\">\n",
        "<table border=\"1\" class=\"dataframe\">\n",
        "  <thead>\n",
        "    <tr style=\"text-align: right;\">\n",
        "      <th></th>\n",
        "      <th>params</th>\n",
        "      <th>mean</th>\n",
        "      <th>cv1</th>\n",
        "      <th>cv2</th>\n",
        "      <th>cv3</th>\n",
        "      <th>cv4</th>\n",
        "    </tr>\n",
        "  </thead>\n",
        "  <tbody>\n",
        "    <tr>\n",
        "      <th>3</th>\n",
        "      <td>{u'min_samples_leaf': 4}</td>\n",
        "      <td>0.788</td>\n",
        "      <td>0.810</td>\n",
        "      <td>0.771</td>\n",
        "      <td>0.817</td>\n",
        "      <td>0.743</td>\n",
        "    </tr>\n",
        "    <tr>\n",
        "      <th>4</th>\n",
        "      <td>{u'min_samples_leaf': 5}</td>\n",
        "      <td>0.782</td>\n",
        "      <td>0.803</td>\n",
        "      <td>0.778</td>\n",
        "      <td>0.814</td>\n",
        "      <td>0.725</td>\n",
        "    </tr>\n",
        "    <tr>\n",
        "      <th>2</th>\n",
        "      <td>{u'min_samples_leaf': 3}</td>\n",
        "      <td>0.764</td>\n",
        "      <td>0.737</td>\n",
        "      <td>0.762</td>\n",
        "      <td>0.847</td>\n",
        "      <td>0.740</td>\n",
        "    </tr>\n",
        "    <tr>\n",
        "      <th>0</th>\n",
        "      <td>{u'min_samples_leaf': 1}</td>\n",
        "      <td>0.759</td>\n",
        "      <td>0.734</td>\n",
        "      <td>0.747</td>\n",
        "      <td>0.845</td>\n",
        "      <td>0.737</td>\n",
        "    </tr>\n",
        "    <tr>\n",
        "      <th>1</th>\n",
        "      <td>{u'min_samples_leaf': 2}</td>\n",
        "      <td>0.745</td>\n",
        "      <td>0.712</td>\n",
        "      <td>0.747</td>\n",
        "      <td>0.826</td>\n",
        "      <td>0.724</td>\n",
        "    </tr>\n",
        "  </tbody>\n",
        "</table>\n",
        "</div>"
       ],
       "metadata": {},
       "output_type": "pyout",
       "prompt_number": 180,
       "text": [
        "                     params   mean    cv1    cv2    cv3    cv4\n",
        "3  {u'min_samples_leaf': 4}  0.788  0.810  0.771  0.817  0.743\n",
        "4  {u'min_samples_leaf': 5}  0.782  0.803  0.778  0.814  0.725\n",
        "2  {u'min_samples_leaf': 3}  0.764  0.737  0.762  0.847  0.740\n",
        "0  {u'min_samples_leaf': 1}  0.759  0.734  0.747  0.845  0.737\n",
        "1  {u'min_samples_leaf': 2}  0.745  0.712  0.747  0.826  0.724"
       ]
      }
     ],
     "prompt_number": 180
    },
    {
     "cell_type": "code",
     "collapsed": false,
     "input": [
      "gbm3 = GradientBoostingClassifier(n_estimators=85,\n",
      "               learning_rate=.05,\n",
      "               max_depth=3,\n",
      "               min_samples_leaf=4,\n",
      "               min_samples_split=10,\n",
      "               max_features=23,\n",
      "               subsample=.5,\n",
      "               verbose=0,\n",
      "               random_state=537254)\n",
      "\n",
      "param_test4 = {'max_features':range(12,58,3)}\n",
      "gsearch4 = GridSearchCV(gbm3, param_grid = param_test4, scoring='roc_auc', cv=LeaveOneGroupOut(), n_jobs=3)\n",
      "gsearch4.fit(train_X_clean, train5['WNV_T1'],groups=train4['year'])"
     ],
     "language": "python",
     "metadata": {},
     "outputs": [
      {
       "metadata": {},
       "output_type": "pyout",
       "prompt_number": 181,
       "text": [
        "GridSearchCV(cv=LeaveOneGroupOut(), error_score='raise',\n",
        "       estimator=GradientBoostingClassifier(criterion='friedman_mse', init=None,\n",
        "              learning_rate=0.05, loss='deviance', max_depth=3,\n",
        "              max_features=23, max_leaf_nodes=None,\n",
        "              min_impurity_split=1e-07, min_samples_leaf=4,\n",
        "              min_samples_split=10, min_weight_fraction_leaf=0.0,\n",
        "              n_estimators=85, presort='auto', random_state=537254,\n",
        "              subsample=0.5, verbose=0, warm_start=False),\n",
        "       fit_params={}, iid=True, n_jobs=3,\n",
        "       param_grid={'max_features': [12, 15, 18, 21, 24, 27, 30, 33, 36, 39, 42, 45, 48, 51, 54, 57]},\n",
        "       pre_dispatch='2*n_jobs', refit=True, return_train_score=True,\n",
        "       scoring='roc_auc', verbose=0)"
       ]
      }
     ],
     "prompt_number": 181
    },
    {
     "cell_type": "code",
     "collapsed": false,
     "input": [
      "gsearch_res(gsearch4).sort_values(by='mean',ascending=False)  # max_features 27"
     ],
     "language": "python",
     "metadata": {},
     "outputs": [
      {
       "html": [
        "<div style=\"max-width:1500px;overflow:auto;\">\n",
        "<table border=\"1\" class=\"dataframe\">\n",
        "  <thead>\n",
        "    <tr style=\"text-align: right;\">\n",
        "      <th></th>\n",
        "      <th>params</th>\n",
        "      <th>mean</th>\n",
        "      <th>cv1</th>\n",
        "      <th>cv2</th>\n",
        "      <th>cv3</th>\n",
        "      <th>cv4</th>\n",
        "    </tr>\n",
        "  </thead>\n",
        "  <tbody>\n",
        "    <tr>\n",
        "      <th>5</th>\n",
        "      <td>{u'max_features': 27}</td>\n",
        "      <td>0.818</td>\n",
        "      <td>0.888</td>\n",
        "      <td>0.787</td>\n",
        "      <td>0.826</td>\n",
        "      <td>0.728</td>\n",
        "    </tr>\n",
        "    <tr>\n",
        "      <th>12</th>\n",
        "      <td>{u'max_features': 48}</td>\n",
        "      <td>0.815</td>\n",
        "      <td>0.881</td>\n",
        "      <td>0.776</td>\n",
        "      <td>0.852</td>\n",
        "      <td>0.716</td>\n",
        "    </tr>\n",
        "    <tr>\n",
        "      <th>6</th>\n",
        "      <td>{u'max_features': 30}</td>\n",
        "      <td>0.814</td>\n",
        "      <td>0.886</td>\n",
        "      <td>0.770</td>\n",
        "      <td>0.826</td>\n",
        "      <td>0.729</td>\n",
        "    </tr>\n",
        "    <tr>\n",
        "      <th>7</th>\n",
        "      <td>{u'max_features': 33}</td>\n",
        "      <td>0.807</td>\n",
        "      <td>0.875</td>\n",
        "      <td>0.748</td>\n",
        "      <td>0.833</td>\n",
        "      <td>0.735</td>\n",
        "    </tr>\n",
        "    <tr>\n",
        "      <th>14</th>\n",
        "      <td>{u'max_features': 54}</td>\n",
        "      <td>0.804</td>\n",
        "      <td>0.869</td>\n",
        "      <td>0.752</td>\n",
        "      <td>0.832</td>\n",
        "      <td>0.723</td>\n",
        "    </tr>\n",
        "    <tr>\n",
        "      <th>2</th>\n",
        "      <td>{u'max_features': 18}</td>\n",
        "      <td>0.803</td>\n",
        "      <td>0.863</td>\n",
        "      <td>0.778</td>\n",
        "      <td>0.818</td>\n",
        "      <td>0.719</td>\n",
        "    </tr>\n",
        "    <tr>\n",
        "      <th>1</th>\n",
        "      <td>{u'max_features': 15}</td>\n",
        "      <td>0.802</td>\n",
        "      <td>0.854</td>\n",
        "      <td>0.778</td>\n",
        "      <td>0.817</td>\n",
        "      <td>0.728</td>\n",
        "    </tr>\n",
        "    <tr>\n",
        "      <th>3</th>\n",
        "      <td>{u'max_features': 21}</td>\n",
        "      <td>0.801</td>\n",
        "      <td>0.858</td>\n",
        "      <td>0.748</td>\n",
        "      <td>0.832</td>\n",
        "      <td>0.732</td>\n",
        "    </tr>\n",
        "    <tr>\n",
        "      <th>9</th>\n",
        "      <td>{u'max_features': 39}</td>\n",
        "      <td>0.797</td>\n",
        "      <td>0.860</td>\n",
        "      <td>0.742</td>\n",
        "      <td>0.816</td>\n",
        "      <td>0.733</td>\n",
        "    </tr>\n",
        "    <tr>\n",
        "      <th>11</th>\n",
        "      <td>{u'max_features': 45}</td>\n",
        "      <td>0.794</td>\n",
        "      <td>0.838</td>\n",
        "      <td>0.761</td>\n",
        "      <td>0.834</td>\n",
        "      <td>0.720</td>\n",
        "    </tr>\n",
        "    <tr>\n",
        "      <th>4</th>\n",
        "      <td>{u'max_features': 24}</td>\n",
        "      <td>0.789</td>\n",
        "      <td>0.831</td>\n",
        "      <td>0.751</td>\n",
        "      <td>0.828</td>\n",
        "      <td>0.724</td>\n",
        "    </tr>\n",
        "    <tr>\n",
        "      <th>10</th>\n",
        "      <td>{u'max_features': 42}</td>\n",
        "      <td>0.786</td>\n",
        "      <td>0.840</td>\n",
        "      <td>0.745</td>\n",
        "      <td>0.818</td>\n",
        "      <td>0.711</td>\n",
        "    </tr>\n",
        "    <tr>\n",
        "      <th>0</th>\n",
        "      <td>{u'max_features': 12}</td>\n",
        "      <td>0.777</td>\n",
        "      <td>0.806</td>\n",
        "      <td>0.771</td>\n",
        "      <td>0.793</td>\n",
        "      <td>0.723</td>\n",
        "    </tr>\n",
        "    <tr>\n",
        "      <th>8</th>\n",
        "      <td>{u'max_features': 36}</td>\n",
        "      <td>0.775</td>\n",
        "      <td>0.786</td>\n",
        "      <td>0.739</td>\n",
        "      <td>0.859</td>\n",
        "      <td>0.719</td>\n",
        "    </tr>\n",
        "    <tr>\n",
        "      <th>15</th>\n",
        "      <td>{u'max_features': 57}</td>\n",
        "      <td>0.757</td>\n",
        "      <td>0.731</td>\n",
        "      <td>0.758</td>\n",
        "      <td>0.826</td>\n",
        "      <td>0.737</td>\n",
        "    </tr>\n",
        "    <tr>\n",
        "      <th>13</th>\n",
        "      <td>{u'max_features': 51}</td>\n",
        "      <td>0.742</td>\n",
        "      <td>0.701</td>\n",
        "      <td>0.760</td>\n",
        "      <td>0.822</td>\n",
        "      <td>0.721</td>\n",
        "    </tr>\n",
        "  </tbody>\n",
        "</table>\n",
        "</div>"
       ],
       "metadata": {},
       "output_type": "pyout",
       "prompt_number": 182,
       "text": [
        "                   params   mean    cv1    cv2    cv3    cv4\n",
        "5   {u'max_features': 27}  0.818  0.888  0.787  0.826  0.728\n",
        "12  {u'max_features': 48}  0.815  0.881  0.776  0.852  0.716\n",
        "6   {u'max_features': 30}  0.814  0.886  0.770  0.826  0.729\n",
        "7   {u'max_features': 33}  0.807  0.875  0.748  0.833  0.735\n",
        "14  {u'max_features': 54}  0.804  0.869  0.752  0.832  0.723\n",
        "2   {u'max_features': 18}  0.803  0.863  0.778  0.818  0.719\n",
        "1   {u'max_features': 15}  0.802  0.854  0.778  0.817  0.728\n",
        "3   {u'max_features': 21}  0.801  0.858  0.748  0.832  0.732\n",
        "9   {u'max_features': 39}  0.797  0.860  0.742  0.816  0.733\n",
        "11  {u'max_features': 45}  0.794  0.838  0.761  0.834  0.720\n",
        "4   {u'max_features': 24}  0.789  0.831  0.751  0.828  0.724\n",
        "10  {u'max_features': 42}  0.786  0.840  0.745  0.818  0.711\n",
        "0   {u'max_features': 12}  0.777  0.806  0.771  0.793  0.723\n",
        "8   {u'max_features': 36}  0.775  0.786  0.739  0.859  0.719\n",
        "15  {u'max_features': 57}  0.757  0.731  0.758  0.826  0.737\n",
        "13  {u'max_features': 51}  0.742  0.701  0.760  0.822  0.721"
       ]
      }
     ],
     "prompt_number": 182
    },
    {
     "cell_type": "code",
     "collapsed": false,
     "input": [
      "gbm4 = GradientBoostingClassifier(n_estimators=85,\n",
      "               learning_rate=.05,\n",
      "               max_depth=3,\n",
      "               min_samples_leaf=4,\n",
      "               min_samples_split=10,\n",
      "               max_features=27,\n",
      "               subsample=.5,\n",
      "               verbose=0,\n",
      "               random_state=537254)\n",
      "\n",
      "param_test5 = {'subsample':[.5,.55,0.6,.65,0.7,0.75,0.8,0.85,0.9]}\n",
      "gsearch5 = GridSearchCV(gbm4, param_grid = param_test5, scoring='roc_auc', cv=LeaveOneGroupOut(), n_jobs=3)\n",
      "gsearch5.fit(train_X_clean, train5['WNV_T1'],groups=train4['year'])"
     ],
     "language": "python",
     "metadata": {},
     "outputs": [
      {
       "metadata": {},
       "output_type": "pyout",
       "prompt_number": 183,
       "text": [
        "GridSearchCV(cv=LeaveOneGroupOut(), error_score='raise',\n",
        "       estimator=GradientBoostingClassifier(criterion='friedman_mse', init=None,\n",
        "              learning_rate=0.05, loss='deviance', max_depth=3,\n",
        "              max_features=27, max_leaf_nodes=None,\n",
        "              min_impurity_split=1e-07, min_samples_leaf=4,\n",
        "              min_samples_split=10, min_weight_fraction_leaf=0.0,\n",
        "              n_estimators=85, presort='auto', random_state=537254,\n",
        "              subsample=0.5, verbose=0, warm_start=False),\n",
        "       fit_params={}, iid=True, n_jobs=3,\n",
        "       param_grid={'subsample': [0.5, 0.55, 0.6, 0.65, 0.7, 0.75, 0.8, 0.85, 0.9]},\n",
        "       pre_dispatch='2*n_jobs', refit=True, return_train_score=True,\n",
        "       scoring='roc_auc', verbose=0)"
       ]
      }
     ],
     "prompt_number": 183
    },
    {
     "cell_type": "code",
     "collapsed": false,
     "input": [
      "gsearch_res(gsearch5).sort_values(by='mean',ascending=False)  # subsample .55"
     ],
     "language": "python",
     "metadata": {},
     "outputs": [
      {
       "html": [
        "<div style=\"max-width:1500px;overflow:auto;\">\n",
        "<table border=\"1\" class=\"dataframe\">\n",
        "  <thead>\n",
        "    <tr style=\"text-align: right;\">\n",
        "      <th></th>\n",
        "      <th>params</th>\n",
        "      <th>mean</th>\n",
        "      <th>cv1</th>\n",
        "      <th>cv2</th>\n",
        "      <th>cv3</th>\n",
        "      <th>cv4</th>\n",
        "    </tr>\n",
        "  </thead>\n",
        "  <tbody>\n",
        "    <tr>\n",
        "      <th>1</th>\n",
        "      <td>{u'subsample': 0.55}</td>\n",
        "      <td>0.825</td>\n",
        "      <td>0.890</td>\n",
        "      <td>0.799</td>\n",
        "      <td>0.832</td>\n",
        "      <td>0.738</td>\n",
        "    </tr>\n",
        "    <tr>\n",
        "      <th>0</th>\n",
        "      <td>{u'subsample': 0.5}</td>\n",
        "      <td>0.818</td>\n",
        "      <td>0.888</td>\n",
        "      <td>0.787</td>\n",
        "      <td>0.826</td>\n",
        "      <td>0.728</td>\n",
        "    </tr>\n",
        "    <tr>\n",
        "      <th>3</th>\n",
        "      <td>{u'subsample': 0.65}</td>\n",
        "      <td>0.815</td>\n",
        "      <td>0.877</td>\n",
        "      <td>0.776</td>\n",
        "      <td>0.838</td>\n",
        "      <td>0.732</td>\n",
        "    </tr>\n",
        "    <tr>\n",
        "      <th>6</th>\n",
        "      <td>{u'subsample': 0.8}</td>\n",
        "      <td>0.815</td>\n",
        "      <td>0.883</td>\n",
        "      <td>0.765</td>\n",
        "      <td>0.842</td>\n",
        "      <td>0.731</td>\n",
        "    </tr>\n",
        "    <tr>\n",
        "      <th>2</th>\n",
        "      <td>{u'subsample': 0.6}</td>\n",
        "      <td>0.814</td>\n",
        "      <td>0.878</td>\n",
        "      <td>0.783</td>\n",
        "      <td>0.818</td>\n",
        "      <td>0.739</td>\n",
        "    </tr>\n",
        "    <tr>\n",
        "      <th>4</th>\n",
        "      <td>{u'subsample': 0.7}</td>\n",
        "      <td>0.811</td>\n",
        "      <td>0.884</td>\n",
        "      <td>0.775</td>\n",
        "      <td>0.811</td>\n",
        "      <td>0.730</td>\n",
        "    </tr>\n",
        "    <tr>\n",
        "      <th>7</th>\n",
        "      <td>{u'subsample': 0.85}</td>\n",
        "      <td>0.807</td>\n",
        "      <td>0.864</td>\n",
        "      <td>0.759</td>\n",
        "      <td>0.831</td>\n",
        "      <td>0.743</td>\n",
        "    </tr>\n",
        "    <tr>\n",
        "      <th>8</th>\n",
        "      <td>{u'subsample': 0.9}</td>\n",
        "      <td>0.806</td>\n",
        "      <td>0.877</td>\n",
        "      <td>0.753</td>\n",
        "      <td>0.828</td>\n",
        "      <td>0.724</td>\n",
        "    </tr>\n",
        "    <tr>\n",
        "      <th>5</th>\n",
        "      <td>{u'subsample': 0.75}</td>\n",
        "      <td>0.802</td>\n",
        "      <td>0.871</td>\n",
        "      <td>0.754</td>\n",
        "      <td>0.815</td>\n",
        "      <td>0.725</td>\n",
        "    </tr>\n",
        "  </tbody>\n",
        "</table>\n",
        "</div>"
       ],
       "metadata": {},
       "output_type": "pyout",
       "prompt_number": 184,
       "text": [
        "                 params   mean    cv1    cv2    cv3    cv4\n",
        "1  {u'subsample': 0.55}  0.825  0.890  0.799  0.832  0.738\n",
        "0   {u'subsample': 0.5}  0.818  0.888  0.787  0.826  0.728\n",
        "3  {u'subsample': 0.65}  0.815  0.877  0.776  0.838  0.732\n",
        "6   {u'subsample': 0.8}  0.815  0.883  0.765  0.842  0.731\n",
        "2   {u'subsample': 0.6}  0.814  0.878  0.783  0.818  0.739\n",
        "4   {u'subsample': 0.7}  0.811  0.884  0.775  0.811  0.730\n",
        "7  {u'subsample': 0.85}  0.807  0.864  0.759  0.831  0.743\n",
        "8   {u'subsample': 0.9}  0.806  0.877  0.753  0.828  0.724\n",
        "5  {u'subsample': 0.75}  0.802  0.871  0.754  0.815  0.725"
       ]
      }
     ],
     "prompt_number": 184
    },
    {
     "cell_type": "code",
     "collapsed": false,
     "input": [
      "gbm5 = GradientBoostingClassifier(n_estimators=85,\n",
      "               learning_rate=.05,\n",
      "               max_depth=3,\n",
      "               min_samples_leaf=4,\n",
      "               min_samples_split=10,\n",
      "               max_features=27,\n",
      "               subsample=.55,\n",
      "               verbose=0,\n",
      "               random_state=537254)\n",
      "\n",
      "cv(gbm0)\n",
      "cv(gbm5)"
     ],
     "language": "python",
     "metadata": {},
     "outputs": [
      {
       "output_type": "stream",
       "stream": "stdout",
       "text": [
        "Mean CV Score :  0.775944456244\n",
        "Raw CV Scores :  [ 0.76848158  0.7659633   0.83985694  0.72947601]\n"
       ]
      },
      {
       "output_type": "stream",
       "stream": "stdout",
       "text": [
        "Mean CV Score :  0.814699707739\n",
        "Raw CV Scores :  [ 0.89021515  0.79852524  0.83163441  0.73842403]\n"
       ]
      },
      {
       "metadata": {},
       "output_type": "pyout",
       "prompt_number": 185,
       "text": [
        "GradientBoostingClassifier(criterion='friedman_mse', init=None,\n",
        "              learning_rate=0.05, loss='deviance', max_depth=3,\n",
        "              max_features=27, max_leaf_nodes=None,\n",
        "              min_impurity_split=1e-07, min_samples_leaf=4,\n",
        "              min_samples_split=10, min_weight_fraction_leaf=0.0,\n",
        "              n_estimators=85, presort='auto', random_state=537254,\n",
        "              subsample=0.55, verbose=0, warm_start=False)"
       ]
      }
     ],
     "prompt_number": 185
    },
    {
     "cell_type": "code",
     "collapsed": false,
     "input": [
      "gbm6 = GradientBoostingClassifier(n_estimators=4000,\n",
      "               learning_rate=.001,\n",
      "               max_depth=3,\n",
      "               min_samples_leaf=4,\n",
      "               min_samples_split=10,\n",
      "               max_features=27,\n",
      "               subsample=.55,\n",
      "               verbose=1,\n",
      "               random_state=537254)"
     ],
     "language": "python",
     "metadata": {},
     "outputs": [],
     "prompt_number": 195
    },
    {
     "cell_type": "code",
     "collapsed": false,
     "input": [
      "gbm6.fit(train_X_clean, train5['WNV_T1'])"
     ],
     "language": "python",
     "metadata": {},
     "outputs": [
      {
       "output_type": "stream",
       "stream": "stdout",
       "text": [
        "      Iter       Train Loss      OOB Improve   Remaining Time \n",
        "         1           0.6972           0.0007           43.52s\n",
        "         2           0.6985           0.0007           45.15s\n",
        "         3           0.7125           0.0007           46.74s\n",
        "         4           0.7076           0.0007           48.09s\n",
        "         5           0.7384           0.0007           46.90s"
       ]
      },
      {
       "output_type": "stream",
       "stream": "stdout",
       "text": [
        "\n",
        "         6           0.7033           0.0007           47.70s\n",
        "         7           0.7112           0.0007           48.87s\n",
        "         8           0.7278           0.0005           48.51s\n",
        "         9           0.7266           0.0006           49.39s"
       ]
      },
      {
       "output_type": "stream",
       "stream": "stdout",
       "text": [
        "\n",
        "        10           0.7118           0.0006           49.24s\n",
        "        20           0.6979           0.0007           47.31s"
       ]
      },
      {
       "output_type": "stream",
       "stream": "stdout",
       "text": [
        "\n",
        "        30           0.6783           0.0006           46.11s"
       ]
      },
      {
       "output_type": "stream",
       "stream": "stdout",
       "text": [
        "\n",
        "        40           0.6760           0.0007           45.37s"
       ]
      },
      {
       "output_type": "stream",
       "stream": "stdout",
       "text": [
        "\n",
        "        50           0.6835           0.0005           45.10s"
       ]
      },
      {
       "output_type": "stream",
       "stream": "stdout",
       "text": [
        "\n",
        "        60           0.6771           0.0005           44.81s"
       ]
      },
      {
       "output_type": "stream",
       "stream": "stdout",
       "text": [
        "\n",
        "        70           0.6617           0.0006           44.48s"
       ]
      },
      {
       "output_type": "stream",
       "stream": "stdout",
       "text": [
        "\n",
        "        80           0.6593           0.0005           44.52s"
       ]
      },
      {
       "output_type": "stream",
       "stream": "stdout",
       "text": [
        "\n",
        "        90           0.6624           0.0005           44.63s"
       ]
      },
      {
       "output_type": "stream",
       "stream": "stdout",
       "text": [
        "\n",
        "       100           0.6584           0.0005           44.47s"
       ]
      },
      {
       "output_type": "stream",
       "stream": "stdout",
       "text": [
        "\n",
        "       200           0.6106           0.0003           41.61s"
       ]
      },
      {
       "output_type": "stream",
       "stream": "stdout",
       "text": [
        "\n",
        "       300           0.5863           0.0003           39.82s"
       ]
      },
      {
       "output_type": "stream",
       "stream": "stdout",
       "text": [
        "\n",
        "       400           0.5774           0.0002           38.58s"
       ]
      },
      {
       "output_type": "stream",
       "stream": "stdout",
       "text": [
        "\n",
        "       500           0.5583           0.0002           37.45s"
       ]
      },
      {
       "output_type": "stream",
       "stream": "stdout",
       "text": [
        "\n",
        "       600           0.5333           0.0002           36.30s"
       ]
      },
      {
       "output_type": "stream",
       "stream": "stdout",
       "text": [
        "\n",
        "       700           0.5154           0.0002           35.15s"
       ]
      },
      {
       "output_type": "stream",
       "stream": "stdout",
       "text": [
        "\n",
        "       800           0.4966           0.0001           34.07s"
       ]
      },
      {
       "output_type": "stream",
       "stream": "stdout",
       "text": [
        "\n",
        "       900           0.4845           0.0001           32.95s"
       ]
      },
      {
       "output_type": "stream",
       "stream": "stdout",
       "text": [
        "\n",
        "      1000           0.4820           0.0001           31.89s"
       ]
      },
      {
       "output_type": "stream",
       "stream": "stdout",
       "text": [
        "\n",
        "      2000           0.4044           0.0000           21.22s"
       ]
      },
      {
       "output_type": "stream",
       "stream": "stdout",
       "text": [
        "\n",
        "      3000           0.3627           0.0000           10.57s"
       ]
      },
      {
       "output_type": "stream",
       "stream": "stdout",
       "text": [
        "\n",
        "      4000           0.3618           0.0000            0.00s"
       ]
      },
      {
       "output_type": "stream",
       "stream": "stdout",
       "text": [
        "\n"
       ]
      },
      {
       "metadata": {},
       "output_type": "pyout",
       "prompt_number": 196,
       "text": [
        "GradientBoostingClassifier(criterion='friedman_mse', init=None,\n",
        "              learning_rate=0.001, loss='deviance', max_depth=3,\n",
        "              max_features=27, max_leaf_nodes=None,\n",
        "              min_impurity_split=1e-07, min_samples_leaf=4,\n",
        "              min_samples_split=10, min_weight_fraction_leaf=0.0,\n",
        "              n_estimators=4000, presort='auto', random_state=537254,\n",
        "              subsample=0.55, verbose=1, warm_start=False)"
       ]
      }
     ],
     "prompt_number": 196
    },
    {
     "cell_type": "code",
     "collapsed": false,
     "input": [
      "cv(gbm6)\n",
      "plt.plot(gbm6.oob_improvement_)\n",
      "pltimps(gbm6,50)"
     ],
     "language": "python",
     "metadata": {},
     "outputs": [
      {
       "output_type": "stream",
       "stream": "stdout",
       "text": [
        "Mean CV Score :  0.802915372859\n",
        "Raw CV Scores :  [ 0.86395678  0.7698243   0.83380496  0.74407544]\n",
        "      Iter       Train Loss      OOB Improve   Remaining Time \n",
        "      Iter       Train Loss      OOB Improve   Remaining Time \n",
        "      Iter       Train Loss      OOB Improve   Remaining Time \n",
        "         1           0.5239           0.0004           54.39s\n",
        "         1           0.7976           0.0008            1.04m\n",
        "         1           0.7596           0.0008           46.45s\n",
        "         2           0.5398           0.0005            1.02m\n",
        "         2           0.8260           0.0008            1.20m\n",
        "         2           0.7882           0.0008           50.63s\n",
        "         3           0.5340           0.0004            1.01m\n",
        "         3           0.8408           0.0007            1.04m\n",
        "         3           0.7905           0.0008           49.63s\n",
        "         4           0.5242           0.0003           55.60s\n",
        "         4           0.8308           0.0006           60.00s\n",
        "         4           0.7768           0.0007           48.71s\n",
        "         5           0.5238           0.0004           55.73s\n",
        "         5           0.8075           0.0006           58.66s\n",
        "         5           0.7688           0.0009           49.64s\n",
        "         6           0.5400           0.0004           53.24s\n",
        "         6           0.8349           0.0007           58.82s\n",
        "         6           0.7836           0.0005           49.05s\n",
        "         7           0.5133           0.0005           51.29s\n",
        "         7           0.8201           0.0008            1.02m\n",
        "         7           0.7691           0.0007           48.31s\n",
        "         8           0.5184           0.0005           50.74s\n",
        "         8           0.8116           0.0007           59.21s\n",
        "         8           0.7740           0.0007           48.90s\n",
        "         9           0.5367           0.0004           52.09s\n",
        "         9           0.8232           0.0007           58.96s\n",
        "         9           0.7707           0.0007           49.02s\n",
        "        10           0.5230           0.0005           50.48s\n",
        "        10           0.8203           0.0007           58.24s\n",
        "        10           0.7814           0.0007           48.29s\n",
        "        20           0.5308           0.0005           44.15s        20           0.7910           0.0007           52.53s        20           0.7408           0.0007           46.33s\n",
        "\n",
        "\n",
        "        30           0.5212           0.0004           41.53s        30           0.8020           0.0006           49.47s        30           0.7662           0.0006           45.35s\n",
        "\n",
        "\n",
        "        40           0.5180           0.0004           40.93s        40           0.7963           0.0006           47.35s        40           0.7693           0.0006           46.54s\n",
        "\n",
        "\n",
        "        50           0.4984           0.0004           40.41s        50           0.7886           0.0006           46.84s        50           0.7431           0.0007           46.36s\n",
        "\n",
        "\n",
        "        60           0.5104           0.0004           40.31s        60           0.7883           0.0006           46.56s        60           0.7350           0.0004           46.19s\n",
        "\n",
        "\n",
        "        70           0.5107           0.0004           39.39s        70           0.7698           0.0006           46.08s        70           0.7152           0.0005           45.75s\n",
        "\n",
        "\n",
        "        80           0.5070           0.0004           38.87s        80           0.7668           0.0004           45.88s        80           0.7155           0.0004           45.00s\n",
        "\n",
        "\n",
        "        90           0.4980           0.0004           38.44s        90           0.7808           0.0005           45.52s        90           0.7301           0.0005           45.47s\n",
        "\n",
        "\n",
        "       100           0.4866           0.0003           38.19s       100           0.7700           0.0006           45.20s       100           0.7172           0.0005           45.64s\n",
        "\n",
        "\n",
        "       200           0.4616           0.0002           36.02s       200           0.7060           0.0004           43.98s       200           0.6749           0.0004           43.88s\n",
        "\n",
        "\n",
        "       300           0.4374           0.0002           34.68s       300           0.6936           0.0003           42.27s       300           0.6267           0.0003           43.02s\n",
        "\n",
        "\n",
        "       400           0.4261           0.0001           33.39s       400           0.6587           0.0002           40.31s       400           0.6076           0.0003           41.95s\n",
        "\n",
        "\n",
        "       500           0.4197           0.0001           32.60s       500           0.6279           0.0002           39.11s       500           0.5838           0.0002           40.52s\n",
        "\n",
        "\n",
        "       600           0.3995           0.0001           31.63s       600           0.6097           0.0002           38.08s       600           0.5642           0.0002           39.14s\n",
        "\n",
        "\n",
        "       700           0.3718           0.0001           30.74s       700           0.5829           0.0001           36.91s       700           0.5601           0.0002           37.87s\n",
        "\n",
        "\n",
        "       800           0.3995           0.0001           29.82s       800           0.5716           0.0001           35.69s       800           0.5429           0.0001           36.60s\n",
        "\n",
        "\n",
        "       900           0.3695           0.0001           28.92s       900           0.5476           0.0001           34.63s       900           0.5046           0.0001           35.60s\n",
        "\n",
        "\n",
        "      1000           0.3825           0.0001           28.03s      1000           0.5670           0.0001           33.58s      1000           0.5190           0.0001           34.34s\n",
        "\n",
        "\n",
        "      2000           0.3273           0.0000           18.73s      2000           0.4690           0.0001           22.31s      2000           0.4357           0.0000           22.78s\n",
        "\n",
        "\n",
        "      3000           0.2976           0.0000            9.31s      3000           0.4259           0.0000           11.14s      3000           0.3801           0.0000           11.40s\n",
        "\n",
        "\n",
        "      4000           0.2886           0.0000            0.00s      4000           0.4102           0.0000            0.00s      4000           0.3611           0.0000            0.00s\n",
        "\n",
        "\n",
        "      Iter       Train Loss      OOB Improve   Remaining Time \n",
        "         1           0.6696           0.0010           46.06s\n",
        "         2           0.6705           0.0009           51.15s\n",
        "         3           0.6630           0.0008           51.24s\n",
        "         4           0.7093           0.0008           55.43s\n",
        "         5           0.6820           0.0009           52.81s\n",
        "         6           0.6559           0.0010           53.11s\n",
        "         7           0.6662           0.0010           52.63s\n",
        "         8           0.6641           0.0008           52.13s\n",
        "         9           0.6928           0.0009           51.82s\n",
        "        10           0.6837           0.0005           51.69s\n",
        "        20           0.6773           0.0005           48.24s\n",
        "        30           0.6633           0.0008           48.57s\n",
        "        40           0.6472           0.0008           48.59s\n",
        "        50           0.6457           0.0006           47.48s\n",
        "        60           0.6295           0.0004           47.06s\n",
        "        70           0.6083           0.0006           46.54s\n",
        "        80           0.6363           0.0006           46.16s\n",
        "        90           0.6105           0.0005           45.96s\n",
        "       100           0.6122           0.0006           45.43s\n",
        "       200           0.5784           0.0004           42.14s\n",
        "       300           0.5338           0.0003           41.55s\n",
        "       400           0.4974           0.0002           40.13s\n",
        "       500           0.4506           0.0002           38.75s\n",
        "       600           0.4417           0.0002           37.28s\n",
        "       700           0.4304           0.0001           35.14s\n",
        "       800           0.4244           0.0001           33.03s\n",
        "       900           0.4137           0.0001           31.27s\n",
        "      1000           0.4013           0.0001           29.72s\n",
        "      2000           0.3266           0.0000           18.06s\n",
        "      3000           0.2993           0.0000            8.73s\n",
        "      4000           0.2704           0.0000            0.00s\n"
       ]
      },
      {
       "metadata": {},
       "output_type": "display_data",
       "png": "[encoded data removed]",
       "text": [
        "<matplotlib.figure.Figure at 0x116150d50>"
       ]
      },
      {
       "metadata": {},
       "output_type": "display_data",
       "png": "[encoded data removed]",
       "text": [
        "<matplotlib.figure.Figure at 0x120a806d0>"
       ]
      }
     ],
     "prompt_number": 197
    },
    {
     "cell_type": "code",
     "collapsed": false,
     "input": [],
     "language": "python",
     "metadata": {},
     "outputs": []
    },
    {
     "cell_type": "code",
     "collapsed": false,
     "input": [],
     "language": "python",
     "metadata": {},
     "outputs": []
    },
    {
     "cell_type": "heading",
     "level": 2,
     "metadata": {},
     "source": [
      "Score Test Set for Evaluation"
     ]
    },
    {
     "cell_type": "code",
     "collapsed": false,
     "input": [
      "def scoring_class(model,file_save):\n",
      "    scores = pd.DataFrame(zip(test['Id'],model.predict_proba(test_X_clean)[:,1]),columns=['Id','WnvPresent'])\n",
      "    print \"score min, max  :\",min(scores['WnvPresent']),max(scores['WnvPresent'])\n",
      "    print \"missing         :\",scores['WnvPresent'].isnull().sum()\n",
      "    print len(scores),len(test)\n",
      "    print scores.head()\n",
      "    print scores['WnvPresent'].hist(bins=40)\n",
      "    scores.to_csv(file_save,index=False)\n",
      "    return scores"
     ],
     "language": "python",
     "metadata": {},
     "outputs": [],
     "prompt_number": 110
    },
    {
     "cell_type": "code",
     "collapsed": false,
     "input": [
      "scores0 = scoring_class(gbm0,'base_12_9.csv')\n",
      "scores6 = scoring_class(gbm6,'refined_12_9.csv')"
     ],
     "language": "python",
     "metadata": {},
     "outputs": [
      {
       "output_type": "stream",
       "stream": "stdout",
       "text": [
        "score min, max  : 0.00989816308064 0.925307853696\n",
        "missing         : 0\n",
        "116293 116293\n",
        "   Id  WnvPresent\n",
        "0   1    0.010780\n",
        "1   2    0.010084\n",
        "2   3    0.010920\n",
        "3   4    0.010780\n",
        "4   5    0.010780\n",
        "Axes(0.125,0.125;0.775x0.775)"
       ]
      },
      {
       "output_type": "stream",
       "stream": "stdout",
       "text": [
        "\n",
        "score min, max  :"
       ]
      },
      {
       "output_type": "stream",
       "stream": "stdout",
       "text": [
        " 0.0131205984974 0.799853548113\n",
        "missing         : 0\n",
        "116293 116293\n",
        "   Id  WnvPresent\n",
        "0   1    0.015353\n",
        "1   2    0.015084\n",
        "2   3    0.016016\n",
        "3   4    0.015345\n",
        "4   5    0.015345\n",
        "Axes(0.125,0.125;0.775x0.775)"
       ]
      },
      {
       "output_type": "stream",
       "stream": "stdout",
       "text": [
        "\n"
       ]
      },
      {
       "metadata": {},
       "output_type": "display_data",
       "png": "[encoded data removed]",
       "text": [
        "<matplotlib.figure.Figure at 0x1218c76d0>"
       ]
      }
     ],
     "prompt_number": 198
    },
    {
     "cell_type": "code",
     "collapsed": false,
     "input": [],
     "language": "python",
     "metadata": {},
     "outputs": []
    }
   ],
   "metadata": {}
  }
 ]
}