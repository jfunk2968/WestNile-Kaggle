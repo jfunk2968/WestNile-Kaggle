{
 "metadata": {
  "name": "",
  "signature": "sha256:531bcb16a82acfc3c7334dd36f0b14645ec051b1159b5ad1109872469fb214c1"
 },
 "nbformat": 3,
 "nbformat_minor": 0,
 "worksheets": [
  {
   "cells": [
    {
     "cell_type": "markdown",
     "metadata": {},
     "source": [
      "###This notebook was used to create Weather data features for the WN Kaggle data, primarly focusing on time series aggregations (mean, min, max, slope) over various time windows (3 days, 1 week, etc.)."
     ]
    },
    {
     "cell_type": "code",
     "collapsed": false,
     "input": [
      "%matplotlib inline\n",
      "\n",
      "import pandas as pd\n",
      "import numpy as np\n",
      "import matplotlib.pyplot as plt\n",
      "import funktions as fk\n",
      "import cPickle as pickle\n",
      "from datetime import datetime"
     ],
     "language": "python",
     "metadata": {},
     "outputs": [],
     "prompt_number": 1
    },
    {
     "cell_type": "code",
     "collapsed": false,
     "input": [
      "wet = pd.read_csv('weather.csv')\n",
      "date_format = \"%Y-%m-%d\"\n",
      "wet['dt'] = wet['Date'].apply(lambda x: datetime.strptime(x, date_format))\n",
      "st1 = wet.loc[wet['Station']==1].copy()   # refresh starting data ...\n",
      "st2 = wet.loc[wet['Station']==2].copy()"
     ],
     "language": "python",
     "metadata": {},
     "outputs": [],
     "prompt_number": 8
    },
    {
     "cell_type": "code",
     "collapsed": false,
     "input": [
      "def agger(df,days,varlist,date):\n",
      "    #time = datetime.now()\n",
      "    \n",
      "    ser = df[varlist].loc[df['dt'].apply(lambda x: ((0 <= (date - x).days) & ((date - x).days < days)))].copy()\n",
      "    #time1 = datetime.now()\n",
      "    #print 't1',(time1-time).microseconds\n",
      "\n",
      "    res = {}\n",
      "    for v in varlist:\n",
      "        res[v] = var_agger(ser[[v]].copy(),v)\n",
      "\n",
      "    return res\n",
      "\n",
      "def var_agger(ser,var):\n",
      "    #timev = datetime.now()\n",
      "    ser.loc[:,var] = pd.to_numeric(ser[var],errors='coerce')\n",
      "\n",
      "    _mean =  np.mean(ser[var])\n",
      "    _max = max(ser[var])\n",
      "    _min = min(ser[var])\n",
      "    \n",
      "    ser['x'] = range(len(ser))\n",
      "    ser['x2'] = ser['x'] - ((len(ser)-1)/2.0)\n",
      "    _slope = np.mean(ser[var]*ser['x2'])\n",
      "    #print 'tv',(datetime.now()-timev).microseconds\n",
      "\n",
      "    return _mean, _min, _max, _slope"
     ],
     "language": "python",
     "metadata": {},
     "outputs": [],
     "prompt_number": 5
    },
    {
     "cell_type": "code",
     "collapsed": false,
     "input": [
      "days = [3,7,14,30]\n",
      "varlist = [u'Tmax', u'Tmin', u'Tavg', u'DewPoint', u'WetBulb', u'Heat', \n",
      "           u'Cool', u'PrecipTotal', u'StnPressure', u'SeaLevel',\n",
      "           u'ResultSpeed', u'ResultDir', u'AvgSpeed']"
     ],
     "language": "python",
     "metadata": {},
     "outputs": [],
     "prompt_number": 6
    },
    {
     "cell_type": "code",
     "collapsed": false,
     "input": [
      "for window in days:\n",
      "    time = datetime.now()\n",
      "    out = st1['dt'].apply(lambda x: agger(st1,window,varlist,x)) \n",
      "    print window, (datetime.now()-time).seconds\n",
      "\n",
      "    for v in varlist:\n",
      "        timev = datetime.now()\n",
      "        st1[v+'_'+str(window)+'_mean']   = out.apply(lambda x: x[v][0])\n",
      "        st1[v+'_'+str(window)+'_max']    = out.apply(lambda x: x[v][2])\n",
      "        st1[v+'_'+str(window)+'_min']    = out.apply(lambda x: x[v][1])\n",
      "        st1[v+'_'+str(window)+'_slope']  = out.apply(lambda x: x[v][3])\n",
      "        print v,(datetime.now()-timev).seconds"
     ],
     "language": "python",
     "metadata": {},
     "outputs": [
      {
       "output_type": "stream",
       "stream": "stdout",
       "text": [
        "3 128\n",
        "Tmax 0\n",
        "Tmin 0\n",
        "Tavg 0\n",
        "DewPoint 0\n",
        "WetBulb 0\n",
        "Heat 0\n",
        "Cool 0\n",
        "PrecipTotal 0\n",
        "StnPressure 0\n",
        "SeaLevel"
       ]
      },
      {
       "output_type": "stream",
       "stream": "stdout",
       "text": [
        " 0\n",
        "ResultSpeed 0\n",
        "ResultDir 0\n",
        "AvgSpeed 0\n",
        "7"
       ]
      },
      {
       "output_type": "stream",
       "stream": "stdout",
       "text": [
        " 125\n",
        "Tmax 0\n",
        "Tmin 0\n",
        "Tavg 0\n",
        "DewPoint 0\n",
        "WetBulb 0\n",
        "Heat 0\n",
        "Cool 0\n",
        "PrecipTotal"
       ]
      },
      {
       "output_type": "stream",
       "stream": "stdout",
       "text": [
        " 0\n",
        "StnPressure 0\n",
        "SeaLevel 0\n",
        "ResultSpeed 0\n",
        "ResultDir 0\n",
        "AvgSpeed 0\n",
        "14"
       ]
      },
      {
       "output_type": "stream",
       "stream": "stdout",
       "text": [
        " 148\n",
        "Tmax 0\n",
        "Tmin 0\n",
        "Tavg 0\n",
        "DewPoint 0\n",
        "WetBulb 0\n",
        "Heat 0\n",
        "Cool 0\n",
        "PrecipTotal"
       ]
      },
      {
       "output_type": "stream",
       "stream": "stdout",
       "text": [
        " 0\n",
        "StnPressure 0\n",
        "SeaLevel 0\n",
        "ResultSpeed 0\n",
        "ResultDir 0\n",
        "AvgSpeed 0\n",
        "30"
       ]
      },
      {
       "output_type": "stream",
       "stream": "stdout",
       "text": [
        " 129\n",
        "Tmax 0\n",
        "Tmin 0\n",
        "Tavg 0\n",
        "DewPoint 0\n",
        "WetBulb 0\n",
        "Heat 0\n",
        "Cool"
       ]
      },
      {
       "output_type": "stream",
       "stream": "stdout",
       "text": [
        " 0\n",
        "PrecipTotal 0\n",
        "StnPressure 0\n",
        "SeaLevel 0\n",
        "ResultSpeed 0\n",
        "ResultDir 0\n",
        "AvgSpeed 0\n"
       ]
      }
     ],
     "prompt_number": 9
    },
    {
     "cell_type": "code",
     "collapsed": false,
     "input": [
      "fk.save_object(st1,'st1_features_final.pkl')"
     ],
     "language": "python",
     "metadata": {},
     "outputs": [],
     "prompt_number": 6
    },
    {
     "cell_type": "code",
     "collapsed": false,
     "input": [
      "for window in days:\n",
      "    time = datetime.now()\n",
      "    out = st2['dt'].apply(lambda x: agger(st2,window,varlist,x)) \n",
      "    print window, (datetime.now()-time).seconds\n",
      "\n",
      "    for v in varlist:\n",
      "        timev = datetime.now()\n",
      "        st2[v+'_'+str(window)+'_mean']   = out.apply(lambda x: x[v][0])\n",
      "        st2[v+'_'+str(window)+'_max']    = out.apply(lambda x: x[v][2])\n",
      "        st2[v+'_'+str(window)+'_min']    = out.apply(lambda x: x[v][1])\n",
      "        st2[v+'_'+str(window)+'_slope']  = out.apply(lambda x: x[v][3])\n",
      "        print v,(datetime.now()-timev).seconds"
     ],
     "language": "python",
     "metadata": {},
     "outputs": [
      {
       "output_type": "stream",
       "stream": "stdout",
       "text": [
        "3 129\n",
        "Tmax"
       ]
      },
      {
       "output_type": "stream",
       "stream": "stdout",
       "text": [
        " 0\n",
        "Tmin"
       ]
      },
      {
       "output_type": "stream",
       "stream": "stdout",
       "text": [
        " 0\n",
        "Tavg"
       ]
      },
      {
       "output_type": "stream",
       "stream": "stdout",
       "text": [
        " 0\n",
        "DewPoint"
       ]
      },
      {
       "output_type": "stream",
       "stream": "stdout",
       "text": [
        " 0\n",
        "WetBulb"
       ]
      },
      {
       "output_type": "stream",
       "stream": "stdout",
       "text": [
        " 0\n",
        "Heat"
       ]
      },
      {
       "output_type": "stream",
       "stream": "stdout",
       "text": [
        " 0\n",
        "Cool"
       ]
      },
      {
       "output_type": "stream",
       "stream": "stdout",
       "text": [
        " 0\n",
        "PrecipTotal"
       ]
      },
      {
       "output_type": "stream",
       "stream": "stdout",
       "text": [
        " 0\n",
        "StnPressure"
       ]
      },
      {
       "output_type": "stream",
       "stream": "stdout",
       "text": [
        " 0\n",
        "SeaLevel"
       ]
      },
      {
       "output_type": "stream",
       "stream": "stdout",
       "text": [
        " 0\n",
        "ResultSpeed"
       ]
      },
      {
       "output_type": "stream",
       "stream": "stdout",
       "text": [
        " 0\n",
        "ResultDir"
       ]
      },
      {
       "output_type": "stream",
       "stream": "stdout",
       "text": [
        " 0\n",
        "AvgSpeed"
       ]
      },
      {
       "output_type": "stream",
       "stream": "stdout",
       "text": [
        " 0\n",
        "7"
       ]
      },
      {
       "output_type": "stream",
       "stream": "stdout",
       "text": [
        " 126\n",
        "Tmax"
       ]
      },
      {
       "output_type": "stream",
       "stream": "stdout",
       "text": [
        " 0\n",
        "Tmin"
       ]
      },
      {
       "output_type": "stream",
       "stream": "stdout",
       "text": [
        " 0\n",
        "Tavg"
       ]
      },
      {
       "output_type": "stream",
       "stream": "stdout",
       "text": [
        " 0\n",
        "DewPoint"
       ]
      },
      {
       "output_type": "stream",
       "stream": "stdout",
       "text": [
        " 0\n",
        "WetBulb"
       ]
      },
      {
       "output_type": "stream",
       "stream": "stdout",
       "text": [
        " 0\n",
        "Heat"
       ]
      },
      {
       "output_type": "stream",
       "stream": "stdout",
       "text": [
        " 0\n",
        "Cool"
       ]
      },
      {
       "output_type": "stream",
       "stream": "stdout",
       "text": [
        " 0\n",
        "PrecipTotal"
       ]
      },
      {
       "output_type": "stream",
       "stream": "stdout",
       "text": [
        " 0\n",
        "StnPressure"
       ]
      },
      {
       "output_type": "stream",
       "stream": "stdout",
       "text": [
        " 0\n",
        "SeaLevel"
       ]
      },
      {
       "output_type": "stream",
       "stream": "stdout",
       "text": [
        " 0\n",
        "ResultSpeed"
       ]
      },
      {
       "output_type": "stream",
       "stream": "stdout",
       "text": [
        " 0\n",
        "ResultDir"
       ]
      },
      {
       "output_type": "stream",
       "stream": "stdout",
       "text": [
        " 0\n",
        "AvgSpeed"
       ]
      },
      {
       "output_type": "stream",
       "stream": "stdout",
       "text": [
        " 0\n",
        "14"
       ]
      },
      {
       "output_type": "stream",
       "stream": "stdout",
       "text": [
        " 126\n",
        "Tmax"
       ]
      },
      {
       "output_type": "stream",
       "stream": "stdout",
       "text": [
        " 0\n",
        "Tmin"
       ]
      },
      {
       "output_type": "stream",
       "stream": "stdout",
       "text": [
        " 0\n",
        "Tavg"
       ]
      },
      {
       "output_type": "stream",
       "stream": "stdout",
       "text": [
        " 0\n",
        "DewPoint"
       ]
      },
      {
       "output_type": "stream",
       "stream": "stdout",
       "text": [
        " 0\n",
        "WetBulb"
       ]
      },
      {
       "output_type": "stream",
       "stream": "stdout",
       "text": [
        " 0\n",
        "Heat"
       ]
      },
      {
       "output_type": "stream",
       "stream": "stdout",
       "text": [
        " 0\n",
        "Cool"
       ]
      },
      {
       "output_type": "stream",
       "stream": "stdout",
       "text": [
        " 0\n",
        "PrecipTotal"
       ]
      },
      {
       "output_type": "stream",
       "stream": "stdout",
       "text": [
        " 0\n",
        "StnPressure"
       ]
      },
      {
       "output_type": "stream",
       "stream": "stdout",
       "text": [
        " 0\n",
        "SeaLevel"
       ]
      },
      {
       "output_type": "stream",
       "stream": "stdout",
       "text": [
        " 0\n",
        "ResultSpeed"
       ]
      },
      {
       "output_type": "stream",
       "stream": "stdout",
       "text": [
        " 0\n",
        "ResultDir"
       ]
      },
      {
       "output_type": "stream",
       "stream": "stdout",
       "text": [
        " 0\n",
        "AvgSpeed"
       ]
      },
      {
       "output_type": "stream",
       "stream": "stdout",
       "text": [
        " 0\n",
        "30"
       ]
      },
      {
       "output_type": "stream",
       "stream": "stdout",
       "text": [
        " 126\n",
        "Tmax"
       ]
      },
      {
       "output_type": "stream",
       "stream": "stdout",
       "text": [
        " 0\n",
        "Tmin"
       ]
      },
      {
       "output_type": "stream",
       "stream": "stdout",
       "text": [
        " 0\n",
        "Tavg"
       ]
      },
      {
       "output_type": "stream",
       "stream": "stdout",
       "text": [
        " 0\n",
        "DewPoint"
       ]
      },
      {
       "output_type": "stream",
       "stream": "stdout",
       "text": [
        " 0\n",
        "WetBulb"
       ]
      },
      {
       "output_type": "stream",
       "stream": "stdout",
       "text": [
        " 0\n",
        "Heat"
       ]
      },
      {
       "output_type": "stream",
       "stream": "stdout",
       "text": [
        " 0\n",
        "Cool"
       ]
      },
      {
       "output_type": "stream",
       "stream": "stdout",
       "text": [
        " 0\n",
        "PrecipTotal"
       ]
      },
      {
       "output_type": "stream",
       "stream": "stdout",
       "text": [
        " 0\n",
        "StnPressure"
       ]
      },
      {
       "output_type": "stream",
       "stream": "stdout",
       "text": [
        " 0\n",
        "SeaLevel"
       ]
      },
      {
       "output_type": "stream",
       "stream": "stdout",
       "text": [
        " 0\n",
        "ResultSpeed"
       ]
      },
      {
       "output_type": "stream",
       "stream": "stdout",
       "text": [
        " 0\n",
        "ResultDir"
       ]
      },
      {
       "output_type": "stream",
       "stream": "stdout",
       "text": [
        " 0\n",
        "AvgSpeed"
       ]
      },
      {
       "output_type": "stream",
       "stream": "stdout",
       "text": [
        " 0\n"
       ]
      }
     ],
     "prompt_number": 9
    },
    {
     "cell_type": "code",
     "collapsed": false,
     "input": [
      "fk.save_object(st2,'st2_features_final.pkl')"
     ],
     "language": "python",
     "metadata": {},
     "outputs": [],
     "prompt_number": 10
    }
   ],
   "metadata": {}
  }
 ]
}