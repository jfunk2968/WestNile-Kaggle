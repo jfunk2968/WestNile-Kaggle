{
 "metadata": {
  "name": "",
  "signature": "sha256:25a574a479f1b174e3bc8f4634ad63c46695ff38f30093bd87334acbc99faf12"
 },
 "nbformat": 3,
 "nbformat_minor": 0,
 "worksheets": [
  {
   "cells": [
    {
     "cell_type": "markdown",
     "metadata": {},
     "source": [
      "###This notebook was used to create features for the WN Kaggle data that reflect number of records seen for a given trap-date-species combination."
     ]
    },
    {
     "cell_type": "code",
     "collapsed": false,
     "input": [
      "%matplotlib inline\n",
      "\n",
      "import pandas as pd\n",
      "import numpy as np\n",
      "import funktions as fk\n",
      "from datetime import datetime\n",
      "import itertools"
     ],
     "language": "python",
     "metadata": {},
     "outputs": [],
     "prompt_number": 2
    },
    {
     "cell_type": "code",
     "collapsed": false,
     "input": [
      "train = pd.read_csv('train.csv')\n",
      "test = pd.read_csv('test.csv')"
     ],
     "language": "python",
     "metadata": {},
     "outputs": [],
     "prompt_number": 3
    },
    {
     "cell_type": "code",
     "collapsed": false,
     "input": [
      "# training set has only records where skeeters caught, so need to pad with filler rows to reflect scoring set\n",
      "train_cnt = train.groupby(['Date','Trap','Species'])['WnvPresent'].count().reset_index()\n",
      "train_cnt.rename(columns = {'WnvPresent':'rec_cnt'}, inplace = True)\n",
      "#train_cnt.head()\n",
      "\n",
      "# all combos of training dates-traps-species (test has 1 additional Species value ...)\n",
      "lists = [list(train['Date'].unique()),list(train['Trap'].unique()),list(test['Species'].unique())]\n",
      "all_comb = pd.DataFrame(list(itertools.product(*lists)),columns=['Date','Trap','Species'])\n",
      "#all_comb.head()\n",
      "\n",
      "train_cnt2 = all_comb.merge(train_cnt,left_on=['Date','Trap','Species'],right_on=['Date','Trap','Species'],how='left')\n",
      "train_cnt2.fillna(1,inplace=True)\n",
      "#train_cnt2.head(20)\n",
      "\n",
      "# test set has at least 1 record for every date-trap-species combo\n",
      "test_cnt = test.groupby(['Date','Trap','Species'])['Id'].count().reset_index()\n",
      "test_cnt.rename(columns = {'Id':'rec_cnt'}, inplace = True)\n",
      "#test_cnt.head()"
     ],
     "language": "python",
     "metadata": {},
     "outputs": [],
     "prompt_number": 10
    },
    {
     "cell_type": "code",
     "collapsed": false,
     "input": [
      "date_format = \"%Y-%m-%d\"\n",
      "train_cnt2['dt'] = train_cnt2['Date'].apply(lambda x: datetime.strptime(x, date_format))\n",
      "test_cnt['dt']  = test_cnt['Date'].apply(lambda x: datetime.strptime(x, date_format))"
     ],
     "language": "python",
     "metadata": {},
     "outputs": [],
     "prompt_number": 11
    },
    {
     "cell_type": "code",
     "collapsed": false,
     "input": [
      "def agger(df,days,date):\n",
      "    chunk = df['dt'].apply(lambda x: ((0 <= (date - x).days) & ((date - x).days < days)))\n",
      "    _mean = np.sum(df['rec_cnt'].loc[chunk])\n",
      "    _min = min(df['rec_cnt'].loc[chunk])\n",
      "    _max = min(df['rec_cnt'].loc[chunk])\n",
      "    return _mean, _min, _max"
     ],
     "language": "python",
     "metadata": {},
     "outputs": [],
     "prompt_number": 12
    },
    {
     "cell_type": "code",
     "collapsed": false,
     "input": [
      "traps = []\n",
      "for trap in train_cnt2['Trap'].unique():\n",
      "    time = datetime.now()\n",
      "    for spec in train_cnt2['Species'].unique():\n",
      "        temp = train_cnt2.loc[((train_cnt2['Trap']==trap) & (train_cnt2['Species']==spec))].copy()\n",
      "\n",
      "        for d in [3,7,14,30,60]:\n",
      "            recs = temp['dt'].apply(lambda x: agger(temp,d,x))  \n",
      "            temp['rec_cnt_'+str(d)+'_sum']= recs.apply(lambda x: x[0])    \n",
      "            temp['rec_cnt_'+str(d)+'_2']= temp['rec_cnt_'+str(d)+'_sum'].apply(lambda x: 1 if x>1 else 0) \n",
      "            temp['rec_cnt_'+str(d)+'_max']= recs.apply(lambda x: x[2])   \n",
      "            temp['rec_cnt_'+str(d)+'_min']= recs.apply(lambda x: x[1])    \n",
      "\n",
      "        traps.append(temp)\n",
      "    print trap,(datetime.now()-time).seconds"
     ],
     "language": "python",
     "metadata": {},
     "outputs": [
      {
       "output_type": "stream",
       "stream": "stdout",
       "text": [
        "T002 14\n",
        "T007"
       ]
      },
      {
       "output_type": "stream",
       "stream": "stdout",
       "text": [
        " 14\n",
        "T015"
       ]
      },
      {
       "output_type": "stream",
       "stream": "stdout",
       "text": [
        " 14\n",
        "T045"
       ]
      },
      {
       "output_type": "stream",
       "stream": "stdout",
       "text": [
        " 14\n",
        "T046"
       ]
      },
      {
       "output_type": "stream",
       "stream": "stdout",
       "text": [
        " 14\n",
        "T048"
       ]
      },
      {
       "output_type": "stream",
       "stream": "stdout",
       "text": [
        " 14\n",
        "T049"
       ]
      },
      {
       "output_type": "stream",
       "stream": "stdout",
       "text": [
        " 14\n",
        "T050"
       ]
      },
      {
       "output_type": "stream",
       "stream": "stdout",
       "text": [
        " 14\n",
        "T054"
       ]
      },
      {
       "output_type": "stream",
       "stream": "stdout",
       "text": [
        " 15\n",
        "T086"
       ]
      },
      {
       "output_type": "stream",
       "stream": "stdout",
       "text": [
        " 15\n",
        "T091"
       ]
      },
      {
       "output_type": "stream",
       "stream": "stdout",
       "text": [
        " 14\n",
        "T094"
       ]
      },
      {
       "output_type": "stream",
       "stream": "stdout",
       "text": [
        " 14\n",
        "T096"
       ]
      },
      {
       "output_type": "stream",
       "stream": "stdout",
       "text": [
        " 14\n",
        "T129"
       ]
      },
      {
       "output_type": "stream",
       "stream": "stdout",
       "text": [
        " 14\n",
        "T143"
       ]
      },
      {
       "output_type": "stream",
       "stream": "stdout",
       "text": [
        " 14\n",
        "T148"
       ]
      },
      {
       "output_type": "stream",
       "stream": "stdout",
       "text": [
        " 14\n",
        "T153"
       ]
      },
      {
       "output_type": "stream",
       "stream": "stdout",
       "text": [
        " 14\n",
        "T159"
       ]
      },
      {
       "output_type": "stream",
       "stream": "stdout",
       "text": [
        " 14\n",
        "T009"
       ]
      },
      {
       "output_type": "stream",
       "stream": "stdout",
       "text": [
        " 14\n",
        "T011"
       ]
      },
      {
       "output_type": "stream",
       "stream": "stdout",
       "text": [
        " 14\n",
        "T016"
       ]
      },
      {
       "output_type": "stream",
       "stream": "stdout",
       "text": [
        " 14\n",
        "T019"
       ]
      },
      {
       "output_type": "stream",
       "stream": "stdout",
       "text": [
        " 14\n",
        "T025"
       ]
      },
      {
       "output_type": "stream",
       "stream": "stdout",
       "text": [
        " 14\n",
        "T028"
       ]
      },
      {
       "output_type": "stream",
       "stream": "stdout",
       "text": [
        " 14\n",
        "T031"
       ]
      },
      {
       "output_type": "stream",
       "stream": "stdout",
       "text": [
        " 14\n",
        "T033"
       ]
      },
      {
       "output_type": "stream",
       "stream": "stdout",
       "text": [
        " 14\n",
        "T089"
       ]
      },
      {
       "output_type": "stream",
       "stream": "stdout",
       "text": [
        " 17\n",
        "T090"
       ]
      },
      {
       "output_type": "stream",
       "stream": "stdout",
       "text": [
        " 16\n",
        "T092"
       ]
      },
      {
       "output_type": "stream",
       "stream": "stdout",
       "text": [
        " 16\n",
        "T135"
       ]
      },
      {
       "output_type": "stream",
       "stream": "stdout",
       "text": [
        " 15\n",
        "T141"
       ]
      },
      {
       "output_type": "stream",
       "stream": "stdout",
       "text": [
        " 15\n",
        "T142"
       ]
      },
      {
       "output_type": "stream",
       "stream": "stdout",
       "text": [
        " 15\n",
        "T145"
       ]
      },
      {
       "output_type": "stream",
       "stream": "stdout",
       "text": [
        " 15\n",
        "T146"
       ]
      },
      {
       "output_type": "stream",
       "stream": "stdout",
       "text": [
        " 14\n",
        "T147"
       ]
      },
      {
       "output_type": "stream",
       "stream": "stdout",
       "text": [
        " 14\n",
        "T149"
       ]
      },
      {
       "output_type": "stream",
       "stream": "stdout",
       "text": [
        " 16\n",
        "T150"
       ]
      },
      {
       "output_type": "stream",
       "stream": "stdout",
       "text": [
        " 14\n",
        "T151"
       ]
      },
      {
       "output_type": "stream",
       "stream": "stdout",
       "text": [
        " 14\n",
        "T152"
       ]
      },
      {
       "output_type": "stream",
       "stream": "stdout",
       "text": [
        " 15\n",
        "T154"
       ]
      },
      {
       "output_type": "stream",
       "stream": "stdout",
       "text": [
        " 15\n",
        "T158"
       ]
      },
      {
       "output_type": "stream",
       "stream": "stdout",
       "text": [
        " 17\n",
        "T162"
       ]
      },
      {
       "output_type": "stream",
       "stream": "stdout",
       "text": [
        " 17\n",
        "T218"
       ]
      },
      {
       "output_type": "stream",
       "stream": "stdout",
       "text": [
        " 15\n",
        "T220"
       ]
      },
      {
       "output_type": "stream",
       "stream": "stdout",
       "text": [
        " 15\n",
        "T001"
       ]
      },
      {
       "output_type": "stream",
       "stream": "stdout",
       "text": [
        " 16\n",
        "T003"
       ]
      },
      {
       "output_type": "stream",
       "stream": "stdout",
       "text": [
        " 16\n",
        "T006"
       ]
      },
      {
       "output_type": "stream",
       "stream": "stdout",
       "text": [
        " 14\n",
        "T008"
       ]
      },
      {
       "output_type": "stream",
       "stream": "stdout",
       "text": [
        " 14\n",
        "T012"
       ]
      },
      {
       "output_type": "stream",
       "stream": "stdout",
       "text": [
        " 14\n",
        "T034"
       ]
      },
      {
       "output_type": "stream",
       "stream": "stdout",
       "text": [
        " 14\n",
        "T037"
       ]
      },
      {
       "output_type": "stream",
       "stream": "stdout",
       "text": [
        " 15\n",
        "T040"
       ]
      },
      {
       "output_type": "stream",
       "stream": "stdout",
       "text": [
        " 15\n",
        "T043"
       ]
      },
      {
       "output_type": "stream",
       "stream": "stdout",
       "text": [
        " 15\n",
        "T047"
       ]
      },
      {
       "output_type": "stream",
       "stream": "stdout",
       "text": [
        " 15\n",
        "T051"
       ]
      },
      {
       "output_type": "stream",
       "stream": "stdout",
       "text": [
        " 15\n",
        "T085"
       ]
      },
      {
       "output_type": "stream",
       "stream": "stdout",
       "text": [
        " 15\n",
        "T088"
       ]
      },
      {
       "output_type": "stream",
       "stream": "stdout",
       "text": [
        " 15\n",
        "T161"
       ]
      },
      {
       "output_type": "stream",
       "stream": "stdout",
       "text": [
        " 15\n",
        "T219"
       ]
      },
      {
       "output_type": "stream",
       "stream": "stdout",
       "text": [
        " 15\n",
        "T013"
       ]
      },
      {
       "output_type": "stream",
       "stream": "stdout",
       "text": [
        " 14\n",
        "T014"
       ]
      },
      {
       "output_type": "stream",
       "stream": "stdout",
       "text": [
        " 14\n",
        "T018"
       ]
      },
      {
       "output_type": "stream",
       "stream": "stdout",
       "text": [
        " 16\n",
        "T030"
       ]
      },
      {
       "output_type": "stream",
       "stream": "stdout",
       "text": [
        " 15\n",
        "T084"
       ]
      },
      {
       "output_type": "stream",
       "stream": "stdout",
       "text": [
        " 14\n",
        "T144"
       ]
      },
      {
       "output_type": "stream",
       "stream": "stdout",
       "text": [
        " 15\n",
        "T160"
       ]
      },
      {
       "output_type": "stream",
       "stream": "stdout",
       "text": [
        " 14\n",
        "T005"
       ]
      },
      {
       "output_type": "stream",
       "stream": "stdout",
       "text": [
        " 14\n",
        "T017"
       ]
      },
      {
       "output_type": "stream",
       "stream": "stdout",
       "text": [
        " 15\n",
        "T044"
       ]
      },
      {
       "output_type": "stream",
       "stream": "stdout",
       "text": [
        " 15\n",
        "T095"
       ]
      },
      {
       "output_type": "stream",
       "stream": "stdout",
       "text": [
        " 16\n",
        "T004"
       ]
      },
      {
       "output_type": "stream",
       "stream": "stdout",
       "text": [
        " 15\n",
        "T035"
       ]
      },
      {
       "output_type": "stream",
       "stream": "stdout",
       "text": [
        " 14\n",
        "T036"
       ]
      },
      {
       "output_type": "stream",
       "stream": "stdout",
       "text": [
        " 15\n",
        "T039"
       ]
      },
      {
       "output_type": "stream",
       "stream": "stdout",
       "text": [
        " 15\n",
        "T060"
       ]
      },
      {
       "output_type": "stream",
       "stream": "stdout",
       "text": [
        " 15\n",
        "T061"
       ]
      },
      {
       "output_type": "stream",
       "stream": "stdout",
       "text": [
        " 14\n",
        "T062"
       ]
      },
      {
       "output_type": "stream",
       "stream": "stdout",
       "text": [
        " 15\n",
        "T065"
       ]
      },
      {
       "output_type": "stream",
       "stream": "stdout",
       "text": [
        " 14\n",
        "T066"
       ]
      },
      {
       "output_type": "stream",
       "stream": "stdout",
       "text": [
        " 14\n",
        "T067"
       ]
      },
      {
       "output_type": "stream",
       "stream": "stdout",
       "text": [
        " 14\n",
        "T069"
       ]
      },
      {
       "output_type": "stream",
       "stream": "stdout",
       "text": [
        " 15\n",
        "T070"
       ]
      },
      {
       "output_type": "stream",
       "stream": "stdout",
       "text": [
        " 15\n",
        "T071"
       ]
      },
      {
       "output_type": "stream",
       "stream": "stdout",
       "text": [
        " 16\n",
        "T073"
       ]
      },
      {
       "output_type": "stream",
       "stream": "stdout",
       "text": [
        " 15\n",
        "T074"
       ]
      },
      {
       "output_type": "stream",
       "stream": "stdout",
       "text": [
        " 15\n",
        "T075"
       ]
      },
      {
       "output_type": "stream",
       "stream": "stdout",
       "text": [
        " 16\n",
        "T076"
       ]
      },
      {
       "output_type": "stream",
       "stream": "stdout",
       "text": [
        " 15\n",
        "T077"
       ]
      },
      {
       "output_type": "stream",
       "stream": "stdout",
       "text": [
        " 16\n",
        "T079"
       ]
      },
      {
       "output_type": "stream",
       "stream": "stdout",
       "text": [
        " 17\n",
        "T080"
       ]
      },
      {
       "output_type": "stream",
       "stream": "stdout",
       "text": [
        " 16\n",
        "T081"
       ]
      },
      {
       "output_type": "stream",
       "stream": "stdout",
       "text": [
        " 16\n",
        "T082"
       ]
      },
      {
       "output_type": "stream",
       "stream": "stdout",
       "text": [
        " 15\n",
        "T083"
       ]
      },
      {
       "output_type": "stream",
       "stream": "stdout",
       "text": [
        " 15\n",
        "T114"
       ]
      },
      {
       "output_type": "stream",
       "stream": "stdout",
       "text": [
        " 15\n",
        "T155"
       ]
      },
      {
       "output_type": "stream",
       "stream": "stdout",
       "text": [
        " 14\n",
        "T063"
       ]
      },
      {
       "output_type": "stream",
       "stream": "stdout",
       "text": [
        " 14\n",
        "T115"
       ]
      },
      {
       "output_type": "stream",
       "stream": "stdout",
       "text": [
        " 15\n",
        "T138"
       ]
      },
      {
       "output_type": "stream",
       "stream": "stdout",
       "text": [
        " 15\n",
        "T200"
       ]
      },
      {
       "output_type": "stream",
       "stream": "stdout",
       "text": [
        " 14\n",
        "T206"
       ]
      },
      {
       "output_type": "stream",
       "stream": "stdout",
       "text": [
        " 14\n",
        "T209"
       ]
      },
      {
       "output_type": "stream",
       "stream": "stdout",
       "text": [
        " 14\n",
        "T212"
       ]
      },
      {
       "output_type": "stream",
       "stream": "stdout",
       "text": [
        " 15\n",
        "T215"
       ]
      },
      {
       "output_type": "stream",
       "stream": "stdout",
       "text": [
        " 14\n",
        "T107"
       ]
      },
      {
       "output_type": "stream",
       "stream": "stdout",
       "text": [
        " 17\n",
        "T128"
       ]
      },
      {
       "output_type": "stream",
       "stream": "stdout",
       "text": [
        " 16\n",
        "T072"
       ]
      },
      {
       "output_type": "stream",
       "stream": "stdout",
       "text": [
        " 16\n",
        "T078"
       ]
      },
      {
       "output_type": "stream",
       "stream": "stdout",
       "text": [
        " 16\n",
        "T097"
       ]
      },
      {
       "output_type": "stream",
       "stream": "stdout",
       "text": [
        " 16\n",
        "T099"
       ]
      },
      {
       "output_type": "stream",
       "stream": "stdout",
       "text": [
        " 14\n",
        "T100"
       ]
      },
      {
       "output_type": "stream",
       "stream": "stdout",
       "text": [
        " 14\n",
        "T102"
       ]
      },
      {
       "output_type": "stream",
       "stream": "stdout",
       "text": [
        " 14\n",
        "T103"
       ]
      },
      {
       "output_type": "stream",
       "stream": "stdout",
       "text": [
        " 14\n",
        "T027"
       ]
      },
      {
       "output_type": "stream",
       "stream": "stdout",
       "text": [
        " 15\n",
        "T156"
       ]
      },
      {
       "output_type": "stream",
       "stream": "stdout",
       "text": [
        " 15\n",
        "T157"
       ]
      },
      {
       "output_type": "stream",
       "stream": "stdout",
       "text": [
        " 14\n",
        "T221"
       ]
      },
      {
       "output_type": "stream",
       "stream": "stdout",
       "text": [
        " 15\n",
        "T900"
       ]
      },
      {
       "output_type": "stream",
       "stream": "stdout",
       "text": [
        " 15\n",
        "T903"
       ]
      },
      {
       "output_type": "stream",
       "stream": "stdout",
       "text": [
        " 17\n",
        "T222"
       ]
      },
      {
       "output_type": "stream",
       "stream": "stdout",
       "text": [
        " 14\n",
        "T223"
       ]
      },
      {
       "output_type": "stream",
       "stream": "stdout",
       "text": [
        " 14\n",
        "T225"
       ]
      },
      {
       "output_type": "stream",
       "stream": "stdout",
       "text": [
        " 14\n",
        "T227"
       ]
      },
      {
       "output_type": "stream",
       "stream": "stdout",
       "text": [
        " 15\n",
        "T224"
       ]
      },
      {
       "output_type": "stream",
       "stream": "stdout",
       "text": [
        " 16\n",
        "T226"
       ]
      },
      {
       "output_type": "stream",
       "stream": "stdout",
       "text": [
        " 16\n",
        "T229"
       ]
      },
      {
       "output_type": "stream",
       "stream": "stdout",
       "text": [
        " 16\n",
        "T230"
       ]
      },
      {
       "output_type": "stream",
       "stream": "stdout",
       "text": [
        " 15\n",
        "T228"
       ]
      },
      {
       "output_type": "stream",
       "stream": "stdout",
       "text": [
        " 15\n",
        "T232"
       ]
      },
      {
       "output_type": "stream",
       "stream": "stdout",
       "text": [
        " 15\n",
        "T231"
       ]
      },
      {
       "output_type": "stream",
       "stream": "stdout",
       "text": [
        " 15\n",
        "T235"
       ]
      },
      {
       "output_type": "stream",
       "stream": "stdout",
       "text": [
        " 15\n",
        "T233"
       ]
      },
      {
       "output_type": "stream",
       "stream": "stdout",
       "text": [
        " 15\n",
        "T236"
       ]
      },
      {
       "output_type": "stream",
       "stream": "stdout",
       "text": [
        " 14\n",
        "T237"
       ]
      },
      {
       "output_type": "stream",
       "stream": "stdout",
       "text": [
        " 14\n",
        "T238"
       ]
      },
      {
       "output_type": "stream",
       "stream": "stdout",
       "text": [
        " 15\n",
        "T094B"
       ]
      },
      {
       "output_type": "stream",
       "stream": "stdout",
       "text": [
        " 15\n",
        "T054C"
       ]
      },
      {
       "output_type": "stream",
       "stream": "stdout",
       "text": [
        " 14\n"
       ]
      }
     ],
     "prompt_number": 20
    },
    {
     "cell_type": "code",
     "collapsed": false,
     "input": [
      "train_traps_cnt = pd.concat(traps,axis=0)\n",
      "print len(train_traps_cnt),len(train_cnt2)"
     ],
     "language": "python",
     "metadata": {},
     "outputs": [
      {
       "output_type": "stream",
       "stream": "stdout",
       "text": [
        "103360 103360\n"
       ]
      }
     ],
     "prompt_number": 22
    },
    {
     "cell_type": "code",
     "collapsed": false,
     "input": [
      "train_traps_cnt.head(20).T"
     ],
     "language": "python",
     "metadata": {},
     "outputs": [
      {
       "html": [
        "<div style=\"max-width:1500px;overflow:auto;\">\n",
        "<table border=\"1\" class=\"dataframe\">\n",
        "  <thead>\n",
        "    <tr style=\"text-align: right;\">\n",
        "      <th></th>\n",
        "      <th>0</th>\n",
        "      <th>1088</th>\n",
        "      <th>2176</th>\n",
        "      <th>3264</th>\n",
        "      <th>4352</th>\n",
        "      <th>5440</th>\n",
        "      <th>6528</th>\n",
        "      <th>7616</th>\n",
        "      <th>8704</th>\n",
        "      <th>9792</th>\n",
        "      <th>10880</th>\n",
        "      <th>11968</th>\n",
        "      <th>13056</th>\n",
        "      <th>14144</th>\n",
        "      <th>15232</th>\n",
        "      <th>16320</th>\n",
        "      <th>17408</th>\n",
        "      <th>18496</th>\n",
        "      <th>19584</th>\n",
        "      <th>20672</th>\n",
        "    </tr>\n",
        "  </thead>\n",
        "  <tbody>\n",
        "    <tr>\n",
        "      <th>Date</th>\n",
        "      <td>2007-05-29</td>\n",
        "      <td>2007-06-05</td>\n",
        "      <td>2007-06-26</td>\n",
        "      <td>2007-06-29</td>\n",
        "      <td>2007-07-02</td>\n",
        "      <td>2007-07-11</td>\n",
        "      <td>2007-07-18</td>\n",
        "      <td>2007-07-19</td>\n",
        "      <td>2007-07-25</td>\n",
        "      <td>2007-07-27</td>\n",
        "      <td>2007-08-01</td>\n",
        "      <td>2007-08-02</td>\n",
        "      <td>2007-08-03</td>\n",
        "      <td>2007-08-07</td>\n",
        "      <td>2007-08-08</td>\n",
        "      <td>2007-08-09</td>\n",
        "      <td>2007-08-15</td>\n",
        "      <td>2007-08-16</td>\n",
        "      <td>2007-08-17</td>\n",
        "      <td>2007-08-21</td>\n",
        "    </tr>\n",
        "    <tr>\n",
        "      <th>Trap</th>\n",
        "      <td>T002</td>\n",
        "      <td>T002</td>\n",
        "      <td>T002</td>\n",
        "      <td>T002</td>\n",
        "      <td>T002</td>\n",
        "      <td>T002</td>\n",
        "      <td>T002</td>\n",
        "      <td>T002</td>\n",
        "      <td>T002</td>\n",
        "      <td>T002</td>\n",
        "      <td>T002</td>\n",
        "      <td>T002</td>\n",
        "      <td>T002</td>\n",
        "      <td>T002</td>\n",
        "      <td>T002</td>\n",
        "      <td>T002</td>\n",
        "      <td>T002</td>\n",
        "      <td>T002</td>\n",
        "      <td>T002</td>\n",
        "      <td>T002</td>\n",
        "    </tr>\n",
        "    <tr>\n",
        "      <th>Species</th>\n",
        "      <td>CULEX PIPIENS/RESTUANS</td>\n",
        "      <td>CULEX PIPIENS/RESTUANS</td>\n",
        "      <td>CULEX PIPIENS/RESTUANS</td>\n",
        "      <td>CULEX PIPIENS/RESTUANS</td>\n",
        "      <td>CULEX PIPIENS/RESTUANS</td>\n",
        "      <td>CULEX PIPIENS/RESTUANS</td>\n",
        "      <td>CULEX PIPIENS/RESTUANS</td>\n",
        "      <td>CULEX PIPIENS/RESTUANS</td>\n",
        "      <td>CULEX PIPIENS/RESTUANS</td>\n",
        "      <td>CULEX PIPIENS/RESTUANS</td>\n",
        "      <td>CULEX PIPIENS/RESTUANS</td>\n",
        "      <td>CULEX PIPIENS/RESTUANS</td>\n",
        "      <td>CULEX PIPIENS/RESTUANS</td>\n",
        "      <td>CULEX PIPIENS/RESTUANS</td>\n",
        "      <td>CULEX PIPIENS/RESTUANS</td>\n",
        "      <td>CULEX PIPIENS/RESTUANS</td>\n",
        "      <td>CULEX PIPIENS/RESTUANS</td>\n",
        "      <td>CULEX PIPIENS/RESTUANS</td>\n",
        "      <td>CULEX PIPIENS/RESTUANS</td>\n",
        "      <td>CULEX PIPIENS/RESTUANS</td>\n",
        "    </tr>\n",
        "    <tr>\n",
        "      <th>rec_cnt</th>\n",
        "      <td>1</td>\n",
        "      <td>1</td>\n",
        "      <td>1</td>\n",
        "      <td>1</td>\n",
        "      <td>1</td>\n",
        "      <td>1</td>\n",
        "      <td>1</td>\n",
        "      <td>1</td>\n",
        "      <td>1</td>\n",
        "      <td>1</td>\n",
        "      <td>3</td>\n",
        "      <td>1</td>\n",
        "      <td>1</td>\n",
        "      <td>1</td>\n",
        "      <td>1</td>\n",
        "      <td>1</td>\n",
        "      <td>1</td>\n",
        "      <td>1</td>\n",
        "      <td>1</td>\n",
        "      <td>1</td>\n",
        "    </tr>\n",
        "    <tr>\n",
        "      <th>dt</th>\n",
        "      <td>2007-05-29 00:00:00</td>\n",
        "      <td>2007-06-05 00:00:00</td>\n",
        "      <td>2007-06-26 00:00:00</td>\n",
        "      <td>2007-06-29 00:00:00</td>\n",
        "      <td>2007-07-02 00:00:00</td>\n",
        "      <td>2007-07-11 00:00:00</td>\n",
        "      <td>2007-07-18 00:00:00</td>\n",
        "      <td>2007-07-19 00:00:00</td>\n",
        "      <td>2007-07-25 00:00:00</td>\n",
        "      <td>2007-07-27 00:00:00</td>\n",
        "      <td>2007-08-01 00:00:00</td>\n",
        "      <td>2007-08-02 00:00:00</td>\n",
        "      <td>2007-08-03 00:00:00</td>\n",
        "      <td>2007-08-07 00:00:00</td>\n",
        "      <td>2007-08-08 00:00:00</td>\n",
        "      <td>2007-08-09 00:00:00</td>\n",
        "      <td>2007-08-15 00:00:00</td>\n",
        "      <td>2007-08-16 00:00:00</td>\n",
        "      <td>2007-08-17 00:00:00</td>\n",
        "      <td>2007-08-21 00:00:00</td>\n",
        "    </tr>\n",
        "    <tr>\n",
        "      <th>rec_cnt_3_sum</th>\n",
        "      <td>1</td>\n",
        "      <td>1</td>\n",
        "      <td>1</td>\n",
        "      <td>1</td>\n",
        "      <td>1</td>\n",
        "      <td>1</td>\n",
        "      <td>1</td>\n",
        "      <td>2</td>\n",
        "      <td>1</td>\n",
        "      <td>2</td>\n",
        "      <td>3</td>\n",
        "      <td>4</td>\n",
        "      <td>5</td>\n",
        "      <td>1</td>\n",
        "      <td>2</td>\n",
        "      <td>3</td>\n",
        "      <td>1</td>\n",
        "      <td>2</td>\n",
        "      <td>3</td>\n",
        "      <td>1</td>\n",
        "    </tr>\n",
        "    <tr>\n",
        "      <th>rec_cnt_3_2</th>\n",
        "      <td>0</td>\n",
        "      <td>0</td>\n",
        "      <td>0</td>\n",
        "      <td>0</td>\n",
        "      <td>0</td>\n",
        "      <td>0</td>\n",
        "      <td>0</td>\n",
        "      <td>1</td>\n",
        "      <td>0</td>\n",
        "      <td>1</td>\n",
        "      <td>1</td>\n",
        "      <td>1</td>\n",
        "      <td>1</td>\n",
        "      <td>0</td>\n",
        "      <td>1</td>\n",
        "      <td>1</td>\n",
        "      <td>0</td>\n",
        "      <td>1</td>\n",
        "      <td>1</td>\n",
        "      <td>0</td>\n",
        "    </tr>\n",
        "    <tr>\n",
        "      <th>rec_cnt_3_max</th>\n",
        "      <td>1</td>\n",
        "      <td>1</td>\n",
        "      <td>1</td>\n",
        "      <td>1</td>\n",
        "      <td>1</td>\n",
        "      <td>1</td>\n",
        "      <td>1</td>\n",
        "      <td>1</td>\n",
        "      <td>1</td>\n",
        "      <td>1</td>\n",
        "      <td>3</td>\n",
        "      <td>1</td>\n",
        "      <td>1</td>\n",
        "      <td>1</td>\n",
        "      <td>1</td>\n",
        "      <td>1</td>\n",
        "      <td>1</td>\n",
        "      <td>1</td>\n",
        "      <td>1</td>\n",
        "      <td>1</td>\n",
        "    </tr>\n",
        "    <tr>\n",
        "      <th>rec_cnt_3_min</th>\n",
        "      <td>1</td>\n",
        "      <td>1</td>\n",
        "      <td>1</td>\n",
        "      <td>1</td>\n",
        "      <td>1</td>\n",
        "      <td>1</td>\n",
        "      <td>1</td>\n",
        "      <td>1</td>\n",
        "      <td>1</td>\n",
        "      <td>1</td>\n",
        "      <td>3</td>\n",
        "      <td>1</td>\n",
        "      <td>1</td>\n",
        "      <td>1</td>\n",
        "      <td>1</td>\n",
        "      <td>1</td>\n",
        "      <td>1</td>\n",
        "      <td>1</td>\n",
        "      <td>1</td>\n",
        "      <td>1</td>\n",
        "    </tr>\n",
        "    <tr>\n",
        "      <th>rec_cnt_7_sum</th>\n",
        "      <td>1</td>\n",
        "      <td>1</td>\n",
        "      <td>1</td>\n",
        "      <td>2</td>\n",
        "      <td>3</td>\n",
        "      <td>1</td>\n",
        "      <td>1</td>\n",
        "      <td>2</td>\n",
        "      <td>2</td>\n",
        "      <td>2</td>\n",
        "      <td>4</td>\n",
        "      <td>5</td>\n",
        "      <td>5</td>\n",
        "      <td>6</td>\n",
        "      <td>4</td>\n",
        "      <td>4</td>\n",
        "      <td>2</td>\n",
        "      <td>2</td>\n",
        "      <td>3</td>\n",
        "      <td>4</td>\n",
        "    </tr>\n",
        "    <tr>\n",
        "      <th>rec_cnt_7_2</th>\n",
        "      <td>0</td>\n",
        "      <td>0</td>\n",
        "      <td>0</td>\n",
        "      <td>1</td>\n",
        "      <td>1</td>\n",
        "      <td>0</td>\n",
        "      <td>0</td>\n",
        "      <td>1</td>\n",
        "      <td>1</td>\n",
        "      <td>1</td>\n",
        "      <td>1</td>\n",
        "      <td>1</td>\n",
        "      <td>1</td>\n",
        "      <td>1</td>\n",
        "      <td>1</td>\n",
        "      <td>1</td>\n",
        "      <td>1</td>\n",
        "      <td>1</td>\n",
        "      <td>1</td>\n",
        "      <td>1</td>\n",
        "    </tr>\n",
        "    <tr>\n",
        "      <th>rec_cnt_7_max</th>\n",
        "      <td>1</td>\n",
        "      <td>1</td>\n",
        "      <td>1</td>\n",
        "      <td>1</td>\n",
        "      <td>1</td>\n",
        "      <td>1</td>\n",
        "      <td>1</td>\n",
        "      <td>1</td>\n",
        "      <td>1</td>\n",
        "      <td>1</td>\n",
        "      <td>1</td>\n",
        "      <td>1</td>\n",
        "      <td>1</td>\n",
        "      <td>1</td>\n",
        "      <td>1</td>\n",
        "      <td>1</td>\n",
        "      <td>1</td>\n",
        "      <td>1</td>\n",
        "      <td>1</td>\n",
        "      <td>1</td>\n",
        "    </tr>\n",
        "    <tr>\n",
        "      <th>rec_cnt_7_min</th>\n",
        "      <td>1</td>\n",
        "      <td>1</td>\n",
        "      <td>1</td>\n",
        "      <td>1</td>\n",
        "      <td>1</td>\n",
        "      <td>1</td>\n",
        "      <td>1</td>\n",
        "      <td>1</td>\n",
        "      <td>1</td>\n",
        "      <td>1</td>\n",
        "      <td>1</td>\n",
        "      <td>1</td>\n",
        "      <td>1</td>\n",
        "      <td>1</td>\n",
        "      <td>1</td>\n",
        "      <td>1</td>\n",
        "      <td>1</td>\n",
        "      <td>1</td>\n",
        "      <td>1</td>\n",
        "      <td>1</td>\n",
        "    </tr>\n",
        "    <tr>\n",
        "      <th>rec_cnt_14_sum</th>\n",
        "      <td>1</td>\n",
        "      <td>2</td>\n",
        "      <td>1</td>\n",
        "      <td>2</td>\n",
        "      <td>3</td>\n",
        "      <td>3</td>\n",
        "      <td>2</td>\n",
        "      <td>3</td>\n",
        "      <td>3</td>\n",
        "      <td>4</td>\n",
        "      <td>6</td>\n",
        "      <td>6</td>\n",
        "      <td>7</td>\n",
        "      <td>8</td>\n",
        "      <td>8</td>\n",
        "      <td>9</td>\n",
        "      <td>6</td>\n",
        "      <td>6</td>\n",
        "      <td>6</td>\n",
        "      <td>6</td>\n",
        "    </tr>\n",
        "    <tr>\n",
        "      <th>rec_cnt_14_2</th>\n",
        "      <td>0</td>\n",
        "      <td>1</td>\n",
        "      <td>0</td>\n",
        "      <td>1</td>\n",
        "      <td>1</td>\n",
        "      <td>1</td>\n",
        "      <td>1</td>\n",
        "      <td>1</td>\n",
        "      <td>1</td>\n",
        "      <td>1</td>\n",
        "      <td>1</td>\n",
        "      <td>1</td>\n",
        "      <td>1</td>\n",
        "      <td>1</td>\n",
        "      <td>1</td>\n",
        "      <td>1</td>\n",
        "      <td>1</td>\n",
        "      <td>1</td>\n",
        "      <td>1</td>\n",
        "      <td>1</td>\n",
        "    </tr>\n",
        "    <tr>\n",
        "      <th>rec_cnt_14_max</th>\n",
        "      <td>1</td>\n",
        "      <td>1</td>\n",
        "      <td>1</td>\n",
        "      <td>1</td>\n",
        "      <td>1</td>\n",
        "      <td>1</td>\n",
        "      <td>1</td>\n",
        "      <td>1</td>\n",
        "      <td>1</td>\n",
        "      <td>1</td>\n",
        "      <td>1</td>\n",
        "      <td>1</td>\n",
        "      <td>1</td>\n",
        "      <td>1</td>\n",
        "      <td>1</td>\n",
        "      <td>1</td>\n",
        "      <td>1</td>\n",
        "      <td>1</td>\n",
        "      <td>1</td>\n",
        "      <td>1</td>\n",
        "    </tr>\n",
        "    <tr>\n",
        "      <th>rec_cnt_14_min</th>\n",
        "      <td>1</td>\n",
        "      <td>1</td>\n",
        "      <td>1</td>\n",
        "      <td>1</td>\n",
        "      <td>1</td>\n",
        "      <td>1</td>\n",
        "      <td>1</td>\n",
        "      <td>1</td>\n",
        "      <td>1</td>\n",
        "      <td>1</td>\n",
        "      <td>1</td>\n",
        "      <td>1</td>\n",
        "      <td>1</td>\n",
        "      <td>1</td>\n",
        "      <td>1</td>\n",
        "      <td>1</td>\n",
        "      <td>1</td>\n",
        "      <td>1</td>\n",
        "      <td>1</td>\n",
        "      <td>1</td>\n",
        "    </tr>\n",
        "    <tr>\n",
        "      <th>rec_cnt_30_sum</th>\n",
        "      <td>1</td>\n",
        "      <td>2</td>\n",
        "      <td>3</td>\n",
        "      <td>3</td>\n",
        "      <td>4</td>\n",
        "      <td>4</td>\n",
        "      <td>5</td>\n",
        "      <td>6</td>\n",
        "      <td>7</td>\n",
        "      <td>7</td>\n",
        "      <td>8</td>\n",
        "      <td>9</td>\n",
        "      <td>10</td>\n",
        "      <td>11</td>\n",
        "      <td>12</td>\n",
        "      <td>13</td>\n",
        "      <td>13</td>\n",
        "      <td>14</td>\n",
        "      <td>14</td>\n",
        "      <td>14</td>\n",
        "    </tr>\n",
        "    <tr>\n",
        "      <th>rec_cnt_30_2</th>\n",
        "      <td>0</td>\n",
        "      <td>1</td>\n",
        "      <td>1</td>\n",
        "      <td>1</td>\n",
        "      <td>1</td>\n",
        "      <td>1</td>\n",
        "      <td>1</td>\n",
        "      <td>1</td>\n",
        "      <td>1</td>\n",
        "      <td>1</td>\n",
        "      <td>1</td>\n",
        "      <td>1</td>\n",
        "      <td>1</td>\n",
        "      <td>1</td>\n",
        "      <td>1</td>\n",
        "      <td>1</td>\n",
        "      <td>1</td>\n",
        "      <td>1</td>\n",
        "      <td>1</td>\n",
        "      <td>1</td>\n",
        "    </tr>\n",
        "    <tr>\n",
        "      <th>rec_cnt_30_max</th>\n",
        "      <td>1</td>\n",
        "      <td>1</td>\n",
        "      <td>1</td>\n",
        "      <td>1</td>\n",
        "      <td>1</td>\n",
        "      <td>1</td>\n",
        "      <td>1</td>\n",
        "      <td>1</td>\n",
        "      <td>1</td>\n",
        "      <td>1</td>\n",
        "      <td>1</td>\n",
        "      <td>1</td>\n",
        "      <td>1</td>\n",
        "      <td>1</td>\n",
        "      <td>1</td>\n",
        "      <td>1</td>\n",
        "      <td>1</td>\n",
        "      <td>1</td>\n",
        "      <td>1</td>\n",
        "      <td>1</td>\n",
        "    </tr>\n",
        "    <tr>\n",
        "      <th>rec_cnt_30_min</th>\n",
        "      <td>1</td>\n",
        "      <td>1</td>\n",
        "      <td>1</td>\n",
        "      <td>1</td>\n",
        "      <td>1</td>\n",
        "      <td>1</td>\n",
        "      <td>1</td>\n",
        "      <td>1</td>\n",
        "      <td>1</td>\n",
        "      <td>1</td>\n",
        "      <td>1</td>\n",
        "      <td>1</td>\n",
        "      <td>1</td>\n",
        "      <td>1</td>\n",
        "      <td>1</td>\n",
        "      <td>1</td>\n",
        "      <td>1</td>\n",
        "      <td>1</td>\n",
        "      <td>1</td>\n",
        "      <td>1</td>\n",
        "    </tr>\n",
        "    <tr>\n",
        "      <th>rec_cnt_60_sum</th>\n",
        "      <td>1</td>\n",
        "      <td>2</td>\n",
        "      <td>3</td>\n",
        "      <td>4</td>\n",
        "      <td>5</td>\n",
        "      <td>6</td>\n",
        "      <td>7</td>\n",
        "      <td>8</td>\n",
        "      <td>9</td>\n",
        "      <td>10</td>\n",
        "      <td>12</td>\n",
        "      <td>13</td>\n",
        "      <td>14</td>\n",
        "      <td>14</td>\n",
        "      <td>15</td>\n",
        "      <td>16</td>\n",
        "      <td>17</td>\n",
        "      <td>18</td>\n",
        "      <td>19</td>\n",
        "      <td>20</td>\n",
        "    </tr>\n",
        "    <tr>\n",
        "      <th>rec_cnt_60_2</th>\n",
        "      <td>0</td>\n",
        "      <td>1</td>\n",
        "      <td>1</td>\n",
        "      <td>1</td>\n",
        "      <td>1</td>\n",
        "      <td>1</td>\n",
        "      <td>1</td>\n",
        "      <td>1</td>\n",
        "      <td>1</td>\n",
        "      <td>1</td>\n",
        "      <td>1</td>\n",
        "      <td>1</td>\n",
        "      <td>1</td>\n",
        "      <td>1</td>\n",
        "      <td>1</td>\n",
        "      <td>1</td>\n",
        "      <td>1</td>\n",
        "      <td>1</td>\n",
        "      <td>1</td>\n",
        "      <td>1</td>\n",
        "    </tr>\n",
        "    <tr>\n",
        "      <th>rec_cnt_60_max</th>\n",
        "      <td>1</td>\n",
        "      <td>1</td>\n",
        "      <td>1</td>\n",
        "      <td>1</td>\n",
        "      <td>1</td>\n",
        "      <td>1</td>\n",
        "      <td>1</td>\n",
        "      <td>1</td>\n",
        "      <td>1</td>\n",
        "      <td>1</td>\n",
        "      <td>1</td>\n",
        "      <td>1</td>\n",
        "      <td>1</td>\n",
        "      <td>1</td>\n",
        "      <td>1</td>\n",
        "      <td>1</td>\n",
        "      <td>1</td>\n",
        "      <td>1</td>\n",
        "      <td>1</td>\n",
        "      <td>1</td>\n",
        "    </tr>\n",
        "    <tr>\n",
        "      <th>rec_cnt_60_min</th>\n",
        "      <td>1</td>\n",
        "      <td>1</td>\n",
        "      <td>1</td>\n",
        "      <td>1</td>\n",
        "      <td>1</td>\n",
        "      <td>1</td>\n",
        "      <td>1</td>\n",
        "      <td>1</td>\n",
        "      <td>1</td>\n",
        "      <td>1</td>\n",
        "      <td>1</td>\n",
        "      <td>1</td>\n",
        "      <td>1</td>\n",
        "      <td>1</td>\n",
        "      <td>1</td>\n",
        "      <td>1</td>\n",
        "      <td>1</td>\n",
        "      <td>1</td>\n",
        "      <td>1</td>\n",
        "      <td>1</td>\n",
        "    </tr>\n",
        "  </tbody>\n",
        "</table>\n",
        "</div>"
       ],
       "metadata": {},
       "output_type": "pyout",
       "prompt_number": 23,
       "text": [
        "                                 0                       1088   \\\n",
        "Date                        2007-05-29              2007-06-05   \n",
        "Trap                              T002                    T002   \n",
        "Species         CULEX PIPIENS/RESTUANS  CULEX PIPIENS/RESTUANS   \n",
        "rec_cnt                              1                       1   \n",
        "dt                 2007-05-29 00:00:00     2007-06-05 00:00:00   \n",
        "rec_cnt_3_sum                        1                       1   \n",
        "rec_cnt_3_2                          0                       0   \n",
        "rec_cnt_3_max                        1                       1   \n",
        "rec_cnt_3_min                        1                       1   \n",
        "rec_cnt_7_sum                        1                       1   \n",
        "rec_cnt_7_2                          0                       0   \n",
        "rec_cnt_7_max                        1                       1   \n",
        "rec_cnt_7_min                        1                       1   \n",
        "rec_cnt_14_sum                       1                       2   \n",
        "rec_cnt_14_2                         0                       1   \n",
        "rec_cnt_14_max                       1                       1   \n",
        "rec_cnt_14_min                       1                       1   \n",
        "rec_cnt_30_sum                       1                       2   \n",
        "rec_cnt_30_2                         0                       1   \n",
        "rec_cnt_30_max                       1                       1   \n",
        "rec_cnt_30_min                       1                       1   \n",
        "rec_cnt_60_sum                       1                       2   \n",
        "rec_cnt_60_2                         0                       1   \n",
        "rec_cnt_60_max                       1                       1   \n",
        "rec_cnt_60_min                       1                       1   \n",
        "\n",
        "                                 2176                    3264   \\\n",
        "Date                        2007-06-26              2007-06-29   \n",
        "Trap                              T002                    T002   \n",
        "Species         CULEX PIPIENS/RESTUANS  CULEX PIPIENS/RESTUANS   \n",
        "rec_cnt                              1                       1   \n",
        "dt                 2007-06-26 00:00:00     2007-06-29 00:00:00   \n",
        "rec_cnt_3_sum                        1                       1   \n",
        "rec_cnt_3_2                          0                       0   \n",
        "rec_cnt_3_max                        1                       1   \n",
        "rec_cnt_3_min                        1                       1   \n",
        "rec_cnt_7_sum                        1                       2   \n",
        "rec_cnt_7_2                          0                       1   \n",
        "rec_cnt_7_max                        1                       1   \n",
        "rec_cnt_7_min                        1                       1   \n",
        "rec_cnt_14_sum                       1                       2   \n",
        "rec_cnt_14_2                         0                       1   \n",
        "rec_cnt_14_max                       1                       1   \n",
        "rec_cnt_14_min                       1                       1   \n",
        "rec_cnt_30_sum                       3                       3   \n",
        "rec_cnt_30_2                         1                       1   \n",
        "rec_cnt_30_max                       1                       1   \n",
        "rec_cnt_30_min                       1                       1   \n",
        "rec_cnt_60_sum                       3                       4   \n",
        "rec_cnt_60_2                         1                       1   \n",
        "rec_cnt_60_max                       1                       1   \n",
        "rec_cnt_60_min                       1                       1   \n",
        "\n",
        "                                 4352                    5440   \\\n",
        "Date                        2007-07-02              2007-07-11   \n",
        "Trap                              T002                    T002   \n",
        "Species         CULEX PIPIENS/RESTUANS  CULEX PIPIENS/RESTUANS   \n",
        "rec_cnt                              1                       1   \n",
        "dt                 2007-07-02 00:00:00     2007-07-11 00:00:00   \n",
        "rec_cnt_3_sum                        1                       1   \n",
        "rec_cnt_3_2                          0                       0   \n",
        "rec_cnt_3_max                        1                       1   \n",
        "rec_cnt_3_min                        1                       1   \n",
        "rec_cnt_7_sum                        3                       1   \n",
        "rec_cnt_7_2                          1                       0   \n",
        "rec_cnt_7_max                        1                       1   \n",
        "rec_cnt_7_min                        1                       1   \n",
        "rec_cnt_14_sum                       3                       3   \n",
        "rec_cnt_14_2                         1                       1   \n",
        "rec_cnt_14_max                       1                       1   \n",
        "rec_cnt_14_min                       1                       1   \n",
        "rec_cnt_30_sum                       4                       4   \n",
        "rec_cnt_30_2                         1                       1   \n",
        "rec_cnt_30_max                       1                       1   \n",
        "rec_cnt_30_min                       1                       1   \n",
        "rec_cnt_60_sum                       5                       6   \n",
        "rec_cnt_60_2                         1                       1   \n",
        "rec_cnt_60_max                       1                       1   \n",
        "rec_cnt_60_min                       1                       1   \n",
        "\n",
        "                                 6528                    7616   \\\n",
        "Date                        2007-07-18              2007-07-19   \n",
        "Trap                              T002                    T002   \n",
        "Species         CULEX PIPIENS/RESTUANS  CULEX PIPIENS/RESTUANS   \n",
        "rec_cnt                              1                       1   \n",
        "dt                 2007-07-18 00:00:00     2007-07-19 00:00:00   \n",
        "rec_cnt_3_sum                        1                       2   \n",
        "rec_cnt_3_2                          0                       1   \n",
        "rec_cnt_3_max                        1                       1   \n",
        "rec_cnt_3_min                        1                       1   \n",
        "rec_cnt_7_sum                        1                       2   \n",
        "rec_cnt_7_2                          0                       1   \n",
        "rec_cnt_7_max                        1                       1   \n",
        "rec_cnt_7_min                        1                       1   \n",
        "rec_cnt_14_sum                       2                       3   \n",
        "rec_cnt_14_2                         1                       1   \n",
        "rec_cnt_14_max                       1                       1   \n",
        "rec_cnt_14_min                       1                       1   \n",
        "rec_cnt_30_sum                       5                       6   \n",
        "rec_cnt_30_2                         1                       1   \n",
        "rec_cnt_30_max                       1                       1   \n",
        "rec_cnt_30_min                       1                       1   \n",
        "rec_cnt_60_sum                       7                       8   \n",
        "rec_cnt_60_2                         1                       1   \n",
        "rec_cnt_60_max                       1                       1   \n",
        "rec_cnt_60_min                       1                       1   \n",
        "\n",
        "                                 8704                    9792   \\\n",
        "Date                        2007-07-25              2007-07-27   \n",
        "Trap                              T002                    T002   \n",
        "Species         CULEX PIPIENS/RESTUANS  CULEX PIPIENS/RESTUANS   \n",
        "rec_cnt                              1                       1   \n",
        "dt                 2007-07-25 00:00:00     2007-07-27 00:00:00   \n",
        "rec_cnt_3_sum                        1                       2   \n",
        "rec_cnt_3_2                          0                       1   \n",
        "rec_cnt_3_max                        1                       1   \n",
        "rec_cnt_3_min                        1                       1   \n",
        "rec_cnt_7_sum                        2                       2   \n",
        "rec_cnt_7_2                          1                       1   \n",
        "rec_cnt_7_max                        1                       1   \n",
        "rec_cnt_7_min                        1                       1   \n",
        "rec_cnt_14_sum                       3                       4   \n",
        "rec_cnt_14_2                         1                       1   \n",
        "rec_cnt_14_max                       1                       1   \n",
        "rec_cnt_14_min                       1                       1   \n",
        "rec_cnt_30_sum                       7                       7   \n",
        "rec_cnt_30_2                         1                       1   \n",
        "rec_cnt_30_max                       1                       1   \n",
        "rec_cnt_30_min                       1                       1   \n",
        "rec_cnt_60_sum                       9                      10   \n",
        "rec_cnt_60_2                         1                       1   \n",
        "rec_cnt_60_max                       1                       1   \n",
        "rec_cnt_60_min                       1                       1   \n",
        "\n",
        "                                 10880                   11968  \\\n",
        "Date                        2007-08-01              2007-08-02   \n",
        "Trap                              T002                    T002   \n",
        "Species         CULEX PIPIENS/RESTUANS  CULEX PIPIENS/RESTUANS   \n",
        "rec_cnt                              3                       1   \n",
        "dt                 2007-08-01 00:00:00     2007-08-02 00:00:00   \n",
        "rec_cnt_3_sum                        3                       4   \n",
        "rec_cnt_3_2                          1                       1   \n",
        "rec_cnt_3_max                        3                       1   \n",
        "rec_cnt_3_min                        3                       1   \n",
        "rec_cnt_7_sum                        4                       5   \n",
        "rec_cnt_7_2                          1                       1   \n",
        "rec_cnt_7_max                        1                       1   \n",
        "rec_cnt_7_min                        1                       1   \n",
        "rec_cnt_14_sum                       6                       6   \n",
        "rec_cnt_14_2                         1                       1   \n",
        "rec_cnt_14_max                       1                       1   \n",
        "rec_cnt_14_min                       1                       1   \n",
        "rec_cnt_30_sum                       8                       9   \n",
        "rec_cnt_30_2                         1                       1   \n",
        "rec_cnt_30_max                       1                       1   \n",
        "rec_cnt_30_min                       1                       1   \n",
        "rec_cnt_60_sum                      12                      13   \n",
        "rec_cnt_60_2                         1                       1   \n",
        "rec_cnt_60_max                       1                       1   \n",
        "rec_cnt_60_min                       1                       1   \n",
        "\n",
        "                                 13056                   14144  \\\n",
        "Date                        2007-08-03              2007-08-07   \n",
        "Trap                              T002                    T002   \n",
        "Species         CULEX PIPIENS/RESTUANS  CULEX PIPIENS/RESTUANS   \n",
        "rec_cnt                              1                       1   \n",
        "dt                 2007-08-03 00:00:00     2007-08-07 00:00:00   \n",
        "rec_cnt_3_sum                        5                       1   \n",
        "rec_cnt_3_2                          1                       0   \n",
        "rec_cnt_3_max                        1                       1   \n",
        "rec_cnt_3_min                        1                       1   \n",
        "rec_cnt_7_sum                        5                       6   \n",
        "rec_cnt_7_2                          1                       1   \n",
        "rec_cnt_7_max                        1                       1   \n",
        "rec_cnt_7_min                        1                       1   \n",
        "rec_cnt_14_sum                       7                       8   \n",
        "rec_cnt_14_2                         1                       1   \n",
        "rec_cnt_14_max                       1                       1   \n",
        "rec_cnt_14_min                       1                       1   \n",
        "rec_cnt_30_sum                      10                      11   \n",
        "rec_cnt_30_2                         1                       1   \n",
        "rec_cnt_30_max                       1                       1   \n",
        "rec_cnt_30_min                       1                       1   \n",
        "rec_cnt_60_sum                      14                      14   \n",
        "rec_cnt_60_2                         1                       1   \n",
        "rec_cnt_60_max                       1                       1   \n",
        "rec_cnt_60_min                       1                       1   \n",
        "\n",
        "                                 15232                   16320  \\\n",
        "Date                        2007-08-08              2007-08-09   \n",
        "Trap                              T002                    T002   \n",
        "Species         CULEX PIPIENS/RESTUANS  CULEX PIPIENS/RESTUANS   \n",
        "rec_cnt                              1                       1   \n",
        "dt                 2007-08-08 00:00:00     2007-08-09 00:00:00   \n",
        "rec_cnt_3_sum                        2                       3   \n",
        "rec_cnt_3_2                          1                       1   \n",
        "rec_cnt_3_max                        1                       1   \n",
        "rec_cnt_3_min                        1                       1   \n",
        "rec_cnt_7_sum                        4                       4   \n",
        "rec_cnt_7_2                          1                       1   \n",
        "rec_cnt_7_max                        1                       1   \n",
        "rec_cnt_7_min                        1                       1   \n",
        "rec_cnt_14_sum                       8                       9   \n",
        "rec_cnt_14_2                         1                       1   \n",
        "rec_cnt_14_max                       1                       1   \n",
        "rec_cnt_14_min                       1                       1   \n",
        "rec_cnt_30_sum                      12                      13   \n",
        "rec_cnt_30_2                         1                       1   \n",
        "rec_cnt_30_max                       1                       1   \n",
        "rec_cnt_30_min                       1                       1   \n",
        "rec_cnt_60_sum                      15                      16   \n",
        "rec_cnt_60_2                         1                       1   \n",
        "rec_cnt_60_max                       1                       1   \n",
        "rec_cnt_60_min                       1                       1   \n",
        "\n",
        "                                 17408                   18496  \\\n",
        "Date                        2007-08-15              2007-08-16   \n",
        "Trap                              T002                    T002   \n",
        "Species         CULEX PIPIENS/RESTUANS  CULEX PIPIENS/RESTUANS   \n",
        "rec_cnt                              1                       1   \n",
        "dt                 2007-08-15 00:00:00     2007-08-16 00:00:00   \n",
        "rec_cnt_3_sum                        1                       2   \n",
        "rec_cnt_3_2                          0                       1   \n",
        "rec_cnt_3_max                        1                       1   \n",
        "rec_cnt_3_min                        1                       1   \n",
        "rec_cnt_7_sum                        2                       2   \n",
        "rec_cnt_7_2                          1                       1   \n",
        "rec_cnt_7_max                        1                       1   \n",
        "rec_cnt_7_min                        1                       1   \n",
        "rec_cnt_14_sum                       6                       6   \n",
        "rec_cnt_14_2                         1                       1   \n",
        "rec_cnt_14_max                       1                       1   \n",
        "rec_cnt_14_min                       1                       1   \n",
        "rec_cnt_30_sum                      13                      14   \n",
        "rec_cnt_30_2                         1                       1   \n",
        "rec_cnt_30_max                       1                       1   \n",
        "rec_cnt_30_min                       1                       1   \n",
        "rec_cnt_60_sum                      17                      18   \n",
        "rec_cnt_60_2                         1                       1   \n",
        "rec_cnt_60_max                       1                       1   \n",
        "rec_cnt_60_min                       1                       1   \n",
        "\n",
        "                                 19584                   20672  \n",
        "Date                        2007-08-17              2007-08-21  \n",
        "Trap                              T002                    T002  \n",
        "Species         CULEX PIPIENS/RESTUANS  CULEX PIPIENS/RESTUANS  \n",
        "rec_cnt                              1                       1  \n",
        "dt                 2007-08-17 00:00:00     2007-08-21 00:00:00  \n",
        "rec_cnt_3_sum                        3                       1  \n",
        "rec_cnt_3_2                          1                       0  \n",
        "rec_cnt_3_max                        1                       1  \n",
        "rec_cnt_3_min                        1                       1  \n",
        "rec_cnt_7_sum                        3                       4  \n",
        "rec_cnt_7_2                          1                       1  \n",
        "rec_cnt_7_max                        1                       1  \n",
        "rec_cnt_7_min                        1                       1  \n",
        "rec_cnt_14_sum                       6                       6  \n",
        "rec_cnt_14_2                         1                       1  \n",
        "rec_cnt_14_max                       1                       1  \n",
        "rec_cnt_14_min                       1                       1  \n",
        "rec_cnt_30_sum                      14                      14  \n",
        "rec_cnt_30_2                         1                       1  \n",
        "rec_cnt_30_max                       1                       1  \n",
        "rec_cnt_30_min                       1                       1  \n",
        "rec_cnt_60_sum                      19                      20  \n",
        "rec_cnt_60_2                         1                       1  \n",
        "rec_cnt_60_max                       1                       1  \n",
        "rec_cnt_60_min                       1                       1  "
       ]
      }
     ],
     "prompt_number": 23
    },
    {
     "cell_type": "code",
     "collapsed": false,
     "input": [
      "fk.save_object(train_traps_cnt,'train_traps_cnt_final.pkl')"
     ],
     "language": "python",
     "metadata": {},
     "outputs": [],
     "prompt_number": 24
    },
    {
     "cell_type": "code",
     "collapsed": false,
     "input": [
      "traps2 = []\n",
      "time = datetime.now()\n",
      "for trap in test_cnt['Trap'].unique():\n",
      "    for spec in test_cnt['Species'].unique():\n",
      "        temp = test_cnt.loc[((test_cnt['Trap']==trap) & (test_cnt['Species']==spec))].copy()\n",
      "\n",
      "        for d in [3,7,14,30,60]:\n",
      "            recs = temp['dt'].apply(lambda x: agger(temp,d,x))  \n",
      "            temp['rec_cnt_'+str(d)+'_sum']= recs.apply(lambda x: x[0])    \n",
      "            temp['rec_cnt_'+str(d)+'_2']= temp['rec_cnt_'+str(d)+'_sum'].apply(lambda x: 1 if x>1 else 0) \n",
      "            temp['rec_cnt_'+str(d)+'_max']= recs.apply(lambda x: x[2])   \n",
      "            temp['rec_cnt_'+str(d)+'_min']= recs.apply(lambda x: x[1])    \n",
      "\n",
      "        traps2.append(temp)\n",
      "print (datetime.now()-time).seconds"
     ],
     "language": "python",
     "metadata": {},
     "outputs": [
      {
       "output_type": "stream",
       "stream": "stdout",
       "text": [
        "2362\n"
       ]
      }
     ],
     "prompt_number": 25
    },
    {
     "cell_type": "code",
     "collapsed": false,
     "input": [
      "test_traps_cnt = pd.concat(traps2,axis=0)\n",
      "len(test_traps_cnt),len(test_cnt)"
     ],
     "language": "python",
     "metadata": {},
     "outputs": [
      {
       "metadata": {},
       "output_type": "pyout",
       "prompt_number": 27,
       "text": [
        "(113240, 113240)"
       ]
      }
     ],
     "prompt_number": 27
    },
    {
     "cell_type": "code",
     "collapsed": false,
     "input": [
      "test_traps_cnt.head(20).T"
     ],
     "language": "python",
     "metadata": {},
     "outputs": [
      {
       "html": [
        "<div style=\"max-width:1500px;overflow:auto;\">\n",
        "<table border=\"1\" class=\"dataframe\">\n",
        "  <thead>\n",
        "    <tr style=\"text-align: right;\">\n",
        "      <th></th>\n",
        "      <th>0</th>\n",
        "      <th>1192</th>\n",
        "      <th>2384</th>\n",
        "      <th>3576</th>\n",
        "      <th>4768</th>\n",
        "      <th>5960</th>\n",
        "      <th>7152</th>\n",
        "      <th>8344</th>\n",
        "      <th>9536</th>\n",
        "      <th>10728</th>\n",
        "      <th>11920</th>\n",
        "      <th>13112</th>\n",
        "      <th>14304</th>\n",
        "      <th>15496</th>\n",
        "      <th>16688</th>\n",
        "      <th>17880</th>\n",
        "      <th>19072</th>\n",
        "      <th>20264</th>\n",
        "      <th>21456</th>\n",
        "      <th>22648</th>\n",
        "    </tr>\n",
        "  </thead>\n",
        "  <tbody>\n",
        "    <tr>\n",
        "      <th>Date</th>\n",
        "      <td>2008-06-11</td>\n",
        "      <td>2008-06-17</td>\n",
        "      <td>2008-06-24</td>\n",
        "      <td>2008-07-01</td>\n",
        "      <td>2008-07-04</td>\n",
        "      <td>2008-07-11</td>\n",
        "      <td>2008-07-14</td>\n",
        "      <td>2008-07-21</td>\n",
        "      <td>2008-07-23</td>\n",
        "      <td>2008-07-24</td>\n",
        "      <td>2008-07-28</td>\n",
        "      <td>2008-07-29</td>\n",
        "      <td>2008-08-04</td>\n",
        "      <td>2008-08-05</td>\n",
        "      <td>2008-08-12</td>\n",
        "      <td>2008-08-13</td>\n",
        "      <td>2008-08-19</td>\n",
        "      <td>2008-08-25</td>\n",
        "      <td>2008-08-26</td>\n",
        "      <td>2008-09-02</td>\n",
        "    </tr>\n",
        "    <tr>\n",
        "      <th>Trap</th>\n",
        "      <td>T001</td>\n",
        "      <td>T001</td>\n",
        "      <td>T001</td>\n",
        "      <td>T001</td>\n",
        "      <td>T001</td>\n",
        "      <td>T001</td>\n",
        "      <td>T001</td>\n",
        "      <td>T001</td>\n",
        "      <td>T001</td>\n",
        "      <td>T001</td>\n",
        "      <td>T001</td>\n",
        "      <td>T001</td>\n",
        "      <td>T001</td>\n",
        "      <td>T001</td>\n",
        "      <td>T001</td>\n",
        "      <td>T001</td>\n",
        "      <td>T001</td>\n",
        "      <td>T001</td>\n",
        "      <td>T001</td>\n",
        "      <td>T001</td>\n",
        "    </tr>\n",
        "    <tr>\n",
        "      <th>Species</th>\n",
        "      <td>CULEX ERRATICUS</td>\n",
        "      <td>CULEX ERRATICUS</td>\n",
        "      <td>CULEX ERRATICUS</td>\n",
        "      <td>CULEX ERRATICUS</td>\n",
        "      <td>CULEX ERRATICUS</td>\n",
        "      <td>CULEX ERRATICUS</td>\n",
        "      <td>CULEX ERRATICUS</td>\n",
        "      <td>CULEX ERRATICUS</td>\n",
        "      <td>CULEX ERRATICUS</td>\n",
        "      <td>CULEX ERRATICUS</td>\n",
        "      <td>CULEX ERRATICUS</td>\n",
        "      <td>CULEX ERRATICUS</td>\n",
        "      <td>CULEX ERRATICUS</td>\n",
        "      <td>CULEX ERRATICUS</td>\n",
        "      <td>CULEX ERRATICUS</td>\n",
        "      <td>CULEX ERRATICUS</td>\n",
        "      <td>CULEX ERRATICUS</td>\n",
        "      <td>CULEX ERRATICUS</td>\n",
        "      <td>CULEX ERRATICUS</td>\n",
        "      <td>CULEX ERRATICUS</td>\n",
        "    </tr>\n",
        "    <tr>\n",
        "      <th>rec_cnt</th>\n",
        "      <td>1</td>\n",
        "      <td>1</td>\n",
        "      <td>1</td>\n",
        "      <td>1</td>\n",
        "      <td>1</td>\n",
        "      <td>1</td>\n",
        "      <td>1</td>\n",
        "      <td>1</td>\n",
        "      <td>1</td>\n",
        "      <td>1</td>\n",
        "      <td>1</td>\n",
        "      <td>1</td>\n",
        "      <td>1</td>\n",
        "      <td>1</td>\n",
        "      <td>1</td>\n",
        "      <td>1</td>\n",
        "      <td>1</td>\n",
        "      <td>1</td>\n",
        "      <td>1</td>\n",
        "      <td>1</td>\n",
        "    </tr>\n",
        "    <tr>\n",
        "      <th>dt</th>\n",
        "      <td>2008-06-11 00:00:00</td>\n",
        "      <td>2008-06-17 00:00:00</td>\n",
        "      <td>2008-06-24 00:00:00</td>\n",
        "      <td>2008-07-01 00:00:00</td>\n",
        "      <td>2008-07-04 00:00:00</td>\n",
        "      <td>2008-07-11 00:00:00</td>\n",
        "      <td>2008-07-14 00:00:00</td>\n",
        "      <td>2008-07-21 00:00:00</td>\n",
        "      <td>2008-07-23 00:00:00</td>\n",
        "      <td>2008-07-24 00:00:00</td>\n",
        "      <td>2008-07-28 00:00:00</td>\n",
        "      <td>2008-07-29 00:00:00</td>\n",
        "      <td>2008-08-04 00:00:00</td>\n",
        "      <td>2008-08-05 00:00:00</td>\n",
        "      <td>2008-08-12 00:00:00</td>\n",
        "      <td>2008-08-13 00:00:00</td>\n",
        "      <td>2008-08-19 00:00:00</td>\n",
        "      <td>2008-08-25 00:00:00</td>\n",
        "      <td>2008-08-26 00:00:00</td>\n",
        "      <td>2008-09-02 00:00:00</td>\n",
        "    </tr>\n",
        "    <tr>\n",
        "      <th>rec_cnt_3_sum</th>\n",
        "      <td>1</td>\n",
        "      <td>1</td>\n",
        "      <td>1</td>\n",
        "      <td>1</td>\n",
        "      <td>1</td>\n",
        "      <td>1</td>\n",
        "      <td>1</td>\n",
        "      <td>1</td>\n",
        "      <td>2</td>\n",
        "      <td>2</td>\n",
        "      <td>1</td>\n",
        "      <td>2</td>\n",
        "      <td>1</td>\n",
        "      <td>2</td>\n",
        "      <td>1</td>\n",
        "      <td>2</td>\n",
        "      <td>1</td>\n",
        "      <td>1</td>\n",
        "      <td>2</td>\n",
        "      <td>1</td>\n",
        "    </tr>\n",
        "    <tr>\n",
        "      <th>rec_cnt_3_2</th>\n",
        "      <td>0</td>\n",
        "      <td>0</td>\n",
        "      <td>0</td>\n",
        "      <td>0</td>\n",
        "      <td>0</td>\n",
        "      <td>0</td>\n",
        "      <td>0</td>\n",
        "      <td>0</td>\n",
        "      <td>1</td>\n",
        "      <td>1</td>\n",
        "      <td>0</td>\n",
        "      <td>1</td>\n",
        "      <td>0</td>\n",
        "      <td>1</td>\n",
        "      <td>0</td>\n",
        "      <td>1</td>\n",
        "      <td>0</td>\n",
        "      <td>0</td>\n",
        "      <td>1</td>\n",
        "      <td>0</td>\n",
        "    </tr>\n",
        "    <tr>\n",
        "      <th>rec_cnt_3_max</th>\n",
        "      <td>1</td>\n",
        "      <td>1</td>\n",
        "      <td>1</td>\n",
        "      <td>1</td>\n",
        "      <td>1</td>\n",
        "      <td>1</td>\n",
        "      <td>1</td>\n",
        "      <td>1</td>\n",
        "      <td>1</td>\n",
        "      <td>1</td>\n",
        "      <td>1</td>\n",
        "      <td>1</td>\n",
        "      <td>1</td>\n",
        "      <td>1</td>\n",
        "      <td>1</td>\n",
        "      <td>1</td>\n",
        "      <td>1</td>\n",
        "      <td>1</td>\n",
        "      <td>1</td>\n",
        "      <td>1</td>\n",
        "    </tr>\n",
        "    <tr>\n",
        "      <th>rec_cnt_3_min</th>\n",
        "      <td>1</td>\n",
        "      <td>1</td>\n",
        "      <td>1</td>\n",
        "      <td>1</td>\n",
        "      <td>1</td>\n",
        "      <td>1</td>\n",
        "      <td>1</td>\n",
        "      <td>1</td>\n",
        "      <td>1</td>\n",
        "      <td>1</td>\n",
        "      <td>1</td>\n",
        "      <td>1</td>\n",
        "      <td>1</td>\n",
        "      <td>1</td>\n",
        "      <td>1</td>\n",
        "      <td>1</td>\n",
        "      <td>1</td>\n",
        "      <td>1</td>\n",
        "      <td>1</td>\n",
        "      <td>1</td>\n",
        "    </tr>\n",
        "    <tr>\n",
        "      <th>rec_cnt_7_sum</th>\n",
        "      <td>1</td>\n",
        "      <td>2</td>\n",
        "      <td>1</td>\n",
        "      <td>1</td>\n",
        "      <td>2</td>\n",
        "      <td>1</td>\n",
        "      <td>2</td>\n",
        "      <td>1</td>\n",
        "      <td>2</td>\n",
        "      <td>3</td>\n",
        "      <td>3</td>\n",
        "      <td>4</td>\n",
        "      <td>2</td>\n",
        "      <td>2</td>\n",
        "      <td>1</td>\n",
        "      <td>2</td>\n",
        "      <td>2</td>\n",
        "      <td>2</td>\n",
        "      <td>2</td>\n",
        "      <td>1</td>\n",
        "    </tr>\n",
        "    <tr>\n",
        "      <th>rec_cnt_7_2</th>\n",
        "      <td>0</td>\n",
        "      <td>1</td>\n",
        "      <td>0</td>\n",
        "      <td>0</td>\n",
        "      <td>1</td>\n",
        "      <td>0</td>\n",
        "      <td>1</td>\n",
        "      <td>0</td>\n",
        "      <td>1</td>\n",
        "      <td>1</td>\n",
        "      <td>1</td>\n",
        "      <td>1</td>\n",
        "      <td>1</td>\n",
        "      <td>1</td>\n",
        "      <td>0</td>\n",
        "      <td>1</td>\n",
        "      <td>1</td>\n",
        "      <td>1</td>\n",
        "      <td>1</td>\n",
        "      <td>0</td>\n",
        "    </tr>\n",
        "    <tr>\n",
        "      <th>rec_cnt_7_max</th>\n",
        "      <td>1</td>\n",
        "      <td>1</td>\n",
        "      <td>1</td>\n",
        "      <td>1</td>\n",
        "      <td>1</td>\n",
        "      <td>1</td>\n",
        "      <td>1</td>\n",
        "      <td>1</td>\n",
        "      <td>1</td>\n",
        "      <td>1</td>\n",
        "      <td>1</td>\n",
        "      <td>1</td>\n",
        "      <td>1</td>\n",
        "      <td>1</td>\n",
        "      <td>1</td>\n",
        "      <td>1</td>\n",
        "      <td>1</td>\n",
        "      <td>1</td>\n",
        "      <td>1</td>\n",
        "      <td>1</td>\n",
        "    </tr>\n",
        "    <tr>\n",
        "      <th>rec_cnt_7_min</th>\n",
        "      <td>1</td>\n",
        "      <td>1</td>\n",
        "      <td>1</td>\n",
        "      <td>1</td>\n",
        "      <td>1</td>\n",
        "      <td>1</td>\n",
        "      <td>1</td>\n",
        "      <td>1</td>\n",
        "      <td>1</td>\n",
        "      <td>1</td>\n",
        "      <td>1</td>\n",
        "      <td>1</td>\n",
        "      <td>1</td>\n",
        "      <td>1</td>\n",
        "      <td>1</td>\n",
        "      <td>1</td>\n",
        "      <td>1</td>\n",
        "      <td>1</td>\n",
        "      <td>1</td>\n",
        "      <td>1</td>\n",
        "    </tr>\n",
        "    <tr>\n",
        "      <th>rec_cnt_14_sum</th>\n",
        "      <td>1</td>\n",
        "      <td>2</td>\n",
        "      <td>3</td>\n",
        "      <td>2</td>\n",
        "      <td>3</td>\n",
        "      <td>3</td>\n",
        "      <td>4</td>\n",
        "      <td>3</td>\n",
        "      <td>4</td>\n",
        "      <td>5</td>\n",
        "      <td>4</td>\n",
        "      <td>5</td>\n",
        "      <td>5</td>\n",
        "      <td>6</td>\n",
        "      <td>3</td>\n",
        "      <td>4</td>\n",
        "      <td>3</td>\n",
        "      <td>4</td>\n",
        "      <td>4</td>\n",
        "      <td>3</td>\n",
        "    </tr>\n",
        "    <tr>\n",
        "      <th>rec_cnt_14_2</th>\n",
        "      <td>0</td>\n",
        "      <td>1</td>\n",
        "      <td>1</td>\n",
        "      <td>1</td>\n",
        "      <td>1</td>\n",
        "      <td>1</td>\n",
        "      <td>1</td>\n",
        "      <td>1</td>\n",
        "      <td>1</td>\n",
        "      <td>1</td>\n",
        "      <td>1</td>\n",
        "      <td>1</td>\n",
        "      <td>1</td>\n",
        "      <td>1</td>\n",
        "      <td>1</td>\n",
        "      <td>1</td>\n",
        "      <td>1</td>\n",
        "      <td>1</td>\n",
        "      <td>1</td>\n",
        "      <td>1</td>\n",
        "    </tr>\n",
        "    <tr>\n",
        "      <th>rec_cnt_14_max</th>\n",
        "      <td>1</td>\n",
        "      <td>1</td>\n",
        "      <td>1</td>\n",
        "      <td>1</td>\n",
        "      <td>1</td>\n",
        "      <td>1</td>\n",
        "      <td>1</td>\n",
        "      <td>1</td>\n",
        "      <td>1</td>\n",
        "      <td>1</td>\n",
        "      <td>1</td>\n",
        "      <td>1</td>\n",
        "      <td>1</td>\n",
        "      <td>1</td>\n",
        "      <td>1</td>\n",
        "      <td>1</td>\n",
        "      <td>1</td>\n",
        "      <td>1</td>\n",
        "      <td>1</td>\n",
        "      <td>1</td>\n",
        "    </tr>\n",
        "    <tr>\n",
        "      <th>rec_cnt_14_min</th>\n",
        "      <td>1</td>\n",
        "      <td>1</td>\n",
        "      <td>1</td>\n",
        "      <td>1</td>\n",
        "      <td>1</td>\n",
        "      <td>1</td>\n",
        "      <td>1</td>\n",
        "      <td>1</td>\n",
        "      <td>1</td>\n",
        "      <td>1</td>\n",
        "      <td>1</td>\n",
        "      <td>1</td>\n",
        "      <td>1</td>\n",
        "      <td>1</td>\n",
        "      <td>1</td>\n",
        "      <td>1</td>\n",
        "      <td>1</td>\n",
        "      <td>1</td>\n",
        "      <td>1</td>\n",
        "      <td>1</td>\n",
        "    </tr>\n",
        "    <tr>\n",
        "      <th>rec_cnt_30_sum</th>\n",
        "      <td>1</td>\n",
        "      <td>2</td>\n",
        "      <td>3</td>\n",
        "      <td>4</td>\n",
        "      <td>5</td>\n",
        "      <td>5</td>\n",
        "      <td>6</td>\n",
        "      <td>6</td>\n",
        "      <td>7</td>\n",
        "      <td>7</td>\n",
        "      <td>8</td>\n",
        "      <td>9</td>\n",
        "      <td>8</td>\n",
        "      <td>9</td>\n",
        "      <td>9</td>\n",
        "      <td>9</td>\n",
        "      <td>10</td>\n",
        "      <td>8</td>\n",
        "      <td>9</td>\n",
        "      <td>8</td>\n",
        "    </tr>\n",
        "    <tr>\n",
        "      <th>rec_cnt_30_2</th>\n",
        "      <td>0</td>\n",
        "      <td>1</td>\n",
        "      <td>1</td>\n",
        "      <td>1</td>\n",
        "      <td>1</td>\n",
        "      <td>1</td>\n",
        "      <td>1</td>\n",
        "      <td>1</td>\n",
        "      <td>1</td>\n",
        "      <td>1</td>\n",
        "      <td>1</td>\n",
        "      <td>1</td>\n",
        "      <td>1</td>\n",
        "      <td>1</td>\n",
        "      <td>1</td>\n",
        "      <td>1</td>\n",
        "      <td>1</td>\n",
        "      <td>1</td>\n",
        "      <td>1</td>\n",
        "      <td>1</td>\n",
        "    </tr>\n",
        "    <tr>\n",
        "      <th>rec_cnt_30_max</th>\n",
        "      <td>1</td>\n",
        "      <td>1</td>\n",
        "      <td>1</td>\n",
        "      <td>1</td>\n",
        "      <td>1</td>\n",
        "      <td>1</td>\n",
        "      <td>1</td>\n",
        "      <td>1</td>\n",
        "      <td>1</td>\n",
        "      <td>1</td>\n",
        "      <td>1</td>\n",
        "      <td>1</td>\n",
        "      <td>1</td>\n",
        "      <td>1</td>\n",
        "      <td>1</td>\n",
        "      <td>1</td>\n",
        "      <td>1</td>\n",
        "      <td>1</td>\n",
        "      <td>1</td>\n",
        "      <td>1</td>\n",
        "    </tr>\n",
        "    <tr>\n",
        "      <th>rec_cnt_30_min</th>\n",
        "      <td>1</td>\n",
        "      <td>1</td>\n",
        "      <td>1</td>\n",
        "      <td>1</td>\n",
        "      <td>1</td>\n",
        "      <td>1</td>\n",
        "      <td>1</td>\n",
        "      <td>1</td>\n",
        "      <td>1</td>\n",
        "      <td>1</td>\n",
        "      <td>1</td>\n",
        "      <td>1</td>\n",
        "      <td>1</td>\n",
        "      <td>1</td>\n",
        "      <td>1</td>\n",
        "      <td>1</td>\n",
        "      <td>1</td>\n",
        "      <td>1</td>\n",
        "      <td>1</td>\n",
        "      <td>1</td>\n",
        "    </tr>\n",
        "    <tr>\n",
        "      <th>rec_cnt_60_sum</th>\n",
        "      <td>1</td>\n",
        "      <td>2</td>\n",
        "      <td>3</td>\n",
        "      <td>4</td>\n",
        "      <td>5</td>\n",
        "      <td>6</td>\n",
        "      <td>7</td>\n",
        "      <td>8</td>\n",
        "      <td>9</td>\n",
        "      <td>10</td>\n",
        "      <td>11</td>\n",
        "      <td>12</td>\n",
        "      <td>13</td>\n",
        "      <td>14</td>\n",
        "      <td>14</td>\n",
        "      <td>15</td>\n",
        "      <td>15</td>\n",
        "      <td>15</td>\n",
        "      <td>16</td>\n",
        "      <td>15</td>\n",
        "    </tr>\n",
        "    <tr>\n",
        "      <th>rec_cnt_60_2</th>\n",
        "      <td>0</td>\n",
        "      <td>1</td>\n",
        "      <td>1</td>\n",
        "      <td>1</td>\n",
        "      <td>1</td>\n",
        "      <td>1</td>\n",
        "      <td>1</td>\n",
        "      <td>1</td>\n",
        "      <td>1</td>\n",
        "      <td>1</td>\n",
        "      <td>1</td>\n",
        "      <td>1</td>\n",
        "      <td>1</td>\n",
        "      <td>1</td>\n",
        "      <td>1</td>\n",
        "      <td>1</td>\n",
        "      <td>1</td>\n",
        "      <td>1</td>\n",
        "      <td>1</td>\n",
        "      <td>1</td>\n",
        "    </tr>\n",
        "    <tr>\n",
        "      <th>rec_cnt_60_max</th>\n",
        "      <td>1</td>\n",
        "      <td>1</td>\n",
        "      <td>1</td>\n",
        "      <td>1</td>\n",
        "      <td>1</td>\n",
        "      <td>1</td>\n",
        "      <td>1</td>\n",
        "      <td>1</td>\n",
        "      <td>1</td>\n",
        "      <td>1</td>\n",
        "      <td>1</td>\n",
        "      <td>1</td>\n",
        "      <td>1</td>\n",
        "      <td>1</td>\n",
        "      <td>1</td>\n",
        "      <td>1</td>\n",
        "      <td>1</td>\n",
        "      <td>1</td>\n",
        "      <td>1</td>\n",
        "      <td>1</td>\n",
        "    </tr>\n",
        "    <tr>\n",
        "      <th>rec_cnt_60_min</th>\n",
        "      <td>1</td>\n",
        "      <td>1</td>\n",
        "      <td>1</td>\n",
        "      <td>1</td>\n",
        "      <td>1</td>\n",
        "      <td>1</td>\n",
        "      <td>1</td>\n",
        "      <td>1</td>\n",
        "      <td>1</td>\n",
        "      <td>1</td>\n",
        "      <td>1</td>\n",
        "      <td>1</td>\n",
        "      <td>1</td>\n",
        "      <td>1</td>\n",
        "      <td>1</td>\n",
        "      <td>1</td>\n",
        "      <td>1</td>\n",
        "      <td>1</td>\n",
        "      <td>1</td>\n",
        "      <td>1</td>\n",
        "    </tr>\n",
        "  </tbody>\n",
        "</table>\n",
        "</div>"
       ],
       "metadata": {},
       "output_type": "pyout",
       "prompt_number": 29,
       "text": [
        "                              0                    1192                 2384   \\\n",
        "Date                     2008-06-11           2008-06-17           2008-06-24   \n",
        "Trap                           T001                 T001                 T001   \n",
        "Species             CULEX ERRATICUS      CULEX ERRATICUS      CULEX ERRATICUS   \n",
        "rec_cnt                           1                    1                    1   \n",
        "dt              2008-06-11 00:00:00  2008-06-17 00:00:00  2008-06-24 00:00:00   \n",
        "rec_cnt_3_sum                     1                    1                    1   \n",
        "rec_cnt_3_2                       0                    0                    0   \n",
        "rec_cnt_3_max                     1                    1                    1   \n",
        "rec_cnt_3_min                     1                    1                    1   \n",
        "rec_cnt_7_sum                     1                    2                    1   \n",
        "rec_cnt_7_2                       0                    1                    0   \n",
        "rec_cnt_7_max                     1                    1                    1   \n",
        "rec_cnt_7_min                     1                    1                    1   \n",
        "rec_cnt_14_sum                    1                    2                    3   \n",
        "rec_cnt_14_2                      0                    1                    1   \n",
        "rec_cnt_14_max                    1                    1                    1   \n",
        "rec_cnt_14_min                    1                    1                    1   \n",
        "rec_cnt_30_sum                    1                    2                    3   \n",
        "rec_cnt_30_2                      0                    1                    1   \n",
        "rec_cnt_30_max                    1                    1                    1   \n",
        "rec_cnt_30_min                    1                    1                    1   \n",
        "rec_cnt_60_sum                    1                    2                    3   \n",
        "rec_cnt_60_2                      0                    1                    1   \n",
        "rec_cnt_60_max                    1                    1                    1   \n",
        "rec_cnt_60_min                    1                    1                    1   \n",
        "\n",
        "                              3576                 4768                 5960   \\\n",
        "Date                     2008-07-01           2008-07-04           2008-07-11   \n",
        "Trap                           T001                 T001                 T001   \n",
        "Species             CULEX ERRATICUS      CULEX ERRATICUS      CULEX ERRATICUS   \n",
        "rec_cnt                           1                    1                    1   \n",
        "dt              2008-07-01 00:00:00  2008-07-04 00:00:00  2008-07-11 00:00:00   \n",
        "rec_cnt_3_sum                     1                    1                    1   \n",
        "rec_cnt_3_2                       0                    0                    0   \n",
        "rec_cnt_3_max                     1                    1                    1   \n",
        "rec_cnt_3_min                     1                    1                    1   \n",
        "rec_cnt_7_sum                     1                    2                    1   \n",
        "rec_cnt_7_2                       0                    1                    0   \n",
        "rec_cnt_7_max                     1                    1                    1   \n",
        "rec_cnt_7_min                     1                    1                    1   \n",
        "rec_cnt_14_sum                    2                    3                    3   \n",
        "rec_cnt_14_2                      1                    1                    1   \n",
        "rec_cnt_14_max                    1                    1                    1   \n",
        "rec_cnt_14_min                    1                    1                    1   \n",
        "rec_cnt_30_sum                    4                    5                    5   \n",
        "rec_cnt_30_2                      1                    1                    1   \n",
        "rec_cnt_30_max                    1                    1                    1   \n",
        "rec_cnt_30_min                    1                    1                    1   \n",
        "rec_cnt_60_sum                    4                    5                    6   \n",
        "rec_cnt_60_2                      1                    1                    1   \n",
        "rec_cnt_60_max                    1                    1                    1   \n",
        "rec_cnt_60_min                    1                    1                    1   \n",
        "\n",
        "                              7152                 8344                 9536   \\\n",
        "Date                     2008-07-14           2008-07-21           2008-07-23   \n",
        "Trap                           T001                 T001                 T001   \n",
        "Species             CULEX ERRATICUS      CULEX ERRATICUS      CULEX ERRATICUS   \n",
        "rec_cnt                           1                    1                    1   \n",
        "dt              2008-07-14 00:00:00  2008-07-21 00:00:00  2008-07-23 00:00:00   \n",
        "rec_cnt_3_sum                     1                    1                    2   \n",
        "rec_cnt_3_2                       0                    0                    1   \n",
        "rec_cnt_3_max                     1                    1                    1   \n",
        "rec_cnt_3_min                     1                    1                    1   \n",
        "rec_cnt_7_sum                     2                    1                    2   \n",
        "rec_cnt_7_2                       1                    0                    1   \n",
        "rec_cnt_7_max                     1                    1                    1   \n",
        "rec_cnt_7_min                     1                    1                    1   \n",
        "rec_cnt_14_sum                    4                    3                    4   \n",
        "rec_cnt_14_2                      1                    1                    1   \n",
        "rec_cnt_14_max                    1                    1                    1   \n",
        "rec_cnt_14_min                    1                    1                    1   \n",
        "rec_cnt_30_sum                    6                    6                    7   \n",
        "rec_cnt_30_2                      1                    1                    1   \n",
        "rec_cnt_30_max                    1                    1                    1   \n",
        "rec_cnt_30_min                    1                    1                    1   \n",
        "rec_cnt_60_sum                    7                    8                    9   \n",
        "rec_cnt_60_2                      1                    1                    1   \n",
        "rec_cnt_60_max                    1                    1                    1   \n",
        "rec_cnt_60_min                    1                    1                    1   \n",
        "\n",
        "                              10728                11920                13112  \\\n",
        "Date                     2008-07-24           2008-07-28           2008-07-29   \n",
        "Trap                           T001                 T001                 T001   \n",
        "Species             CULEX ERRATICUS      CULEX ERRATICUS      CULEX ERRATICUS   \n",
        "rec_cnt                           1                    1                    1   \n",
        "dt              2008-07-24 00:00:00  2008-07-28 00:00:00  2008-07-29 00:00:00   \n",
        "rec_cnt_3_sum                     2                    1                    2   \n",
        "rec_cnt_3_2                       1                    0                    1   \n",
        "rec_cnt_3_max                     1                    1                    1   \n",
        "rec_cnt_3_min                     1                    1                    1   \n",
        "rec_cnt_7_sum                     3                    3                    4   \n",
        "rec_cnt_7_2                       1                    1                    1   \n",
        "rec_cnt_7_max                     1                    1                    1   \n",
        "rec_cnt_7_min                     1                    1                    1   \n",
        "rec_cnt_14_sum                    5                    4                    5   \n",
        "rec_cnt_14_2                      1                    1                    1   \n",
        "rec_cnt_14_max                    1                    1                    1   \n",
        "rec_cnt_14_min                    1                    1                    1   \n",
        "rec_cnt_30_sum                    7                    8                    9   \n",
        "rec_cnt_30_2                      1                    1                    1   \n",
        "rec_cnt_30_max                    1                    1                    1   \n",
        "rec_cnt_30_min                    1                    1                    1   \n",
        "rec_cnt_60_sum                   10                   11                   12   \n",
        "rec_cnt_60_2                      1                    1                    1   \n",
        "rec_cnt_60_max                    1                    1                    1   \n",
        "rec_cnt_60_min                    1                    1                    1   \n",
        "\n",
        "                              14304                15496                16688  \\\n",
        "Date                     2008-08-04           2008-08-05           2008-08-12   \n",
        "Trap                           T001                 T001                 T001   \n",
        "Species             CULEX ERRATICUS      CULEX ERRATICUS      CULEX ERRATICUS   \n",
        "rec_cnt                           1                    1                    1   \n",
        "dt              2008-08-04 00:00:00  2008-08-05 00:00:00  2008-08-12 00:00:00   \n",
        "rec_cnt_3_sum                     1                    2                    1   \n",
        "rec_cnt_3_2                       0                    1                    0   \n",
        "rec_cnt_3_max                     1                    1                    1   \n",
        "rec_cnt_3_min                     1                    1                    1   \n",
        "rec_cnt_7_sum                     2                    2                    1   \n",
        "rec_cnt_7_2                       1                    1                    0   \n",
        "rec_cnt_7_max                     1                    1                    1   \n",
        "rec_cnt_7_min                     1                    1                    1   \n",
        "rec_cnt_14_sum                    5                    6                    3   \n",
        "rec_cnt_14_2                      1                    1                    1   \n",
        "rec_cnt_14_max                    1                    1                    1   \n",
        "rec_cnt_14_min                    1                    1                    1   \n",
        "rec_cnt_30_sum                    8                    9                    9   \n",
        "rec_cnt_30_2                      1                    1                    1   \n",
        "rec_cnt_30_max                    1                    1                    1   \n",
        "rec_cnt_30_min                    1                    1                    1   \n",
        "rec_cnt_60_sum                   13                   14                   14   \n",
        "rec_cnt_60_2                      1                    1                    1   \n",
        "rec_cnt_60_max                    1                    1                    1   \n",
        "rec_cnt_60_min                    1                    1                    1   \n",
        "\n",
        "                              17880                19072                20264  \\\n",
        "Date                     2008-08-13           2008-08-19           2008-08-25   \n",
        "Trap                           T001                 T001                 T001   \n",
        "Species             CULEX ERRATICUS      CULEX ERRATICUS      CULEX ERRATICUS   \n",
        "rec_cnt                           1                    1                    1   \n",
        "dt              2008-08-13 00:00:00  2008-08-19 00:00:00  2008-08-25 00:00:00   \n",
        "rec_cnt_3_sum                     2                    1                    1   \n",
        "rec_cnt_3_2                       1                    0                    0   \n",
        "rec_cnt_3_max                     1                    1                    1   \n",
        "rec_cnt_3_min                     1                    1                    1   \n",
        "rec_cnt_7_sum                     2                    2                    2   \n",
        "rec_cnt_7_2                       1                    1                    1   \n",
        "rec_cnt_7_max                     1                    1                    1   \n",
        "rec_cnt_7_min                     1                    1                    1   \n",
        "rec_cnt_14_sum                    4                    3                    4   \n",
        "rec_cnt_14_2                      1                    1                    1   \n",
        "rec_cnt_14_max                    1                    1                    1   \n",
        "rec_cnt_14_min                    1                    1                    1   \n",
        "rec_cnt_30_sum                    9                   10                    8   \n",
        "rec_cnt_30_2                      1                    1                    1   \n",
        "rec_cnt_30_max                    1                    1                    1   \n",
        "rec_cnt_30_min                    1                    1                    1   \n",
        "rec_cnt_60_sum                   15                   15                   15   \n",
        "rec_cnt_60_2                      1                    1                    1   \n",
        "rec_cnt_60_max                    1                    1                    1   \n",
        "rec_cnt_60_min                    1                    1                    1   \n",
        "\n",
        "                              21456                22648  \n",
        "Date                     2008-08-26           2008-09-02  \n",
        "Trap                           T001                 T001  \n",
        "Species             CULEX ERRATICUS      CULEX ERRATICUS  \n",
        "rec_cnt                           1                    1  \n",
        "dt              2008-08-26 00:00:00  2008-09-02 00:00:00  \n",
        "rec_cnt_3_sum                     2                    1  \n",
        "rec_cnt_3_2                       1                    0  \n",
        "rec_cnt_3_max                     1                    1  \n",
        "rec_cnt_3_min                     1                    1  \n",
        "rec_cnt_7_sum                     2                    1  \n",
        "rec_cnt_7_2                       1                    0  \n",
        "rec_cnt_7_max                     1                    1  \n",
        "rec_cnt_7_min                     1                    1  \n",
        "rec_cnt_14_sum                    4                    3  \n",
        "rec_cnt_14_2                      1                    1  \n",
        "rec_cnt_14_max                    1                    1  \n",
        "rec_cnt_14_min                    1                    1  \n",
        "rec_cnt_30_sum                    9                    8  \n",
        "rec_cnt_30_2                      1                    1  \n",
        "rec_cnt_30_max                    1                    1  \n",
        "rec_cnt_30_min                    1                    1  \n",
        "rec_cnt_60_sum                   16                   15  \n",
        "rec_cnt_60_2                      1                    1  \n",
        "rec_cnt_60_max                    1                    1  \n",
        "rec_cnt_60_min                    1                    1  "
       ]
      }
     ],
     "prompt_number": 29
    },
    {
     "cell_type": "code",
     "collapsed": false,
     "input": [
      "fk.save_object(test_traps_cnt,'test_traps_cnt_final.pkl')"
     ],
     "language": "python",
     "metadata": {},
     "outputs": [],
     "prompt_number": 30
    }
   ],
   "metadata": {}
  }
 ]
}